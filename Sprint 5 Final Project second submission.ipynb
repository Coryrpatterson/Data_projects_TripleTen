{
 "cells": [
  {
   "cell_type": "markdown",
   "metadata": {},
   "source": [
    "<div style=\"border:solid green 2px; padding: 20px\"> <h1 style=\"color:green; margin-bottom:20px\">Reviewer's comment v1</h1>\n",
    "\n",
    "Hello Cory!\n",
    "\n",
    "I'm happy to review your project today 🙌\n",
    "\n",
    "You can find my comments under the heading **«Review»**. I will categorize my comments in green, blue or red boxes like this:\n",
    "\n",
    "<div class=\"alert alert-success\">\n",
    "    <b>Success:</b> if everything is done successfully\n",
    "</div>\n",
    "<div class=\"alert alert-warning\">\n",
    "    <b>Remarks:</b> if I can give some recommendations or ways to improve the project\n",
    "</div>\n",
    "<div class=\"alert alert-danger\">\n",
    "    <b>Needs fixing:</b> if the block requires some corrections. Work can't be accepted with the red comments\n",
    "</div>\n",
    "\n",
    "Please don't remove my comments. If you have any questions, don't hesitate to respond to my comments in a different section.\n",
    "    \n",
    "<div class=\"alert alert-info\"> <b>Student comments:</b> For example like this</div>     \n"
   ]
  },
  {
   "cell_type": "markdown",
   "metadata": {},
   "source": [
    "<div style=\"border:solid green 2px; padding: 20px\">\n",
    "<b>Reviewer's comment v1</b>\n",
    "    \n",
    "<b>Overall Feedback</b> \n",
    " \n",
    "Hello Cory, \n",
    "    \n",
    "You’ve submitted another project—great work! Your commitment to pushing through the challenges of this program is admirable.\n",
    "\n",
    "After reviewing your submission, I’ve returned it with some feedback to help you make the necessary improvements. You can find my more detailed feedaback within your project file in the `Reviewer's comment v1` section.\n",
    "    \n",
    "Keep in mind that revisions are a normal and valuable part of the learning process. Use this feedback to refine your work and resubmit when you’re ready. I know you’re capable of great things, and I’m here to support you every step of the way. Keep going—you’re doing a great job! 🏄\n",
    "    \n",
    "And of course, if you have any questions along the way, remember that you can always reach out to your tutor for any clarification.\n",
    "</div>"
   ]
  },
  {
   "cell_type": "markdown",
   "metadata": {},
   "source": [
    "<div style=\"border:solid green 2px; padding: 20px\">\n",
    "<b>Reviewer's comment v2</b>\n",
    "    \n",
    "<b>General Feedback</b> \n",
    "   \n",
    "\n",
    "Thank you for submitting your project with improvements 🙌 \n",
    "\n",
    "I've provided further insights in response to your comments. Look for sections labeled `Reviewer's comment v2`.\n",
    "\n",
    "Remember, if you have any questions or need clarification on any point, don't hesitate to contact your tutor.\n",
    "</div>\n"
   ]
  },
  {
   "cell_type": "markdown",
   "metadata": {},
   "source": [
    "As asked by management, I will be going over the numbers in this Data Frame to help our marketing team decide where we need to be spending our advertising dollars! There is a lot of data here from around the world and there are four main areas im going to be focusing on to help with my analasis, North Americas Sales, Europes Sales, Japans Sales and our Other category, (Other meaning our sales in multiple other countries). Through this analasis we will be seeing which games have done the best but also determine the games that we will not focus on as much in the future. So, with that being said lets dive in!"
   ]
  },
  {
   "cell_type": "markdown",
   "metadata": {},
   "source": [
    "<div class=\"alert alert-block alert-success\">\n",
    "<b>Reviewer's comment v1</b>\n",
    " \n",
    "Great that you've added information about the project goal. Could be also helpful to share steps you will complete.\n",
    "\n",
    "</div>"
   ]
  },
  {
   "cell_type": "code",
   "execution_count": 1,
   "metadata": {},
   "outputs": [],
   "source": [
    "import pandas as pd\n",
    "import matplotlib.pyplot as plt\n",
    "import numpy as np\n",
    "import scipy.stats as stats"
   ]
  },
  {
   "cell_type": "code",
   "execution_count": 2,
   "metadata": {},
   "outputs": [
    {
     "data": {
      "text/html": [
       "<div>\n",
       "<style scoped>\n",
       "    .dataframe tbody tr th:only-of-type {\n",
       "        vertical-align: middle;\n",
       "    }\n",
       "\n",
       "    .dataframe tbody tr th {\n",
       "        vertical-align: top;\n",
       "    }\n",
       "\n",
       "    .dataframe thead th {\n",
       "        text-align: right;\n",
       "    }\n",
       "</style>\n",
       "<table border=\"1\" class=\"dataframe\">\n",
       "  <thead>\n",
       "    <tr style=\"text-align: right;\">\n",
       "      <th></th>\n",
       "      <th>Name</th>\n",
       "      <th>Platform</th>\n",
       "      <th>Year_of_Release</th>\n",
       "      <th>Genre</th>\n",
       "      <th>NA_sales</th>\n",
       "      <th>EU_sales</th>\n",
       "      <th>JP_sales</th>\n",
       "      <th>Other_sales</th>\n",
       "      <th>Critic_Score</th>\n",
       "      <th>User_Score</th>\n",
       "      <th>Rating</th>\n",
       "    </tr>\n",
       "  </thead>\n",
       "  <tbody>\n",
       "    <tr>\n",
       "      <th>0</th>\n",
       "      <td>Wii Sports</td>\n",
       "      <td>Wii</td>\n",
       "      <td>2006.0</td>\n",
       "      <td>Sports</td>\n",
       "      <td>41.36</td>\n",
       "      <td>28.96</td>\n",
       "      <td>3.77</td>\n",
       "      <td>8.45</td>\n",
       "      <td>76.0</td>\n",
       "      <td>8</td>\n",
       "      <td>E</td>\n",
       "    </tr>\n",
       "    <tr>\n",
       "      <th>1</th>\n",
       "      <td>Super Mario Bros.</td>\n",
       "      <td>NES</td>\n",
       "      <td>1985.0</td>\n",
       "      <td>Platform</td>\n",
       "      <td>29.08</td>\n",
       "      <td>3.58</td>\n",
       "      <td>6.81</td>\n",
       "      <td>0.77</td>\n",
       "      <td>NaN</td>\n",
       "      <td>NaN</td>\n",
       "      <td>NaN</td>\n",
       "    </tr>\n",
       "    <tr>\n",
       "      <th>2</th>\n",
       "      <td>Mario Kart Wii</td>\n",
       "      <td>Wii</td>\n",
       "      <td>2008.0</td>\n",
       "      <td>Racing</td>\n",
       "      <td>15.68</td>\n",
       "      <td>12.76</td>\n",
       "      <td>3.79</td>\n",
       "      <td>3.29</td>\n",
       "      <td>82.0</td>\n",
       "      <td>8.3</td>\n",
       "      <td>E</td>\n",
       "    </tr>\n",
       "    <tr>\n",
       "      <th>3</th>\n",
       "      <td>Wii Sports Resort</td>\n",
       "      <td>Wii</td>\n",
       "      <td>2009.0</td>\n",
       "      <td>Sports</td>\n",
       "      <td>15.61</td>\n",
       "      <td>10.93</td>\n",
       "      <td>3.28</td>\n",
       "      <td>2.95</td>\n",
       "      <td>80.0</td>\n",
       "      <td>8</td>\n",
       "      <td>E</td>\n",
       "    </tr>\n",
       "    <tr>\n",
       "      <th>4</th>\n",
       "      <td>Pokemon Red/Pokemon Blue</td>\n",
       "      <td>GB</td>\n",
       "      <td>1996.0</td>\n",
       "      <td>Role-Playing</td>\n",
       "      <td>11.27</td>\n",
       "      <td>8.89</td>\n",
       "      <td>10.22</td>\n",
       "      <td>1.00</td>\n",
       "      <td>NaN</td>\n",
       "      <td>NaN</td>\n",
       "      <td>NaN</td>\n",
       "    </tr>\n",
       "    <tr>\n",
       "      <th>5</th>\n",
       "      <td>Tetris</td>\n",
       "      <td>GB</td>\n",
       "      <td>1989.0</td>\n",
       "      <td>Puzzle</td>\n",
       "      <td>23.20</td>\n",
       "      <td>2.26</td>\n",
       "      <td>4.22</td>\n",
       "      <td>0.58</td>\n",
       "      <td>NaN</td>\n",
       "      <td>NaN</td>\n",
       "      <td>NaN</td>\n",
       "    </tr>\n",
       "    <tr>\n",
       "      <th>6</th>\n",
       "      <td>New Super Mario Bros.</td>\n",
       "      <td>DS</td>\n",
       "      <td>2006.0</td>\n",
       "      <td>Platform</td>\n",
       "      <td>11.28</td>\n",
       "      <td>9.14</td>\n",
       "      <td>6.50</td>\n",
       "      <td>2.88</td>\n",
       "      <td>89.0</td>\n",
       "      <td>8.5</td>\n",
       "      <td>E</td>\n",
       "    </tr>\n",
       "    <tr>\n",
       "      <th>7</th>\n",
       "      <td>Wii Play</td>\n",
       "      <td>Wii</td>\n",
       "      <td>2006.0</td>\n",
       "      <td>Misc</td>\n",
       "      <td>13.96</td>\n",
       "      <td>9.18</td>\n",
       "      <td>2.93</td>\n",
       "      <td>2.84</td>\n",
       "      <td>58.0</td>\n",
       "      <td>6.6</td>\n",
       "      <td>E</td>\n",
       "    </tr>\n",
       "    <tr>\n",
       "      <th>8</th>\n",
       "      <td>New Super Mario Bros. Wii</td>\n",
       "      <td>Wii</td>\n",
       "      <td>2009.0</td>\n",
       "      <td>Platform</td>\n",
       "      <td>14.44</td>\n",
       "      <td>6.94</td>\n",
       "      <td>4.70</td>\n",
       "      <td>2.24</td>\n",
       "      <td>87.0</td>\n",
       "      <td>8.4</td>\n",
       "      <td>E</td>\n",
       "    </tr>\n",
       "    <tr>\n",
       "      <th>9</th>\n",
       "      <td>Duck Hunt</td>\n",
       "      <td>NES</td>\n",
       "      <td>1984.0</td>\n",
       "      <td>Shooter</td>\n",
       "      <td>26.93</td>\n",
       "      <td>0.63</td>\n",
       "      <td>0.28</td>\n",
       "      <td>0.47</td>\n",
       "      <td>NaN</td>\n",
       "      <td>NaN</td>\n",
       "      <td>NaN</td>\n",
       "    </tr>\n",
       "  </tbody>\n",
       "</table>\n",
       "</div>"
      ],
      "text/plain": [
       "                        Name Platform  Year_of_Release         Genre  \\\n",
       "0                 Wii Sports      Wii           2006.0        Sports   \n",
       "1          Super Mario Bros.      NES           1985.0      Platform   \n",
       "2             Mario Kart Wii      Wii           2008.0        Racing   \n",
       "3          Wii Sports Resort      Wii           2009.0        Sports   \n",
       "4   Pokemon Red/Pokemon Blue       GB           1996.0  Role-Playing   \n",
       "5                     Tetris       GB           1989.0        Puzzle   \n",
       "6      New Super Mario Bros.       DS           2006.0      Platform   \n",
       "7                   Wii Play      Wii           2006.0          Misc   \n",
       "8  New Super Mario Bros. Wii      Wii           2009.0      Platform   \n",
       "9                  Duck Hunt      NES           1984.0       Shooter   \n",
       "\n",
       "   NA_sales  EU_sales  JP_sales  Other_sales  Critic_Score User_Score Rating  \n",
       "0     41.36     28.96      3.77         8.45          76.0          8      E  \n",
       "1     29.08      3.58      6.81         0.77           NaN        NaN    NaN  \n",
       "2     15.68     12.76      3.79         3.29          82.0        8.3      E  \n",
       "3     15.61     10.93      3.28         2.95          80.0          8      E  \n",
       "4     11.27      8.89     10.22         1.00           NaN        NaN    NaN  \n",
       "5     23.20      2.26      4.22         0.58           NaN        NaN    NaN  \n",
       "6     11.28      9.14      6.50         2.88          89.0        8.5      E  \n",
       "7     13.96      9.18      2.93         2.84          58.0        6.6      E  \n",
       "8     14.44      6.94      4.70         2.24          87.0        8.4      E  \n",
       "9     26.93      0.63      0.28         0.47           NaN        NaN    NaN  "
      ]
     },
     "metadata": {},
     "output_type": "display_data"
    },
    {
     "name": "stdout",
     "output_type": "stream",
     "text": [
      "<class 'pandas.core.frame.DataFrame'>\n",
      "RangeIndex: 16715 entries, 0 to 16714\n",
      "Data columns (total 11 columns):\n",
      " #   Column           Non-Null Count  Dtype  \n",
      "---  ------           --------------  -----  \n",
      " 0   Name             16713 non-null  object \n",
      " 1   Platform         16715 non-null  object \n",
      " 2   Year_of_Release  16446 non-null  float64\n",
      " 3   Genre            16713 non-null  object \n",
      " 4   NA_sales         16715 non-null  float64\n",
      " 5   EU_sales         16715 non-null  float64\n",
      " 6   JP_sales         16715 non-null  float64\n",
      " 7   Other_sales      16715 non-null  float64\n",
      " 8   Critic_Score     8137 non-null   float64\n",
      " 9   User_Score       10014 non-null  object \n",
      " 10  Rating           9949 non-null   object \n",
      "dtypes: float64(6), object(5)\n",
      "memory usage: 1.4+ MB\n",
      "None\n"
     ]
    }
   ],
   "source": [
    "df = pd.read_csv('/datasets/games.csv')\n",
    "display(df.head(10))\n",
    "print(df.info())"
   ]
  },
  {
   "cell_type": "markdown",
   "metadata": {},
   "source": [
    "Just as a quick thought from looking at the data above. The North America market appears to out sell all other sales areas, in some cases combind! "
   ]
  },
  {
   "cell_type": "code",
   "execution_count": 3,
   "metadata": {
    "scrolled": true
   },
   "outputs": [
    {
     "name": "stdout",
     "output_type": "stream",
     "text": [
      "Duplicate Platforms:\n",
      " PS2     2161\n",
      "DS      2151\n",
      "PS3     1331\n",
      "Wii     1320\n",
      "X360    1262\n",
      "PSP     1209\n",
      "PS      1197\n",
      "PC       974\n",
      "XB       824\n",
      "GBA      822\n",
      "GC       556\n",
      "3DS      520\n",
      "PSV      430\n",
      "PS4      392\n",
      "N64      319\n",
      "XOne     247\n",
      "SNES     239\n",
      "SAT      173\n",
      "WiiU     147\n",
      "2600     133\n",
      "GB        98\n",
      "NES       98\n",
      "DC        52\n",
      "GEN       29\n",
      "NG        12\n",
      "WS         6\n",
      "SCD        6\n",
      "3DO        3\n",
      "TG16       2\n",
      "Name: Platform, dtype: int64\n"
     ]
    }
   ],
   "source": [
    "platform_counts = df['Platform'].value_counts()\n",
    "duplicate_platforms = platform_counts[platform_counts > 1]\n",
    "\n",
    "print(\"Duplicate Platforms:\\n\", duplicate_platforms)"
   ]
  },
  {
   "cell_type": "code",
   "execution_count": 4,
   "metadata": {
    "scrolled": true
   },
   "outputs": [
    {
     "name": "stdout",
     "output_type": "stream",
     "text": [
      "Unique Platform Names After Cleaning:\n",
      " ['wii' 'nes' 'gb' 'nintendods' 'x360' 'playstation3' 'playstation2'\n",
      " 'supernintendo' 'gba' 'playstation4' 'nintendo3ds' 'n64' 'playstation'\n",
      " 'xbox' 'pc' '2600' 'psp' 'xone' 'wiiu' 'gc' 'gen' 'dc' 'psv' 'sat' 'scd'\n",
      " 'ws' 'ng' 'tg16' '3do' 'gg' 'pcfx']\n"
     ]
    }
   ],
   "source": [
    "df['Platform'] = df['Platform'].str.lower()  \n",
    "df['Platform'] = df['Platform'].str.strip()  \n",
    "df['Platform'] = df['Platform'].str.replace(r'[^a-z0-9]', '', regex=True)  \n",
    "\n",
    "platform_corrections = {\n",
    "    \"ps\": \"playstation\",\n",
    "    \"ps1\": \"playstation\",\n",
    "    \"psx\": \"playstation\",\n",
    "    \"ps2\": \"playstation2\",\n",
    "    \"ps3\": \"playstation3\",\n",
    "    \"ps4\": \"playstation4\",\n",
    "    \"ps5\": \"playstation5\",\n",
    "    \"xb\": \"xbox\",\n",
    "    \"xbox360\": \"xbox360\",\n",
    "    \"xboxone\": \"xboxone\",\n",
    "    \"xboxseriesx\": \"xboxx\",\n",
    "    \"snes\": \"supernintendo\",\n",
    "    \"ds\": \"nintendods\",\n",
    "    \"3ds\": \"nintendo3ds\",\n",
    "    \"wii\": \"wii\",\n",
    "}\n",
    "\n",
    "\n",
    "df['Platform'] = df['Platform'].replace(platform_corrections)\n",
    "\n",
    "print(\"Unique Platform Names After Cleaning:\\n\", df['Platform'].unique())\n",
    "df.to_csv(\"cleaned_data.csv\", index=False)\n"
   ]
  },
  {
   "cell_type": "code",
   "execution_count": 5,
   "metadata": {},
   "outputs": [
    {
     "data": {
      "text/html": [
       "<div>\n",
       "<style scoped>\n",
       "    .dataframe tbody tr th:only-of-type {\n",
       "        vertical-align: middle;\n",
       "    }\n",
       "\n",
       "    .dataframe tbody tr th {\n",
       "        vertical-align: top;\n",
       "    }\n",
       "\n",
       "    .dataframe thead th {\n",
       "        text-align: right;\n",
       "    }\n",
       "</style>\n",
       "<table border=\"1\" class=\"dataframe\">\n",
       "  <thead>\n",
       "    <tr style=\"text-align: right;\">\n",
       "      <th></th>\n",
       "      <th>missing_values</th>\n",
       "      <th>%</th>\n",
       "    </tr>\n",
       "  </thead>\n",
       "  <tbody>\n",
       "    <tr>\n",
       "      <th>Critic_Score</th>\n",
       "      <td>8578</td>\n",
       "      <td>0.513</td>\n",
       "    </tr>\n",
       "    <tr>\n",
       "      <th>Rating</th>\n",
       "      <td>6766</td>\n",
       "      <td>0.405</td>\n",
       "    </tr>\n",
       "    <tr>\n",
       "      <th>User_Score</th>\n",
       "      <td>6701</td>\n",
       "      <td>0.401</td>\n",
       "    </tr>\n",
       "    <tr>\n",
       "      <th>Year_of_Release</th>\n",
       "      <td>269</td>\n",
       "      <td>0.016</td>\n",
       "    </tr>\n",
       "    <tr>\n",
       "      <th>Name</th>\n",
       "      <td>2</td>\n",
       "      <td>0.000</td>\n",
       "    </tr>\n",
       "    <tr>\n",
       "      <th>Platform</th>\n",
       "      <td>0</td>\n",
       "      <td>0.000</td>\n",
       "    </tr>\n",
       "    <tr>\n",
       "      <th>Genre</th>\n",
       "      <td>2</td>\n",
       "      <td>0.000</td>\n",
       "    </tr>\n",
       "    <tr>\n",
       "      <th>NA_sales</th>\n",
       "      <td>0</td>\n",
       "      <td>0.000</td>\n",
       "    </tr>\n",
       "    <tr>\n",
       "      <th>EU_sales</th>\n",
       "      <td>0</td>\n",
       "      <td>0.000</td>\n",
       "    </tr>\n",
       "    <tr>\n",
       "      <th>JP_sales</th>\n",
       "      <td>0</td>\n",
       "      <td>0.000</td>\n",
       "    </tr>\n",
       "    <tr>\n",
       "      <th>Other_sales</th>\n",
       "      <td>0</td>\n",
       "      <td>0.000</td>\n",
       "    </tr>\n",
       "  </tbody>\n",
       "</table>\n",
       "</div>"
      ],
      "text/plain": [
       "                 missing_values      %\n",
       "Critic_Score               8578  0.513\n",
       "Rating                     6766  0.405\n",
       "User_Score                 6701  0.401\n",
       "Year_of_Release             269  0.016\n",
       "Name                          2  0.000\n",
       "Platform                      0  0.000\n",
       "Genre                         2  0.000\n",
       "NA_sales                      0  0.000\n",
       "EU_sales                      0  0.000\n",
       "JP_sales                      0  0.000\n",
       "Other_sales                   0  0.000"
      ]
     },
     "execution_count": 5,
     "metadata": {},
     "output_type": "execute_result"
    }
   ],
   "source": [
    "mis_values = df.isnull().sum().to_frame('missing_values')\n",
    "mis_values['%'] = round(df.isnull().sum()/len(df),3)\n",
    "mis_values.sort_values(by='%', ascending=False)"
   ]
  },
  {
   "cell_type": "markdown",
   "metadata": {},
   "source": [
    "<div class=\"alert alert-warning\">\n",
    "<b>Reviewer's comment v1:</b>\n",
    "    \n",
    "Could you please first check the total amount of missing values in each column but also look at the percentage of missing values. It helps to understand the overall impact. You can check percentage using, for example, this code:\n",
    "   \n",
    "\n",
    "    df.isnull().sum()/len(df)\n",
    "\n",
    "    Or you can even make a dataframe of of it using to_frame\n",
    "\n",
    "    mis_values = df.isnull().sum().to_frame('missing_values')\n",
    "    mis_values['%'] = round(df.isnull().sum()/len(df),3)\n",
    "    mis_values.sort_values(by='%', ascending=False)\n"
   ]
  },
  {
   "cell_type": "code",
   "execution_count": 6,
   "metadata": {},
   "outputs": [
    {
     "name": "stdout",
     "output_type": "stream",
     "text": [
      "\n",
      "Missing Values Per Column:\n",
      "\n",
      "Name                  2\n",
      "Platform              0\n",
      "Year_of_Release     269\n",
      "Genre                 2\n",
      "NA_sales              0\n",
      "EU_sales              0\n",
      "JP_sales              0\n",
      "Other_sales           0\n",
      "Critic_Score       8578\n",
      "User_Score         6701\n",
      "Rating             6766\n",
      "dtype: int64\n"
     ]
    }
   ],
   "source": [
    "df.fillna(value=np.nan, inplace=True)\n",
    "\n",
    "print(\"\\nMissing Values Per Column:\\n\")\n",
    "print(df.isnull().sum())"
   ]
  },
  {
   "cell_type": "code",
   "execution_count": 7,
   "metadata": {
    "scrolled": true
   },
   "outputs": [
    {
     "name": "stdout",
     "output_type": "stream",
     "text": [
      "\n",
      "Updated Column Data Types:\n",
      "\n",
      "name                object\n",
      "platform            object\n",
      "year_of_release    float64\n",
      "genre               object\n",
      "na_sales           float64\n",
      "eu_sales           float64\n",
      "jp_sales           float64\n",
      "other_sales        float64\n",
      "critic_score       float64\n",
      "user_score         float64\n",
      "rating              object\n",
      "dtype: object\n"
     ]
    }
   ],
   "source": [
    "df.columns = df.columns.str.lower()\n",
    "\n",
    "required_types = {\n",
    "    'name': 'string',              \n",
    "    'platform': 'string',          \n",
    "    'year_of_release': 'Int64',    \n",
    "    'genre': 'string',             \n",
    "    'na_sales': 'float',           \n",
    "    'eu_sales': 'float',           \n",
    "    'jp_sales': 'float',           \n",
    "    'other_sales': 'float',        \n",
    "    'critic_score': 'float',       \n",
    "    'user_score': 'float',         \n",
    "    'rating': 'string'             \n",
    "}\n",
    "\n",
    "for col, dtype in required_types.items():\n",
    "    if col in df.columns:\n",
    "        if dtype == 'string':\n",
    "            df[col] = df[col].astype(str).str.lower()  \n",
    "        else:\n",
    "            df[col] = pd.to_numeric(df[col], errors='coerce') \n",
    "            \n",
    "print(\"\\nUpdated Column Data Types:\\n\")\n",
    "print(df.dtypes)"
   ]
  },
  {
   "cell_type": "markdown",
   "metadata": {},
   "source": [
    "<div class=\"alert alert-block alert-success\">\n",
    "<b>Reviewer's comment v1:</b>\n",
    "    \n",
    "Regarding the column names change, everything is correct. The most typical approach is to use snake case first_name. You can read about it here - https://levelup.gitconnected.com/case-styles-in-python-fd9591e57f86 \n",
    "\n",
    "You could also update columns in the following way:\n",
    "    \n",
    "`df.columns = df.columns.str.lower()`"
   ]
  },
  {
   "cell_type": "markdown",
   "metadata": {},
   "source": [
    "After looking at the data that is missing, I have come to the conclusion that based on the desires of the company and the information that is being questioned. I don't feel it necessary to fill in the missing data points as they will not effect the end results of my analysis of the question about where to put money enough to make a large difference in the out come of the analysis results. Based on the missing data, I feel like its safe to say that 1, the 'year of release' was most likely from someone forgetting to add all the information, possibly multiple people soing the same task causing this mistake. 2, the 'critic score' could simply be that 8578 of those critics just didn't leave a score for the games. Finally, the 'user score' is probably the same reason as the 'critic score'. Those users just didn't feel like they needed to leave a score or just forgot."
   ]
  },
  {
   "cell_type": "markdown",
   "metadata": {},
   "source": [
    "<div class=\"alert alert-block alert-danger\">\n",
    "<b>Reviewer's comment v1:</b>\n",
    "   \n",
    "    \n",
    "Due to the nature of our dataset all games are not relevant to each other.\n",
    "    \n",
    "`year_of_release`, `name`, `genre` - what is the volume, maybe we could just remove them?\n",
    "   \n",
    "    \n",
    "`rating` column could be filled with any placeholder (e.g. \"unknown\")? \n",
    "    \n",
    "Additionally, in the next steps of our analysis, we need to analyze the rating by region, and it is preferable to analyze the games without a rating at this stage.    "
   ]
  },
  {
   "cell_type": "markdown",
   "metadata": {},
   "source": [
    "<div class=\"alert alert-info\"> <b>Student comments:</b> I am also confused at this suggestion. I am not saying in anyway that you are wrong, more making sure that I understood the assignment! From my understanding most of the data that is here realistically wont even be used in our analysis of the data. This being the reason I made to commentary above. Am I wrong in my assumptions here? I am more then happy to do whatever is needed, this being said, I don't want to overcrowd my analysis with data that wont effect the out come or dilude the major points that I feel need to be made in order to give the company a straight forward answer as to where that marketing money should go based on the recent (2013 - 2016) time period for the 2017 marketing campagin."
   ]
  },
  {
   "cell_type": "markdown",
   "metadata": {},
   "source": [
    "<div class=\"alert alert-block alert-danger\">\n",
    "<b>Reviewer's comment v2:</b>\n",
    "   \n",
    "You're not wrong in thinking that not all data will be relevant to the final analysis, and it's great that you're considering clarity and focus. That said, the rating column could be interesting to fill in, as it might provide valuable insights when checked later by region, genre, etc. Even if it's not used immediately, having that data available could help refine the recommendations for the marketing campaign."
   ]
  },
  {
   "cell_type": "code",
   "execution_count": 9,
   "metadata": {},
   "outputs": [
    {
     "data": {
      "text/html": [
       "<div>\n",
       "<style scoped>\n",
       "    .dataframe tbody tr th:only-of-type {\n",
       "        vertical-align: middle;\n",
       "    }\n",
       "\n",
       "    .dataframe tbody tr th {\n",
       "        vertical-align: top;\n",
       "    }\n",
       "\n",
       "    .dataframe thead th {\n",
       "        text-align: right;\n",
       "    }\n",
       "</style>\n",
       "<table border=\"1\" class=\"dataframe\">\n",
       "  <thead>\n",
       "    <tr style=\"text-align: right;\">\n",
       "      <th></th>\n",
       "      <th>name</th>\n",
       "      <th>na_sales</th>\n",
       "      <th>eu_sales</th>\n",
       "      <th>jp_sales</th>\n",
       "      <th>other_sales</th>\n",
       "      <th>total_sales</th>\n",
       "    </tr>\n",
       "  </thead>\n",
       "  <tbody>\n",
       "    <tr>\n",
       "      <th>0</th>\n",
       "      <td>wii sports</td>\n",
       "      <td>41.36</td>\n",
       "      <td>28.96</td>\n",
       "      <td>3.77</td>\n",
       "      <td>8.45</td>\n",
       "      <td>82.54</td>\n",
       "    </tr>\n",
       "    <tr>\n",
       "      <th>1</th>\n",
       "      <td>super mario bros.</td>\n",
       "      <td>29.08</td>\n",
       "      <td>3.58</td>\n",
       "      <td>6.81</td>\n",
       "      <td>0.77</td>\n",
       "      <td>40.24</td>\n",
       "    </tr>\n",
       "    <tr>\n",
       "      <th>2</th>\n",
       "      <td>mario kart wii</td>\n",
       "      <td>15.68</td>\n",
       "      <td>12.76</td>\n",
       "      <td>3.79</td>\n",
       "      <td>3.29</td>\n",
       "      <td>35.52</td>\n",
       "    </tr>\n",
       "    <tr>\n",
       "      <th>3</th>\n",
       "      <td>wii sports resort</td>\n",
       "      <td>15.61</td>\n",
       "      <td>10.93</td>\n",
       "      <td>3.28</td>\n",
       "      <td>2.95</td>\n",
       "      <td>32.77</td>\n",
       "    </tr>\n",
       "    <tr>\n",
       "      <th>4</th>\n",
       "      <td>pokemon red/pokemon blue</td>\n",
       "      <td>11.27</td>\n",
       "      <td>8.89</td>\n",
       "      <td>10.22</td>\n",
       "      <td>1.00</td>\n",
       "      <td>31.38</td>\n",
       "    </tr>\n",
       "    <tr>\n",
       "      <th>...</th>\n",
       "      <td>...</td>\n",
       "      <td>...</td>\n",
       "      <td>...</td>\n",
       "      <td>...</td>\n",
       "      <td>...</td>\n",
       "      <td>...</td>\n",
       "    </tr>\n",
       "    <tr>\n",
       "      <th>16710</th>\n",
       "      <td>samurai warriors: sanada maru</td>\n",
       "      <td>0.00</td>\n",
       "      <td>0.00</td>\n",
       "      <td>0.01</td>\n",
       "      <td>0.00</td>\n",
       "      <td>0.01</td>\n",
       "    </tr>\n",
       "    <tr>\n",
       "      <th>16711</th>\n",
       "      <td>lma manager 2007</td>\n",
       "      <td>0.00</td>\n",
       "      <td>0.01</td>\n",
       "      <td>0.00</td>\n",
       "      <td>0.00</td>\n",
       "      <td>0.01</td>\n",
       "    </tr>\n",
       "    <tr>\n",
       "      <th>16712</th>\n",
       "      <td>haitaka no psychedelica</td>\n",
       "      <td>0.00</td>\n",
       "      <td>0.00</td>\n",
       "      <td>0.01</td>\n",
       "      <td>0.00</td>\n",
       "      <td>0.01</td>\n",
       "    </tr>\n",
       "    <tr>\n",
       "      <th>16713</th>\n",
       "      <td>spirits &amp; spells</td>\n",
       "      <td>0.01</td>\n",
       "      <td>0.00</td>\n",
       "      <td>0.00</td>\n",
       "      <td>0.00</td>\n",
       "      <td>0.01</td>\n",
       "    </tr>\n",
       "    <tr>\n",
       "      <th>16714</th>\n",
       "      <td>winning post 8 2016</td>\n",
       "      <td>0.00</td>\n",
       "      <td>0.00</td>\n",
       "      <td>0.01</td>\n",
       "      <td>0.00</td>\n",
       "      <td>0.01</td>\n",
       "    </tr>\n",
       "  </tbody>\n",
       "</table>\n",
       "<p>16715 rows × 6 columns</p>\n",
       "</div>"
      ],
      "text/plain": [
       "                                name  na_sales  eu_sales  jp_sales  \\\n",
       "0                         wii sports     41.36     28.96      3.77   \n",
       "1                  super mario bros.     29.08      3.58      6.81   \n",
       "2                     mario kart wii     15.68     12.76      3.79   \n",
       "3                  wii sports resort     15.61     10.93      3.28   \n",
       "4           pokemon red/pokemon blue     11.27      8.89     10.22   \n",
       "...                              ...       ...       ...       ...   \n",
       "16710  samurai warriors: sanada maru      0.00      0.00      0.01   \n",
       "16711               lma manager 2007      0.00      0.01      0.00   \n",
       "16712        haitaka no psychedelica      0.00      0.00      0.01   \n",
       "16713               spirits & spells      0.01      0.00      0.00   \n",
       "16714            winning post 8 2016      0.00      0.00      0.01   \n",
       "\n",
       "       other_sales  total_sales  \n",
       "0             8.45        82.54  \n",
       "1             0.77        40.24  \n",
       "2             3.29        35.52  \n",
       "3             2.95        32.77  \n",
       "4             1.00        31.38  \n",
       "...            ...          ...  \n",
       "16710         0.00         0.01  \n",
       "16711         0.00         0.01  \n",
       "16712         0.00         0.01  \n",
       "16713         0.00         0.01  \n",
       "16714         0.00         0.01  \n",
       "\n",
       "[16715 rows x 6 columns]"
      ]
     },
     "metadata": {},
     "output_type": "display_data"
    }
   ],
   "source": [
    "df['total_sales'] = df[['na_sales', 'eu_sales', 'jp_sales', 'other_sales']].sum(axis=1)\n",
    "\n",
    "display(df[['name', 'na_sales', 'eu_sales', 'jp_sales', 'other_sales', 'total_sales']])"
   ]
  },
  {
   "cell_type": "markdown",
   "metadata": {},
   "source": [
    "<div class=\"alert alert-block alert-success\">\n",
    "<b>Reviewer's comment v1:</b>\n",
    "\n",
    "Great, everything is correct here. \n"
   ]
  },
  {
   "cell_type": "code",
   "execution_count": 10,
   "metadata": {},
   "outputs": [
    {
     "data": {
      "text/html": [
       "<div>\n",
       "<style scoped>\n",
       "    .dataframe tbody tr th:only-of-type {\n",
       "        vertical-align: middle;\n",
       "    }\n",
       "\n",
       "    .dataframe tbody tr th {\n",
       "        vertical-align: top;\n",
       "    }\n",
       "\n",
       "    .dataframe thead th {\n",
       "        text-align: right;\n",
       "    }\n",
       "</style>\n",
       "<table border=\"1\" class=\"dataframe\">\n",
       "  <thead>\n",
       "    <tr style=\"text-align: right;\">\n",
       "      <th></th>\n",
       "      <th>name</th>\n",
       "      <th>platform</th>\n",
       "      <th>year_of_release</th>\n",
       "      <th>genre</th>\n",
       "      <th>na_sales</th>\n",
       "      <th>eu_sales</th>\n",
       "      <th>jp_sales</th>\n",
       "      <th>other_sales</th>\n",
       "      <th>critic_score</th>\n",
       "      <th>user_score</th>\n",
       "      <th>rating</th>\n",
       "      <th>total_sales</th>\n",
       "    </tr>\n",
       "  </thead>\n",
       "  <tbody>\n",
       "    <tr>\n",
       "      <th>0</th>\n",
       "      <td>wii sports</td>\n",
       "      <td>wii</td>\n",
       "      <td>2006.0</td>\n",
       "      <td>sports</td>\n",
       "      <td>41.36</td>\n",
       "      <td>28.96</td>\n",
       "      <td>3.77</td>\n",
       "      <td>8.45</td>\n",
       "      <td>76.0</td>\n",
       "      <td>8.0</td>\n",
       "      <td>e</td>\n",
       "      <td>82.54</td>\n",
       "    </tr>\n",
       "    <tr>\n",
       "      <th>1</th>\n",
       "      <td>super mario bros.</td>\n",
       "      <td>nes</td>\n",
       "      <td>1985.0</td>\n",
       "      <td>platform</td>\n",
       "      <td>29.08</td>\n",
       "      <td>3.58</td>\n",
       "      <td>6.81</td>\n",
       "      <td>0.77</td>\n",
       "      <td>NaN</td>\n",
       "      <td>NaN</td>\n",
       "      <td>nan</td>\n",
       "      <td>40.24</td>\n",
       "    </tr>\n",
       "    <tr>\n",
       "      <th>2</th>\n",
       "      <td>mario kart wii</td>\n",
       "      <td>wii</td>\n",
       "      <td>2008.0</td>\n",
       "      <td>racing</td>\n",
       "      <td>15.68</td>\n",
       "      <td>12.76</td>\n",
       "      <td>3.79</td>\n",
       "      <td>3.29</td>\n",
       "      <td>82.0</td>\n",
       "      <td>8.3</td>\n",
       "      <td>e</td>\n",
       "      <td>35.52</td>\n",
       "    </tr>\n",
       "    <tr>\n",
       "      <th>3</th>\n",
       "      <td>wii sports resort</td>\n",
       "      <td>wii</td>\n",
       "      <td>2009.0</td>\n",
       "      <td>sports</td>\n",
       "      <td>15.61</td>\n",
       "      <td>10.93</td>\n",
       "      <td>3.28</td>\n",
       "      <td>2.95</td>\n",
       "      <td>80.0</td>\n",
       "      <td>8.0</td>\n",
       "      <td>e</td>\n",
       "      <td>32.77</td>\n",
       "    </tr>\n",
       "    <tr>\n",
       "      <th>4</th>\n",
       "      <td>pokemon red/pokemon blue</td>\n",
       "      <td>gb</td>\n",
       "      <td>1996.0</td>\n",
       "      <td>role-playing</td>\n",
       "      <td>11.27</td>\n",
       "      <td>8.89</td>\n",
       "      <td>10.22</td>\n",
       "      <td>1.00</td>\n",
       "      <td>NaN</td>\n",
       "      <td>NaN</td>\n",
       "      <td>nan</td>\n",
       "      <td>31.38</td>\n",
       "    </tr>\n",
       "  </tbody>\n",
       "</table>\n",
       "</div>"
      ],
      "text/plain": [
       "                       name platform  year_of_release         genre  na_sales  \\\n",
       "0                wii sports      wii           2006.0        sports     41.36   \n",
       "1         super mario bros.      nes           1985.0      platform     29.08   \n",
       "2            mario kart wii      wii           2008.0        racing     15.68   \n",
       "3         wii sports resort      wii           2009.0        sports     15.61   \n",
       "4  pokemon red/pokemon blue       gb           1996.0  role-playing     11.27   \n",
       "\n",
       "   eu_sales  jp_sales  other_sales  critic_score  user_score rating  \\\n",
       "0     28.96      3.77         8.45          76.0         8.0      e   \n",
       "1      3.58      6.81         0.77           NaN         NaN    nan   \n",
       "2     12.76      3.79         3.29          82.0         8.3      e   \n",
       "3     10.93      3.28         2.95          80.0         8.0      e   \n",
       "4      8.89     10.22         1.00           NaN         NaN    nan   \n",
       "\n",
       "   total_sales  \n",
       "0        82.54  \n",
       "1        40.24  \n",
       "2        35.52  \n",
       "3        32.77  \n",
       "4        31.38  "
      ]
     },
     "metadata": {},
     "output_type": "display_data"
    }
   ],
   "source": [
    "display(df.head())"
   ]
  },
  {
   "cell_type": "code",
   "execution_count": 11,
   "metadata": {},
   "outputs": [
    {
     "name": "stdout",
     "output_type": "stream",
     "text": [
      "\n",
      "Total Sales by Time Period (in millions): \n",
      "time_period\n",
      "Classic     750.00\n",
      "Modern     6112.68\n",
      "New        1954.11\n",
      "Unknown      98.92\n",
      "Name: total_sales, dtype: float64\n"
     ]
    }
   ],
   "source": [
    "df['year_of_release'] = pd.to_numeric(df['year_of_release'], errors='coerce')\n",
    "\n",
    "def categorize_year(year):\n",
    "    if year <= 1995:\n",
    "        return 'Classic'\n",
    "    elif 1996 <= year <= 2010:\n",
    "        return 'Modern'\n",
    "    elif year >= 2011:\n",
    "        return 'New'\n",
    "    else:\n",
    "        return 'Unknown'\n",
    "\n",
    "df['time_period'] = df['year_of_release'].apply(categorize_year)\n",
    "\n",
    "\n",
    "df['total_sales'] = df[['na_sales', 'eu_sales', 'jp_sales', 'other_sales']].sum(axis=1)\n",
    "\n",
    "\n",
    "sales_by_period = df.groupby('time_period')['total_sales'].sum()\n",
    "\n",
    "print('\\nTotal Sales by Time Period (in millions): ')\n",
    "print(sales_by_period)"
   ]
  },
  {
   "cell_type": "code",
   "execution_count": 12,
   "metadata": {
    "scrolled": false
   },
   "outputs": [
    {
     "name": "stdout",
     "output_type": "stream",
     "text": [
      "Game Total Sales by Time Period:\n",
      "time_period\n",
      "Classic     750.00\n",
      "Modern     6112.68\n",
      "New        1954.11\n",
      "Unknown      98.92\n",
      "Name: total_sales, dtype: float64\n",
      "\n",
      " Total Sales by Platform within Each Time Period:\n"
     ]
    },
    {
     "data": {
      "text/html": [
       "<div>\n",
       "<style scoped>\n",
       "    .dataframe tbody tr th:only-of-type {\n",
       "        vertical-align: middle;\n",
       "    }\n",
       "\n",
       "    .dataframe tbody tr th {\n",
       "        vertical-align: top;\n",
       "    }\n",
       "\n",
       "    .dataframe thead th {\n",
       "        text-align: right;\n",
       "    }\n",
       "</style>\n",
       "<table border=\"1\" class=\"dataframe\">\n",
       "  <thead>\n",
       "    <tr style=\"text-align: right;\">\n",
       "      <th></th>\n",
       "      <th>time_period</th>\n",
       "      <th>platform</th>\n",
       "      <th>total_sales</th>\n",
       "    </tr>\n",
       "  </thead>\n",
       "  <tbody>\n",
       "    <tr>\n",
       "      <th>0</th>\n",
       "      <td>Classic</td>\n",
       "      <td>2600</td>\n",
       "      <td>86.48</td>\n",
       "    </tr>\n",
       "    <tr>\n",
       "      <th>1</th>\n",
       "      <td>Classic</td>\n",
       "      <td>3do</td>\n",
       "      <td>0.10</td>\n",
       "    </tr>\n",
       "    <tr>\n",
       "      <th>2</th>\n",
       "      <td>Classic</td>\n",
       "      <td>gb</td>\n",
       "      <td>118.13</td>\n",
       "    </tr>\n",
       "    <tr>\n",
       "      <th>3</th>\n",
       "      <td>Classic</td>\n",
       "      <td>gen</td>\n",
       "      <td>30.77</td>\n",
       "    </tr>\n",
       "    <tr>\n",
       "      <th>4</th>\n",
       "      <td>Classic</td>\n",
       "      <td>gg</td>\n",
       "      <td>0.04</td>\n",
       "    </tr>\n",
       "    <tr>\n",
       "      <th>5</th>\n",
       "      <td>Classic</td>\n",
       "      <td>nes</td>\n",
       "      <td>251.05</td>\n",
       "    </tr>\n",
       "    <tr>\n",
       "      <th>6</th>\n",
       "      <td>Classic</td>\n",
       "      <td>ng</td>\n",
       "      <td>1.34</td>\n",
       "    </tr>\n",
       "    <tr>\n",
       "      <th>7</th>\n",
       "      <td>Classic</td>\n",
       "      <td>nintendods</td>\n",
       "      <td>0.02</td>\n",
       "    </tr>\n",
       "    <tr>\n",
       "      <th>8</th>\n",
       "      <td>Classic</td>\n",
       "      <td>pc</td>\n",
       "      <td>20.19</td>\n",
       "    </tr>\n",
       "    <tr>\n",
       "      <th>9</th>\n",
       "      <td>Classic</td>\n",
       "      <td>playstation</td>\n",
       "      <td>41.99</td>\n",
       "    </tr>\n",
       "    <tr>\n",
       "      <th>10</th>\n",
       "      <td>Classic</td>\n",
       "      <td>sat</td>\n",
       "      <td>15.22</td>\n",
       "    </tr>\n",
       "    <tr>\n",
       "      <th>11</th>\n",
       "      <td>Classic</td>\n",
       "      <td>scd</td>\n",
       "      <td>1.86</td>\n",
       "    </tr>\n",
       "    <tr>\n",
       "      <th>12</th>\n",
       "      <td>Classic</td>\n",
       "      <td>supernintendo</td>\n",
       "      <td>182.65</td>\n",
       "    </tr>\n",
       "    <tr>\n",
       "      <th>13</th>\n",
       "      <td>Classic</td>\n",
       "      <td>tg16</td>\n",
       "      <td>0.16</td>\n",
       "    </tr>\n",
       "    <tr>\n",
       "      <th>14</th>\n",
       "      <td>Modern</td>\n",
       "      <td>dc</td>\n",
       "      <td>15.95</td>\n",
       "    </tr>\n",
       "    <tr>\n",
       "      <th>15</th>\n",
       "      <td>Modern</td>\n",
       "      <td>gb</td>\n",
       "      <td>136.30</td>\n",
       "    </tr>\n",
       "    <tr>\n",
       "      <th>16</th>\n",
       "      <td>Modern</td>\n",
       "      <td>gba</td>\n",
       "      <td>312.88</td>\n",
       "    </tr>\n",
       "    <tr>\n",
       "      <th>17</th>\n",
       "      <td>Modern</td>\n",
       "      <td>gc</td>\n",
       "      <td>196.73</td>\n",
       "    </tr>\n",
       "    <tr>\n",
       "      <th>18</th>\n",
       "      <td>Modern</td>\n",
       "      <td>n64</td>\n",
       "      <td>218.01</td>\n",
       "    </tr>\n",
       "    <tr>\n",
       "      <th>19</th>\n",
       "      <td>Modern</td>\n",
       "      <td>ng</td>\n",
       "      <td>0.10</td>\n",
       "    </tr>\n",
       "    <tr>\n",
       "      <th>20</th>\n",
       "      <td>Modern</td>\n",
       "      <td>nintendods</td>\n",
       "      <td>764.03</td>\n",
       "    </tr>\n",
       "    <tr>\n",
       "      <th>21</th>\n",
       "      <td>Modern</td>\n",
       "      <td>pc</td>\n",
       "      <td>137.89</td>\n",
       "    </tr>\n",
       "    <tr>\n",
       "      <th>22</th>\n",
       "      <td>Modern</td>\n",
       "      <td>pcfx</td>\n",
       "      <td>0.03</td>\n",
       "    </tr>\n",
       "    <tr>\n",
       "      <th>23</th>\n",
       "      <td>Modern</td>\n",
       "      <td>playstation</td>\n",
       "      <td>685.59</td>\n",
       "    </tr>\n",
       "    <tr>\n",
       "      <th>24</th>\n",
       "      <td>Modern</td>\n",
       "      <td>playstation2</td>\n",
       "      <td>1233.11</td>\n",
       "    </tr>\n",
       "    <tr>\n",
       "      <th>25</th>\n",
       "      <td>Modern</td>\n",
       "      <td>playstation3</td>\n",
       "      <td>485.77</td>\n",
       "    </tr>\n",
       "    <tr>\n",
       "      <th>26</th>\n",
       "      <td>Modern</td>\n",
       "      <td>psp</td>\n",
       "      <td>260.52</td>\n",
       "    </tr>\n",
       "    <tr>\n",
       "      <th>27</th>\n",
       "      <td>Modern</td>\n",
       "      <td>sat</td>\n",
       "      <td>18.37</td>\n",
       "    </tr>\n",
       "    <tr>\n",
       "      <th>28</th>\n",
       "      <td>Modern</td>\n",
       "      <td>supernintendo</td>\n",
       "      <td>17.39</td>\n",
       "    </tr>\n",
       "    <tr>\n",
       "      <th>29</th>\n",
       "      <td>Modern</td>\n",
       "      <td>wii</td>\n",
       "      <td>796.16</td>\n",
       "    </tr>\n",
       "    <tr>\n",
       "      <th>30</th>\n",
       "      <td>Modern</td>\n",
       "      <td>ws</td>\n",
       "      <td>1.42</td>\n",
       "    </tr>\n",
       "    <tr>\n",
       "      <th>31</th>\n",
       "      <td>Modern</td>\n",
       "      <td>x360</td>\n",
       "      <td>580.86</td>\n",
       "    </tr>\n",
       "    <tr>\n",
       "      <th>32</th>\n",
       "      <td>Modern</td>\n",
       "      <td>xbox</td>\n",
       "      <td>251.57</td>\n",
       "    </tr>\n",
       "    <tr>\n",
       "      <th>33</th>\n",
       "      <td>New</td>\n",
       "      <td>nintendo3ds</td>\n",
       "      <td>257.81</td>\n",
       "    </tr>\n",
       "    <tr>\n",
       "      <th>34</th>\n",
       "      <td>New</td>\n",
       "      <td>nintendods</td>\n",
       "      <td>38.73</td>\n",
       "    </tr>\n",
       "    <tr>\n",
       "      <th>35</th>\n",
       "      <td>New</td>\n",
       "      <td>pc</td>\n",
       "      <td>97.68</td>\n",
       "    </tr>\n",
       "    <tr>\n",
       "      <th>36</th>\n",
       "      <td>New</td>\n",
       "      <td>playstation2</td>\n",
       "      <td>0.45</td>\n",
       "    </tr>\n",
       "    <tr>\n",
       "      <th>37</th>\n",
       "      <td>New</td>\n",
       "      <td>playstation3</td>\n",
       "      <td>445.57</td>\n",
       "    </tr>\n",
       "    <tr>\n",
       "      <th>38</th>\n",
       "      <td>New</td>\n",
       "      <td>playstation4</td>\n",
       "      <td>314.14</td>\n",
       "    </tr>\n",
       "    <tr>\n",
       "      <th>39</th>\n",
       "      <td>New</td>\n",
       "      <td>psp</td>\n",
       "      <td>29.01</td>\n",
       "    </tr>\n",
       "    <tr>\n",
       "      <th>40</th>\n",
       "      <td>New</td>\n",
       "      <td>psv</td>\n",
       "      <td>53.81</td>\n",
       "    </tr>\n",
       "    <tr>\n",
       "      <th>41</th>\n",
       "      <td>New</td>\n",
       "      <td>wii</td>\n",
       "      <td>95.02</td>\n",
       "    </tr>\n",
       "    <tr>\n",
       "      <th>42</th>\n",
       "      <td>New</td>\n",
       "      <td>wiiu</td>\n",
       "      <td>82.19</td>\n",
       "    </tr>\n",
       "    <tr>\n",
       "      <th>43</th>\n",
       "      <td>New</td>\n",
       "      <td>x360</td>\n",
       "      <td>380.38</td>\n",
       "    </tr>\n",
       "    <tr>\n",
       "      <th>44</th>\n",
       "      <td>New</td>\n",
       "      <td>xone</td>\n",
       "      <td>159.32</td>\n",
       "    </tr>\n",
       "    <tr>\n",
       "      <th>45</th>\n",
       "      <td>Unknown</td>\n",
       "      <td>2600</td>\n",
       "      <td>10.50</td>\n",
       "    </tr>\n",
       "    <tr>\n",
       "      <th>46</th>\n",
       "      <td>Unknown</td>\n",
       "      <td>gb</td>\n",
       "      <td>1.03</td>\n",
       "    </tr>\n",
       "    <tr>\n",
       "      <th>47</th>\n",
       "      <td>Unknown</td>\n",
       "      <td>gba</td>\n",
       "      <td>4.97</td>\n",
       "    </tr>\n",
       "    <tr>\n",
       "      <th>48</th>\n",
       "      <td>Unknown</td>\n",
       "      <td>gc</td>\n",
       "      <td>2.20</td>\n",
       "    </tr>\n",
       "    <tr>\n",
       "      <th>49</th>\n",
       "      <td>Unknown</td>\n",
       "      <td>n64</td>\n",
       "      <td>0.67</td>\n",
       "    </tr>\n",
       "    <tr>\n",
       "      <th>50</th>\n",
       "      <td>Unknown</td>\n",
       "      <td>nintendo3ds</td>\n",
       "      <td>1.19</td>\n",
       "    </tr>\n",
       "    <tr>\n",
       "      <th>51</th>\n",
       "      <td>Unknown</td>\n",
       "      <td>nintendods</td>\n",
       "      <td>3.34</td>\n",
       "    </tr>\n",
       "    <tr>\n",
       "      <th>52</th>\n",
       "      <td>Unknown</td>\n",
       "      <td>pc</td>\n",
       "      <td>3.76</td>\n",
       "    </tr>\n",
       "    <tr>\n",
       "      <th>53</th>\n",
       "      <td>Unknown</td>\n",
       "      <td>playstation</td>\n",
       "      <td>3.28</td>\n",
       "    </tr>\n",
       "    <tr>\n",
       "      <th>54</th>\n",
       "      <td>Unknown</td>\n",
       "      <td>playstation2</td>\n",
       "      <td>22.21</td>\n",
       "    </tr>\n",
       "    <tr>\n",
       "      <th>55</th>\n",
       "      <td>Unknown</td>\n",
       "      <td>playstation3</td>\n",
       "      <td>8.31</td>\n",
       "    </tr>\n",
       "    <tr>\n",
       "      <th>56</th>\n",
       "      <td>Unknown</td>\n",
       "      <td>psp</td>\n",
       "      <td>4.52</td>\n",
       "    </tr>\n",
       "    <tr>\n",
       "      <th>57</th>\n",
       "      <td>Unknown</td>\n",
       "      <td>psv</td>\n",
       "      <td>0.26</td>\n",
       "    </tr>\n",
       "    <tr>\n",
       "      <th>58</th>\n",
       "      <td>Unknown</td>\n",
       "      <td>wii</td>\n",
       "      <td>16.33</td>\n",
       "    </tr>\n",
       "    <tr>\n",
       "      <th>59</th>\n",
       "      <td>Unknown</td>\n",
       "      <td>x360</td>\n",
       "      <td>10.18</td>\n",
       "    </tr>\n",
       "  </tbody>\n",
       "</table>\n",
       "</div>"
      ],
      "text/plain": [
       "   time_period       platform  total_sales\n",
       "0      Classic           2600        86.48\n",
       "1      Classic            3do         0.10\n",
       "2      Classic             gb       118.13\n",
       "3      Classic            gen        30.77\n",
       "4      Classic             gg         0.04\n",
       "5      Classic            nes       251.05\n",
       "6      Classic             ng         1.34\n",
       "7      Classic     nintendods         0.02\n",
       "8      Classic             pc        20.19\n",
       "9      Classic    playstation        41.99\n",
       "10     Classic            sat        15.22\n",
       "11     Classic            scd         1.86\n",
       "12     Classic  supernintendo       182.65\n",
       "13     Classic           tg16         0.16\n",
       "14      Modern             dc        15.95\n",
       "15      Modern             gb       136.30\n",
       "16      Modern            gba       312.88\n",
       "17      Modern             gc       196.73\n",
       "18      Modern            n64       218.01\n",
       "19      Modern             ng         0.10\n",
       "20      Modern     nintendods       764.03\n",
       "21      Modern             pc       137.89\n",
       "22      Modern           pcfx         0.03\n",
       "23      Modern    playstation       685.59\n",
       "24      Modern   playstation2      1233.11\n",
       "25      Modern   playstation3       485.77\n",
       "26      Modern            psp       260.52\n",
       "27      Modern            sat        18.37\n",
       "28      Modern  supernintendo        17.39\n",
       "29      Modern            wii       796.16\n",
       "30      Modern             ws         1.42\n",
       "31      Modern           x360       580.86\n",
       "32      Modern           xbox       251.57\n",
       "33         New    nintendo3ds       257.81\n",
       "34         New     nintendods        38.73\n",
       "35         New             pc        97.68\n",
       "36         New   playstation2         0.45\n",
       "37         New   playstation3       445.57\n",
       "38         New   playstation4       314.14\n",
       "39         New            psp        29.01\n",
       "40         New            psv        53.81\n",
       "41         New            wii        95.02\n",
       "42         New           wiiu        82.19\n",
       "43         New           x360       380.38\n",
       "44         New           xone       159.32\n",
       "45     Unknown           2600        10.50\n",
       "46     Unknown             gb         1.03\n",
       "47     Unknown            gba         4.97\n",
       "48     Unknown             gc         2.20\n",
       "49     Unknown            n64         0.67\n",
       "50     Unknown    nintendo3ds         1.19\n",
       "51     Unknown     nintendods         3.34\n",
       "52     Unknown             pc         3.76\n",
       "53     Unknown    playstation         3.28\n",
       "54     Unknown   playstation2        22.21\n",
       "55     Unknown   playstation3         8.31\n",
       "56     Unknown            psp         4.52\n",
       "57     Unknown            psv         0.26\n",
       "58     Unknown            wii        16.33\n",
       "59     Unknown           x360        10.18"
      ]
     },
     "metadata": {},
     "output_type": "display_data"
    }
   ],
   "source": [
    "def categorize_time_period(year):\n",
    "    if pd.isna(year):  \n",
    "        return 'Unknown'\n",
    "    elif year <= 1995:\n",
    "        return 'Classic'\n",
    "    elif 1996 <= year <= 2010:\n",
    "        return 'Modern'\n",
    "    else:\n",
    "        return 'New'\n",
    "    \n",
    "df['time_period'] = df['year_of_release'].apply(categorize_time_period)\n",
    "sales_columns = ['na_sales', 'eu_sales', 'jp_sales', 'other_sales']\n",
    "df['total_sales'] = df[sales_columns].sum(axis=1)\n",
    "sales_summary = df.groupby(['time_period', 'platform'])['total_sales'].sum().reset_index()\n",
    "total_sales_by_period = df.groupby('time_period')['total_sales'].sum()\n",
    "\n",
    "print(\"Game Total Sales by Time Period:\")\n",
    "print(total_sales_by_period)\n",
    "\n",
    "print(\"\\n Total Sales by Platform within Each Time Period:\")\n",
    "display(sales_summary.head(60))"
   ]
  },
  {
   "cell_type": "code",
   "execution_count": 13,
   "metadata": {
    "scrolled": true
   },
   "outputs": [
    {
     "data": {
      "text/html": [
       "<div>\n",
       "<style scoped>\n",
       "    .dataframe tbody tr th:only-of-type {\n",
       "        vertical-align: middle;\n",
       "    }\n",
       "\n",
       "    .dataframe tbody tr th {\n",
       "        vertical-align: top;\n",
       "    }\n",
       "\n",
       "    .dataframe thead th {\n",
       "        text-align: right;\n",
       "    }\n",
       "</style>\n",
       "<table border=\"1\" class=\"dataframe\">\n",
       "  <thead>\n",
       "    <tr style=\"text-align: right;\">\n",
       "      <th></th>\n",
       "      <th>name</th>\n",
       "      <th>platform</th>\n",
       "      <th>year_of_release</th>\n",
       "      <th>genre</th>\n",
       "      <th>na_sales</th>\n",
       "      <th>eu_sales</th>\n",
       "      <th>jp_sales</th>\n",
       "      <th>other_sales</th>\n",
       "      <th>critic_score</th>\n",
       "      <th>user_score</th>\n",
       "      <th>rating</th>\n",
       "      <th>total_sales</th>\n",
       "      <th>time_period</th>\n",
       "    </tr>\n",
       "  </thead>\n",
       "  <tbody>\n",
       "    <tr>\n",
       "      <th>16</th>\n",
       "      <td>grand theft auto v</td>\n",
       "      <td>playstation3</td>\n",
       "      <td>2013.0</td>\n",
       "      <td>action</td>\n",
       "      <td>7.02</td>\n",
       "      <td>9.09</td>\n",
       "      <td>0.98</td>\n",
       "      <td>3.96</td>\n",
       "      <td>97.0</td>\n",
       "      <td>8.2</td>\n",
       "      <td>m</td>\n",
       "      <td>21.05</td>\n",
       "      <td>New</td>\n",
       "    </tr>\n",
       "    <tr>\n",
       "      <th>23</th>\n",
       "      <td>grand theft auto v</td>\n",
       "      <td>x360</td>\n",
       "      <td>2013.0</td>\n",
       "      <td>action</td>\n",
       "      <td>9.66</td>\n",
       "      <td>5.14</td>\n",
       "      <td>0.06</td>\n",
       "      <td>1.41</td>\n",
       "      <td>97.0</td>\n",
       "      <td>8.1</td>\n",
       "      <td>m</td>\n",
       "      <td>16.27</td>\n",
       "      <td>New</td>\n",
       "    </tr>\n",
       "    <tr>\n",
       "      <th>31</th>\n",
       "      <td>call of duty: black ops 3</td>\n",
       "      <td>playstation4</td>\n",
       "      <td>2015.0</td>\n",
       "      <td>shooter</td>\n",
       "      <td>6.03</td>\n",
       "      <td>5.86</td>\n",
       "      <td>0.36</td>\n",
       "      <td>2.38</td>\n",
       "      <td>NaN</td>\n",
       "      <td>NaN</td>\n",
       "      <td>nan</td>\n",
       "      <td>14.63</td>\n",
       "      <td>New</td>\n",
       "    </tr>\n",
       "    <tr>\n",
       "      <th>33</th>\n",
       "      <td>pokemon x/pokemon y</td>\n",
       "      <td>nintendo3ds</td>\n",
       "      <td>2013.0</td>\n",
       "      <td>role-playing</td>\n",
       "      <td>5.28</td>\n",
       "      <td>4.19</td>\n",
       "      <td>4.35</td>\n",
       "      <td>0.78</td>\n",
       "      <td>NaN</td>\n",
       "      <td>NaN</td>\n",
       "      <td>nan</td>\n",
       "      <td>14.60</td>\n",
       "      <td>New</td>\n",
       "    </tr>\n",
       "    <tr>\n",
       "      <th>42</th>\n",
       "      <td>grand theft auto v</td>\n",
       "      <td>playstation4</td>\n",
       "      <td>2014.0</td>\n",
       "      <td>action</td>\n",
       "      <td>3.96</td>\n",
       "      <td>6.31</td>\n",
       "      <td>0.38</td>\n",
       "      <td>1.97</td>\n",
       "      <td>97.0</td>\n",
       "      <td>8.3</td>\n",
       "      <td>m</td>\n",
       "      <td>12.62</td>\n",
       "      <td>New</td>\n",
       "    </tr>\n",
       "    <tr>\n",
       "      <th>...</th>\n",
       "      <td>...</td>\n",
       "      <td>...</td>\n",
       "      <td>...</td>\n",
       "      <td>...</td>\n",
       "      <td>...</td>\n",
       "      <td>...</td>\n",
       "      <td>...</td>\n",
       "      <td>...</td>\n",
       "      <td>...</td>\n",
       "      <td>...</td>\n",
       "      <td>...</td>\n",
       "      <td>...</td>\n",
       "      <td>...</td>\n",
       "    </tr>\n",
       "    <tr>\n",
       "      <th>16703</th>\n",
       "      <td>strawberry nauts</td>\n",
       "      <td>psv</td>\n",
       "      <td>2016.0</td>\n",
       "      <td>adventure</td>\n",
       "      <td>0.00</td>\n",
       "      <td>0.00</td>\n",
       "      <td>0.01</td>\n",
       "      <td>0.00</td>\n",
       "      <td>NaN</td>\n",
       "      <td>NaN</td>\n",
       "      <td>nan</td>\n",
       "      <td>0.01</td>\n",
       "      <td>New</td>\n",
       "    </tr>\n",
       "    <tr>\n",
       "      <th>16707</th>\n",
       "      <td>aiyoku no eustia</td>\n",
       "      <td>psv</td>\n",
       "      <td>2014.0</td>\n",
       "      <td>misc</td>\n",
       "      <td>0.00</td>\n",
       "      <td>0.00</td>\n",
       "      <td>0.01</td>\n",
       "      <td>0.00</td>\n",
       "      <td>NaN</td>\n",
       "      <td>NaN</td>\n",
       "      <td>nan</td>\n",
       "      <td>0.01</td>\n",
       "      <td>New</td>\n",
       "    </tr>\n",
       "    <tr>\n",
       "      <th>16710</th>\n",
       "      <td>samurai warriors: sanada maru</td>\n",
       "      <td>playstation3</td>\n",
       "      <td>2016.0</td>\n",
       "      <td>action</td>\n",
       "      <td>0.00</td>\n",
       "      <td>0.00</td>\n",
       "      <td>0.01</td>\n",
       "      <td>0.00</td>\n",
       "      <td>NaN</td>\n",
       "      <td>NaN</td>\n",
       "      <td>nan</td>\n",
       "      <td>0.01</td>\n",
       "      <td>New</td>\n",
       "    </tr>\n",
       "    <tr>\n",
       "      <th>16712</th>\n",
       "      <td>haitaka no psychedelica</td>\n",
       "      <td>psv</td>\n",
       "      <td>2016.0</td>\n",
       "      <td>adventure</td>\n",
       "      <td>0.00</td>\n",
       "      <td>0.00</td>\n",
       "      <td>0.01</td>\n",
       "      <td>0.00</td>\n",
       "      <td>NaN</td>\n",
       "      <td>NaN</td>\n",
       "      <td>nan</td>\n",
       "      <td>0.01</td>\n",
       "      <td>New</td>\n",
       "    </tr>\n",
       "    <tr>\n",
       "      <th>16714</th>\n",
       "      <td>winning post 8 2016</td>\n",
       "      <td>psv</td>\n",
       "      <td>2016.0</td>\n",
       "      <td>simulation</td>\n",
       "      <td>0.00</td>\n",
       "      <td>0.00</td>\n",
       "      <td>0.01</td>\n",
       "      <td>0.00</td>\n",
       "      <td>NaN</td>\n",
       "      <td>NaN</td>\n",
       "      <td>nan</td>\n",
       "      <td>0.01</td>\n",
       "      <td>New</td>\n",
       "    </tr>\n",
       "  </tbody>\n",
       "</table>\n",
       "<p>2233 rows × 13 columns</p>\n",
       "</div>"
      ],
      "text/plain": [
       "                                name      platform  year_of_release  \\\n",
       "16                grand theft auto v  playstation3           2013.0   \n",
       "23                grand theft auto v          x360           2013.0   \n",
       "31         call of duty: black ops 3  playstation4           2015.0   \n",
       "33               pokemon x/pokemon y   nintendo3ds           2013.0   \n",
       "42                grand theft auto v  playstation4           2014.0   \n",
       "...                              ...           ...              ...   \n",
       "16703               strawberry nauts           psv           2016.0   \n",
       "16707               aiyoku no eustia           psv           2014.0   \n",
       "16710  samurai warriors: sanada maru  playstation3           2016.0   \n",
       "16712        haitaka no psychedelica           psv           2016.0   \n",
       "16714            winning post 8 2016           psv           2016.0   \n",
       "\n",
       "              genre  na_sales  eu_sales  jp_sales  other_sales  critic_score  \\\n",
       "16           action      7.02      9.09      0.98         3.96          97.0   \n",
       "23           action      9.66      5.14      0.06         1.41          97.0   \n",
       "31          shooter      6.03      5.86      0.36         2.38           NaN   \n",
       "33     role-playing      5.28      4.19      4.35         0.78           NaN   \n",
       "42           action      3.96      6.31      0.38         1.97          97.0   \n",
       "...             ...       ...       ...       ...          ...           ...   \n",
       "16703     adventure      0.00      0.00      0.01         0.00           NaN   \n",
       "16707          misc      0.00      0.00      0.01         0.00           NaN   \n",
       "16710        action      0.00      0.00      0.01         0.00           NaN   \n",
       "16712     adventure      0.00      0.00      0.01         0.00           NaN   \n",
       "16714    simulation      0.00      0.00      0.01         0.00           NaN   \n",
       "\n",
       "       user_score rating  total_sales time_period  \n",
       "16            8.2      m        21.05         New  \n",
       "23            8.1      m        16.27         New  \n",
       "31            NaN    nan        14.63         New  \n",
       "33            NaN    nan        14.60         New  \n",
       "42            8.3      m        12.62         New  \n",
       "...           ...    ...          ...         ...  \n",
       "16703         NaN    nan         0.01         New  \n",
       "16707         NaN    nan         0.01         New  \n",
       "16710         NaN    nan         0.01         New  \n",
       "16712         NaN    nan         0.01         New  \n",
       "16714         NaN    nan         0.01         New  \n",
       "\n",
       "[2233 rows x 13 columns]"
      ]
     },
     "metadata": {},
     "output_type": "display_data"
    }
   ],
   "source": [
    "filtered_df = df[(df['year_of_release'] >= 2013) & (df['year_of_release'] <= 2016)]\n",
    "\n",
    "display(filtered_df)\n"
   ]
  },
  {
   "cell_type": "markdown",
   "metadata": {},
   "source": [
    "As we can tell from the above data something happens between the 'Modern' and the 'New' time periods, game sales dropped drastically! Even if we were to take the 98 million in sales that are unknown and add it to 'New'. Moving forward in this analysis im going to focus on the 2013 through 2016 range so we can prep for the up coming 2017 year to see if we can do a few things. 1, see if we can raise the numbers from this time period and increase over all sales through marketing. 2, to see which market is going to be best to put our advertising dollars toward in order to get the best ROI and possibly lay the foundation for future growth in all other markets."
   ]
  },
  {
   "cell_type": "markdown",
   "metadata": {},
   "source": [
    "<div class=\"alert alert-block alert-danger\">\n",
    "<b>Reviewer's comment v1:</b>\n",
    "\n",
    "Could you please create graphs to answer the following questions: \n",
    "    \n",
    "- Look at how many games were released in different years. Is the data for every period significant?\n",
    "- Look at how sales varied from platform to platform. Choose the platforms with the greatest total sales and build a distribution based on data for each year. Find platforms that used to be popular but now have zero sales. How long does it generally take for new platforms to appear and old ones to fade?"
   ]
  },
  {
   "cell_type": "markdown",
   "metadata": {},
   "source": [
    "<div class=\"alert alert-info\"> <b>Student comments:</b> out of curiosity sake, at this point in the project we have been instructed to disregard all data beside the data that will help us analyse to see where the advertising campaign should be. I am more then happy to write that code, that being said I was trying to stick to the relevant information needed to solving the companies problem vs overwhelming them. I hope what I am asking makes sense. I am just trying to give them a pizza vs a 17 course meal that isnt needed if that makes sense."
   ]
  },
  {
   "cell_type": "markdown",
   "metadata": {},
   "source": [
    "<div class=\"alert alert-block alert-danger\">\n",
    "<b>Reviewer's comment v2:</b>\n",
    "\n",
    "I totally get your approach—you want to keep things focused and avoid unnecessary complexity. However, without checking these steps, it won’t be clear to the reader why certain decisions were made or why this specific period was chosen. These graphs can provide context and justify the selection of relevant data, making the final analysis more compelling and well-supported."
   ]
  },
  {
   "cell_type": "raw",
   "metadata": {},
   "source": [
    "<div class=\"alert alert-info\"> <b>Student comments:</b> graphs have been added!"
   ]
  },
  {
   "cell_type": "code",
   "execution_count": 14,
   "metadata": {
    "scrolled": true
   },
   "outputs": [
    {
     "data": {
      "image/png": "[encoded data removed]",
      "text/plain": [
       "<Figure size 800x500 with 1 Axes>"
      ]
     },
     "metadata": {},
     "output_type": "display_data"
    },
    {
     "data": {
      "image/png": "[encoded data removed]",
      "text/plain": [
       "<Figure size 1200x600 with 1 Axes>"
      ]
     },
     "metadata": {},
     "output_type": "display_data"
    }
   ],
   "source": [
    "df = df.dropna(subset=[\"year_of_release\"])\n",
    "\n",
    "df[\"year_of_release\"] = df[\"year_of_release\"].astype(int)\n",
    "\n",
    "df[\"time_period\"] = pd.cut(\n",
    "    df[\"year_of_release\"],\n",
    "    bins=[0, 1999, 2012, df[\"year_of_release\"].max()],  \n",
    "    labels=[\"Classic\", \"Modern\", \"New\"],  \n",
    "    right=True\n",
    ")\n",
    "\n",
    "games_per_category = df[\"time_period\"].value_counts()\n",
    "\n",
    "plt.figure(figsize=(8, 5))\n",
    "games_per_category.plot(kind=\"bar\", color=[\"blue\", \"green\", \"red\"])\n",
    "\n",
    "plt.title(\"Number of Games Released by Category\")\n",
    "plt.xlabel(\"Release Category\")\n",
    "plt.ylabel(\"Number of Games\")\n",
    "plt.xticks(rotation=0)\n",
    "plt.grid(axis=\"y\", linestyle=\"--\", alpha=0.7)\n",
    "\n",
    "plt.show()\n",
    "\n",
    "df[\"total_sales\"] = df[[\"na_sales\", \"eu_sales\", \"jp_sales\", \"other_sales\"]].sum(axis=1)\n",
    "sales_by_platform_period = df.groupby([\"time_period\", \"platform\"])[\"total_sales\"].sum().unstack()\n",
    "\n",
    "sales_by_platform_period.T.plot(kind=\"bar\", figsize=(12, 6), colormap=\"viridis\")\n",
    "\n",
    "plt.title(\"Total Sales on All Platforms by Time Period\")\n",
    "plt.xlabel(\"Platform\")\n",
    "plt.ylabel(\"Total Sales (Millions)\")\n",
    "plt.xticks(rotation=45)\n",
    "plt.legend(title=\"Time Period\")\n",
    "plt.grid(axis=\"y\", linestyle=\"--\", alpha=0.7)\n",
    "\n",
    "plt.show()"
   ]
  },
  {
   "cell_type": "markdown",
   "metadata": {},
   "source": [
    "Interestingly enough it looks like in the 'Modern' time period there were more games released then in both the 'Classic' and 'New' time periods combind. 'Modern' was absolutely the prime of video games! With this marketing campagin we can hopefully add to the 'New' catergory and have more games come out and keep the gaming scene alive!\n"
   ]
  },
  {
   "cell_type": "code",
   "execution_count": 15,
   "metadata": {},
   "outputs": [
    {
     "name": "stdout",
     "output_type": "stream",
     "text": [
      "North America Sales:\n",
      " platform\n",
      "nintendo3ds      38.20\n",
      "nintendods        0.57\n",
      "pc               11.11\n",
      "playstation3     63.50\n",
      "playstation4    108.74\n",
      "psp               0.00\n",
      "psv               5.04\n",
      "wii               6.56\n",
      "wiiu             29.21\n",
      "x360             81.66\n",
      "xone             93.12\n",
      "Name: na_sales, dtype: float64\n",
      "Europe Sales:\n",
      " platform\n",
      "nintendo3ds      30.96\n",
      "nintendods        0.85\n",
      "pc               25.36\n",
      "playstation3     67.81\n",
      "playstation4    141.09\n",
      "psp               0.17\n",
      "psv               6.10\n",
      "wii               5.93\n",
      "wiiu             19.85\n",
      "x360             42.52\n",
      "xone             51.59\n",
      "Name: eu_sales, dtype: float64\n",
      "Japan Sales:\n",
      " platform\n",
      "nintendo3ds     67.81\n",
      "nintendods       0.00\n",
      "pc               0.00\n",
      "playstation3    23.35\n",
      "playstation4    15.96\n",
      "psp              3.29\n",
      "psv             18.59\n",
      "wii              0.05\n",
      "wiiu            10.88\n",
      "x360             0.51\n",
      "xone             0.34\n",
      "Name: jp_sales, dtype: float64\n",
      "Other Sales:\n",
      " platform\n",
      "nintendo3ds      6.28\n",
      "nintendods       0.12\n",
      "pc               2.96\n",
      "playstation3    26.77\n",
      "playstation4    48.35\n",
      "psp              0.04\n",
      "psv              3.26\n",
      "wii              1.12\n",
      "wiiu             4.69\n",
      "x360            12.11\n",
      "xone            14.27\n",
      "Name: other_sales, dtype: float64\n"
     ]
    }
   ],
   "source": [
    "filtered_df = df[(df[\"year_of_release\"] >= 2013) & (df[\"year_of_release\"] <= 2016)]\n",
    "\n",
    "sales_by_platform_filtered = filtered_df.groupby(\"platform\")[[\"na_sales\", \"eu_sales\", \"jp_sales\", \"other_sales\"]].sum()\n",
    "\n",
    "na_sales = sales_by_platform_filtered[\"na_sales\"]\n",
    "eu_sales = sales_by_platform_filtered[\"eu_sales\"]\n",
    "jp_sales = sales_by_platform_filtered[\"jp_sales\"]\n",
    "other_sales = sales_by_platform_filtered[\"other_sales\"]\n",
    "\n",
    "print(\"North America Sales:\\n\", na_sales)\n",
    "print(\"Europe Sales:\\n\", eu_sales)\n",
    "print(\"Japan Sales:\\n\", jp_sales)\n",
    "print(\"Other Sales:\\n\", other_sales)"
   ]
  },
  {
   "cell_type": "markdown",
   "metadata": {},
   "source": [
    "<div class=\"alert alert-block alert-success\">\n",
    "<b>Reviewer's comment v1</b>\n",
    " \n",
    "Everything is correct and data has been filtered correctly, as we want to evaluate only recent trends. "
   ]
  },
  {
   "cell_type": "code",
   "execution_count": 16,
   "metadata": {
    "scrolled": true
   },
   "outputs": [
    {
     "data": {
      "text/plain": [
       "<Figure size 1200x600 with 0 Axes>"
      ]
     },
     "metadata": {},
     "output_type": "display_data"
    },
    {
     "data": {
      "image/png": "[encoded data removed]",
      "text/plain": [
       "<Figure size 1200x600 with 1 Axes>"
      ]
     },
     "metadata": {},
     "output_type": "display_data"
    }
   ],
   "source": [
    "filtered_df = df[(df[\"year_of_release\"] >= 2013) & (df[\"year_of_release\"] <= 2016)]\n",
    "\n",
    "sales_by_platform_filtered = filtered_df.groupby(\"platform\")[[\"na_sales\", \"eu_sales\", \"jp_sales\", \"other_sales\"]].sum()\n",
    "\n",
    "plt.figure(figsize=(12, 6))\n",
    "sales_by_platform_filtered.plot(kind=\"bar\", stacked=True, figsize=(12, 6), colormap=\"viridis\")\n",
    "plt.title(\"Total Global Sales by Platform (2013-2016, Broken Down by Region)\")\n",
    "plt.xlabel(\"Platform\")\n",
    "plt.ylabel(\"Total Sales (in Millions)\")\n",
    "plt.legend(title=\"Region\")\n",
    "plt.xticks(rotation=45)\n",
    "plt.grid(axis=\"y\", linestyle=\"--\", alpha=0.7)\n",
    "\n",
    "plt.show()"
   ]
  },
  {
   "cell_type": "markdown",
   "metadata": {},
   "source": [
    "The above box plot shows us the total global sales all while breaking things up into the four different regions. This is very great information in our quest to find where we need to be putting our advertising dollars not only from a platform stance but also in a sales area way as well. Obviously, Playstation4 is our biggest seller out of all platforms. Something that is interesting to me is that after the top 5 platforms we drop roughly 100 million dollars in sales and it fades away with each platform there after. I wouldn't recommend spending much money on any of those six platforms. It is also interesting to me that in our top five platforms it is incredibly clear that our Japan market favors Playstation and even more Nintendo. We could potentially look at allocating funds in different distributions as to help grow the markets for those platforms vs Xbox."
   ]
  },
  {
   "cell_type": "code",
   "execution_count": 17,
   "metadata": {},
   "outputs": [
    {
     "data": {
      "image/png": "[encoded data removed]",
      "text/plain": [
       "<Figure size 1000x600 with 2 Axes>"
      ]
     },
     "metadata": {},
     "output_type": "display_data"
    }
   ],
   "source": [
    "ps4_df = df[(df[\"platform\"] == \"playstation4\") & (df[\"year_of_release\"] >= 2013) & (df[\"year_of_release\"] <= 2016)].copy()\n",
    "ps4_df.loc[:,\"user_score\"] = pd.to_numeric(ps4_df[\"user_score\"], errors=\"coerce\")\n",
    "ps4_df = ps4_df.dropna(subset=[\"user_score\", \"critic_score\", \"na_sales\", \"eu_sales\", \"jp_sales\", \"other_sales\"])\n",
    "ps4_df[\"total_sales\"] = ps4_df[\"na_sales\"] + ps4_df[\"eu_sales\"] + ps4_df[\"jp_sales\"] + ps4_df[\"other_sales\"]\n",
    "\n",
    "\n",
    "plt.figure(figsize=(10, 6))\n",
    "scatter = plt.scatter(ps4_df[\"critic_score\"], ps4_df[\"user_score\"], c=ps4_df[\"total_sales\"], cmap=\"coolwarm\", alpha=0.75)\n",
    "cbar = plt.colorbar(scatter)\n",
    "cbar.set_label(\"Total Sales (Millions)\")\n",
    "plt.title(\"User Score vs. Critic Score for PS4 (2013-2016) and Impact on Sales\")\n",
    "plt.xlabel(\"Critic Score\")\n",
    "plt.ylabel(\"User Score\")\n",
    "plt.grid(True, linestyle=\"--\", alpha=0.5)\n",
    "\n",
    "plt.show()"
   ]
  },
  {
   "cell_type": "markdown",
   "metadata": {},
   "source": [
    "I was expecting a much different result. The correlation between to users score and the critic score for the most part are close to each other. As we can tell from the data there is a positive correlation between the two. the part that is interesting to me is that most of the games that had high scores between both sets of scores have fewer sales then the top five games for total sales! One would assume that with higher scores from both the users and critics the higher the sales of that game however between the years of 2013 and 2016 that is not the case!"
   ]
  },
  {
   "cell_type": "code",
   "execution_count": 18,
   "metadata": {},
   "outputs": [
    {
     "data": {
      "image/png": "[encoded data removed]",
      "text/plain": [
       "<Figure size 1000x600 with 2 Axes>"
      ]
     },
     "metadata": {},
     "output_type": "display_data"
    }
   ],
   "source": [
    "xbox_one_df = df[(df[\"platform\"] == \"xone\") & (df[\"year_of_release\"] >= 2013) & (df[\"year_of_release\"] <= 2016)].copy()\n",
    "xbox_one_df[\"user_score\"] = pd.to_numeric(xbox_one_df[\"user_score\"], errors=\"coerce\")\n",
    "xbox_one_df = xbox_one_df.dropna(subset=[\"user_score\", \"critic_score\", \"na_sales\", \"eu_sales\", \"jp_sales\", \"other_sales\"])\n",
    "xbox_one_df[\"total_sales\"] = xbox_one_df[\"na_sales\"] + xbox_one_df[\"eu_sales\"] + xbox_one_df[\"jp_sales\"] + xbox_one_df[\"other_sales\"]\n",
    "\n",
    "plt.figure(figsize=(10, 6))\n",
    "scatter = plt.scatter(xbox_one_df[\"critic_score\"], xbox_one_df[\"user_score\"], c=xbox_one_df[\"total_sales\"], cmap=\"coolwarm\", alpha=0.75)\n",
    "cbar = plt.colorbar(scatter)\n",
    "cbar.set_label(\"Total Sales (Millions)\")\n",
    "plt.title(\"User Score vs. Critic Score for Xbox One (2013-2016) and Impact on Sales\")\n",
    "plt.xlabel(\"Critic Score\")\n",
    "plt.ylabel(\"User Score\")\n",
    "plt.grid(True, linestyle=\"--\", alpha=0.5)\n",
    "\n",
    "plt.show()"
   ]
  },
  {
   "cell_type": "markdown",
   "metadata": {},
   "source": [
    "<div class=\"alert alert-block alert-success\">\n",
    "<b>Reviewer's comment v1:</b>\n",
    "\n",
    "Well done! Very nice scatter plots.\n"
   ]
  },
  {
   "cell_type": "markdown",
   "metadata": {},
   "source": [
    "Intersetingly enough again when we switch the data from Playstation 4 to Xbox One, we have a positive correlation between both users and critics scores yet still a high volume of lower total sales. One difference between the two platforms is that the Xbox One has more higher selling games then the Playstation 4!"
   ]
  },
  {
   "cell_type": "code",
   "execution_count": 19,
   "metadata": {},
   "outputs": [
    {
     "data": {
      "image/png": "[encoded data removed]",
      "text/plain": [
       "<Figure size 1200x800 with 1 Axes>"
      ]
     },
     "metadata": {},
     "output_type": "display_data"
    },
    {
     "name": "stdout",
     "output_type": "stream",
     "text": [
      "genre\n",
      "action          0.519057\n",
      "adventure       0.180456\n",
      "fighting        0.528865\n",
      "misc            0.459204\n",
      "nan             1.210000\n",
      "platform        0.940262\n",
      "puzzle          0.421599\n",
      "racing          0.590122\n",
      "role-playing    0.628683\n",
      "shooter         0.803519\n",
      "simulation      0.452695\n",
      "sports          0.567940\n",
      "strategy        0.256419\n",
      "Name: total_sales, dtype: float64\n"
     ]
    }
   ],
   "source": [
    "df['total_sales'] = df[['na_sales', 'eu_sales', 'jp_sales', 'other_sales']].sum(axis=1)\n",
    "genre_sales = df.groupby('genre')['total_sales'].sum().sort_values(ascending=False)\n",
    "\n",
    "plt.figure(figsize=(12, 8))\n",
    "genre_sales.plot(kind='bar', color='skyblue', edgecolor='black')\n",
    "plt.title(\"Total Sales by Genre Across All Platforms\", fontsize=16)\n",
    "plt.xlabel(\"Genre\", fontsize=12)\n",
    "plt.ylabel(\"Total Sales (Millions)\", fontsize=12)\n",
    "plt.xticks(rotation=45, ha='right')\n",
    "plt.tight_layout()\n",
    "\n",
    "plt.show()\n",
    "\n",
    "df[\"total_sales\"] = df[[\"na_sales\", \"eu_sales\", \"jp_sales\", \"other_sales\"]].sum(axis=1)\n",
    "avg_revenue_by_genre = df.groupby(\"genre\")[\"total_sales\"].mean()\n",
    "\n",
    "print(avg_revenue_by_genre)"
   ]
  },
  {
   "cell_type": "markdown",
   "metadata": {},
   "source": [
    "<div class=\"alert alert-danger\">\n",
    "<b>Reviewer's comment v1:</b>\n",
    "\n",
    "Indeed here we have the most popular genre - Action (total revenue) but could you also check avg revenue per game/genre. \n"
   ]
  },
  {
   "cell_type": "markdown",
   "metadata": {},
   "source": [
    "<div class=\"alert alert-info\"> <b>Student comments:</b> I added the neccisary code to show the avg revenue per game above!"
   ]
  },
  {
   "cell_type": "markdown",
   "metadata": {},
   "source": [
    "<div class=\"alert alert-block alert-success\">\n",
    "<b>Reviewer's comment v2:</b>\n",
    "\n",
    "Great 👏 Thank you for extending this part. "
   ]
  },
  {
   "cell_type": "markdown",
   "metadata": {},
   "source": [
    "From the above graph we see that across all platforms, Action, Sports, and Shooter type games are billion dollar areas. This information will also help us decide where we want to put advertising dollars based on profit margins alone! I would recommend staying away from the lower grossing genres such as Puzzle, Adventure and Strategy as there is profit to be made just not nearly as much as our top three."
   ]
  },
  {
   "cell_type": "code",
   "execution_count": 20,
   "metadata": {},
   "outputs": [
    {
     "data": {
      "image/png": "[encoded data removed]",
      "text/plain": [
       "<Figure size 1800x600 with 3 Axes>"
      ]
     },
     "metadata": {},
     "output_type": "display_data"
    }
   ],
   "source": [
    "df_filtered = df[(df[\"year_of_release\"] >= 2013) & (df[\"year_of_release\"] <= 2016)]\n",
    "\n",
    "na_sales_top = df.groupby('platform')['na_sales'].sum().sort_values(ascending=False).head(5)\n",
    "eu_sales_top = df.groupby('platform')['eu_sales'].sum().sort_values(ascending=False).head(5)\n",
    "jp_sales_top = df.groupby('platform')['jp_sales'].sum().sort_values(ascending=False).head(5)\n",
    "\n",
    "fig, axes = plt.subplots(1, 3, figsize=(18, 6))\n",
    "\n",
    "na_sales_top.plot(kind='bar', color='skyblue', edgecolor='black', ax=axes[0])\n",
    "axes[0].set_title('Top 5 Platforms by NA Sales', fontsize=14)\n",
    "axes[0].set_xlabel('Platform', fontsize=12)\n",
    "axes[0].set_ylabel('NA Sales (Millions)', fontsize=12)\n",
    "axes[0].tick_params(axis='x', rotation=45)\n",
    "\n",
    "eu_sales_top.plot(kind='bar', color='salmon', edgecolor='black', ax=axes[1])\n",
    "axes[1].set_title('Top 5 Platforms by EU Sales', fontsize=14)\n",
    "axes[1].set_xlabel('Platform', fontsize=12)\n",
    "axes[1].set_ylabel('EU Sales (Millions)', fontsize=12)\n",
    "axes[1].tick_params(axis='x', rotation=45)\n",
    "\n",
    "jp_sales_top.plot(kind='bar', color='lightgreen', edgecolor='black', ax=axes[2])\n",
    "axes[2].set_title('Top 5 Platforms by JP Sales', fontsize=14)\n",
    "axes[2].set_xlabel('Platform', fontsize=12)\n",
    "axes[2].set_ylabel('JP Sales (Millions)', fontsize=12)\n",
    "axes[2].tick_params(axis='x', rotation=45)\n",
    "\n",
    "plt.tight_layout()\n",
    "plt.show()"
   ]
  },
  {
   "cell_type": "markdown",
   "metadata": {},
   "source": [
    "<div class=\"alert alert-success\">\n",
    "<b>Reviewer's comment v1:</b>\n",
    "\n",
    "Looks great! \n",
    "\n",
    "As a second approach you could also arrange subplots using plotly in the following way: \n",
    "    \n",
    "```\n",
    "# Create individual pie charts with Plotly Express\n",
    "fig_jp = px.pie(jpesrb_sort, values='jp_sales', names='rating', title='ESRB-JP')\n",
    "fig_eu = px.pie(euesrb_sort, values='eu_sales', names='rating', title='ESRB-EU')\n",
    "fig_na = px.pie(naesrb_sort, values='na_sales', names='rating', title='ESRB-NA')\n",
    "\n",
    "# Create a subplot grid with 1 row and 3 columns\n",
    "fig = make_subplots(rows=1, cols=3, specs=[[{'type':'domain'}, {'type':'domain'}, {'type':'domain'}]])\n",
    "\n",
    "# Add each pie chart to the subplot\n",
    "fig.add_trace(fig_jp.data[0], row=1, col=1)\n",
    "fig.add_trace(fig_eu.data[0], row=1, col=2)\n",
    "fig.add_trace(fig_na.data[0], row=1, col=3)\n",
    "\n",
    "# Update layout to show the titles properly\n",
    "fig.update_layout(title_text=\"ESRB Ratings Comparison\", showlegend=False)\n",
    "\n",
    "# Show the combined plot\n",
    "fig.show()\n",
    "```"
   ]
  },
  {
   "cell_type": "markdown",
   "metadata": {},
   "source": [
    "There appear to be a lot of differences in the purchase of gaming consoles based on sales region. America spends almost double of Europe and almost three times what japan does!! America's top three platforms are evenly split between Xbox, Playstation and Nintendo. Europe spends close to a billion on Playstation alone! An interesting point to make about the Japan market is that between all five of their top platforms, it is roughly only 80 million more then what America spent on the Xbox 360! America is where I feel we need to be focusing in on advertising dollars as they are the majority of dollars spent in the gaming world!"
   ]
  },
  {
   "cell_type": "code",
   "execution_count": 21,
   "metadata": {},
   "outputs": [
    {
     "data": {
      "text/plain": [
       "'\\nTop 5 Genres in NA Sales:\\n'"
      ]
     },
     "metadata": {},
     "output_type": "display_data"
    },
    {
     "name": "stdout",
     "output_type": "stream",
     "text": [
      "genre\n",
      "action      863.17\n",
      "sports      671.20\n",
      "shooter     584.83\n",
      "platform    444.44\n",
      "misc        399.57\n",
      "Name: na_sales, dtype: float64\n"
     ]
    },
    {
     "data": {
      "text/plain": [
       "'\\nTop 5 Genres in EU Sales:\\n'"
      ]
     },
     "metadata": {},
     "output_type": "display_data"
    },
    {
     "name": "stdout",
     "output_type": "stream",
     "text": [
      "genre\n",
      "action     510.99\n",
      "sports     371.33\n",
      "shooter    314.52\n",
      "racing     234.49\n",
      "misc       210.60\n",
      "Name: eu_sales, dtype: float64\n"
     ]
    },
    {
     "data": {
      "text/plain": [
       "'\\nTop 5 Genres in JP Sales:\\n'"
      ]
     },
     "metadata": {},
     "output_type": "display_data"
    },
    {
     "name": "stdout",
     "output_type": "stream",
     "text": [
      "genre\n",
      "role-playing    353.39\n",
      "action          160.14\n",
      "sports          134.93\n",
      "platform        130.71\n",
      "misc            107.02\n",
      "Name: jp_sales, dtype: float64\n"
     ]
    },
    {
     "data": {
      "text/plain": [
       "'\\nTop 5 Genres in OTHER Sales:\\n'"
      ]
     },
     "metadata": {},
     "output_type": "display_data"
    },
    {
     "name": "stdout",
     "output_type": "stream",
     "text": [
      "genre\n",
      "action     182.22\n",
      "sports     132.21\n",
      "shooter    103.33\n",
      "racing      75.51\n",
      "misc        73.10\n",
      "Name: other_sales, dtype: float64\n"
     ]
    }
   ],
   "source": [
    "sales_regions = [\"na_sales\", \"eu_sales\", \"jp_sales\", \"other_sales\"]\n",
    "top_genres = {}\n",
    "for region in sales_regions:\n",
    "    top_genres[region] = df.groupby(\"genre\")[region].sum().nlargest(5)\n",
    "\n",
    "for region, data in top_genres.items():\n",
    "    display(f\"\\nTop 5 Genres in {region.replace('_sales', '').upper()} Sales:\\n\")\n",
    "    print(data)"
   ]
  },
  {
   "cell_type": "code",
   "execution_count": 29,
   "metadata": {
    "scrolled": true
   },
   "outputs": [
    {
     "data": {
      "text/html": [
       "<div>\n",
       "<style scoped>\n",
       "    .dataframe tbody tr th:only-of-type {\n",
       "        vertical-align: middle;\n",
       "    }\n",
       "\n",
       "    .dataframe tbody tr th {\n",
       "        vertical-align: top;\n",
       "    }\n",
       "\n",
       "    .dataframe thead th {\n",
       "        text-align: right;\n",
       "    }\n",
       "</style>\n",
       "<table border=\"1\" class=\"dataframe\">\n",
       "  <thead>\n",
       "    <tr style=\"text-align: right;\">\n",
       "      <th></th>\n",
       "      <th>na_sales</th>\n",
       "      <th>eu_sales</th>\n",
       "      <th>jp_sales</th>\n",
       "    </tr>\n",
       "    <tr>\n",
       "      <th>rating</th>\n",
       "      <th></th>\n",
       "      <th></th>\n",
       "      <th></th>\n",
       "    </tr>\n",
       "  </thead>\n",
       "  <tbody>\n",
       "    <tr>\n",
       "      <th>ao</th>\n",
       "      <td>1.26</td>\n",
       "      <td>0.61</td>\n",
       "      <td>0.00</td>\n",
       "    </tr>\n",
       "    <tr>\n",
       "      <th>e</th>\n",
       "      <td>1274.24</td>\n",
       "      <td>703.87</td>\n",
       "      <td>197.96</td>\n",
       "    </tr>\n",
       "    <tr>\n",
       "      <th>e10+</th>\n",
       "      <td>345.50</td>\n",
       "      <td>183.35</td>\n",
       "      <td>40.20</td>\n",
       "    </tr>\n",
       "    <tr>\n",
       "      <th>ec</th>\n",
       "      <td>1.53</td>\n",
       "      <td>0.11</td>\n",
       "      <td>0.00</td>\n",
       "    </tr>\n",
       "    <tr>\n",
       "      <th>k-a</th>\n",
       "      <td>2.56</td>\n",
       "      <td>0.27</td>\n",
       "      <td>1.46</td>\n",
       "    </tr>\n",
       "    <tr>\n",
       "      <th>m</th>\n",
       "      <td>742.89</td>\n",
       "      <td>480.00</td>\n",
       "      <td>63.58</td>\n",
       "    </tr>\n",
       "    <tr>\n",
       "      <th>nan</th>\n",
       "      <td>1227.62</td>\n",
       "      <td>610.18</td>\n",
       "      <td>836.77</td>\n",
       "    </tr>\n",
       "    <tr>\n",
       "      <th>rp</th>\n",
       "      <td>0.00</td>\n",
       "      <td>0.03</td>\n",
       "      <td>0.00</td>\n",
       "    </tr>\n",
       "    <tr>\n",
       "      <th>t</th>\n",
       "      <td>747.60</td>\n",
       "      <td>421.79</td>\n",
       "      <td>150.70</td>\n",
       "    </tr>\n",
       "  </tbody>\n",
       "</table>\n",
       "</div>"
      ],
      "text/plain": [
       "        na_sales  eu_sales  jp_sales\n",
       "rating                              \n",
       "ao          1.26      0.61      0.00\n",
       "e        1274.24    703.87    197.96\n",
       "e10+      345.50    183.35     40.20\n",
       "ec          1.53      0.11      0.00\n",
       "k-a         2.56      0.27      1.46\n",
       "m         742.89    480.00     63.58\n",
       "nan      1227.62    610.18    836.77\n",
       "rp          0.00      0.03      0.00\n",
       "t         747.60    421.79    150.70"
      ]
     },
     "metadata": {},
     "output_type": "display_data"
    },
    {
     "data": {
      "text/html": [
       "<div>\n",
       "<style scoped>\n",
       "    .dataframe tbody tr th:only-of-type {\n",
       "        vertical-align: middle;\n",
       "    }\n",
       "\n",
       "    .dataframe tbody tr th {\n",
       "        vertical-align: top;\n",
       "    }\n",
       "\n",
       "    .dataframe thead th {\n",
       "        text-align: right;\n",
       "    }\n",
       "</style>\n",
       "<table border=\"1\" class=\"dataframe\">\n",
       "  <thead>\n",
       "    <tr style=\"text-align: right;\">\n",
       "      <th></th>\n",
       "      <th>na_sales</th>\n",
       "      <th>eu_sales</th>\n",
       "      <th>jp_sales</th>\n",
       "    </tr>\n",
       "    <tr>\n",
       "      <th>rating</th>\n",
       "      <th></th>\n",
       "      <th></th>\n",
       "      <th></th>\n",
       "    </tr>\n",
       "  </thead>\n",
       "  <tbody>\n",
       "    <tr>\n",
       "      <th>ao</th>\n",
       "      <td>1.260000</td>\n",
       "      <td>0.610000</td>\n",
       "      <td>0.000000</td>\n",
       "    </tr>\n",
       "    <tr>\n",
       "      <th>e</th>\n",
       "      <td>0.324978</td>\n",
       "      <td>0.179513</td>\n",
       "      <td>0.050487</td>\n",
       "    </tr>\n",
       "    <tr>\n",
       "      <th>e10+</th>\n",
       "      <td>0.248026</td>\n",
       "      <td>0.131622</td>\n",
       "      <td>0.028859</td>\n",
       "    </tr>\n",
       "    <tr>\n",
       "      <th>ec</th>\n",
       "      <td>0.191250</td>\n",
       "      <td>0.013750</td>\n",
       "      <td>0.000000</td>\n",
       "    </tr>\n",
       "    <tr>\n",
       "      <th>k-a</th>\n",
       "      <td>0.853333</td>\n",
       "      <td>0.090000</td>\n",
       "      <td>0.486667</td>\n",
       "    </tr>\n",
       "    <tr>\n",
       "      <th>m</th>\n",
       "      <td>0.483652</td>\n",
       "      <td>0.312500</td>\n",
       "      <td>0.041393</td>\n",
       "    </tr>\n",
       "    <tr>\n",
       "      <th>nan</th>\n",
       "      <td>0.183830</td>\n",
       "      <td>0.091372</td>\n",
       "      <td>0.125302</td>\n",
       "    </tr>\n",
       "    <tr>\n",
       "      <th>rp</th>\n",
       "      <td>0.000000</td>\n",
       "      <td>0.030000</td>\n",
       "      <td>0.000000</td>\n",
       "    </tr>\n",
       "    <tr>\n",
       "      <th>t</th>\n",
       "      <td>0.257349</td>\n",
       "      <td>0.145194</td>\n",
       "      <td>0.051876</td>\n",
       "    </tr>\n",
       "  </tbody>\n",
       "</table>\n",
       "</div>"
      ],
      "text/plain": [
       "        na_sales  eu_sales  jp_sales\n",
       "rating                              \n",
       "ao      1.260000  0.610000  0.000000\n",
       "e       0.324978  0.179513  0.050487\n",
       "e10+    0.248026  0.131622  0.028859\n",
       "ec      0.191250  0.013750  0.000000\n",
       "k-a     0.853333  0.090000  0.486667\n",
       "m       0.483652  0.312500  0.041393\n",
       "nan     0.183830  0.091372  0.125302\n",
       "rp      0.000000  0.030000  0.000000\n",
       "t       0.257349  0.145194  0.051876"
      ]
     },
     "metadata": {},
     "output_type": "display_data"
    },
    {
     "name": "stdout",
     "output_type": "stream",
     "text": [
      "0          e\n",
      "1        nan\n",
      "2          e\n",
      "3          e\n",
      "4        nan\n",
      "        ... \n",
      "16710    nan\n",
      "16711    nan\n",
      "16712    nan\n",
      "16713    nan\n",
      "16714    nan\n",
      "Name: rating, Length: 16446, dtype: object\n"
     ]
    }
   ],
   "source": [
    "esrb_sales = df.groupby('rating')[['na_sales', 'eu_sales', 'jp_sales']].sum()\n",
    "esrb_sales_mean = df.groupby('rating')[['na_sales', 'eu_sales', 'jp_sales']].mean()\n",
    "\n",
    "display(esrb_sales)\n",
    "display(esrb_sales_mean)\n",
    "df[\"rating\"].fillna(\"Unknown\", inplace=True)\n",
    "print(df.rating)"
   ]
  },
  {
   "cell_type": "markdown",
   "metadata": {},
   "source": [
    "It appears from the above tables that sales are effected by the ESRB Rating. In all three of our major sales regions, when looking between 'E' (Everyone), 'T' (Teen), and 'M' (Mature) sales drop a one third even up to half in those regions. Obviously this will be effected by numerous variables that we cant account for on a measurable scale. "
   ]
  },
  {
   "cell_type": "markdown",
   "metadata": {},
   "source": [
    "<div class=\"alert alert-block alert-danger\">\n",
    "<b>Reviewer's comment v1:</b>\n",
    "\n",
    "As you've noticed thare are a lot of unknowns in the rating column (that have been replced with Unknown), especially for Japan. Can you please add it also to the graph?\n",
    "\n",
    "I think it is a very important information in itself about the market and what rating system is used in this region."
   ]
  },
  {
   "cell_type": "markdown",
   "metadata": {},
   "source": [
    "<div class=\"alert alert-info\"> <b>Student comments:</b> which graph are we taking about so i can make the neccisary adjustments"
   ]
  },
  {
   "cell_type": "markdown",
   "metadata": {},
   "source": [
    "<div class=\"alert alert-block alert-danger\">\n",
    "<b>Reviewer's comment v2:</b>\n",
    "\n",
    "So, currently, you've created a plot only for the top five platforms. Could you please do the same for:\n",
    "    \n",
    "- The top five genres for each region.\n",
    "- ESRB ratings for each region (first replacing missing values in the Rating column with a placeholder, e.g., \"unknown,\" and then checking if certain regions have a higher number of unknowns)."
   ]
  },
  {
   "cell_type": "markdown",
   "metadata": {},
   "source": [
    "<div class=\"alert alert-block alert-danger\">\n",
    "<b>Reviewer's comment v1:</b>\n",
    "\n",
    "Сould you please formulate a null hypothesis and an alternative hypothesis for each question before actual testing in the markdown box: \n",
    "    \n",
    "    H0:\n",
    "    H1:"
   ]
  },
  {
   "cell_type": "markdown",
   "metadata": {},
   "source": [
    "<div class=\"alert alert-info\"> <b>Student comments:</b> Just to clarify I did do the null hypothesis near the bottom of the project. Or did you mean that you would like other null hypothesis done else where?"
   ]
  },
  {
   "cell_type": "markdown",
   "metadata": {},
   "source": [
    "<div class=\"alert alert-block alert-danger\">\n",
    "<b>Reviewer's comment v2:</b>\n",
    "\n",
    "Sure, for every statistical test, we need to state two hypotheses right before conducting the test:\n",
    "    \n",
    "- Null Hypothesis (H0) - states there is NO effect or NO relationship\n",
    "- Alternative Hypothesis (H1) - states there IS an effect or relationship\n",
    "    \n",
    "Having these stated upfront:\n",
    "- Makes your analytical thinking clear\n",
    "- Helps readers follow your logic\n",
    "- Shows what exactly you're testing\n",
    "- Makes your statistical conclusions stronger"
   ]
  },
  {
   "cell_type": "markdown",
   "metadata": {},
   "source": [
    "<div class=\"alert alert-info\"> <b>Student comments:</b> H1 has been added\n",
    "    "
   ]
  },
  {
   "cell_type": "code",
   "execution_count": 23,
   "metadata": {},
   "outputs": [
    {
     "name": "stdout",
     "output_type": "stream",
     "text": [
      "T-statistic: -4.38289526334195\n",
      "P-value: 1.3037979620149106e-05\n",
      "Reject the null hypothesis: There is a significant difference in average user scores between Xbox One and PC.\n"
     ]
    }
   ],
   "source": [
    "xone_user_scores = df[df['platform'] == 'xone']['user_score'].dropna()\n",
    "pc_user_scores = df[df['platform'] == 'pc']['user_score'].dropna()\n",
    "t_stat, p_value = stats.ttest_ind(xone_user_scores, pc_user_scores)\n",
    "\n",
    "print(f\"T-statistic: {t_stat}\")\n",
    "print(f\"P-value: {p_value}\")\n",
    "\n",
    "alpha = 0.05  \n",
    "if p_value < alpha:\n",
    "    print(\"Reject the null hypothesis: There is a significant difference in average user scores between Xbox One and PC.\")\n",
    "else:\n",
    "    print(\"Fail to reject the null hypothesis: There is no significant difference in average user scores between Xbox One and PC.\")"
   ]
  },
  {
   "cell_type": "code",
   "execution_count": 24,
   "metadata": {},
   "outputs": [
    {
     "name": "stdout",
     "output_type": "stream",
     "text": [
      "T-statistic: 1.8472797735322193\n",
      "P-value: 0.06480928064420527\n",
      "Fail to reject the null hypothesis: There is no significant difference in average user scores between Action and Sports games.\n"
     ]
    }
   ],
   "source": [
    "df['user_score'] = pd.to_numeric(df['user_score'], errors='coerce')\n",
    "\n",
    "action_games = df[df['genre'] == 'action']['user_score'].dropna()\n",
    "sports_games = df[df['genre'] == 'sports']['user_score'].dropna()\n",
    "\n",
    "t_stat, p_value = stats.ttest_ind(action_games, sports_games)\n",
    "\n",
    "print(f\"T-statistic: {t_stat}\")\n",
    "print(f\"P-value: {p_value}\")\n",
    "\n",
    "alpha = 0.05  \n",
    "if p_value < alpha:\n",
    "    print(\"Reject the null hypothesis: There is a significant difference in average user scores between Action and Sports games.\")\n",
    "else:\n",
    "    print(\"Fail to reject the null hypothesis: There is no significant difference in average user scores between Action and Sports games.\")"
   ]
  },
  {
   "cell_type": "markdown",
   "metadata": {},
   "source": [
    "In the two above hypothesis, I was looking to see if there were no noticable differences (5%) between user scores in Xbox One and PC which came back as false due to there being a very large difference (more then 5%) in those scores. Next I wanted to test if there was a major difference (more the 5%) between user scores for Action games and Sports games. I was unable to reject this hypothesis due to there being less than a 5% difference between user score of both genres of games. "
   ]
  },
  {
   "cell_type": "markdown",
   "metadata": {
    "scrolled": true
   },
   "source": [
    "Wow! What a lot of data we just went through! Now let's bring it full circle so that we can answer our begining question which was, Where do we spend money for our advertizing campagins? Not always a simple question but with the help from the information above I have come up with a few major take aways that can really help us hone in on some answers. First, our American region I our biggest spenders when it comes to gaming! They spent twice as much from 2013-2016 then our Eruopean region and they were only 80 million shy of spending more on one platform then all of our Japanese regions top five platforms! Second, our European region well over a billion dollars in their top 5 platforms. This would be a very easy market to spend a million or two for a very solid ROI. Finally, Japan should not be forgotten about. They did spend roughly around 680 million dollars between those four year! There is potential in all three of our major sales regions. To recap, First focus on the American region, Secondly, European region and last but not least maybe take some of the Nintendo ads to Japan as that was their number one platform."
   ]
  },
  {
   "cell_type": "markdown",
   "metadata": {},
   "source": [
    "<div class=\"alert alert-block alert-success\">\n",
    "<b>Reviewer's comment v1:</b>\n",
    "\n",
    "Thank you for submitting your project! I really enjoyed reviewing it and I impressed by the results that you have accomplished. \n",
    "    \n",
    "    \n",
    "It is great that you added both overall and interim  conclusions after each section in your project. \n",
    "    \n",
    "Overall, you provided correct and very detailed conclusions and insights based on your analysis.\n",
    "    \n",
    "\n"
   ]
  }
 ],
 "metadata": {
  "ExecuteTimeLog": [
   {
    "duration": 8,
    "start_time": "2025-02-09T07:18:56.526Z"
   },
   {
    "duration": 169,
    "start_time": "2025-02-09T07:19:08.031Z"
   },
   {
    "duration": 12,
    "start_time": "2025-02-09T07:19:17.484Z"
   },
   {
    "duration": 344,
    "start_time": "2025-02-09T07:19:20.235Z"
   },
   {
    "duration": 346,
    "start_time": "2025-02-09T07:19:27.858Z"
   },
   {
    "duration": 37,
    "start_time": "2025-02-09T07:19:28.206Z"
   },
   {
    "duration": 22,
    "start_time": "2025-02-09T07:19:31.303Z"
   },
   {
    "duration": 33,
    "start_time": "2025-02-09T07:20:08.670Z"
   },
   {
    "duration": 39,
    "start_time": "2025-02-09T07:20:21.841Z"
   },
   {
    "duration": 39,
    "start_time": "2025-02-09T07:28:38.269Z"
   },
   {
    "duration": 7,
    "start_time": "2025-02-09T07:29:40.034Z"
   },
   {
    "duration": 2,
    "start_time": "2025-02-09T07:29:43.130Z"
   },
   {
    "duration": 317,
    "start_time": "2025-02-09T07:29:49.594Z"
   },
   {
    "duration": 49,
    "start_time": "2025-02-09T07:29:49.914Z"
   },
   {
    "duration": 6,
    "start_time": "2025-02-09T07:29:49.964Z"
   },
   {
    "duration": 3,
    "start_time": "2025-02-09T07:30:34.956Z"
   },
   {
    "duration": 3,
    "start_time": "2025-02-09T07:30:51.651Z"
   },
   {
    "duration": 177,
    "start_time": "2025-02-09T07:32:13.847Z"
   },
   {
    "duration": 296,
    "start_time": "2025-02-09T07:32:41.221Z"
   },
   {
    "duration": 48,
    "start_time": "2025-02-09T07:32:41.519Z"
   },
   {
    "duration": 7,
    "start_time": "2025-02-09T07:32:41.568Z"
   },
   {
    "duration": 7,
    "start_time": "2025-02-09T07:32:55.694Z"
   },
   {
    "duration": 86,
    "start_time": "2025-02-09T07:34:20.452Z"
   },
   {
    "duration": 11,
    "start_time": "2025-02-09T07:34:39.469Z"
   },
   {
    "duration": 10,
    "start_time": "2025-02-09T07:34:49.736Z"
   },
   {
    "duration": 12,
    "start_time": "2025-02-09T07:35:42.315Z"
   },
   {
    "duration": 330,
    "start_time": "2025-02-09T07:37:28.568Z"
   },
   {
    "duration": 48,
    "start_time": "2025-02-09T07:37:28.900Z"
   },
   {
    "duration": 7,
    "start_time": "2025-02-09T07:37:28.949Z"
   },
   {
    "duration": 101,
    "start_time": "2025-02-09T07:37:28.957Z"
   },
   {
    "duration": 3,
    "start_time": "2025-02-09T07:37:53.360Z"
   },
   {
    "duration": 4,
    "start_time": "2025-02-09T07:38:05.381Z"
   },
   {
    "duration": 11,
    "start_time": "2025-02-09T07:38:14.391Z"
   },
   {
    "duration": 174,
    "start_time": "2025-02-09T18:59:28.283Z"
   },
   {
    "duration": 332,
    "start_time": "2025-02-09T18:59:40.055Z"
   },
   {
    "duration": 57,
    "start_time": "2025-02-09T18:59:40.389Z"
   },
   {
    "duration": 7,
    "start_time": "2025-02-09T18:59:40.448Z"
   },
   {
    "duration": 25,
    "start_time": "2025-02-09T18:59:40.457Z"
   },
   {
    "duration": 24,
    "start_time": "2025-02-09T19:00:43.319Z"
   },
   {
    "duration": 24,
    "start_time": "2025-02-09T19:00:51.545Z"
   },
   {
    "duration": 22,
    "start_time": "2025-02-09T19:04:00.248Z"
   },
   {
    "duration": 9,
    "start_time": "2025-02-09T19:06:39.285Z"
   },
   {
    "duration": 9,
    "start_time": "2025-02-09T19:07:16.581Z"
   },
   {
    "duration": 14,
    "start_time": "2025-02-09T19:07:24.573Z"
   },
   {
    "duration": 315,
    "start_time": "2025-02-09T19:52:48.159Z"
   },
   {
    "duration": 45,
    "start_time": "2025-02-09T19:52:48.476Z"
   },
   {
    "duration": 6,
    "start_time": "2025-02-09T19:52:48.523Z"
   },
   {
    "duration": 10,
    "start_time": "2025-02-09T19:52:48.531Z"
   },
   {
    "duration": 24,
    "start_time": "2025-02-09T19:52:48.542Z"
   },
   {
    "duration": 19,
    "start_time": "2025-02-09T19:57:36.807Z"
   },
   {
    "duration": 11,
    "start_time": "2025-02-09T19:57:57.570Z"
   },
   {
    "duration": 14,
    "start_time": "2025-02-09T20:03:48.980Z"
   },
   {
    "duration": 12,
    "start_time": "2025-02-09T20:03:57.213Z"
   },
   {
    "duration": 12,
    "start_time": "2025-02-09T20:04:39.274Z"
   },
   {
    "duration": 11,
    "start_time": "2025-02-09T20:04:43.566Z"
   },
   {
    "duration": 11,
    "start_time": "2025-02-09T20:05:09.100Z"
   },
   {
    "duration": 7,
    "start_time": "2025-02-09T20:06:13.114Z"
   },
   {
    "duration": 12,
    "start_time": "2025-02-09T20:07:47.996Z"
   },
   {
    "duration": 130,
    "start_time": "2025-02-09T20:12:16.346Z"
   },
   {
    "duration": 7,
    "start_time": "2025-02-09T20:12:16.478Z"
   },
   {
    "duration": 144,
    "start_time": "2025-02-09T20:13:55.244Z"
   },
   {
    "duration": 35,
    "start_time": "2025-02-09T20:14:42.495Z"
   },
   {
    "duration": 347,
    "start_time": "2025-02-09T20:15:27.507Z"
   },
   {
    "duration": 49,
    "start_time": "2025-02-09T20:15:27.857Z"
   },
   {
    "duration": 548,
    "start_time": "2025-02-09T20:15:27.908Z"
   },
   {
    "duration": 0,
    "start_time": "2025-02-09T20:15:28.458Z"
   },
   {
    "duration": 0,
    "start_time": "2025-02-09T20:15:28.459Z"
   },
   {
    "duration": 0,
    "start_time": "2025-02-09T20:15:28.461Z"
   },
   {
    "duration": 0,
    "start_time": "2025-02-09T20:15:28.463Z"
   },
   {
    "duration": 0,
    "start_time": "2025-02-09T20:15:28.464Z"
   },
   {
    "duration": 0,
    "start_time": "2025-02-09T20:15:28.466Z"
   },
   {
    "duration": 0,
    "start_time": "2025-02-09T20:15:28.467Z"
   },
   {
    "duration": 7,
    "start_time": "2025-02-09T20:16:09.371Z"
   },
   {
    "duration": 47,
    "start_time": "2025-02-09T20:16:26.024Z"
   },
   {
    "duration": 45,
    "start_time": "2025-02-09T20:16:32.612Z"
   },
   {
    "duration": 129,
    "start_time": "2025-02-09T20:17:07.341Z"
   },
   {
    "duration": 7,
    "start_time": "2025-02-09T20:17:24.526Z"
   },
   {
    "duration": 11,
    "start_time": "2025-02-09T20:17:28.220Z"
   },
   {
    "duration": 26,
    "start_time": "2025-02-09T20:17:35.943Z"
   },
   {
    "duration": 15,
    "start_time": "2025-02-09T20:17:39.921Z"
   },
   {
    "duration": 297,
    "start_time": "2025-02-09T20:17:53.491Z"
   },
   {
    "duration": 49,
    "start_time": "2025-02-09T20:17:53.790Z"
   },
   {
    "duration": 6,
    "start_time": "2025-02-09T20:17:53.840Z"
   },
   {
    "duration": 132,
    "start_time": "2025-02-09T20:17:53.847Z"
   },
   {
    "duration": 6,
    "start_time": "2025-02-09T20:17:53.982Z"
   },
   {
    "duration": 9,
    "start_time": "2025-02-09T20:17:53.990Z"
   },
   {
    "duration": 26,
    "start_time": "2025-02-09T20:17:54.001Z"
   },
   {
    "duration": 17,
    "start_time": "2025-02-09T20:17:54.029Z"
   },
   {
    "duration": 12,
    "start_time": "2025-02-09T20:17:54.049Z"
   },
   {
    "duration": 15,
    "start_time": "2025-02-09T20:17:54.063Z"
   },
   {
    "duration": 180,
    "start_time": "2025-02-09T20:22:44.616Z"
   },
   {
    "duration": 21,
    "start_time": "2025-02-09T20:23:43.422Z"
   },
   {
    "duration": 24,
    "start_time": "2025-02-09T20:23:56.016Z"
   },
   {
    "duration": 25,
    "start_time": "2025-02-09T20:24:27.239Z"
   },
   {
    "duration": 166,
    "start_time": "2025-02-09T20:58:01.914Z"
   },
   {
    "duration": 307,
    "start_time": "2025-02-09T20:58:10.837Z"
   },
   {
    "duration": 56,
    "start_time": "2025-02-09T20:58:11.146Z"
   },
   {
    "duration": 6,
    "start_time": "2025-02-09T20:58:11.204Z"
   },
   {
    "duration": 137,
    "start_time": "2025-02-09T20:58:11.211Z"
   },
   {
    "duration": 7,
    "start_time": "2025-02-09T20:58:11.351Z"
   },
   {
    "duration": 10,
    "start_time": "2025-02-09T20:58:11.359Z"
   },
   {
    "duration": 27,
    "start_time": "2025-02-09T20:58:11.370Z"
   },
   {
    "duration": 14,
    "start_time": "2025-02-09T20:58:11.399Z"
   },
   {
    "duration": 11,
    "start_time": "2025-02-09T20:58:11.414Z"
   },
   {
    "duration": 13,
    "start_time": "2025-02-09T20:58:11.427Z"
   },
   {
    "duration": 51,
    "start_time": "2025-02-09T20:58:11.442Z"
   },
   {
    "duration": 12,
    "start_time": "2025-02-09T20:58:11.495Z"
   },
   {
    "duration": 15,
    "start_time": "2025-02-09T20:58:26.481Z"
   },
   {
    "duration": 536,
    "start_time": "2025-02-09T21:03:03.455Z"
   },
   {
    "duration": 12,
    "start_time": "2025-02-09T21:03:46.250Z"
   },
   {
    "duration": 298,
    "start_time": "2025-02-09T21:03:53.940Z"
   },
   {
    "duration": 48,
    "start_time": "2025-02-09T21:03:54.240Z"
   },
   {
    "duration": 7,
    "start_time": "2025-02-09T21:03:54.289Z"
   },
   {
    "duration": 131,
    "start_time": "2025-02-09T21:03:54.298Z"
   },
   {
    "duration": 8,
    "start_time": "2025-02-09T21:03:54.431Z"
   },
   {
    "duration": 11,
    "start_time": "2025-02-09T21:03:54.440Z"
   },
   {
    "duration": 25,
    "start_time": "2025-02-09T21:03:54.452Z"
   },
   {
    "duration": 14,
    "start_time": "2025-02-09T21:03:54.479Z"
   },
   {
    "duration": 11,
    "start_time": "2025-02-09T21:03:54.495Z"
   },
   {
    "duration": 13,
    "start_time": "2025-02-09T21:03:54.507Z"
   },
   {
    "duration": 55,
    "start_time": "2025-02-09T21:03:54.521Z"
   },
   {
    "duration": 194,
    "start_time": "2025-02-09T21:03:54.577Z"
   },
   {
    "duration": 0,
    "start_time": "2025-02-09T21:03:54.772Z"
   },
   {
    "duration": 7,
    "start_time": "2025-02-09T21:04:10.558Z"
   },
   {
    "duration": 11,
    "start_time": "2025-02-09T21:04:17.327Z"
   },
   {
    "duration": 14,
    "start_time": "2025-02-09T21:04:29.331Z"
   },
   {
    "duration": 19,
    "start_time": "2025-02-09T21:04:34.884Z"
   },
   {
    "duration": 24,
    "start_time": "2025-02-09T21:07:40.168Z"
   },
   {
    "duration": 25,
    "start_time": "2025-02-09T21:07:52.357Z"
   },
   {
    "duration": 25,
    "start_time": "2025-02-09T21:08:05.016Z"
   },
   {
    "duration": 24,
    "start_time": "2025-02-09T21:08:17.028Z"
   },
   {
    "duration": 21,
    "start_time": "2025-02-09T21:08:35.170Z"
   },
   {
    "duration": 26,
    "start_time": "2025-02-09T21:08:43.280Z"
   },
   {
    "duration": 12,
    "start_time": "2025-02-09T21:09:43.689Z"
   },
   {
    "duration": 17,
    "start_time": "2025-02-09T21:25:06.644Z"
   },
   {
    "duration": 17,
    "start_time": "2025-02-09T21:25:22.927Z"
   },
   {
    "duration": 19,
    "start_time": "2025-02-09T21:28:06.432Z"
   },
   {
    "duration": 18,
    "start_time": "2025-02-09T21:28:15.123Z"
   },
   {
    "duration": 19,
    "start_time": "2025-02-09T21:30:52.509Z"
   },
   {
    "duration": 23,
    "start_time": "2025-02-09T21:30:57.333Z"
   },
   {
    "duration": 23,
    "start_time": "2025-02-09T21:31:13.119Z"
   },
   {
    "duration": 365,
    "start_time": "2025-02-10T01:52:05.543Z"
   },
   {
    "duration": 58,
    "start_time": "2025-02-10T01:52:05.910Z"
   },
   {
    "duration": 6,
    "start_time": "2025-02-10T01:52:05.970Z"
   },
   {
    "duration": 139,
    "start_time": "2025-02-10T01:52:05.978Z"
   },
   {
    "duration": 8,
    "start_time": "2025-02-10T01:52:06.119Z"
   },
   {
    "duration": 10,
    "start_time": "2025-02-10T01:52:06.130Z"
   },
   {
    "duration": 25,
    "start_time": "2025-02-10T01:52:06.141Z"
   },
   {
    "duration": 13,
    "start_time": "2025-02-10T01:52:06.168Z"
   },
   {
    "duration": 40,
    "start_time": "2025-02-10T01:52:06.183Z"
   },
   {
    "duration": 14,
    "start_time": "2025-02-10T01:52:06.225Z"
   },
   {
    "duration": 27,
    "start_time": "2025-02-10T01:52:06.241Z"
   },
   {
    "duration": 17,
    "start_time": "2025-02-10T01:52:06.270Z"
   },
   {
    "duration": 206,
    "start_time": "2025-02-10T01:52:06.289Z"
   },
   {
    "duration": 7,
    "start_time": "2025-02-10T02:04:52.457Z"
   },
   {
    "duration": 4,
    "start_time": "2025-02-10T02:06:08.879Z"
   },
   {
    "duration": 368,
    "start_time": "2025-02-10T02:06:16.018Z"
   },
   {
    "duration": 297,
    "start_time": "2025-02-10T02:06:46.690Z"
   },
   {
    "duration": 43,
    "start_time": "2025-02-10T02:06:46.989Z"
   },
   {
    "duration": 6,
    "start_time": "2025-02-10T02:06:47.033Z"
   },
   {
    "duration": 126,
    "start_time": "2025-02-10T02:06:47.041Z"
   },
   {
    "duration": 7,
    "start_time": "2025-02-10T02:06:47.170Z"
   },
   {
    "duration": 11,
    "start_time": "2025-02-10T02:06:47.178Z"
   },
   {
    "duration": 25,
    "start_time": "2025-02-10T02:06:47.192Z"
   },
   {
    "duration": 16,
    "start_time": "2025-02-10T02:06:47.218Z"
   },
   {
    "duration": 12,
    "start_time": "2025-02-10T02:06:47.236Z"
   },
   {
    "duration": 12,
    "start_time": "2025-02-10T02:06:47.250Z"
   },
   {
    "duration": 27,
    "start_time": "2025-02-10T02:06:47.264Z"
   },
   {
    "duration": 44,
    "start_time": "2025-02-10T02:06:47.293Z"
   },
   {
    "duration": 545,
    "start_time": "2025-02-10T02:12:08.208Z"
   },
   {
    "duration": 18,
    "start_time": "2025-02-10T02:12:57.107Z"
   },
   {
    "duration": 19,
    "start_time": "2025-02-10T02:13:10.197Z"
   },
   {
    "duration": 20,
    "start_time": "2025-02-10T02:13:19.551Z"
   },
   {
    "duration": 15,
    "start_time": "2025-02-10T02:15:33.158Z"
   },
   {
    "duration": 346,
    "start_time": "2025-02-10T02:16:51.047Z"
   },
   {
    "duration": 43,
    "start_time": "2025-02-10T02:16:51.395Z"
   },
   {
    "duration": 5,
    "start_time": "2025-02-10T02:16:51.441Z"
   },
   {
    "duration": 137,
    "start_time": "2025-02-10T02:16:51.448Z"
   },
   {
    "duration": 6,
    "start_time": "2025-02-10T02:16:51.588Z"
   },
   {
    "duration": 10,
    "start_time": "2025-02-10T02:16:51.596Z"
   },
   {
    "duration": 24,
    "start_time": "2025-02-10T02:16:51.608Z"
   },
   {
    "duration": 14,
    "start_time": "2025-02-10T02:16:51.634Z"
   },
   {
    "duration": 10,
    "start_time": "2025-02-10T02:16:51.650Z"
   },
   {
    "duration": 12,
    "start_time": "2025-02-10T02:16:51.662Z"
   },
   {
    "duration": 55,
    "start_time": "2025-02-10T02:16:51.675Z"
   },
   {
    "duration": 19,
    "start_time": "2025-02-10T02:16:51.732Z"
   },
   {
    "duration": 207,
    "start_time": "2025-02-10T02:16:51.752Z"
   },
   {
    "duration": 396,
    "start_time": "2025-02-10T02:18:57.300Z"
   },
   {
    "duration": 10,
    "start_time": "2025-02-10T02:19:51.576Z"
   },
   {
    "duration": 10,
    "start_time": "2025-02-10T02:20:30.236Z"
   },
   {
    "duration": 14,
    "start_time": "2025-02-10T02:20:45.539Z"
   },
   {
    "duration": 1817,
    "start_time": "2025-02-10T02:22:01.947Z"
   },
   {
    "duration": 421,
    "start_time": "2025-02-10T02:22:08.827Z"
   },
   {
    "duration": 74,
    "start_time": "2025-02-10T02:22:09.250Z"
   },
   {
    "duration": 6,
    "start_time": "2025-02-10T02:22:09.327Z"
   },
   {
    "duration": 148,
    "start_time": "2025-02-10T02:22:09.335Z"
   },
   {
    "duration": 6,
    "start_time": "2025-02-10T02:22:09.486Z"
   },
   {
    "duration": 10,
    "start_time": "2025-02-10T02:22:09.494Z"
   },
   {
    "duration": 24,
    "start_time": "2025-02-10T02:22:09.506Z"
   },
   {
    "duration": 14,
    "start_time": "2025-02-10T02:22:09.532Z"
   },
   {
    "duration": 11,
    "start_time": "2025-02-10T02:22:09.547Z"
   },
   {
    "duration": 11,
    "start_time": "2025-02-10T02:22:09.561Z"
   },
   {
    "duration": 24,
    "start_time": "2025-02-10T02:22:09.573Z"
   },
   {
    "duration": 17,
    "start_time": "2025-02-10T02:22:09.624Z"
   },
   {
    "duration": 10,
    "start_time": "2025-02-10T02:22:09.643Z"
   },
   {
    "duration": 156,
    "start_time": "2025-02-10T02:22:09.655Z"
   },
   {
    "duration": 682,
    "start_time": "2025-02-10T02:27:55.626Z"
   },
   {
    "duration": 391,
    "start_time": "2025-02-10T02:28:50.877Z"
   },
   {
    "duration": 233,
    "start_time": "2025-02-10T02:30:51.321Z"
   },
   {
    "duration": 440,
    "start_time": "2025-02-10T02:58:06.766Z"
   },
   {
    "duration": 80,
    "start_time": "2025-02-10T02:58:07.208Z"
   },
   {
    "duration": 7,
    "start_time": "2025-02-10T02:58:07.289Z"
   },
   {
    "duration": 157,
    "start_time": "2025-02-10T02:58:07.297Z"
   },
   {
    "duration": 7,
    "start_time": "2025-02-10T02:58:07.458Z"
   },
   {
    "duration": 10,
    "start_time": "2025-02-10T02:58:07.467Z"
   },
   {
    "duration": 25,
    "start_time": "2025-02-10T02:58:07.479Z"
   },
   {
    "duration": 19,
    "start_time": "2025-02-10T02:58:07.507Z"
   },
   {
    "duration": 15,
    "start_time": "2025-02-10T02:58:07.528Z"
   },
   {
    "duration": 12,
    "start_time": "2025-02-10T02:58:07.545Z"
   },
   {
    "duration": 26,
    "start_time": "2025-02-10T02:58:07.559Z"
   },
   {
    "duration": 43,
    "start_time": "2025-02-10T02:58:07.586Z"
   },
   {
    "duration": 11,
    "start_time": "2025-02-10T02:58:07.631Z"
   },
   {
    "duration": 288,
    "start_time": "2025-02-10T02:58:07.644Z"
   },
   {
    "duration": 604,
    "start_time": "2025-02-10T03:35:50.947Z"
   },
   {
    "duration": 197,
    "start_time": "2025-02-10T03:38:45.117Z"
   },
   {
    "duration": 196,
    "start_time": "2025-02-10T03:40:45.684Z"
   },
   {
    "duration": 201,
    "start_time": "2025-02-10T03:41:54.657Z"
   },
   {
    "duration": 198,
    "start_time": "2025-02-10T03:56:48.650Z"
   },
   {
    "duration": 257,
    "start_time": "2025-02-10T03:57:32.594Z"
   },
   {
    "duration": 163,
    "start_time": "2025-02-10T03:58:14.998Z"
   },
   {
    "duration": 164,
    "start_time": "2025-02-10T04:00:20.703Z"
   },
   {
    "duration": 19,
    "start_time": "2025-02-10T04:06:53.754Z"
   },
   {
    "duration": 170,
    "start_time": "2025-02-10T04:07:48.073Z"
   },
   {
    "duration": 193,
    "start_time": "2025-02-10T04:09:28.475Z"
   },
   {
    "duration": 417,
    "start_time": "2025-02-10T04:13:26.170Z"
   },
   {
    "duration": 82,
    "start_time": "2025-02-10T04:13:26.589Z"
   },
   {
    "duration": 6,
    "start_time": "2025-02-10T04:13:26.673Z"
   },
   {
    "duration": 135,
    "start_time": "2025-02-10T04:13:26.680Z"
   },
   {
    "duration": 7,
    "start_time": "2025-02-10T04:13:26.818Z"
   },
   {
    "duration": 9,
    "start_time": "2025-02-10T04:13:26.827Z"
   },
   {
    "duration": 24,
    "start_time": "2025-02-10T04:13:26.838Z"
   },
   {
    "duration": 16,
    "start_time": "2025-02-10T04:13:26.864Z"
   },
   {
    "duration": 10,
    "start_time": "2025-02-10T04:13:26.884Z"
   },
   {
    "duration": 37,
    "start_time": "2025-02-10T04:13:26.896Z"
   },
   {
    "duration": 24,
    "start_time": "2025-02-10T04:13:26.935Z"
   },
   {
    "duration": 18,
    "start_time": "2025-02-10T04:13:26.961Z"
   },
   {
    "duration": 10,
    "start_time": "2025-02-10T04:13:26.981Z"
   },
   {
    "duration": 299,
    "start_time": "2025-02-10T04:13:26.993Z"
   },
   {
    "duration": 196,
    "start_time": "2025-02-10T04:13:27.295Z"
   },
   {
    "duration": 205,
    "start_time": "2025-02-10T04:13:27.493Z"
   },
   {
    "duration": 269,
    "start_time": "2025-02-10T04:17:19.964Z"
   },
   {
    "duration": 433,
    "start_time": "2025-02-10T04:32:40.817Z"
   },
   {
    "duration": 458,
    "start_time": "2025-02-10T04:35:15.561Z"
   },
   {
    "duration": 404,
    "start_time": "2025-02-10T04:35:52.508Z"
   },
   {
    "duration": 78,
    "start_time": "2025-02-10T04:35:52.914Z"
   },
   {
    "duration": 6,
    "start_time": "2025-02-10T04:35:52.994Z"
   },
   {
    "duration": 146,
    "start_time": "2025-02-10T04:35:53.001Z"
   },
   {
    "duration": 7,
    "start_time": "2025-02-10T04:35:53.151Z"
   },
   {
    "duration": 9,
    "start_time": "2025-02-10T04:35:53.160Z"
   },
   {
    "duration": 24,
    "start_time": "2025-02-10T04:35:53.171Z"
   },
   {
    "duration": 14,
    "start_time": "2025-02-10T04:35:53.197Z"
   },
   {
    "duration": 13,
    "start_time": "2025-02-10T04:35:53.212Z"
   },
   {
    "duration": 15,
    "start_time": "2025-02-10T04:35:53.227Z"
   },
   {
    "duration": 24,
    "start_time": "2025-02-10T04:35:53.244Z"
   },
   {
    "duration": 18,
    "start_time": "2025-02-10T04:35:53.269Z"
   },
   {
    "duration": 39,
    "start_time": "2025-02-10T04:35:53.289Z"
   },
   {
    "duration": 268,
    "start_time": "2025-02-10T04:35:53.332Z"
   },
   {
    "duration": 197,
    "start_time": "2025-02-10T04:35:53.603Z"
   },
   {
    "duration": 196,
    "start_time": "2025-02-10T04:35:53.801Z"
   },
   {
    "duration": 320,
    "start_time": "2025-02-10T04:35:53.999Z"
   },
   {
    "duration": 437,
    "start_time": "2025-02-10T04:35:54.324Z"
   },
   {
    "duration": 13,
    "start_time": "2025-02-10T04:48:56.733Z"
   },
   {
    "duration": 16,
    "start_time": "2025-02-10T04:49:06.359Z"
   },
   {
    "duration": 437,
    "start_time": "2025-02-10T05:03:38.549Z"
   },
   {
    "duration": 81,
    "start_time": "2025-02-10T05:03:38.988Z"
   },
   {
    "duration": 5,
    "start_time": "2025-02-10T05:03:39.071Z"
   },
   {
    "duration": 136,
    "start_time": "2025-02-10T05:03:39.078Z"
   },
   {
    "duration": 7,
    "start_time": "2025-02-10T05:03:39.218Z"
   },
   {
    "duration": 10,
    "start_time": "2025-02-10T05:03:39.226Z"
   },
   {
    "duration": 24,
    "start_time": "2025-02-10T05:03:39.238Z"
   },
   {
    "duration": 15,
    "start_time": "2025-02-10T05:03:39.263Z"
   },
   {
    "duration": 10,
    "start_time": "2025-02-10T05:03:39.280Z"
   },
   {
    "duration": 40,
    "start_time": "2025-02-10T05:03:39.292Z"
   },
   {
    "duration": 25,
    "start_time": "2025-02-10T05:03:39.334Z"
   },
   {
    "duration": 17,
    "start_time": "2025-02-10T05:03:39.361Z"
   },
   {
    "duration": 9,
    "start_time": "2025-02-10T05:03:39.380Z"
   },
   {
    "duration": 286,
    "start_time": "2025-02-10T05:03:39.391Z"
   },
   {
    "duration": 191,
    "start_time": "2025-02-10T05:03:39.679Z"
   },
   {
    "duration": 201,
    "start_time": "2025-02-10T05:03:39.872Z"
   },
   {
    "duration": 314,
    "start_time": "2025-02-10T05:03:40.074Z"
   },
   {
    "duration": 447,
    "start_time": "2025-02-10T05:03:40.390Z"
   },
   {
    "duration": 16,
    "start_time": "2025-02-10T05:03:40.840Z"
   },
   {
    "duration": 249,
    "start_time": "2025-02-10T05:06:03.644Z"
   },
   {
    "duration": 729,
    "start_time": "2025-02-10T05:06:35.180Z"
   },
   {
    "duration": 46,
    "start_time": "2025-02-10T05:06:35.912Z"
   },
   {
    "duration": 5,
    "start_time": "2025-02-10T05:06:35.960Z"
   },
   {
    "duration": 128,
    "start_time": "2025-02-10T05:06:35.967Z"
   },
   {
    "duration": 7,
    "start_time": "2025-02-10T05:06:36.097Z"
   },
   {
    "duration": 11,
    "start_time": "2025-02-10T05:06:36.105Z"
   },
   {
    "duration": 25,
    "start_time": "2025-02-10T05:06:36.117Z"
   },
   {
    "duration": 13,
    "start_time": "2025-02-10T05:06:36.144Z"
   },
   {
    "duration": 10,
    "start_time": "2025-02-10T05:06:36.159Z"
   },
   {
    "duration": 13,
    "start_time": "2025-02-10T05:06:36.171Z"
   },
   {
    "duration": 47,
    "start_time": "2025-02-10T05:06:36.186Z"
   },
   {
    "duration": 18,
    "start_time": "2025-02-10T05:06:36.235Z"
   },
   {
    "duration": 11,
    "start_time": "2025-02-10T05:06:36.254Z"
   },
   {
    "duration": 281,
    "start_time": "2025-02-10T05:06:36.267Z"
   },
   {
    "duration": 194,
    "start_time": "2025-02-10T05:06:36.550Z"
   },
   {
    "duration": 199,
    "start_time": "2025-02-10T05:06:36.746Z"
   },
   {
    "duration": 364,
    "start_time": "2025-02-10T05:06:36.946Z"
   },
   {
    "duration": 451,
    "start_time": "2025-02-10T05:06:37.312Z"
   },
   {
    "duration": 17,
    "start_time": "2025-02-10T05:06:37.765Z"
   },
   {
    "duration": 7,
    "start_time": "2025-02-10T05:06:38.090Z"
   },
   {
    "duration": 10,
    "start_time": "2025-02-10T05:08:58.256Z"
   },
   {
    "duration": 3,
    "start_time": "2025-02-10T05:13:18.605Z"
   },
   {
    "duration": 4,
    "start_time": "2025-02-10T05:15:10.091Z"
   },
   {
    "duration": 3,
    "start_time": "2025-02-10T05:15:25.979Z"
   },
   {
    "duration": 5,
    "start_time": "2025-02-10T05:15:31.934Z"
   },
   {
    "duration": 5,
    "start_time": "2025-02-10T05:15:58.040Z"
   },
   {
    "duration": 6,
    "start_time": "2025-02-10T05:16:01.555Z"
   },
   {
    "duration": 10,
    "start_time": "2025-02-10T05:16:44.403Z"
   },
   {
    "duration": 795,
    "start_time": "2025-02-10T05:43:49.867Z"
   },
   {
    "duration": 45,
    "start_time": "2025-02-10T05:43:50.665Z"
   },
   {
    "duration": 16,
    "start_time": "2025-02-10T05:43:50.712Z"
   },
   {
    "duration": 144,
    "start_time": "2025-02-10T05:43:50.730Z"
   },
   {
    "duration": 8,
    "start_time": "2025-02-10T05:43:50.876Z"
   },
   {
    "duration": 11,
    "start_time": "2025-02-10T05:43:50.886Z"
   },
   {
    "duration": 27,
    "start_time": "2025-02-10T05:43:50.900Z"
   },
   {
    "duration": 15,
    "start_time": "2025-02-10T05:43:50.928Z"
   },
   {
    "duration": 11,
    "start_time": "2025-02-10T05:43:50.944Z"
   },
   {
    "duration": 13,
    "start_time": "2025-02-10T05:43:50.957Z"
   },
   {
    "duration": 24,
    "start_time": "2025-02-10T05:43:50.972Z"
   },
   {
    "duration": 43,
    "start_time": "2025-02-10T05:43:50.997Z"
   },
   {
    "duration": 11,
    "start_time": "2025-02-10T05:43:51.042Z"
   },
   {
    "duration": 305,
    "start_time": "2025-02-10T05:43:51.056Z"
   },
   {
    "duration": 198,
    "start_time": "2025-02-10T05:43:51.363Z"
   },
   {
    "duration": 198,
    "start_time": "2025-02-10T05:43:51.563Z"
   },
   {
    "duration": 384,
    "start_time": "2025-02-10T05:43:51.763Z"
   },
   {
    "duration": 477,
    "start_time": "2025-02-10T05:43:52.149Z"
   },
   {
    "duration": 16,
    "start_time": "2025-02-10T05:43:52.628Z"
   },
   {
    "duration": 8,
    "start_time": "2025-02-10T05:43:52.646Z"
   },
   {
    "duration": 11,
    "start_time": "2025-02-10T05:43:52.656Z"
   },
   {
    "duration": 747,
    "start_time": "2025-02-10T11:59:26.866Z"
   },
   {
    "duration": 42,
    "start_time": "2025-02-10T11:59:27.616Z"
   },
   {
    "duration": 5,
    "start_time": "2025-02-10T11:59:27.660Z"
   },
   {
    "duration": 159,
    "start_time": "2025-02-10T11:59:27.667Z"
   },
   {
    "duration": 7,
    "start_time": "2025-02-10T11:59:27.830Z"
   },
   {
    "duration": 10,
    "start_time": "2025-02-10T11:59:27.838Z"
   },
   {
    "duration": 24,
    "start_time": "2025-02-10T11:59:27.850Z"
   },
   {
    "duration": 13,
    "start_time": "2025-02-10T11:59:27.876Z"
   },
   {
    "duration": 16,
    "start_time": "2025-02-10T11:59:27.890Z"
   },
   {
    "duration": 12,
    "start_time": "2025-02-10T11:59:27.908Z"
   },
   {
    "duration": 25,
    "start_time": "2025-02-10T11:59:27.921Z"
   },
   {
    "duration": 18,
    "start_time": "2025-02-10T11:59:27.947Z"
   },
   {
    "duration": 38,
    "start_time": "2025-02-10T11:59:27.967Z"
   },
   {
    "duration": 299,
    "start_time": "2025-02-10T11:59:28.008Z"
   },
   {
    "duration": 286,
    "start_time": "2025-02-10T11:59:28.309Z"
   },
   {
    "duration": 193,
    "start_time": "2025-02-10T11:59:28.596Z"
   },
   {
    "duration": 356,
    "start_time": "2025-02-10T11:59:28.791Z"
   },
   {
    "duration": 463,
    "start_time": "2025-02-10T11:59:29.149Z"
   },
   {
    "duration": 19,
    "start_time": "2025-02-10T11:59:29.615Z"
   },
   {
    "duration": 8,
    "start_time": "2025-02-10T11:59:29.636Z"
   },
   {
    "duration": 9,
    "start_time": "2025-02-10T11:59:29.645Z"
   },
   {
    "duration": 2500,
    "start_time": "2025-02-11T01:42:57.116Z"
   },
   {
    "duration": 54,
    "start_time": "2025-02-11T01:42:59.619Z"
   },
   {
    "duration": 6,
    "start_time": "2025-02-11T01:42:59.675Z"
   },
   {
    "duration": 142,
    "start_time": "2025-02-11T01:42:59.682Z"
   },
   {
    "duration": 5,
    "start_time": "2025-02-11T01:42:59.827Z"
   },
   {
    "duration": 0,
    "start_time": "2025-02-11T01:42:59.835Z"
   },
   {
    "duration": 0,
    "start_time": "2025-02-11T01:42:59.836Z"
   },
   {
    "duration": 0,
    "start_time": "2025-02-11T01:42:59.836Z"
   },
   {
    "duration": 0,
    "start_time": "2025-02-11T01:42:59.838Z"
   },
   {
    "duration": 0,
    "start_time": "2025-02-11T01:42:59.839Z"
   },
   {
    "duration": 0,
    "start_time": "2025-02-11T01:42:59.840Z"
   },
   {
    "duration": 0,
    "start_time": "2025-02-11T01:42:59.841Z"
   },
   {
    "duration": 0,
    "start_time": "2025-02-11T01:42:59.842Z"
   },
   {
    "duration": 0,
    "start_time": "2025-02-11T01:42:59.843Z"
   },
   {
    "duration": 0,
    "start_time": "2025-02-11T01:42:59.845Z"
   },
   {
    "duration": 0,
    "start_time": "2025-02-11T01:42:59.846Z"
   },
   {
    "duration": 0,
    "start_time": "2025-02-11T01:42:59.847Z"
   },
   {
    "duration": 0,
    "start_time": "2025-02-11T01:42:59.848Z"
   },
   {
    "duration": 0,
    "start_time": "2025-02-11T01:42:59.849Z"
   },
   {
    "duration": 0,
    "start_time": "2025-02-11T01:42:59.850Z"
   },
   {
    "duration": 0,
    "start_time": "2025-02-11T01:42:59.851Z"
   },
   {
    "duration": 17,
    "start_time": "2025-02-11T01:43:15.511Z"
   },
   {
    "duration": 548,
    "start_time": "2025-02-11T01:44:31.924Z"
   },
   {
    "duration": 160,
    "start_time": "2025-02-11T04:47:15.992Z"
   },
   {
    "duration": 2555,
    "start_time": "2025-02-11T04:47:30.036Z"
   },
   {
    "duration": 57,
    "start_time": "2025-02-11T04:47:32.593Z"
   },
   {
    "duration": 6,
    "start_time": "2025-02-11T04:47:32.652Z"
   },
   {
    "duration": 135,
    "start_time": "2025-02-11T04:47:32.661Z"
   },
   {
    "duration": 20,
    "start_time": "2025-02-11T04:47:32.799Z"
   },
   {
    "duration": 11,
    "start_time": "2025-02-11T04:47:32.821Z"
   },
   {
    "duration": 30,
    "start_time": "2025-02-11T04:47:32.833Z"
   },
   {
    "duration": 15,
    "start_time": "2025-02-11T04:47:32.865Z"
   },
   {
    "duration": 30,
    "start_time": "2025-02-11T04:47:32.881Z"
   },
   {
    "duration": 14,
    "start_time": "2025-02-11T04:47:32.912Z"
   },
   {
    "duration": 27,
    "start_time": "2025-02-11T04:47:32.928Z"
   },
   {
    "duration": 18,
    "start_time": "2025-02-11T04:47:32.957Z"
   },
   {
    "duration": 37,
    "start_time": "2025-02-11T04:47:32.976Z"
   },
   {
    "duration": 269,
    "start_time": "2025-02-11T04:47:33.016Z"
   },
   {
    "duration": 194,
    "start_time": "2025-02-11T04:47:33.287Z"
   },
   {
    "duration": 195,
    "start_time": "2025-02-11T04:47:33.483Z"
   },
   {
    "duration": 335,
    "start_time": "2025-02-11T04:47:33.680Z"
   },
   {
    "duration": 449,
    "start_time": "2025-02-11T04:47:34.017Z"
   },
   {
    "duration": 16,
    "start_time": "2025-02-11T04:47:34.468Z"
   },
   {
    "duration": 21,
    "start_time": "2025-02-11T04:47:34.485Z"
   },
   {
    "duration": 8,
    "start_time": "2025-02-11T04:47:34.508Z"
   },
   {
    "duration": 902,
    "start_time": "2025-02-11T04:53:48.670Z"
   },
   {
    "duration": 305,
    "start_time": "2025-02-11T04:54:31.319Z"
   },
   {
    "duration": 369,
    "start_time": "2025-02-11T04:57:05.486Z"
   },
   {
    "duration": 2433,
    "start_time": "2025-02-11T08:29:40.577Z"
   },
   {
    "duration": 55,
    "start_time": "2025-02-11T08:29:43.012Z"
   },
   {
    "duration": 7,
    "start_time": "2025-02-11T08:29:43.069Z"
   },
   {
    "duration": 167,
    "start_time": "2025-02-11T08:29:43.077Z"
   },
   {
    "duration": 18,
    "start_time": "2025-02-11T08:29:43.247Z"
   },
   {
    "duration": 11,
    "start_time": "2025-02-11T08:29:43.266Z"
   },
   {
    "duration": 25,
    "start_time": "2025-02-11T08:29:43.278Z"
   },
   {
    "duration": 14,
    "start_time": "2025-02-11T08:29:43.304Z"
   },
   {
    "duration": 10,
    "start_time": "2025-02-11T08:29:43.332Z"
   },
   {
    "duration": 12,
    "start_time": "2025-02-11T08:29:43.344Z"
   },
   {
    "duration": 25,
    "start_time": "2025-02-11T08:29:43.357Z"
   },
   {
    "duration": 18,
    "start_time": "2025-02-11T08:29:43.384Z"
   },
   {
    "duration": 35,
    "start_time": "2025-02-11T08:29:43.403Z"
   },
   {
    "duration": 267,
    "start_time": "2025-02-11T08:29:43.441Z"
   },
   {
    "duration": 193,
    "start_time": "2025-02-11T08:29:43.709Z"
   },
   {
    "duration": 188,
    "start_time": "2025-02-11T08:29:43.904Z"
   },
   {
    "duration": 346,
    "start_time": "2025-02-11T08:29:44.095Z"
   },
   {
    "duration": 441,
    "start_time": "2025-02-11T08:29:44.443Z"
   },
   {
    "duration": 16,
    "start_time": "2025-02-11T08:29:44.885Z"
   },
   {
    "duration": 7,
    "start_time": "2025-02-11T08:29:44.903Z"
   },
   {
    "duration": 25,
    "start_time": "2025-02-11T08:29:44.912Z"
   },
   {
    "duration": 176,
    "start_time": "2025-02-11T14:11:51.482Z"
   },
   {
    "duration": 2467,
    "start_time": "2025-02-11T14:11:59.672Z"
   },
   {
    "duration": 58,
    "start_time": "2025-02-11T14:12:02.142Z"
   },
   {
    "duration": 6,
    "start_time": "2025-02-11T14:12:02.201Z"
   },
   {
    "duration": 156,
    "start_time": "2025-02-11T14:12:02.209Z"
   },
   {
    "duration": 15,
    "start_time": "2025-02-11T14:12:02.367Z"
   },
   {
    "duration": 11,
    "start_time": "2025-02-11T14:12:02.383Z"
   },
   {
    "duration": 25,
    "start_time": "2025-02-11T14:12:02.395Z"
   },
   {
    "duration": 13,
    "start_time": "2025-02-11T14:12:02.422Z"
   },
   {
    "duration": 35,
    "start_time": "2025-02-11T14:12:02.437Z"
   },
   {
    "duration": 12,
    "start_time": "2025-02-11T14:12:02.474Z"
   },
   {
    "duration": 26,
    "start_time": "2025-02-11T14:12:02.487Z"
   },
   {
    "duration": 18,
    "start_time": "2025-02-11T14:12:02.515Z"
   },
   {
    "duration": 36,
    "start_time": "2025-02-11T14:12:02.534Z"
   },
   {
    "duration": 277,
    "start_time": "2025-02-11T14:12:02.573Z"
   },
   {
    "duration": 195,
    "start_time": "2025-02-11T14:12:02.852Z"
   },
   {
    "duration": 203,
    "start_time": "2025-02-11T14:12:03.050Z"
   },
   {
    "duration": 328,
    "start_time": "2025-02-11T14:12:03.255Z"
   },
   {
    "duration": 497,
    "start_time": "2025-02-11T14:12:03.585Z"
   },
   {
    "duration": 16,
    "start_time": "2025-02-11T14:12:04.084Z"
   },
   {
    "duration": 7,
    "start_time": "2025-02-11T14:12:04.102Z"
   },
   {
    "duration": 9,
    "start_time": "2025-02-11T14:12:04.111Z"
   },
   {
    "duration": 169,
    "start_time": "2025-02-12T05:00:22.436Z"
   },
   {
    "duration": 2562,
    "start_time": "2025-02-12T05:00:36.453Z"
   },
   {
    "duration": 58,
    "start_time": "2025-02-12T05:00:39.017Z"
   },
   {
    "duration": 6,
    "start_time": "2025-02-12T05:00:39.077Z"
   },
   {
    "duration": 153,
    "start_time": "2025-02-12T05:00:39.086Z"
   },
   {
    "duration": 14,
    "start_time": "2025-02-12T05:00:39.241Z"
   },
   {
    "duration": 10,
    "start_time": "2025-02-12T05:00:39.257Z"
   },
   {
    "duration": 25,
    "start_time": "2025-02-12T05:00:39.268Z"
   },
   {
    "duration": 3,
    "start_time": "2025-02-12T05:00:39.294Z"
   },
   {
    "duration": 32,
    "start_time": "2025-02-12T05:00:39.299Z"
   },
   {
    "duration": 10,
    "start_time": "2025-02-12T05:00:39.335Z"
   },
   {
    "duration": 13,
    "start_time": "2025-02-12T05:00:39.347Z"
   },
   {
    "duration": 26,
    "start_time": "2025-02-12T05:00:39.362Z"
   },
   {
    "duration": 43,
    "start_time": "2025-02-12T05:00:39.389Z"
   },
   {
    "duration": 10,
    "start_time": "2025-02-12T05:00:39.433Z"
   },
   {
    "duration": 266,
    "start_time": "2025-02-12T05:00:39.445Z"
   },
   {
    "duration": 195,
    "start_time": "2025-02-12T05:00:39.714Z"
   },
   {
    "duration": 197,
    "start_time": "2025-02-12T05:00:39.911Z"
   },
   {
    "duration": 342,
    "start_time": "2025-02-12T05:00:40.110Z"
   },
   {
    "duration": 455,
    "start_time": "2025-02-12T05:00:40.454Z"
   },
   {
    "duration": 25,
    "start_time": "2025-02-12T05:00:40.910Z"
   },
   {
    "duration": 9,
    "start_time": "2025-02-12T05:00:40.937Z"
   },
   {
    "duration": 9,
    "start_time": "2025-02-12T05:00:40.948Z"
   },
   {
    "duration": 3,
    "start_time": "2025-02-12T05:00:43.546Z"
   },
   {
    "duration": 3,
    "start_time": "2025-02-12T05:00:51.274Z"
   },
   {
    "duration": 169,
    "start_time": "2025-02-12T05:14:01.537Z"
   },
   {
    "duration": 652,
    "start_time": "2025-02-12T05:27:49.652Z"
   },
   {
    "duration": 444,
    "start_time": "2025-02-12T05:29:21.722Z"
   },
   {
    "duration": 17,
    "start_time": "2025-02-12T05:35:42.606Z"
   },
   {
    "duration": 158,
    "start_time": "2025-02-12T05:38:39.945Z"
   },
   {
    "duration": 13,
    "start_time": "2025-02-12T05:38:52.859Z"
   },
   {
    "duration": 17,
    "start_time": "2025-02-12T05:39:12.420Z"
   },
   {
    "duration": 17,
    "start_time": "2025-02-12T05:42:40.992Z"
   },
   {
    "duration": 19,
    "start_time": "2025-02-12T05:44:27.742Z"
   },
   {
    "duration": 321,
    "start_time": "2025-02-12T05:44:40.445Z"
   },
   {
    "duration": 19,
    "start_time": "2025-02-12T05:46:36.200Z"
   },
   {
    "duration": 24,
    "start_time": "2025-02-12T05:47:07.436Z"
   },
   {
    "duration": 21,
    "start_time": "2025-02-12T05:47:27.718Z"
   },
   {
    "duration": 822,
    "start_time": "2025-02-12T05:47:42.949Z"
   },
   {
    "duration": 45,
    "start_time": "2025-02-12T05:47:43.774Z"
   },
   {
    "duration": 10,
    "start_time": "2025-02-12T05:47:43.821Z"
   },
   {
    "duration": 142,
    "start_time": "2025-02-12T05:47:43.832Z"
   },
   {
    "duration": 15,
    "start_time": "2025-02-12T05:47:43.978Z"
   },
   {
    "duration": 10,
    "start_time": "2025-02-12T05:47:43.994Z"
   },
   {
    "duration": 24,
    "start_time": "2025-02-12T05:47:44.005Z"
   },
   {
    "duration": 19,
    "start_time": "2025-02-12T05:47:44.031Z"
   },
   {
    "duration": 12,
    "start_time": "2025-02-12T05:47:44.052Z"
   },
   {
    "duration": 13,
    "start_time": "2025-02-12T05:47:44.066Z"
   },
   {
    "duration": 25,
    "start_time": "2025-02-12T05:47:44.081Z"
   },
   {
    "duration": 18,
    "start_time": "2025-02-12T05:47:44.132Z"
   },
   {
    "duration": 477,
    "start_time": "2025-02-12T05:47:44.151Z"
   },
   {
    "duration": 10,
    "start_time": "2025-02-12T05:47:44.631Z"
   },
   {
    "duration": 290,
    "start_time": "2025-02-12T05:47:44.642Z"
   },
   {
    "duration": 203,
    "start_time": "2025-02-12T05:47:44.934Z"
   },
   {
    "duration": 196,
    "start_time": "2025-02-12T05:47:45.139Z"
   },
   {
    "duration": 309,
    "start_time": "2025-02-12T05:47:45.337Z"
   },
   {
    "duration": 446,
    "start_time": "2025-02-12T05:47:45.648Z"
   },
   {
    "duration": 18,
    "start_time": "2025-02-12T05:47:46.096Z"
   },
   {
    "duration": 31,
    "start_time": "2025-02-12T05:47:46.116Z"
   },
   {
    "duration": 11,
    "start_time": "2025-02-12T05:47:46.149Z"
   },
   {
    "duration": 7,
    "start_time": "2025-02-12T05:47:46.162Z"
   },
   {
    "duration": 4,
    "start_time": "2025-02-12T05:52:11.840Z"
   },
   {
    "duration": 766,
    "start_time": "2025-02-12T05:52:20.390Z"
   },
   {
    "duration": 45,
    "start_time": "2025-02-12T05:52:21.158Z"
   },
   {
    "duration": 6,
    "start_time": "2025-02-12T05:52:21.206Z"
   },
   {
    "duration": 155,
    "start_time": "2025-02-12T05:52:21.214Z"
   },
   {
    "duration": 14,
    "start_time": "2025-02-12T05:52:21.371Z"
   },
   {
    "duration": 10,
    "start_time": "2025-02-12T05:52:21.387Z"
   },
   {
    "duration": 26,
    "start_time": "2025-02-12T05:52:21.398Z"
   },
   {
    "duration": 4,
    "start_time": "2025-02-12T05:52:21.425Z"
   },
   {
    "duration": 15,
    "start_time": "2025-02-12T05:52:21.430Z"
   },
   {
    "duration": 10,
    "start_time": "2025-02-12T05:52:21.447Z"
   },
   {
    "duration": 13,
    "start_time": "2025-02-12T05:52:21.459Z"
   },
   {
    "duration": 24,
    "start_time": "2025-02-12T05:52:21.473Z"
   },
   {
    "duration": 43,
    "start_time": "2025-02-12T05:52:21.500Z"
   },
   {
    "duration": 519,
    "start_time": "2025-02-12T05:52:21.545Z"
   },
   {
    "duration": 10,
    "start_time": "2025-02-12T05:52:22.066Z"
   },
   {
    "duration": 273,
    "start_time": "2025-02-12T05:52:22.078Z"
   },
   {
    "duration": 201,
    "start_time": "2025-02-12T05:52:22.353Z"
   },
   {
    "duration": 190,
    "start_time": "2025-02-12T05:52:22.556Z"
   },
   {
    "duration": 314,
    "start_time": "2025-02-12T05:52:22.748Z"
   },
   {
    "duration": 467,
    "start_time": "2025-02-12T05:52:23.064Z"
   },
   {
    "duration": 19,
    "start_time": "2025-02-12T05:52:23.533Z"
   },
   {
    "duration": 17,
    "start_time": "2025-02-12T05:52:23.553Z"
   },
   {
    "duration": 8,
    "start_time": "2025-02-12T05:52:23.571Z"
   },
   {
    "duration": 9,
    "start_time": "2025-02-12T05:52:23.580Z"
   },
   {
    "duration": 4,
    "start_time": "2025-02-12T05:53:05.249Z"
   },
   {
    "duration": 227,
    "start_time": "2025-02-12T05:54:32.805Z"
   },
   {
    "duration": 33,
    "start_time": "2025-02-12T05:55:01.925Z"
   },
   {
    "duration": 5,
    "start_time": "2025-02-12T05:55:09.502Z"
   },
   {
    "duration": 17,
    "start_time": "2025-02-12T05:55:15.971Z"
   }
  ],
  "kernelspec": {
   "display_name": "Python 3 (ipykernel)",
   "language": "python",
   "name": "python3"
  },
  "language_info": {
   "codemirror_mode": {
    "name": "ipython",
    "version": 3
   },
   "file_extension": ".py",
   "mimetype": "text/x-python",
   "name": "python",
   "nbconvert_exporter": "python",
   "pygments_lexer": "ipython3",
   "version": "3.9.19"
  },
  "toc": {
   "base_numbering": 1,
   "nav_menu": {},
   "number_sections": true,
   "sideBar": true,
   "skip_h1_title": true,
   "title_cell": "Table of Contents",
   "title_sidebar": "Contents",
   "toc_cell": false,
   "toc_position": {},
   "toc_section_display": true,
   "toc_window_display": false
  }
 },
 "nbformat": 4,
 "nbformat_minor": 2
}
