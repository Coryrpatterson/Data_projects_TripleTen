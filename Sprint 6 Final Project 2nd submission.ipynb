{
 "cells": [
  {
   "cell_type": "markdown",
   "metadata": {},
   "source": [
    "<div style=\"border:solid green 2px; padding: 20px\"> <h1 style=\"color:green; margin-bottom:20px\">Reviewer's comment v1</h1>\n",
    "\n",
    "Hello Cory!\n",
    "\n",
    "I'm happy to review your project today 🙌\n",
    "\n",
    "You can find my comments under the heading **«Review»**. I will categorize my comments in green, blue or red boxes like this:\n",
    "\n",
    "<div class=\"alert alert-success\">\n",
    "    <b>Success:</b> if everything is done successfully\n",
    "</div>\n",
    "<div class=\"alert alert-warning\">\n",
    "    <b>Remarks:</b> if I can give some recommendations or ways to improve the project\n",
    "</div>\n",
    "<div class=\"alert alert-danger\">\n",
    "    <b>Needs fixing:</b> if the block requires some corrections. Work can't be accepted with the red comments\n",
    "</div>\n",
    "\n",
    "Please don't remove my comments :) If you have any questions don't hesitate to respond to my comments in a different section. \n",
    "<div class=\"alert alert-info\"> <b>Student comments:</b>  </div>    \n"
   ]
  },
  {
   "cell_type": "markdown",
   "metadata": {},
   "source": [
    "<div style=\"border:solid green 2px; padding: 20px\">\n",
    "<b>Reviewer's comment v1</b>\n",
    "    \n",
    "<b>Overall Feedback</b> \n",
    "    \n",
    "Another project successfully completed - well done! 🏆 Your consistent effort and progress are truly commendable.\n",
    "    \n",
    "Overall, well done! I can see that a lot of effort has been put in. Your project already looks really good, and you've achieved impressive results.\n",
    "\n",
    "You’ll find specific feedback in the notebook in the ‘Comments’ (`Reviewer's comment v1`) sections, which will help enhance your project even further:\n",
    "    \n",
    "And of course, if you have any questions along the way, don't hesitate to reach out to your tutor for clarification.\n",
    "</div>"
   ]
  },
  {
   "cell_type": "markdown",
   "metadata": {},
   "source": [
    "Now! It's time to look at things through our python eyes. Here we will be able to take the data that we have previously sorted through SQL and be able to plot and graph the data to better visualize different preferences and when the opportune time is to try to break into the Chicago market."
   ]
  },
  {
   "cell_type": "markdown",
   "metadata": {},
   "source": [
    "<div class=\"alert alert-block alert-success\">\n",
    "<b>Reviewer's comment v1</b>\n",
    " \n",
    "Great that you added additional information about the project goal and tasks."
   ]
  },
  {
   "cell_type": "code",
   "execution_count": 1,
   "metadata": {},
   "outputs": [],
   "source": [
    "import pandas as pd\n",
    "import numpy as np\n",
    "import matplotlib.pyplot as plt\n",
    "import seaborn as sns\n",
    "from scipy import stats"
   ]
  },
  {
   "cell_type": "code",
   "execution_count": 2,
   "metadata": {
    "scrolled": false
   },
   "outputs": [
    {
     "data": {
      "text/html": [
       "<div>\n",
       "<style scoped>\n",
       "    .dataframe tbody tr th:only-of-type {\n",
       "        vertical-align: middle;\n",
       "    }\n",
       "\n",
       "    .dataframe tbody tr th {\n",
       "        vertical-align: top;\n",
       "    }\n",
       "\n",
       "    .dataframe thead th {\n",
       "        text-align: right;\n",
       "    }\n",
       "</style>\n",
       "<table border=\"1\" class=\"dataframe\">\n",
       "  <thead>\n",
       "    <tr style=\"text-align: right;\">\n",
       "      <th></th>\n",
       "      <th>company_name</th>\n",
       "      <th>trips_amount</th>\n",
       "    </tr>\n",
       "  </thead>\n",
       "  <tbody>\n",
       "    <tr>\n",
       "      <th>0</th>\n",
       "      <td>Flash Cab</td>\n",
       "      <td>19558</td>\n",
       "    </tr>\n",
       "    <tr>\n",
       "      <th>1</th>\n",
       "      <td>Taxi Affiliation Services</td>\n",
       "      <td>11422</td>\n",
       "    </tr>\n",
       "    <tr>\n",
       "      <th>2</th>\n",
       "      <td>Medallion Leasing</td>\n",
       "      <td>10367</td>\n",
       "    </tr>\n",
       "    <tr>\n",
       "      <th>3</th>\n",
       "      <td>Yellow Cab</td>\n",
       "      <td>9888</td>\n",
       "    </tr>\n",
       "    <tr>\n",
       "      <th>4</th>\n",
       "      <td>Taxi Affiliation Service Yellow</td>\n",
       "      <td>9299</td>\n",
       "    </tr>\n",
       "    <tr>\n",
       "      <th>5</th>\n",
       "      <td>Chicago Carriage Cab Corp</td>\n",
       "      <td>9181</td>\n",
       "    </tr>\n",
       "    <tr>\n",
       "      <th>6</th>\n",
       "      <td>City Service</td>\n",
       "      <td>8448</td>\n",
       "    </tr>\n",
       "    <tr>\n",
       "      <th>7</th>\n",
       "      <td>Sun Taxi</td>\n",
       "      <td>7701</td>\n",
       "    </tr>\n",
       "    <tr>\n",
       "      <th>8</th>\n",
       "      <td>Star North Management LLC</td>\n",
       "      <td>7455</td>\n",
       "    </tr>\n",
       "    <tr>\n",
       "      <th>9</th>\n",
       "      <td>Blue Ribbon Taxi Association Inc.</td>\n",
       "      <td>5953</td>\n",
       "    </tr>\n",
       "  </tbody>\n",
       "</table>\n",
       "</div>"
      ],
      "text/plain": [
       "                        company_name  trips_amount\n",
       "0                          Flash Cab         19558\n",
       "1          Taxi Affiliation Services         11422\n",
       "2                  Medallion Leasing         10367\n",
       "3                         Yellow Cab          9888\n",
       "4    Taxi Affiliation Service Yellow          9299\n",
       "5          Chicago Carriage Cab Corp          9181\n",
       "6                       City Service          8448\n",
       "7                           Sun Taxi          7701\n",
       "8          Star North Management LLC          7455\n",
       "9  Blue Ribbon Taxi Association Inc.          5953"
      ]
     },
     "metadata": {},
     "output_type": "display_data"
    },
    {
     "data": {
      "text/html": [
       "<div>\n",
       "<style scoped>\n",
       "    .dataframe tbody tr th:only-of-type {\n",
       "        vertical-align: middle;\n",
       "    }\n",
       "\n",
       "    .dataframe tbody tr th {\n",
       "        vertical-align: top;\n",
       "    }\n",
       "\n",
       "    .dataframe thead th {\n",
       "        text-align: right;\n",
       "    }\n",
       "</style>\n",
       "<table border=\"1\" class=\"dataframe\">\n",
       "  <thead>\n",
       "    <tr style=\"text-align: right;\">\n",
       "      <th></th>\n",
       "      <th>dropoff_location_name</th>\n",
       "      <th>average_trips</th>\n",
       "    </tr>\n",
       "  </thead>\n",
       "  <tbody>\n",
       "    <tr>\n",
       "      <th>0</th>\n",
       "      <td>Loop</td>\n",
       "      <td>10727.466667</td>\n",
       "    </tr>\n",
       "    <tr>\n",
       "      <th>1</th>\n",
       "      <td>River North</td>\n",
       "      <td>9523.666667</td>\n",
       "    </tr>\n",
       "    <tr>\n",
       "      <th>2</th>\n",
       "      <td>Streeterville</td>\n",
       "      <td>6664.666667</td>\n",
       "    </tr>\n",
       "    <tr>\n",
       "      <th>3</th>\n",
       "      <td>West Loop</td>\n",
       "      <td>5163.666667</td>\n",
       "    </tr>\n",
       "    <tr>\n",
       "      <th>4</th>\n",
       "      <td>O'Hare</td>\n",
       "      <td>2546.900000</td>\n",
       "    </tr>\n",
       "    <tr>\n",
       "      <th>5</th>\n",
       "      <td>Lake View</td>\n",
       "      <td>2420.966667</td>\n",
       "    </tr>\n",
       "    <tr>\n",
       "      <th>6</th>\n",
       "      <td>Grant Park</td>\n",
       "      <td>2068.533333</td>\n",
       "    </tr>\n",
       "    <tr>\n",
       "      <th>7</th>\n",
       "      <td>Museum Campus</td>\n",
       "      <td>1510.000000</td>\n",
       "    </tr>\n",
       "    <tr>\n",
       "      <th>8</th>\n",
       "      <td>Gold Coast</td>\n",
       "      <td>1364.233333</td>\n",
       "    </tr>\n",
       "    <tr>\n",
       "      <th>9</th>\n",
       "      <td>Sheffield &amp; DePaul</td>\n",
       "      <td>1259.766667</td>\n",
       "    </tr>\n",
       "  </tbody>\n",
       "</table>\n",
       "</div>"
      ],
      "text/plain": [
       "  dropoff_location_name  average_trips\n",
       "0                  Loop   10727.466667\n",
       "1           River North    9523.666667\n",
       "2         Streeterville    6664.666667\n",
       "3             West Loop    5163.666667\n",
       "4                O'Hare    2546.900000\n",
       "5             Lake View    2420.966667\n",
       "6            Grant Park    2068.533333\n",
       "7         Museum Campus    1510.000000\n",
       "8            Gold Coast    1364.233333\n",
       "9    Sheffield & DePaul    1259.766667"
      ]
     },
     "metadata": {},
     "output_type": "display_data"
    },
    {
     "data": {
      "text/html": [
       "<div>\n",
       "<style scoped>\n",
       "    .dataframe tbody tr th:only-of-type {\n",
       "        vertical-align: middle;\n",
       "    }\n",
       "\n",
       "    .dataframe tbody tr th {\n",
       "        vertical-align: top;\n",
       "    }\n",
       "\n",
       "    .dataframe thead th {\n",
       "        text-align: right;\n",
       "    }\n",
       "</style>\n",
       "<table border=\"1\" class=\"dataframe\">\n",
       "  <thead>\n",
       "    <tr style=\"text-align: right;\">\n",
       "      <th></th>\n",
       "      <th>start_ts</th>\n",
       "      <th>weather_conditions</th>\n",
       "      <th>duration_seconds</th>\n",
       "    </tr>\n",
       "  </thead>\n",
       "  <tbody>\n",
       "    <tr>\n",
       "      <th>0</th>\n",
       "      <td>2017-11-25 16:00:00</td>\n",
       "      <td>Good</td>\n",
       "      <td>2410.0</td>\n",
       "    </tr>\n",
       "    <tr>\n",
       "      <th>1</th>\n",
       "      <td>2017-11-25 14:00:00</td>\n",
       "      <td>Good</td>\n",
       "      <td>1920.0</td>\n",
       "    </tr>\n",
       "    <tr>\n",
       "      <th>2</th>\n",
       "      <td>2017-11-25 12:00:00</td>\n",
       "      <td>Good</td>\n",
       "      <td>1543.0</td>\n",
       "    </tr>\n",
       "    <tr>\n",
       "      <th>3</th>\n",
       "      <td>2017-11-04 10:00:00</td>\n",
       "      <td>Good</td>\n",
       "      <td>2512.0</td>\n",
       "    </tr>\n",
       "    <tr>\n",
       "      <th>4</th>\n",
       "      <td>2017-11-11 07:00:00</td>\n",
       "      <td>Good</td>\n",
       "      <td>1440.0</td>\n",
       "    </tr>\n",
       "    <tr>\n",
       "      <th>5</th>\n",
       "      <td>2017-11-11 04:00:00</td>\n",
       "      <td>Good</td>\n",
       "      <td>1320.0</td>\n",
       "    </tr>\n",
       "    <tr>\n",
       "      <th>6</th>\n",
       "      <td>2017-11-04 16:00:00</td>\n",
       "      <td>Bad</td>\n",
       "      <td>2969.0</td>\n",
       "    </tr>\n",
       "    <tr>\n",
       "      <th>7</th>\n",
       "      <td>2017-11-18 11:00:00</td>\n",
       "      <td>Good</td>\n",
       "      <td>2280.0</td>\n",
       "    </tr>\n",
       "    <tr>\n",
       "      <th>8</th>\n",
       "      <td>2017-11-11 14:00:00</td>\n",
       "      <td>Good</td>\n",
       "      <td>2460.0</td>\n",
       "    </tr>\n",
       "    <tr>\n",
       "      <th>9</th>\n",
       "      <td>2017-11-11 12:00:00</td>\n",
       "      <td>Good</td>\n",
       "      <td>2040.0</td>\n",
       "    </tr>\n",
       "  </tbody>\n",
       "</table>\n",
       "</div>"
      ],
      "text/plain": [
       "              start_ts weather_conditions  duration_seconds\n",
       "0  2017-11-25 16:00:00               Good            2410.0\n",
       "1  2017-11-25 14:00:00               Good            1920.0\n",
       "2  2017-11-25 12:00:00               Good            1543.0\n",
       "3  2017-11-04 10:00:00               Good            2512.0\n",
       "4  2017-11-11 07:00:00               Good            1440.0\n",
       "5  2017-11-11 04:00:00               Good            1320.0\n",
       "6  2017-11-04 16:00:00                Bad            2969.0\n",
       "7  2017-11-18 11:00:00               Good            2280.0\n",
       "8  2017-11-11 14:00:00               Good            2460.0\n",
       "9  2017-11-11 12:00:00               Good            2040.0"
      ]
     },
     "metadata": {},
     "output_type": "display_data"
    }
   ],
   "source": [
    "df1 = pd.read_csv(\"/datasets/project_sql_result_01.csv\")\n",
    "df2 = pd.read_csv(\"/datasets/project_sql_result_04.csv\")\n",
    "df3 = pd.read_csv(\"/datasets/project_sql_result_07.csv\")\n",
    "\n",
    "display(df1.head(10))\n",
    "display(df2.head(10))\n",
    "display(df3.head(10))"
   ]
  },
  {
   "cell_type": "code",
   "execution_count": 3,
   "metadata": {},
   "outputs": [
    {
     "data": {
      "text/html": [
       "<div>\n",
       "<style scoped>\n",
       "    .dataframe tbody tr th:only-of-type {\n",
       "        vertical-align: middle;\n",
       "    }\n",
       "\n",
       "    .dataframe tbody tr th {\n",
       "        vertical-align: top;\n",
       "    }\n",
       "\n",
       "    .dataframe thead th {\n",
       "        text-align: right;\n",
       "    }\n",
       "</style>\n",
       "<table border=\"1\" class=\"dataframe\">\n",
       "  <thead>\n",
       "    <tr style=\"text-align: right;\">\n",
       "      <th></th>\n",
       "      <th>dropoff_location_name</th>\n",
       "      <th>average_trips</th>\n",
       "    </tr>\n",
       "  </thead>\n",
       "  <tbody>\n",
       "    <tr>\n",
       "      <th>0</th>\n",
       "      <td>Loop</td>\n",
       "      <td>10727</td>\n",
       "    </tr>\n",
       "    <tr>\n",
       "      <th>1</th>\n",
       "      <td>River North</td>\n",
       "      <td>9523</td>\n",
       "    </tr>\n",
       "    <tr>\n",
       "      <th>2</th>\n",
       "      <td>Streeterville</td>\n",
       "      <td>6664</td>\n",
       "    </tr>\n",
       "    <tr>\n",
       "      <th>3</th>\n",
       "      <td>West Loop</td>\n",
       "      <td>5163</td>\n",
       "    </tr>\n",
       "    <tr>\n",
       "      <th>4</th>\n",
       "      <td>O'Hare</td>\n",
       "      <td>2546</td>\n",
       "    </tr>\n",
       "    <tr>\n",
       "      <th>5</th>\n",
       "      <td>Lake View</td>\n",
       "      <td>2420</td>\n",
       "    </tr>\n",
       "    <tr>\n",
       "      <th>6</th>\n",
       "      <td>Grant Park</td>\n",
       "      <td>2068</td>\n",
       "    </tr>\n",
       "    <tr>\n",
       "      <th>7</th>\n",
       "      <td>Museum Campus</td>\n",
       "      <td>1510</td>\n",
       "    </tr>\n",
       "    <tr>\n",
       "      <th>8</th>\n",
       "      <td>Gold Coast</td>\n",
       "      <td>1364</td>\n",
       "    </tr>\n",
       "    <tr>\n",
       "      <th>9</th>\n",
       "      <td>Sheffield &amp; DePaul</td>\n",
       "      <td>1259</td>\n",
       "    </tr>\n",
       "  </tbody>\n",
       "</table>\n",
       "</div>"
      ],
      "text/plain": [
       "  dropoff_location_name  average_trips\n",
       "0                  Loop          10727\n",
       "1           River North           9523\n",
       "2         Streeterville           6664\n",
       "3             West Loop           5163\n",
       "4                O'Hare           2546\n",
       "5             Lake View           2420\n",
       "6            Grant Park           2068\n",
       "7         Museum Campus           1510\n",
       "8            Gold Coast           1364\n",
       "9    Sheffield & DePaul           1259"
      ]
     },
     "metadata": {},
     "output_type": "display_data"
    }
   ],
   "source": [
    "df2[\"average_trips\"] = df2[\"average_trips\"].astype(int)\n",
    "\n",
    "display(df2.head(10))"
   ]
  },
  {
   "cell_type": "markdown",
   "metadata": {},
   "source": [
    "<div class=\"alert alert-block alert-danger\">\n",
    "<b>Reviewer's comment v1</b>\n",
    " \n",
    "The `average_trips` column is currently a float, but it should be an integer since it represents the average number of trips. Could you please adjust its data type?"
   ]
  },
  {
   "cell_type": "code",
   "execution_count": 4,
   "metadata": {
    "scrolled": true
   },
   "outputs": [
    {
     "name": "stdout",
     "output_type": "stream",
     "text": [
      "company_name    0\n",
      "trips_amount    0\n",
      "dtype: int64\n"
     ]
    }
   ],
   "source": [
    "missing_values = df1.isnull().sum()\n",
    "\n",
    "print(missing_values)"
   ]
  },
  {
   "cell_type": "code",
   "execution_count": 5,
   "metadata": {},
   "outputs": [
    {
     "name": "stdout",
     "output_type": "stream",
     "text": [
      "dropoff_location_name    0\n",
      "average_trips            0\n",
      "dtype: int64\n"
     ]
    }
   ],
   "source": [
    "missing_values2 = df2.isnull().sum()\n",
    "\n",
    "print(missing_values2)"
   ]
  },
  {
   "cell_type": "code",
   "execution_count": 6,
   "metadata": {},
   "outputs": [
    {
     "name": "stdout",
     "output_type": "stream",
     "text": [
      "company_name    0.0\n",
      "trips_amount    0.0\n",
      "dtype: float64\n"
     ]
    }
   ],
   "source": [
    "duplicates_df1 = df1[df1.duplicated()].sum()\n",
    "\n",
    "print(duplicates_df1)"
   ]
  },
  {
   "cell_type": "code",
   "execution_count": 7,
   "metadata": {},
   "outputs": [
    {
     "name": "stdout",
     "output_type": "stream",
     "text": [
      "dropoff_location_name    0.0\n",
      "average_trips            0.0\n",
      "dtype: float64\n"
     ]
    }
   ],
   "source": [
    "duplicates_df2 = df2[df2.duplicated()].sum()\n",
    "\n",
    "print(duplicates_df2)"
   ]
  },
  {
   "cell_type": "code",
   "execution_count": 8,
   "metadata": {
    "scrolled": true
   },
   "outputs": [
    {
     "name": "stdout",
     "output_type": "stream",
     "text": [
      "start_ts              0\n",
      "weather_conditions    0\n",
      "duration_seconds      0\n",
      "dtype: int64\n"
     ]
    }
   ],
   "source": [
    "missing_values3 = df3.isnull().sum()\n",
    "\n",
    "print(missing_values3)"
   ]
  },
  {
   "cell_type": "markdown",
   "metadata": {},
   "source": [
    "<div class=\"alert alert-block alert-success\">\n",
    "<b>Reviewer's comment v1</b>\n",
    " \n",
    "This is a great way to start any analysis because it helps you understand what the data looks like and whether there are any missing values."
   ]
  },
  {
   "cell_type": "code",
   "execution_count": 9,
   "metadata": {
    "scrolled": true
   },
   "outputs": [
    {
     "data": {
      "image/png": "[encoded data removed]",
      "text/plain": [
       "<Figure size 640x480 with 1 Axes>"
      ]
     },
     "metadata": {},
     "output_type": "display_data"
    },
    {
     "data": {
      "image/png": "[encoded data removed]",
      "text/plain": [
       "<Figure size 1200x600 with 1 Axes>"
      ]
     },
     "metadata": {},
     "output_type": "display_data"
    }
   ],
   "source": [
    "top_companies = df1.groupby(\"company_name\")[\"trips_amount\"].mean().reset_index()\n",
    "top_companies = top_companies.sort_values(by=\"trips_amount\", ascending=False).head(10)\n",
    "sns.barplot(x=\"company_name\", y=\"trips_amount\", data=top_companies, palette=\"viridis\")\n",
    "\n",
    "plt.xlabel(\"Taxi Companies\", fontsize=12)\n",
    "plt.ylabel(\"Average Number of Trips\", fontsize=12)\n",
    "plt.title(\"Top 10 Taxi Companies by Average Trips\", fontsize=14)\n",
    "plt.xticks(rotation=90)  \n",
    "plt.show()\n",
    "\n",
    "top_neighborhoods = df2.groupby(\"dropoff_location_name\")[\"average_trips\"].sum().nlargest(10).reset_index()\n",
    "top_neighborhoods.columns = [\"Neighborhood\", \"Number of Drop-offs\"]\n",
    "\n",
    "plt.figure(figsize=(12, 6))\n",
    "sns.barplot(x=\"Neighborhood\", y=\"Number of Drop-offs\", data=top_neighborhoods, palette=\"magma\")\n",
    "plt.xlabel(\"Neighborhood\", fontsize=12)\n",
    "plt.ylabel(\"Number of Drop-offs\", fontsize=12)\n",
    "plt.title(\"Top 10 Neighborhoods by Number of Drop-offs\", fontsize=14)\n",
    "plt.xticks(rotation=45)\n",
    "plt.show()"
   ]
  },
  {
   "cell_type": "markdown",
   "metadata": {},
   "source": [
    "In the table above we see that Flash Cab is killing it in the amount of trips it is doing vs all of the other competition. We also see that out of the top 10 neighborhoods the top four hold the market for drop offs! There are prefecerences here that we can see in the taxi cab service used due to Flach Cab doing almost double all other services."
   ]
  },
  {
   "cell_type": "markdown",
   "metadata": {},
   "source": [
    "<div class=\"alert alert-block alert-success\">\n",
    "<b>Reviewer's comment v1</b>\n",
    " \n",
    "Well done! Everything is correct here. "
   ]
  },
  {
   "cell_type": "code",
   "execution_count": 11,
   "metadata": {
    "scrolled": true
   },
   "outputs": [
    {
     "name": "stdout",
     "output_type": "stream",
     "text": [
      "Outliers detected using Z-score:\n",
      "                start_ts weather_conditions  duration_seconds   z_score\n",
      "79   2017-11-11 15:00:00               Good            4800.0  3.547349\n",
      "276  2017-11-18 12:00:00                Bad            4980.0  3.781388\n",
      "354  2017-11-25 11:00:00               Good            7440.0  6.979929\n",
      "583  2017-11-11 16:00:00               Good            4980.0  3.781388\n",
      "619  2017-11-25 14:00:00               Good            6420.0  5.653705\n",
      "646  2017-11-11 13:00:00               Good            4380.0  3.001256\n"
     ]
    }
   ],
   "source": [
    "df3['z_score'] = np.abs(stats.zscore(df3['duration_seconds']))\n",
    "\n",
    "outliers_z = df3[df3['z_score'] > 3]\n",
    "print(f\"Outliers detected using Z-score:\\n{outliers_z}\")\n",
    "\n",
    "df3.drop(columns=['z_score'], inplace=True)"
   ]
  },
  {
   "cell_type": "code",
   "execution_count": 13,
   "metadata": {
    "scrolled": true
   },
   "outputs": [
    {
     "name": "stdout",
     "output_type": "stream",
     "text": [
      "Original size: 1068, Cleaned size: 1062\n"
     ]
    }
   ],
   "source": [
    "df3['z_score'] = np.abs(stats.zscore(df3['duration_seconds']))\n",
    "\n",
    "df3_cleaned = df3[df3['z_score'] <= 3].drop(columns=['z_score'])\n",
    "\n",
    "print(f\"Original size: {len(df3)}, Cleaned size: {len(df3_cleaned)}\")"
   ]
  },
  {
   "cell_type": "code",
   "execution_count": 15,
   "metadata": {
    "scrolled": true
   },
   "outputs": [
    {
     "data": {
      "image/png": "[encoded data removed]",
      "text/plain": [
       "<Figure size 800x600 with 1 Axes>"
      ]
     },
     "metadata": {},
     "output_type": "display_data"
    }
   ],
   "source": [
    "plt.figure(figsize=(8, 6))\n",
    "sns.boxplot(x=df3[\"duration_seconds\"])\n",
    "plt.title(\"Box Plot of Duration (seconds) with Outliers\")\n",
    "plt.xlabel(\"Duration (seconds)\")\n",
    "plt.show()"
   ]
  },
  {
   "cell_type": "markdown",
   "metadata": {},
   "source": [
    "Hypothesis: Does the average duration of rides change on rainy Saturdays?\n",
    "\n",
    " - Null Hypothesis = The average ride duration on rainy Saturdays is equal to the average ride duration on non-rainy Saturdays.\n",
    " \n",
    " - Alternative Hypothesis = The average ride duration on rainy Saturdays is different from the average ride duration on non-rainy Saturdays."
   ]
  },
  {
   "cell_type": "code",
   "execution_count": 14,
   "metadata": {},
   "outputs": [
    {
     "name": "stdout",
     "output_type": "stream",
     "text": [
      "T-statistic: 7.19\n",
      "P-value: 0.0000\n",
      "Reject the null hypothesis: The average duration of rides changes on rainy Saturdays.\n"
     ]
    }
   ],
   "source": [
    "df3['start_ts'] = pd.to_datetime(df3['start_ts'], errors='coerce')\n",
    "\n",
    "rainy_saturdays = df3[df3['weather_conditions'].str.contains(\"Bad\", case=False, na=False)]\n",
    "non_rainy_saturdays = df3[~df3['weather_conditions'].str.contains(\"Bad\", case=False, na=False)]\n",
    "\n",
    "rainy_saturdays = rainy_saturdays.dropna(subset=['duration_seconds'])\n",
    "non_rainy_saturdays = non_rainy_saturdays.dropna(subset=['duration_seconds'])\n",
    "\n",
    "if len(rainy_saturdays) <= 2 or len(non_rainy_saturdays) <= 2:\n",
    "    print(\"Not enough data to perform the test.\")\n",
    "else:\n",
    "    t_statistic, p_value = stats.ttest_ind(\n",
    "        rainy_saturdays['duration_seconds'],\n",
    "        non_rainy_saturdays['duration_seconds'],\n",
    "        equal_var=False\n",
    "    )\n",
    "\n",
    "   \n",
    "    alpha = 0.05\n",
    "\n",
    "   \n",
    "    if p_value < alpha:\n",
    "        conclusion = \"Reject the null hypothesis: The average duration of rides changes on rainy Saturdays.\"\n",
    "    else:\n",
    "        conclusion = \"Fail to reject the null hypothesis: There is no significant evidence that the average duration of rides changes on rainy Saturdays.\"\n",
    "\n",
    "    print(f\"T-statistic: {t_statistic:.2f}\")\n",
    "    print(f\"P-value: {p_value:.4f}\")\n",
    "    print(conclusion)"
   ]
  },
  {
   "cell_type": "markdown",
   "metadata": {},
   "source": [
    "<div class=\"alert alert-block alert-danger\">\n",
    "<b>Reviewer's comment v1</b>\n",
    " \n",
    "Could you please make a quick check of the dataframe: descriptive statistics, missing values, duplicates, outliers. \n",
    "    \n",
    "Outliers can significantly affect the results of a two-sample t-test . Since the t-test compares the means of two groups, outliers can distort the mean and variance estimates, leading to unreliable test statistics and p-values. This distortion can result in an increased Type I error rate (incorrectly rejecting the null hypothesis) or reduced statistical power (failing to detect a true effect).\n",
    "    \n",
    "Here you could create a boxplot to identify outliers in `duration_seconds`. Make a decision how to proceed with them.  "
   ]
  },
  {
   "cell_type": "markdown",
   "metadata": {},
   "source": [
    "<div class=\"alert alert-block alert-danger\">\n",
    "<b>Reviewer's comment v1</b>\n",
    " \n",
    "Сould you please formulate a null hypothesis and an alternative hypothesis for each question before actual testing in the markdown box:\n",
    "    \n",
    "    H0:\n",
    "    \n",
    "    H1:"
   ]
  },
  {
   "cell_type": "code",
   "execution_count": 16,
   "metadata": {},
   "outputs": [
    {
     "data": {
      "image/png": "[encoded data removed]",
      "text/plain": [
       "<Figure size 800x500 with 1 Axes>"
      ]
     },
     "metadata": {},
     "output_type": "display_data"
    }
   ],
   "source": [
    "avg_duration_rainy = rainy_saturdays['duration_seconds'].mean()\n",
    "avg_duration_non_rainy = non_rainy_saturdays['duration_seconds'].mean()\n",
    "\n",
    "categories = ['Rainy Saturdays', 'Non-Rainy Saturdays']\n",
    "averages = [avg_duration_rainy, avg_duration_non_rainy]\n",
    "\n",
    "plt.figure(figsize=(8, 5))\n",
    "sns.barplot(x=categories, y=averages, palette=['blue', 'orange'])\n",
    "\n",
    "plt.xlabel(\"Weather Condition\", fontsize=12)\n",
    "plt.ylabel(\"Average Duration (seconds)\", fontsize=12)\n",
    "plt.title(\"Average Ride Duration on Rainy vs Non-Rainy Saturdays\", fontsize=14)\n",
    "plt.ylim(0, max(averages) * 1.2)  \n",
    "plt.grid(axis='y', linestyle='--', alpha=0.7)\n",
    "\n",
    "plt.show()"
   ]
  },
  {
   "cell_type": "markdown",
   "metadata": {},
   "source": [
    "To help interpert the hypothesis from above in a more understandable way of seeing it, Rainy Saturdays only increase their drive time from Loop to O'Hare International Air Port by 7 minutes. This is a significant amount of time increase for busy individuals trying to make it to the airport! The reason we need to reject the null hypothesis is due to the fact that again 7 minutes is a higher deviance in the time on non rainy saturdays. "
   ]
  },
  {
   "cell_type": "markdown",
   "metadata": {},
   "source": [
    "In closing, There is plenty of room for us to grow here in the Chicago Market!! This being said we will need to do a few things and focus on them to be at the top of our game. 1. See if there are any alternate routes that will give us the edge on our competitors for getting customers where they need to be quicker while still maintaining safety! 2. Focus on the neighborhoods that are in the top four for drop off locations, not only will this help us get our name out there but word will spread about us due to the tactics stated above! Finally, we have built our business on customer care and reliability for our customers in the past, so let's continue to use that to help us grow in the Chicago Market!"
   ]
  },
  {
   "cell_type": "markdown",
   "metadata": {},
   "source": [
    "<div class=\"alert alert-block alert-success\">\n",
    "<b>Reviewer's comment v1</b>\n",
    " \n",
    "Overall, your conclusions are insightful and actionable, providing Zuber with a comprehensive roadmap to optimize operations and enhance its competitive edge in Chicago. Great work!"
   ]
  }
 ],
 "metadata": {
  "ExecuteTimeLog": [
   {
    "duration": 2533,
    "start_time": "2025-02-26T01:33:21.885Z"
   },
   {
    "duration": 7,
    "start_time": "2025-02-26T01:38:15.459Z"
   },
   {
    "duration": 29,
    "start_time": "2025-02-26T01:38:49.880Z"
   },
   {
    "duration": 13,
    "start_time": "2025-02-26T01:40:46.999Z"
   },
   {
    "duration": 3,
    "start_time": "2025-02-26T01:41:06.556Z"
   },
   {
    "duration": 3,
    "start_time": "2025-02-26T01:41:24.314Z"
   },
   {
    "duration": 860,
    "start_time": "2025-02-26T01:41:30.961Z"
   },
   {
    "duration": 20,
    "start_time": "2025-02-26T01:41:31.823Z"
   },
   {
    "duration": 3,
    "start_time": "2025-02-26T01:41:31.845Z"
   },
   {
    "duration": 3,
    "start_time": "2025-02-26T01:41:31.850Z"
   },
   {
    "duration": 5,
    "start_time": "2025-02-26T01:41:55.195Z"
   },
   {
    "duration": 4,
    "start_time": "2025-02-26T01:42:22.918Z"
   },
   {
    "duration": 5,
    "start_time": "2025-02-26T01:44:20.023Z"
   },
   {
    "duration": 6,
    "start_time": "2025-02-26T01:44:31.165Z"
   },
   {
    "duration": 5,
    "start_time": "2025-02-26T01:45:00.051Z"
   },
   {
    "duration": 212,
    "start_time": "2025-02-26T01:51:20.395Z"
   },
   {
    "duration": 152,
    "start_time": "2025-02-26T01:52:35.750Z"
   },
   {
    "duration": 246,
    "start_time": "2025-02-26T01:52:46.446Z"
   },
   {
    "duration": 139,
    "start_time": "2025-02-26T01:52:56.085Z"
   },
   {
    "duration": 180,
    "start_time": "2025-02-26T01:53:25.265Z"
   },
   {
    "duration": 174,
    "start_time": "2025-02-26T01:53:42.745Z"
   },
   {
    "duration": 167,
    "start_time": "2025-02-26T01:53:54.854Z"
   },
   {
    "duration": 816,
    "start_time": "2025-02-26T01:54:41.686Z"
   },
   {
    "duration": 19,
    "start_time": "2025-02-26T01:54:42.504Z"
   },
   {
    "duration": 5,
    "start_time": "2025-02-26T01:54:42.525Z"
   },
   {
    "duration": 11,
    "start_time": "2025-02-26T01:54:42.532Z"
   },
   {
    "duration": 5,
    "start_time": "2025-02-26T01:54:42.546Z"
   },
   {
    "duration": 5,
    "start_time": "2025-02-26T01:54:42.553Z"
   },
   {
    "duration": 211,
    "start_time": "2025-02-26T01:54:42.560Z"
   },
   {
    "duration": 395,
    "start_time": "2025-02-26T01:58:22.582Z"
   },
   {
    "duration": 1000,
    "start_time": "2025-02-26T01:58:46.331Z"
   },
   {
    "duration": 25,
    "start_time": "2025-02-26T01:58:47.335Z"
   },
   {
    "duration": 3,
    "start_time": "2025-02-26T01:58:47.363Z"
   },
   {
    "duration": 5,
    "start_time": "2025-02-26T01:58:47.368Z"
   },
   {
    "duration": 7,
    "start_time": "2025-02-26T01:58:47.374Z"
   },
   {
    "duration": 5,
    "start_time": "2025-02-26T01:58:47.382Z"
   },
   {
    "duration": 572,
    "start_time": "2025-02-26T01:58:47.389Z"
   },
   {
    "duration": 453,
    "start_time": "2025-02-26T02:00:24.957Z"
   },
   {
    "duration": 606,
    "start_time": "2025-02-26T02:01:38.691Z"
   },
   {
    "duration": 163,
    "start_time": "2025-02-26T06:01:15.423Z"
   },
   {
    "duration": 2570,
    "start_time": "2025-02-26T06:01:31.954Z"
   },
   {
    "duration": 25,
    "start_time": "2025-02-26T06:01:34.526Z"
   },
   {
    "duration": 4,
    "start_time": "2025-02-26T06:01:34.553Z"
   },
   {
    "duration": 4,
    "start_time": "2025-02-26T06:01:34.559Z"
   },
   {
    "duration": 6,
    "start_time": "2025-02-26T06:01:34.565Z"
   },
   {
    "duration": 5,
    "start_time": "2025-02-26T06:01:34.587Z"
   },
   {
    "duration": 378,
    "start_time": "2025-02-26T06:01:34.594Z"
   },
   {
    "duration": 706,
    "start_time": "2025-02-26T06:06:53.402Z"
   },
   {
    "duration": 52,
    "start_time": "2025-02-26T06:08:15.444Z"
   },
   {
    "duration": 55,
    "start_time": "2025-02-26T06:08:47.009Z"
   },
   {
    "duration": 239,
    "start_time": "2025-02-26T06:09:24.448Z"
   },
   {
    "duration": 4,
    "start_time": "2025-02-26T06:13:31.151Z"
   },
   {
    "duration": 71,
    "start_time": "2025-02-26T06:13:43.878Z"
   },
   {
    "duration": 811,
    "start_time": "2025-02-26T06:13:49.367Z"
   },
   {
    "duration": 24,
    "start_time": "2025-02-26T06:13:50.180Z"
   },
   {
    "duration": 4,
    "start_time": "2025-02-26T06:13:50.206Z"
   },
   {
    "duration": 5,
    "start_time": "2025-02-26T06:13:50.212Z"
   },
   {
    "duration": 4,
    "start_time": "2025-02-26T06:13:50.220Z"
   },
   {
    "duration": 5,
    "start_time": "2025-02-26T06:13:50.226Z"
   },
   {
    "duration": 6,
    "start_time": "2025-02-26T06:13:50.232Z"
   },
   {
    "duration": 391,
    "start_time": "2025-02-26T06:13:50.239Z"
   },
   {
    "duration": 747,
    "start_time": "2025-02-26T06:13:50.632Z"
   },
   {
    "duration": 832,
    "start_time": "2025-02-26T06:14:11.845Z"
   },
   {
    "duration": 19,
    "start_time": "2025-02-26T06:14:12.680Z"
   },
   {
    "duration": 5,
    "start_time": "2025-02-26T06:14:12.700Z"
   },
   {
    "duration": 5,
    "start_time": "2025-02-26T06:14:12.708Z"
   },
   {
    "duration": 5,
    "start_time": "2025-02-26T06:14:12.714Z"
   },
   {
    "duration": 6,
    "start_time": "2025-02-26T06:14:12.720Z"
   },
   {
    "duration": 5,
    "start_time": "2025-02-26T06:14:12.728Z"
   },
   {
    "duration": 446,
    "start_time": "2025-02-26T06:14:12.735Z"
   },
   {
    "duration": 313,
    "start_time": "2025-02-26T06:14:13.183Z"
   },
   {
    "duration": 25,
    "start_time": "2025-02-26T06:15:16.119Z"
   },
   {
    "duration": 26,
    "start_time": "2025-02-26T06:15:54.836Z"
   },
   {
    "duration": 845,
    "start_time": "2025-02-26T06:17:58.816Z"
   },
   {
    "duration": 19,
    "start_time": "2025-02-26T06:17:59.663Z"
   },
   {
    "duration": 4,
    "start_time": "2025-02-26T06:17:59.686Z"
   },
   {
    "duration": 4,
    "start_time": "2025-02-26T06:17:59.693Z"
   },
   {
    "duration": 6,
    "start_time": "2025-02-26T06:17:59.698Z"
   },
   {
    "duration": 7,
    "start_time": "2025-02-26T06:17:59.705Z"
   },
   {
    "duration": 394,
    "start_time": "2025-02-26T06:17:59.713Z"
   },
   {
    "duration": 280,
    "start_time": "2025-02-26T06:18:00.109Z"
   },
   {
    "duration": 799,
    "start_time": "2025-02-26T06:18:24.672Z"
   },
   {
    "duration": 18,
    "start_time": "2025-02-26T06:18:25.474Z"
   },
   {
    "duration": 5,
    "start_time": "2025-02-26T06:18:25.494Z"
   },
   {
    "duration": 4,
    "start_time": "2025-02-26T06:18:25.500Z"
   },
   {
    "duration": 5,
    "start_time": "2025-02-26T06:18:25.507Z"
   },
   {
    "duration": 5,
    "start_time": "2025-02-26T06:18:25.513Z"
   },
   {
    "duration": 401,
    "start_time": "2025-02-26T06:18:25.520Z"
   },
   {
    "duration": 709,
    "start_time": "2025-02-26T06:18:25.923Z"
   },
   {
    "duration": 160,
    "start_time": "2025-02-27T02:06:00.412Z"
   },
   {
    "duration": 28,
    "start_time": "2025-02-27T02:06:29.899Z"
   },
   {
    "duration": 2506,
    "start_time": "2025-02-27T02:27:54.861Z"
   },
   {
    "duration": 20,
    "start_time": "2025-02-27T02:27:57.369Z"
   },
   {
    "duration": 4,
    "start_time": "2025-02-27T02:27:57.391Z"
   },
   {
    "duration": 4,
    "start_time": "2025-02-27T02:27:57.398Z"
   },
   {
    "duration": 5,
    "start_time": "2025-02-27T02:27:57.404Z"
   },
   {
    "duration": 6,
    "start_time": "2025-02-27T02:27:57.410Z"
   },
   {
    "duration": 398,
    "start_time": "2025-02-27T02:27:57.417Z"
   },
   {
    "duration": 674,
    "start_time": "2025-02-27T02:27:57.817Z"
   },
   {
    "duration": 27,
    "start_time": "2025-02-27T02:52:23.686Z"
   },
   {
    "duration": 68,
    "start_time": "2025-02-27T02:52:58.430Z"
   },
   {
    "duration": 14,
    "start_time": "2025-02-27T03:13:14.411Z"
   },
   {
    "duration": 15,
    "start_time": "2025-02-27T03:13:33.741Z"
   },
   {
    "duration": 3,
    "start_time": "2025-02-27T03:31:21.992Z"
   },
   {
    "duration": 160,
    "start_time": "2025-03-01T16:30:39.374Z"
   },
   {
    "duration": 2530,
    "start_time": "2025-03-01T16:30:48.692Z"
   },
   {
    "duration": 28,
    "start_time": "2025-03-01T16:30:51.224Z"
   },
   {
    "duration": 5,
    "start_time": "2025-03-01T16:30:51.254Z"
   },
   {
    "duration": 4,
    "start_time": "2025-03-01T16:30:51.261Z"
   },
   {
    "duration": 18,
    "start_time": "2025-03-01T16:30:51.269Z"
   },
   {
    "duration": 7,
    "start_time": "2025-03-01T16:30:51.289Z"
   },
   {
    "duration": 374,
    "start_time": "2025-03-01T16:30:51.297Z"
   },
   {
    "duration": 228,
    "start_time": "2025-03-01T16:30:51.673Z"
   },
   {
    "duration": 28,
    "start_time": "2025-03-01T16:33:00.246Z"
   },
   {
    "duration": 809,
    "start_time": "2025-03-01T16:33:16.462Z"
   },
   {
    "duration": 23,
    "start_time": "2025-03-01T16:33:17.273Z"
   },
   {
    "duration": 4,
    "start_time": "2025-03-01T16:33:17.298Z"
   },
   {
    "duration": 3,
    "start_time": "2025-03-01T16:33:17.305Z"
   },
   {
    "duration": 5,
    "start_time": "2025-03-01T16:33:17.310Z"
   },
   {
    "duration": 5,
    "start_time": "2025-03-01T16:33:17.317Z"
   },
   {
    "duration": 383,
    "start_time": "2025-03-01T16:33:17.324Z"
   },
   {
    "duration": 278,
    "start_time": "2025-03-01T16:33:17.709Z"
   },
   {
    "duration": 461,
    "start_time": "2025-03-01T16:33:43.012Z"
   },
   {
    "duration": 12,
    "start_time": "2025-03-01T16:34:16.436Z"
   },
   {
    "duration": 18,
    "start_time": "2025-03-01T16:39:26.889Z"
   },
   {
    "duration": 23,
    "start_time": "2025-03-01T16:43:25.492Z"
   },
   {
    "duration": 141,
    "start_time": "2025-03-01T16:43:49.265Z"
   },
   {
    "duration": 11,
    "start_time": "2025-03-01T16:44:47.307Z"
   },
   {
    "duration": 11,
    "start_time": "2025-03-01T16:45:03.814Z"
   },
   {
    "duration": 329,
    "start_time": "2025-03-01T16:45:16.509Z"
   },
   {
    "duration": 5,
    "start_time": "2025-03-01T16:46:52.238Z"
   },
   {
    "duration": 5,
    "start_time": "2025-03-01T16:46:55.039Z"
   },
   {
    "duration": 792,
    "start_time": "2025-03-01T16:47:00.279Z"
   },
   {
    "duration": 26,
    "start_time": "2025-03-01T16:47:01.074Z"
   },
   {
    "duration": 10,
    "start_time": "2025-03-01T16:47:01.102Z"
   },
   {
    "duration": 4,
    "start_time": "2025-03-01T16:47:01.114Z"
   },
   {
    "duration": 4,
    "start_time": "2025-03-01T16:47:01.121Z"
   },
   {
    "duration": 7,
    "start_time": "2025-03-01T16:47:01.127Z"
   },
   {
    "duration": 5,
    "start_time": "2025-03-01T16:47:01.135Z"
   },
   {
    "duration": 419,
    "start_time": "2025-03-01T16:47:01.141Z"
   },
   {
    "duration": 268,
    "start_time": "2025-03-01T16:47:01.562Z"
   },
   {
    "duration": 0,
    "start_time": "2025-03-01T16:47:01.832Z"
   },
   {
    "duration": 5,
    "start_time": "2025-03-01T16:47:28.502Z"
   },
   {
    "duration": 6,
    "start_time": "2025-03-01T16:48:03.857Z"
   },
   {
    "duration": 406,
    "start_time": "2025-03-01T16:49:45.693Z"
   },
   {
    "duration": 782,
    "start_time": "2025-03-01T16:49:55.264Z"
   },
   {
    "duration": 23,
    "start_time": "2025-03-01T16:49:56.049Z"
   },
   {
    "duration": 11,
    "start_time": "2025-03-01T16:49:56.075Z"
   },
   {
    "duration": 4,
    "start_time": "2025-03-01T16:49:56.089Z"
   },
   {
    "duration": 6,
    "start_time": "2025-03-01T16:49:56.094Z"
   },
   {
    "duration": 6,
    "start_time": "2025-03-01T16:49:56.102Z"
   },
   {
    "duration": 410,
    "start_time": "2025-03-01T16:49:56.110Z"
   },
   {
    "duration": 541,
    "start_time": "2025-03-01T16:49:56.521Z"
   },
   {
    "duration": 18,
    "start_time": "2025-03-01T16:51:11.468Z"
   },
   {
    "duration": 822,
    "start_time": "2025-03-01T16:51:32.482Z"
   },
   {
    "duration": 24,
    "start_time": "2025-03-01T16:51:33.307Z"
   },
   {
    "duration": 4,
    "start_time": "2025-03-01T16:51:33.333Z"
   },
   {
    "duration": 4,
    "start_time": "2025-03-01T16:51:33.339Z"
   },
   {
    "duration": 5,
    "start_time": "2025-03-01T16:51:33.345Z"
   },
   {
    "duration": 5,
    "start_time": "2025-03-01T16:51:33.353Z"
   },
   {
    "duration": 393,
    "start_time": "2025-03-01T16:51:33.359Z"
   },
   {
    "duration": 11,
    "start_time": "2025-03-01T16:51:33.754Z"
   },
   {
    "duration": 2,
    "start_time": "2025-03-01T17:14:22.507Z"
   },
   {
    "duration": 18,
    "start_time": "2025-03-01T17:14:53.148Z"
   },
   {
    "duration": 4,
    "start_time": "2025-03-01T17:15:04.803Z"
   },
   {
    "duration": 51,
    "start_time": "2025-03-01T17:15:19.649Z"
   },
   {
    "duration": 5,
    "start_time": "2025-03-01T17:15:31.895Z"
   },
   {
    "duration": 4,
    "start_time": "2025-03-01T17:15:44.060Z"
   },
   {
    "duration": 6,
    "start_time": "2025-03-01T17:15:51.596Z"
   },
   {
    "duration": 6,
    "start_time": "2025-03-01T17:16:00.590Z"
   },
   {
    "duration": 5,
    "start_time": "2025-03-01T17:16:34.509Z"
   },
   {
    "duration": 6,
    "start_time": "2025-03-01T17:16:56.097Z"
   },
   {
    "duration": 6,
    "start_time": "2025-03-01T17:17:02.042Z"
   },
   {
    "duration": 7,
    "start_time": "2025-03-01T17:17:14.401Z"
   },
   {
    "duration": 5,
    "start_time": "2025-03-01T17:17:22.125Z"
   },
   {
    "duration": 7,
    "start_time": "2025-03-01T17:18:40.507Z"
   },
   {
    "duration": 254,
    "start_time": "2025-03-01T17:20:03.777Z"
   },
   {
    "duration": 19,
    "start_time": "2025-03-01T17:20:34.850Z"
   },
   {
    "duration": 21,
    "start_time": "2025-03-01T17:21:50.980Z"
   },
   {
    "duration": 20,
    "start_time": "2025-03-01T17:25:40.814Z"
   },
   {
    "duration": 22,
    "start_time": "2025-03-01T17:26:56.363Z"
   },
   {
    "duration": 416,
    "start_time": "2025-03-01T17:27:09.780Z"
   },
   {
    "duration": 205,
    "start_time": "2025-03-01T17:27:31.504Z"
   },
   {
    "duration": 168,
    "start_time": "2025-03-01T17:53:03.101Z"
   },
   {
    "duration": 12,
    "start_time": "2025-03-01T17:53:30.610Z"
   },
   {
    "duration": 741,
    "start_time": "2025-03-01T17:54:05.117Z"
   },
   {
    "duration": 23,
    "start_time": "2025-03-01T17:54:05.861Z"
   },
   {
    "duration": 14,
    "start_time": "2025-03-01T17:54:05.885Z"
   },
   {
    "duration": 3,
    "start_time": "2025-03-01T17:54:05.901Z"
   },
   {
    "duration": 4,
    "start_time": "2025-03-01T17:54:05.907Z"
   },
   {
    "duration": 31,
    "start_time": "2025-03-01T17:54:05.912Z"
   },
   {
    "duration": 5,
    "start_time": "2025-03-01T17:54:05.944Z"
   },
   {
    "duration": 364,
    "start_time": "2025-03-01T17:54:05.950Z"
   },
   {
    "duration": 456,
    "start_time": "2025-03-01T17:54:06.317Z"
   },
   {
    "duration": 8,
    "start_time": "2025-03-01T18:00:17.958Z"
   },
   {
    "duration": 8,
    "start_time": "2025-03-01T18:00:31.418Z"
   },
   {
    "duration": 9,
    "start_time": "2025-03-01T18:00:41.449Z"
   },
   {
    "duration": 57,
    "start_time": "2025-03-01T18:13:06.324Z"
   },
   {
    "duration": 404,
    "start_time": "2025-03-01T18:13:27.391Z"
   },
   {
    "duration": 48,
    "start_time": "2025-03-01T18:13:52.106Z"
   },
   {
    "duration": 797,
    "start_time": "2025-03-01T18:15:24.620Z"
   },
   {
    "duration": 28,
    "start_time": "2025-03-01T18:15:25.419Z"
   },
   {
    "duration": 4,
    "start_time": "2025-03-01T18:15:25.449Z"
   },
   {
    "duration": 4,
    "start_time": "2025-03-01T18:15:25.456Z"
   },
   {
    "duration": 5,
    "start_time": "2025-03-01T18:15:25.461Z"
   },
   {
    "duration": 5,
    "start_time": "2025-03-01T18:15:25.467Z"
   },
   {
    "duration": 380,
    "start_time": "2025-03-01T18:15:25.474Z"
   },
   {
    "duration": 650,
    "start_time": "2025-03-01T18:15:25.856Z"
   },
   {
    "duration": 6,
    "start_time": "2025-03-01T18:37:42.281Z"
   },
   {
    "duration": 8,
    "start_time": "2025-03-01T18:37:53.553Z"
   },
   {
    "duration": 9,
    "start_time": "2025-03-01T18:38:04.559Z"
   },
   {
    "duration": 9,
    "start_time": "2025-03-01T18:38:14.297Z"
   },
   {
    "duration": 9,
    "start_time": "2025-03-01T18:38:31.636Z"
   },
   {
    "duration": 5,
    "start_time": "2025-03-01T18:38:44.415Z"
   },
   {
    "duration": 164,
    "start_time": "2025-03-02T01:39:28.641Z"
   },
   {
    "duration": 12,
    "start_time": "2025-03-02T01:40:02.887Z"
   },
   {
    "duration": 22,
    "start_time": "2025-03-02T01:41:50.488Z"
   },
   {
    "duration": 10,
    "start_time": "2025-03-02T01:42:12.400Z"
   },
   {
    "duration": 658,
    "start_time": "2025-03-02T01:47:46.155Z"
   },
   {
    "duration": 11,
    "start_time": "2025-03-02T01:50:23.453Z"
   },
   {
    "duration": 7,
    "start_time": "2025-03-02T01:51:53.741Z"
   },
   {
    "duration": 11,
    "start_time": "2025-03-02T01:52:18.852Z"
   },
   {
    "duration": 6,
    "start_time": "2025-03-02T01:53:26.021Z"
   },
   {
    "duration": 5,
    "start_time": "2025-03-02T01:53:32.758Z"
   },
   {
    "duration": 23,
    "start_time": "2025-03-02T01:53:49.148Z"
   },
   {
    "duration": 12,
    "start_time": "2025-03-02T01:54:09.866Z"
   },
   {
    "duration": 12,
    "start_time": "2025-03-02T01:57:53.647Z"
   },
   {
    "duration": 11,
    "start_time": "2025-03-02T01:58:11.439Z"
   },
   {
    "duration": 13,
    "start_time": "2025-03-02T02:01:17.831Z"
   },
   {
    "duration": 189,
    "start_time": "2025-03-02T02:04:04.583Z"
   },
   {
    "duration": 783,
    "start_time": "2025-03-02T02:23:17.731Z"
   },
   {
    "duration": 27,
    "start_time": "2025-03-02T02:23:18.516Z"
   },
   {
    "duration": 3,
    "start_time": "2025-03-02T02:23:18.545Z"
   },
   {
    "duration": 21,
    "start_time": "2025-03-02T02:23:18.550Z"
   },
   {
    "duration": 7,
    "start_time": "2025-03-02T02:23:18.572Z"
   },
   {
    "duration": 6,
    "start_time": "2025-03-02T02:23:18.580Z"
   },
   {
    "duration": 379,
    "start_time": "2025-03-02T02:23:18.587Z"
   },
   {
    "duration": 12,
    "start_time": "2025-03-02T02:23:18.970Z"
   },
   {
    "duration": 161,
    "start_time": "2025-03-02T02:23:18.984Z"
   },
   {
    "duration": 6,
    "start_time": "2025-03-02T02:26:38.368Z"
   },
   {
    "duration": 6,
    "start_time": "2025-03-02T02:27:05.391Z"
   },
   {
    "duration": 2500,
    "start_time": "2025-03-02T07:14:56.666Z"
   },
   {
    "duration": 31,
    "start_time": "2025-03-02T07:14:59.168Z"
   },
   {
    "duration": 5,
    "start_time": "2025-03-02T07:14:59.201Z"
   },
   {
    "duration": 3,
    "start_time": "2025-03-02T07:14:59.209Z"
   },
   {
    "duration": 14,
    "start_time": "2025-03-02T07:14:59.214Z"
   },
   {
    "duration": 6,
    "start_time": "2025-03-02T07:14:59.230Z"
   },
   {
    "duration": 4,
    "start_time": "2025-03-02T07:14:59.237Z"
   },
   {
    "duration": 393,
    "start_time": "2025-03-02T07:14:59.243Z"
   },
   {
    "duration": 13,
    "start_time": "2025-03-02T07:14:59.637Z"
   },
   {
    "duration": 117,
    "start_time": "2025-03-02T07:14:59.652Z"
   },
   {
    "duration": 12,
    "start_time": "2025-03-02T07:18:25.860Z"
   },
   {
    "duration": 12,
    "start_time": "2025-03-02T07:18:28.907Z"
   },
   {
    "duration": 12,
    "start_time": "2025-03-02T07:18:32.096Z"
   },
   {
    "duration": 162,
    "start_time": "2025-03-02T07:24:57.877Z"
   },
   {
    "duration": 2558,
    "start_time": "2025-03-02T07:25:06.345Z"
   },
   {
    "duration": 36,
    "start_time": "2025-03-02T07:25:08.906Z"
   },
   {
    "duration": 7,
    "start_time": "2025-03-02T07:25:08.944Z"
   },
   {
    "duration": 5,
    "start_time": "2025-03-02T07:25:08.953Z"
   },
   {
    "duration": 5,
    "start_time": "2025-03-02T07:25:08.959Z"
   },
   {
    "duration": 6,
    "start_time": "2025-03-02T07:25:08.966Z"
   },
   {
    "duration": 5,
    "start_time": "2025-03-02T07:25:08.975Z"
   },
   {
    "duration": 26,
    "start_time": "2025-03-02T07:25:08.982Z"
   },
   {
    "duration": 433,
    "start_time": "2025-03-02T07:25:09.010Z"
   },
   {
    "duration": 13,
    "start_time": "2025-03-02T07:25:09.446Z"
   },
   {
    "duration": 121,
    "start_time": "2025-03-02T07:25:09.461Z"
   },
   {
    "duration": 224,
    "start_time": "2025-03-02T07:28:45.626Z"
   },
   {
    "duration": 16,
    "start_time": "2025-03-02T07:29:16.208Z"
   },
   {
    "duration": 24,
    "start_time": "2025-03-02T07:29:37.762Z"
   },
   {
    "duration": 817,
    "start_time": "2025-03-02T07:29:43.684Z"
   },
   {
    "duration": 26,
    "start_time": "2025-03-02T07:29:44.504Z"
   },
   {
    "duration": 7,
    "start_time": "2025-03-02T07:29:44.531Z"
   },
   {
    "duration": 5,
    "start_time": "2025-03-02T07:29:44.540Z"
   },
   {
    "duration": 5,
    "start_time": "2025-03-02T07:29:44.547Z"
   },
   {
    "duration": 6,
    "start_time": "2025-03-02T07:29:44.554Z"
   },
   {
    "duration": 5,
    "start_time": "2025-03-02T07:29:44.562Z"
   },
   {
    "duration": 41,
    "start_time": "2025-03-02T07:29:44.569Z"
   },
   {
    "duration": 382,
    "start_time": "2025-03-02T07:29:44.612Z"
   },
   {
    "duration": 282,
    "start_time": "2025-03-02T07:29:44.996Z"
   },
   {
    "duration": 0,
    "start_time": "2025-03-02T07:29:45.280Z"
   },
   {
    "duration": 0,
    "start_time": "2025-03-02T07:29:45.281Z"
   },
   {
    "duration": 14,
    "start_time": "2025-03-02T07:30:53.500Z"
   },
   {
    "duration": 12,
    "start_time": "2025-03-02T07:31:27.017Z"
   },
   {
    "duration": 6,
    "start_time": "2025-03-02T07:32:10.583Z"
   },
   {
    "duration": 14,
    "start_time": "2025-03-02T07:32:25.896Z"
   },
   {
    "duration": 100,
    "start_time": "2025-03-02T07:33:39.189Z"
   },
   {
    "duration": 99,
    "start_time": "2025-03-02T07:34:03.717Z"
   }
  ],
  "kernelspec": {
   "display_name": "Python 3 (ipykernel)",
   "language": "python",
   "name": "python3"
  },
  "language_info": {
   "codemirror_mode": {
    "name": "ipython",
    "version": 3
   },
   "file_extension": ".py",
   "mimetype": "text/x-python",
   "name": "python",
   "nbconvert_exporter": "python",
   "pygments_lexer": "ipython3",
   "version": "3.9.19"
  },
  "toc": {
   "base_numbering": 1,
   "nav_menu": {},
   "number_sections": true,
   "sideBar": true,
   "skip_h1_title": true,
   "title_cell": "Table of Contents",
   "title_sidebar": "Contents",
   "toc_cell": false,
   "toc_position": {},
   "toc_section_display": true,
   "toc_window_display": false
  }
 },
 "nbformat": 4,
 "nbformat_minor": 2
}
