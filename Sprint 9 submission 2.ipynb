{
 "cells": [
  {
   "cell_type": "markdown",
   "metadata": {},
   "source": [
    "Hello Cory!\n",
    "\n",
    "I’m happy to review your project today.\n",
    "I will mark your mistakes and give you some hints how it is possible to fix them. We are getting ready for real job, where your team leader/senior colleague will do exactly the same. Don't worry and study with pleasure! \n",
    "\n",
    "Below you will find my comments - **please do not move, modify or delete them**.\n",
    "\n",
    "You can find my comments in green, yellow or red boxes like this:\n",
    "\n",
    "<div class=\"alert alert-block alert-success\">\n",
    "<b>Reviewer's comment</b> <a class=\"tocSkip\"></a>\n",
    "\n",
    "Success. Everything is done succesfully.\n",
    "</div>\n",
    "\n",
    "<div class=\"alert alert-block alert-warning\">\n",
    "<b>Reviewer's comment</b> <a class=\"tocSkip\"></a>\n",
    "\n",
    "Remarks. Some recommendations.\n",
    "</div>\n",
    "\n",
    "<div class=\"alert alert-block alert-danger\">\n",
    "\n",
    "<b>Reviewer's comment</b> <a class=\"tocSkip\"></a>\n",
    "\n",
    "Needs fixing. The block requires some corrections. Work can't be accepted with the red comments.\n",
    "</div>\n",
    "\n",
    "You can answer me by using this:\n",
    "\n",
    "<div class=\"alert alert-block alert-info\">\n",
    "<b>Student answer.</b> <a class=\"tocSkip\"></a>\n",
    "\n",
    "Thank you so much for the feedback, I appreacaite it! I should have double checked before submitting. Thanks! \n",
    "</div>\n",
    "\n"
   ]
  },
  {
   "cell_type": "markdown",
   "metadata": {},
   "source": [
    "The following observations are meant for the determining of the best location for a new well for the OilyGiant mining company! Lets dive into the data and see what the future holds!\n"
   ]
  },
  {
   "cell_type": "code",
   "execution_count": 1,
   "metadata": {},
   "outputs": [],
   "source": [
    "import pandas as pd\n",
    "import numpy as np\n",
    "import matplotlib.pyplot as plt\n",
    "from sklearn.model_selection import train_test_split\n",
    "from sklearn.linear_model import LinearRegression\n",
    "from sklearn.metrics import mean_squared_error"
   ]
  },
  {
   "cell_type": "code",
   "execution_count": 2,
   "metadata": {
    "scrolled": true
   },
   "outputs": [
    {
     "data": {
      "text/html": [
       "<div>\n",
       "<style scoped>\n",
       "    .dataframe tbody tr th:only-of-type {\n",
       "        vertical-align: middle;\n",
       "    }\n",
       "\n",
       "    .dataframe tbody tr th {\n",
       "        vertical-align: top;\n",
       "    }\n",
       "\n",
       "    .dataframe thead th {\n",
       "        text-align: right;\n",
       "    }\n",
       "</style>\n",
       "<table border=\"1\" class=\"dataframe\">\n",
       "  <thead>\n",
       "    <tr style=\"text-align: right;\">\n",
       "      <th></th>\n",
       "      <th>id</th>\n",
       "      <th>f0</th>\n",
       "      <th>f1</th>\n",
       "      <th>f2</th>\n",
       "      <th>product</th>\n",
       "    </tr>\n",
       "  </thead>\n",
       "  <tbody>\n",
       "    <tr>\n",
       "      <th>0</th>\n",
       "      <td>txEyH</td>\n",
       "      <td>0.705745</td>\n",
       "      <td>-0.497823</td>\n",
       "      <td>1.221170</td>\n",
       "      <td>105.280062</td>\n",
       "    </tr>\n",
       "    <tr>\n",
       "      <th>1</th>\n",
       "      <td>2acmU</td>\n",
       "      <td>1.334711</td>\n",
       "      <td>-0.340164</td>\n",
       "      <td>4.365080</td>\n",
       "      <td>73.037750</td>\n",
       "    </tr>\n",
       "    <tr>\n",
       "      <th>2</th>\n",
       "      <td>409Wp</td>\n",
       "      <td>1.022732</td>\n",
       "      <td>0.151990</td>\n",
       "      <td>1.419926</td>\n",
       "      <td>85.265647</td>\n",
       "    </tr>\n",
       "    <tr>\n",
       "      <th>3</th>\n",
       "      <td>iJLyR</td>\n",
       "      <td>-0.032172</td>\n",
       "      <td>0.139033</td>\n",
       "      <td>2.978566</td>\n",
       "      <td>168.620776</td>\n",
       "    </tr>\n",
       "    <tr>\n",
       "      <th>4</th>\n",
       "      <td>Xdl7t</td>\n",
       "      <td>1.988431</td>\n",
       "      <td>0.155413</td>\n",
       "      <td>4.751769</td>\n",
       "      <td>154.036647</td>\n",
       "    </tr>\n",
       "  </tbody>\n",
       "</table>\n",
       "</div>"
      ],
      "text/plain": [
       "      id        f0        f1        f2     product\n",
       "0  txEyH  0.705745 -0.497823  1.221170  105.280062\n",
       "1  2acmU  1.334711 -0.340164  4.365080   73.037750\n",
       "2  409Wp  1.022732  0.151990  1.419926   85.265647\n",
       "3  iJLyR -0.032172  0.139033  2.978566  168.620776\n",
       "4  Xdl7t  1.988431  0.155413  4.751769  154.036647"
      ]
     },
     "metadata": {},
     "output_type": "display_data"
    },
    {
     "data": {
      "text/html": [
       "<div>\n",
       "<style scoped>\n",
       "    .dataframe tbody tr th:only-of-type {\n",
       "        vertical-align: middle;\n",
       "    }\n",
       "\n",
       "    .dataframe tbody tr th {\n",
       "        vertical-align: top;\n",
       "    }\n",
       "\n",
       "    .dataframe thead th {\n",
       "        text-align: right;\n",
       "    }\n",
       "</style>\n",
       "<table border=\"1\" class=\"dataframe\">\n",
       "  <thead>\n",
       "    <tr style=\"text-align: right;\">\n",
       "      <th></th>\n",
       "      <th>id</th>\n",
       "      <th>f0</th>\n",
       "      <th>f1</th>\n",
       "      <th>f2</th>\n",
       "      <th>product</th>\n",
       "    </tr>\n",
       "  </thead>\n",
       "  <tbody>\n",
       "    <tr>\n",
       "      <th>0</th>\n",
       "      <td>kBEdx</td>\n",
       "      <td>-15.001348</td>\n",
       "      <td>-8.276000</td>\n",
       "      <td>-0.005876</td>\n",
       "      <td>3.179103</td>\n",
       "    </tr>\n",
       "    <tr>\n",
       "      <th>1</th>\n",
       "      <td>62mP7</td>\n",
       "      <td>14.272088</td>\n",
       "      <td>-3.475083</td>\n",
       "      <td>0.999183</td>\n",
       "      <td>26.953261</td>\n",
       "    </tr>\n",
       "    <tr>\n",
       "      <th>2</th>\n",
       "      <td>vyE1P</td>\n",
       "      <td>6.263187</td>\n",
       "      <td>-5.948386</td>\n",
       "      <td>5.001160</td>\n",
       "      <td>134.766305</td>\n",
       "    </tr>\n",
       "    <tr>\n",
       "      <th>3</th>\n",
       "      <td>KcrkZ</td>\n",
       "      <td>-13.081196</td>\n",
       "      <td>-11.506057</td>\n",
       "      <td>4.999415</td>\n",
       "      <td>137.945408</td>\n",
       "    </tr>\n",
       "    <tr>\n",
       "      <th>4</th>\n",
       "      <td>AHL4O</td>\n",
       "      <td>12.702195</td>\n",
       "      <td>-8.147433</td>\n",
       "      <td>5.004363</td>\n",
       "      <td>134.766305</td>\n",
       "    </tr>\n",
       "  </tbody>\n",
       "</table>\n",
       "</div>"
      ],
      "text/plain": [
       "      id         f0         f1        f2     product\n",
       "0  kBEdx -15.001348  -8.276000 -0.005876    3.179103\n",
       "1  62mP7  14.272088  -3.475083  0.999183   26.953261\n",
       "2  vyE1P   6.263187  -5.948386  5.001160  134.766305\n",
       "3  KcrkZ -13.081196 -11.506057  4.999415  137.945408\n",
       "4  AHL4O  12.702195  -8.147433  5.004363  134.766305"
      ]
     },
     "metadata": {},
     "output_type": "display_data"
    },
    {
     "data": {
      "text/html": [
       "<div>\n",
       "<style scoped>\n",
       "    .dataframe tbody tr th:only-of-type {\n",
       "        vertical-align: middle;\n",
       "    }\n",
       "\n",
       "    .dataframe tbody tr th {\n",
       "        vertical-align: top;\n",
       "    }\n",
       "\n",
       "    .dataframe thead th {\n",
       "        text-align: right;\n",
       "    }\n",
       "</style>\n",
       "<table border=\"1\" class=\"dataframe\">\n",
       "  <thead>\n",
       "    <tr style=\"text-align: right;\">\n",
       "      <th></th>\n",
       "      <th>id</th>\n",
       "      <th>f0</th>\n",
       "      <th>f1</th>\n",
       "      <th>f2</th>\n",
       "      <th>product</th>\n",
       "    </tr>\n",
       "  </thead>\n",
       "  <tbody>\n",
       "    <tr>\n",
       "      <th>0</th>\n",
       "      <td>fwXo0</td>\n",
       "      <td>-1.146987</td>\n",
       "      <td>0.963328</td>\n",
       "      <td>-0.828965</td>\n",
       "      <td>27.758673</td>\n",
       "    </tr>\n",
       "    <tr>\n",
       "      <th>1</th>\n",
       "      <td>WJtFt</td>\n",
       "      <td>0.262778</td>\n",
       "      <td>0.269839</td>\n",
       "      <td>-2.530187</td>\n",
       "      <td>56.069697</td>\n",
       "    </tr>\n",
       "    <tr>\n",
       "      <th>2</th>\n",
       "      <td>ovLUW</td>\n",
       "      <td>0.194587</td>\n",
       "      <td>0.289035</td>\n",
       "      <td>-5.586433</td>\n",
       "      <td>62.871910</td>\n",
       "    </tr>\n",
       "    <tr>\n",
       "      <th>3</th>\n",
       "      <td>q6cA6</td>\n",
       "      <td>2.236060</td>\n",
       "      <td>-0.553760</td>\n",
       "      <td>0.930038</td>\n",
       "      <td>114.572842</td>\n",
       "    </tr>\n",
       "    <tr>\n",
       "      <th>4</th>\n",
       "      <td>WPMUX</td>\n",
       "      <td>-0.515993</td>\n",
       "      <td>1.716266</td>\n",
       "      <td>5.899011</td>\n",
       "      <td>149.600746</td>\n",
       "    </tr>\n",
       "  </tbody>\n",
       "</table>\n",
       "</div>"
      ],
      "text/plain": [
       "      id        f0        f1        f2     product\n",
       "0  fwXo0 -1.146987  0.963328 -0.828965   27.758673\n",
       "1  WJtFt  0.262778  0.269839 -2.530187   56.069697\n",
       "2  ovLUW  0.194587  0.289035 -5.586433   62.871910\n",
       "3  q6cA6  2.236060 -0.553760  0.930038  114.572842\n",
       "4  WPMUX -0.515993  1.716266  5.899011  149.600746"
      ]
     },
     "metadata": {},
     "output_type": "display_data"
    }
   ],
   "source": [
    "data_region_0 = pd.read_csv('/datasets/geo_data_0.csv')\n",
    "data_region_1 = pd.read_csv('/datasets/geo_data_1.csv')\n",
    "data_region_2 = pd.read_csv('/datasets/geo_data_2.csv')\n",
    "\n",
    "display(data_region_0.head())\n",
    "display(data_region_1.head())\n",
    "display(data_region_2.head())"
   ]
  },
  {
   "cell_type": "code",
   "execution_count": 3,
   "metadata": {},
   "outputs": [],
   "source": [
    "r_state = np.random.RandomState(42)"
   ]
  },
  {
   "cell_type": "code",
   "execution_count": 4,
   "metadata": {
    "scrolled": true
   },
   "outputs": [
    {
     "name": "stdout",
     "output_type": "stream",
     "text": [
      "Region 0 RMSE: 37.756600350261685, Avg Predicted Reserves: 92.3987999065777\n",
      "Region 1 RMSE: 0.890280100102884, Avg Predicted Reserves: 68.71287803913762\n",
      "Region 2 RMSE: 40.14587231134218, Avg Predicted Reserves: 94.77102387765939\n"
     ]
    }
   ],
   "source": [
    "def split_data(data):\n",
    "    features = data.drop(columns=['id', 'product'])\n",
    "    target = data['product']\n",
    "    return train_test_split(features, target, test_size=0.25, random_state=42)\n",
    "\n",
    "X_train_0, X_valid_0, y_train_0, y_valid_0 = split_data(data_region_0)\n",
    "X_train_1, X_valid_1, y_train_1, y_valid_1 = split_data(data_region_1)\n",
    "X_train_2, X_valid_2, y_train_2, y_valid_2 = split_data(data_region_2)\n",
    "\n",
    "def train_evaluate(X_train, y_train, X_valid, y_valid):\n",
    "    model = LinearRegression()\n",
    "    model.fit(X_train, y_train)\n",
    "    predictions = model.predict(X_valid)\n",
    "    rmse = mean_squared_error(y_valid, predictions, squared=False)\n",
    "    avg_predicted_reserves = predictions.mean()\n",
    "    return predictions, rmse, avg_predicted_reserves\n",
    "\n",
    "predictions_0, rmse_0, avg_reserves_0 = train_evaluate(X_train_0, y_train_0, X_valid_0, y_valid_0)\n",
    "predictions_1, rmse_1, avg_reserves_1 = train_evaluate(X_train_1, y_train_1, X_valid_1, y_valid_1)\n",
    "predictions_2, rmse_2, avg_reserves_2 = train_evaluate(X_train_2, y_train_2, X_valid_2, y_valid_2)\n",
    "\n",
    "print(f'Region 0 RMSE: {rmse_0}, Avg Predicted Reserves: {avg_reserves_0}')\n",
    "print(f'Region 1 RMSE: {rmse_1}, Avg Predicted Reserves: {avg_reserves_1}')\n",
    "print(f'Region 2 RMSE: {rmse_2}, Avg Predicted Reserves: {avg_reserves_2}')"
   ]
  },
  {
   "cell_type": "markdown",
   "metadata": {},
   "source": [
    "<div class=\"alert alert-danger\">\n",
    "<b>Reviewer's comment V1</b>\n",
    "\n",
    "Correct. But read the task carefully, please: \"2.4. Print the average volume of predicted reserves and model RMSE.\". You printed only RMSE and forgot to print average volume of predicted reserves. Please, fix it.\n",
    "    \n",
    "</div>"
   ]
  },
  {
   "cell_type": "markdown",
   "metadata": {},
   "source": [
    "Interesting! using Linear Regressiion we see that Region 1 is almost dead on to the predictions made. Regions 0 and 2 however are a little further off. Let's keep digging to see if Region 1 is the best option for us"
   ]
  },
  {
   "cell_type": "code",
   "execution_count": 5,
   "metadata": {},
   "outputs": [],
   "source": [
    "predictions_0 = pd.DataFrame({'actual': y_valid_0, 'predicted': predictions_0})\n",
    "predictions_1 = pd.DataFrame({'actual': y_valid_1, 'predicted': predictions_1})\n",
    "predictions_2 = pd.DataFrame({'actual': y_valid_2, 'predicted': predictions_2})"
   ]
  },
  {
   "cell_type": "code",
   "execution_count": 6,
   "metadata": {
    "scrolled": false
   },
   "outputs": [
    {
     "name": "stdout",
     "output_type": "stream",
     "text": [
      "Break-even volume per well: 0.25 thousand barrels\n",
      "Average reserves in Region 0: 92.40 thousand barrels\n",
      "Average reserves in Region 1: 68.71 thousand barrels\n",
      "Average reserves in Region 2: 94.77 thousand barrels\n",
      "Findings: To avoid losses, a well must contain at least 0.25 thousand barrels. Comparing this with the average reserves per region, we can determine profitability.\n",
      "Region 0 Profit: $335,914.11\n",
      "Region 1 Profit: $241,508.67\n",
      "Region 2 Profit: $259,857.18\n"
     ]
    }
   ],
   "source": [
    "total_budget = 1000000\n",
    "wells_selected = 200\n",
    "profit_per_barrel = 4.5\n",
    "units_per_product = 4500\n",
    "cost_per_point = 5000\n",
    "product_price = 45\n",
    "points_per_budet = total_budget // cost_per_point\n",
    "\n",
    "break_even_volume = total_budget / (wells_selected * units_per_product * profit_per_barrel)\n",
    "\n",
    "print(f'Break-even volume per well: {break_even_volume:.2f} thousand barrels')\n",
    "print(f'Average reserves in Region 0: {avg_reserves_0:.2f} thousand barrels')\n",
    "print(f'Average reserves in Region 1: {avg_reserves_1:.2f} thousand barrels')\n",
    "print(f'Average reserves in Region 2: {avg_reserves_2:.2f} thousand barrels')\n",
    "print(\"Findings: To avoid losses, a well must contain at least {:.2f} thousand barrels. Comparing this with the average reserves per region, we can determine profitability.\".format(break_even_volume))\n",
    "\n",
    "def calculate_profit(target, predictions):\n",
    "    \n",
    "    top_wells = predictions.sort_values(ascending=False)\n",
    "    selected_points = target[top_wells.index][:points_per_budet]\n",
    "    selected_sum = selected_points.sum()\n",
    "    revenue = selected_sum * product_price\n",
    "    return revenue - total_budget\n",
    "\n",
    "profit_0 = calculate_profit(y_valid_0, predictions_0['predicted'])\n",
    "profit_1 = calculate_profit(y_valid_1, predictions_1['predicted'])\n",
    "profit_2 = calculate_profit(y_valid_2, predictions_2['predicted'])\n",
    "\n",
    "print(f'Region 0 Profit: ${profit_0:,.2f}')\n",
    "print(f'Region 1 Profit: ${profit_1:,.2f}')\n",
    "print(f'Region 2 Profit: ${profit_2:,.2f}')"
   ]
  },
  {
   "cell_type": "markdown",
   "metadata": {},
   "source": [
    "<div class=\"alert alert-danger\">\n",
    "<b>Reviewer's comment V1</b>\n",
    "\n",
    "The function looks correct. Good job! But you missed almost a whole task:\n",
    "    \n",
    "```\n",
    "3. Prepare for profit calculation:\n",
    "    \n",
    "    3.1. Store all key values for calculations in separate variables.\n",
    "    \n",
    "    3.2. Calculate the volume of reserves sufficient for developing a new well without losses. Compare the obtained value with the average volume of reserves in each region.\n",
    "    \n",
    "    3.3. Provide the findings about the preparation for profit calculation step.    \n",
    "```\n",
    "    \n",
    "You did only point 3.1 but missed points 3.2 and 3.3. Please, fix it.\n",
    "    \n",
    "</div>"
   ]
  },
  {
   "cell_type": "markdown",
   "metadata": {},
   "source": [
    "So the plot thickens! looks like the most profitable wells are in Region 0 and 2! Region 0 being a 3x ROI thats some pretty great margins there! Lets look at a bunch of smaller samples to double check our work and the outcomes there of!"
   ]
  },
  {
   "cell_type": "code",
   "execution_count": 7,
   "metadata": {
    "scrolled": true
   },
   "outputs": [
    {
     "name": "stdout",
     "output_type": "stream",
     "text": [
      "Region 0: Avg Profit: $42,784.76, 95% CI: (-9724.982956859578, 95421.51927088141), Risk: 5.50%\n",
      "Region 1: Avg Profit: $51,153.02, 95% CI: (9170.056413644415, 92145.56683285085), Risk: 0.60%\n",
      "Region 2: Avg Profit: $40,854.57, 95% CI: (-12062.487294271643, 96085.94407253824), Risk: 7.50%\n"
     ]
    }
   ],
   "source": [
    "def bootstrap_profit(target, predictions, n_samples=1000):\n",
    "    sampleSize = 500\n",
    "    profits = []\n",
    "    \n",
    "    for _ in range(n_samples):\n",
    "        sampled_indices = np.random.choice(target.index, size=500, replace=True)\n",
    "        sampled_target = target.sample(sampleSize, replace=True, random_state=r_state)\n",
    "        sampled_preds = predictions[sampled_target.index]\n",
    "        profits.append(calculate_profit(sampled_target, sampled_preds))\n",
    "    \n",
    "    profits = np.array(profits)\n",
    "    lower, upper = np.percentile(profits, [2.5, 97.5])\n",
    "    risk = (profits < 0).mean()\n",
    "    return profits.mean(), (lower, upper), risk\n",
    "\n",
    "mean_profit_0, conf_interval_0, risk_0 = bootstrap_profit(y_valid_0, predictions_0['predicted'])\n",
    "mean_profit_1, conf_interval_1, risk_1 = bootstrap_profit(y_valid_1, predictions_1['predicted'])\n",
    "mean_profit_2, conf_interval_2, risk_2 = bootstrap_profit(y_valid_2, predictions_2['predicted'])\n",
    "\n",
    "\n",
    "print(f'Region 0: Avg Profit: ${mean_profit_0:,.2f}, 95% CI: {conf_interval_0}, Risk: {risk_0*100:.2f}%')\n",
    "print(f'Region 1: Avg Profit: ${mean_profit_1:,.2f}, 95% CI: {conf_interval_1}, Risk: {risk_1*100:.2f}%')\n",
    "print(f'Region 2: Avg Profit: ${mean_profit_2:,.2f}, 95% CI: {conf_interval_2}, Risk: {risk_2*100:.2f}%')"
   ]
  },
  {
   "cell_type": "markdown",
   "metadata": {},
   "source": [
    "<div class=\"alert alert-danger\">\n",
    "<b>Reviewer's comment V1</b>\n",
    "\n",
    "1. According to the project description inside the bootstrap loop you should sample with size=500 but not with size=len(predictions)\n",
    "3. The results are wrong. In the correct results risk in each region is a value between 0 and 10 but not exact 0 or exact 100. Moreover, risks in different regions should be different. If you get another results, double check indexes. Indexes in targets and predictions must be the same to get the correct results.\n",
    "\n",
    "</div>"
   ]
  },
  {
   "cell_type": "markdown",
   "metadata": {},
   "source": [
    "Even more interesting! All regions are looking fairly close in the Avg Profits area, That being said when we look at the rick factors of all three areas all are below 10% which is great! Region 1 is the best with under a 1% risk rate and the highest Avg Profit Margin!"
   ]
  },
  {
   "cell_type": "code",
   "execution_count": 8,
   "metadata": {},
   "outputs": [
    {
     "name": "stdout",
     "output_type": "stream",
     "text": [
      "Selected Region: 1 with Expected Profit: $51,153.02\n"
     ]
    }
   ],
   "source": [
    "valid_regions = [(mean_profit_0, risk_0, 0), (mean_profit_1, risk_1, 1), (mean_profit_2, risk_2, 2)]\n",
    "valid_regions = [r for r in valid_regions if r[1] < 0.025]\n",
    "\n",
    "if valid_regions:\n",
    "    best_region = max(valid_regions, key=lambda x: x[0])\n",
    "    print(f'Selected Region: {best_region[2]} with Expected Profit: ${best_region[0]:,.2f}')\n",
    "else:\n",
    "    print('No region meets the risk criteria.')"
   ]
  },
  {
   "cell_type": "markdown",
   "metadata": {},
   "source": [
    "There we have it. Based on multiple looks at the data using both Linear Regression and Bootstrapping (large and small samples) we have determined that the best Region for us will be Region 1 with an expected profit of almost 51 million dollars and the lowest risk of all three areas!"
   ]
  }
 ],
 "metadata": {
  "ExecuteTimeLog": [
   {
    "duration": 2743,
    "start_time": "2025-03-21T04:38:30.495Z"
   },
   {
    "duration": 600,
    "start_time": "2025-03-21T04:40:51.671Z"
   },
   {
    "duration": 64,
    "start_time": "2025-03-21T04:41:34.996Z"
   },
   {
    "duration": 159,
    "start_time": "2025-03-21T04:42:33.692Z"
   },
   {
    "duration": 285,
    "start_time": "2025-03-21T04:42:55.711Z"
   },
   {
    "duration": 46,
    "start_time": "2025-03-21T04:49:06.240Z"
   },
   {
    "duration": 10,
    "start_time": "2025-03-21T04:56:25.570Z"
   },
   {
    "duration": 904,
    "start_time": "2025-03-21T04:59:10.773Z"
   },
   {
    "duration": 294,
    "start_time": "2025-03-21T04:59:11.679Z"
   },
   {
    "duration": 139,
    "start_time": "2025-03-21T04:59:11.976Z"
   },
   {
    "duration": 88,
    "start_time": "2025-03-21T04:59:12.117Z"
   },
   {
    "duration": 7567,
    "start_time": "2025-03-21T04:59:12.209Z"
   },
   {
    "duration": 4,
    "start_time": "2025-03-21T05:02:03.343Z"
   },
   {
    "duration": 200,
    "start_time": "2025-03-21T13:20:26.780Z"
   },
   {
    "duration": 2957,
    "start_time": "2025-03-21T13:20:50.189Z"
   },
   {
    "duration": 324,
    "start_time": "2025-03-21T13:20:53.148Z"
   },
   {
    "duration": 60,
    "start_time": "2025-03-21T13:20:53.474Z"
   },
   {
    "duration": 76,
    "start_time": "2025-03-21T13:20:53.538Z"
   },
   {
    "duration": 1081,
    "start_time": "2025-03-21T13:20:53.619Z"
   },
   {
    "duration": 5,
    "start_time": "2025-03-21T13:20:54.702Z"
   },
   {
    "duration": 163,
    "start_time": "2025-03-22T00:11:51.692Z"
   },
   {
    "duration": 3142,
    "start_time": "2025-03-22T00:12:09.159Z"
   },
   {
    "duration": 377,
    "start_time": "2025-03-22T00:12:12.303Z"
   },
   {
    "duration": 70,
    "start_time": "2025-03-22T00:12:12.685Z"
   },
   {
    "duration": 80,
    "start_time": "2025-03-22T00:12:12.758Z"
   },
   {
    "duration": 1328,
    "start_time": "2025-03-22T00:12:12.841Z"
   },
   {
    "duration": 6,
    "start_time": "2025-03-22T00:12:14.171Z"
   },
   {
    "duration": 11,
    "start_time": "2025-03-22T00:14:16.952Z"
   },
   {
    "duration": 1929,
    "start_time": "2025-03-22T00:19:16.148Z"
   },
   {
    "duration": 2023,
    "start_time": "2025-03-22T00:21:47.899Z"
   },
   {
    "duration": 174,
    "start_time": "2025-03-22T02:16:20.746Z"
   },
   {
    "duration": 2579,
    "start_time": "2025-03-22T02:16:27.435Z"
   },
   {
    "duration": 310,
    "start_time": "2025-03-22T02:16:30.017Z"
   },
   {
    "duration": 50,
    "start_time": "2025-03-22T02:16:30.329Z"
   },
   {
    "duration": 13,
    "start_time": "2025-03-22T02:16:30.443Z"
   },
   {
    "duration": 324,
    "start_time": "2025-03-22T02:16:30.461Z"
   },
   {
    "duration": 0,
    "start_time": "2025-03-22T02:16:30.787Z"
   },
   {
    "duration": 18,
    "start_time": "2025-03-22T02:19:33.579Z"
   },
   {
    "duration": 26,
    "start_time": "2025-03-22T02:21:13.692Z"
   },
   {
    "duration": 18,
    "start_time": "2025-03-22T02:21:34.065Z"
   },
   {
    "duration": 4,
    "start_time": "2025-03-22T02:25:34.441Z"
   },
   {
    "duration": 411,
    "start_time": "2025-03-22T02:37:23.157Z"
   },
   {
    "duration": 282,
    "start_time": "2025-03-22T02:37:57.210Z"
   },
   {
    "duration": 8,
    "start_time": "2025-03-22T02:42:32.035Z"
   },
   {
    "duration": 48,
    "start_time": "2025-03-22T02:43:06.950Z"
   },
   {
    "duration": 25,
    "start_time": "2025-03-22T02:46:44.112Z"
   },
   {
    "duration": 875,
    "start_time": "2025-03-22T02:47:24.083Z"
   },
   {
    "duration": 238,
    "start_time": "2025-03-22T02:47:24.960Z"
   },
   {
    "duration": 57,
    "start_time": "2025-03-22T02:47:25.200Z"
   },
   {
    "duration": 84,
    "start_time": "2025-03-22T02:47:25.260Z"
   },
   {
    "duration": 330,
    "start_time": "2025-03-22T02:47:25.346Z"
   },
   {
    "duration": 0,
    "start_time": "2025-03-22T02:47:25.677Z"
   },
   {
    "duration": 819,
    "start_time": "2025-03-22T02:48:36.315Z"
   },
   {
    "duration": 242,
    "start_time": "2025-03-22T02:48:37.136Z"
   },
   {
    "duration": 70,
    "start_time": "2025-03-22T02:48:37.380Z"
   },
   {
    "duration": 4,
    "start_time": "2025-03-22T02:48:37.453Z"
   },
   {
    "duration": 236,
    "start_time": "2025-03-22T02:48:37.459Z"
   },
   {
    "duration": 0,
    "start_time": "2025-03-22T02:48:37.697Z"
   },
   {
    "duration": 0,
    "start_time": "2025-03-22T02:48:37.698Z"
   },
   {
    "duration": 880,
    "start_time": "2025-03-22T02:50:16.471Z"
   },
   {
    "duration": 247,
    "start_time": "2025-03-22T02:50:17.354Z"
   },
   {
    "duration": 3,
    "start_time": "2025-03-22T02:50:17.604Z"
   },
   {
    "duration": 65,
    "start_time": "2025-03-22T02:50:17.609Z"
   },
   {
    "duration": 67,
    "start_time": "2025-03-22T02:50:17.677Z"
   },
   {
    "duration": 238,
    "start_time": "2025-03-22T02:50:17.746Z"
   },
   {
    "duration": 0,
    "start_time": "2025-03-22T02:50:17.986Z"
   },
   {
    "duration": 0,
    "start_time": "2025-03-22T02:50:17.987Z"
   },
   {
    "duration": 944,
    "start_time": "2025-03-22T02:52:46.592Z"
   },
   {
    "duration": 267,
    "start_time": "2025-03-22T02:52:47.538Z"
   },
   {
    "duration": 3,
    "start_time": "2025-03-22T02:52:47.807Z"
   },
   {
    "duration": 315,
    "start_time": "2025-03-22T02:52:47.812Z"
   },
   {
    "duration": 0,
    "start_time": "2025-03-22T02:52:48.129Z"
   },
   {
    "duration": 0,
    "start_time": "2025-03-22T02:52:48.130Z"
   },
   {
    "duration": 0,
    "start_time": "2025-03-22T02:52:48.132Z"
   },
   {
    "duration": 0,
    "start_time": "2025-03-22T02:52:48.143Z"
   },
   {
    "duration": 932,
    "start_time": "2025-03-22T02:53:06.260Z"
   },
   {
    "duration": 235,
    "start_time": "2025-03-22T02:53:07.194Z"
   },
   {
    "duration": 12,
    "start_time": "2025-03-22T02:53:07.431Z"
   },
   {
    "duration": 97,
    "start_time": "2025-03-22T02:53:07.445Z"
   },
   {
    "duration": 12,
    "start_time": "2025-03-22T02:53:07.545Z"
   },
   {
    "duration": 359,
    "start_time": "2025-03-22T02:53:07.559Z"
   },
   {
    "duration": 0,
    "start_time": "2025-03-22T02:53:07.919Z"
   },
   {
    "duration": 907,
    "start_time": "2025-03-22T02:53:22.151Z"
   },
   {
    "duration": 239,
    "start_time": "2025-03-22T02:53:23.060Z"
   },
   {
    "duration": 3,
    "start_time": "2025-03-22T02:53:23.301Z"
   },
   {
    "duration": 54,
    "start_time": "2025-03-22T02:53:23.307Z"
   },
   {
    "duration": 85,
    "start_time": "2025-03-22T02:53:23.363Z"
   },
   {
    "duration": 4,
    "start_time": "2025-03-22T02:53:23.450Z"
   },
   {
    "duration": 1514,
    "start_time": "2025-03-22T02:53:23.456Z"
   },
   {
    "duration": 4,
    "start_time": "2025-03-22T02:53:24.972Z"
   },
   {
    "duration": 920,
    "start_time": "2025-03-22T02:59:30.197Z"
   },
   {
    "duration": 274,
    "start_time": "2025-03-22T02:59:31.120Z"
   },
   {
    "duration": 3,
    "start_time": "2025-03-22T02:59:31.396Z"
   },
   {
    "duration": 65,
    "start_time": "2025-03-22T02:59:31.401Z"
   },
   {
    "duration": 435,
    "start_time": "2025-03-22T02:59:31.469Z"
   },
   {
    "duration": 0,
    "start_time": "2025-03-22T02:59:31.906Z"
   },
   {
    "duration": 0,
    "start_time": "2025-03-22T02:59:31.907Z"
   },
   {
    "duration": 0,
    "start_time": "2025-03-22T02:59:31.909Z"
   },
   {
    "duration": 0,
    "start_time": "2025-03-22T02:59:31.910Z"
   },
   {
    "duration": 867,
    "start_time": "2025-03-22T03:00:37.333Z"
   },
   {
    "duration": 238,
    "start_time": "2025-03-22T03:00:38.202Z"
   },
   {
    "duration": 2,
    "start_time": "2025-03-22T03:00:38.443Z"
   },
   {
    "duration": 96,
    "start_time": "2025-03-22T03:00:38.448Z"
   },
   {
    "duration": 356,
    "start_time": "2025-03-22T03:00:38.546Z"
   },
   {
    "duration": 0,
    "start_time": "2025-03-22T03:00:38.904Z"
   },
   {
    "duration": 0,
    "start_time": "2025-03-22T03:00:38.905Z"
   },
   {
    "duration": 0,
    "start_time": "2025-03-22T03:00:38.906Z"
   },
   {
    "duration": 0,
    "start_time": "2025-03-22T03:00:38.907Z"
   },
   {
    "duration": 20,
    "start_time": "2025-03-22T03:00:59.165Z"
   },
   {
    "duration": 22,
    "start_time": "2025-03-22T03:01:18.528Z"
   },
   {
    "duration": 4,
    "start_time": "2025-03-22T03:05:12.276Z"
   },
   {
    "duration": 24,
    "start_time": "2025-03-22T03:05:18.568Z"
   },
   {
    "duration": 851,
    "start_time": "2025-03-22T03:05:31.504Z"
   },
   {
    "duration": 254,
    "start_time": "2025-03-22T03:05:32.358Z"
   },
   {
    "duration": 3,
    "start_time": "2025-03-22T03:05:32.614Z"
   },
   {
    "duration": 63,
    "start_time": "2025-03-22T03:05:32.619Z"
   },
   {
    "duration": 4,
    "start_time": "2025-03-22T03:05:32.743Z"
   },
   {
    "duration": 221,
    "start_time": "2025-03-22T03:05:32.749Z"
   },
   {
    "duration": 0,
    "start_time": "2025-03-22T03:05:32.974Z"
   },
   {
    "duration": 0,
    "start_time": "2025-03-22T03:05:32.975Z"
   },
   {
    "duration": 0,
    "start_time": "2025-03-22T03:05:32.976Z"
   },
   {
    "duration": 878,
    "start_time": "2025-03-22T03:09:05.235Z"
   },
   {
    "duration": 244,
    "start_time": "2025-03-22T03:09:06.115Z"
   },
   {
    "duration": 3,
    "start_time": "2025-03-22T03:09:06.360Z"
   },
   {
    "duration": 85,
    "start_time": "2025-03-22T03:09:06.365Z"
   },
   {
    "duration": 13,
    "start_time": "2025-03-22T03:09:06.453Z"
   },
   {
    "duration": 4,
    "start_time": "2025-03-22T03:09:06.542Z"
   },
   {
    "duration": 1473,
    "start_time": "2025-03-22T03:09:06.548Z"
   },
   {
    "duration": 4,
    "start_time": "2025-03-22T03:09:08.023Z"
   },
   {
    "duration": 17,
    "start_time": "2025-03-22T03:16:41.778Z"
   },
   {
    "duration": 892,
    "start_time": "2025-03-22T03:17:20.131Z"
   },
   {
    "duration": 237,
    "start_time": "2025-03-22T03:17:21.026Z"
   },
   {
    "duration": 3,
    "start_time": "2025-03-22T03:17:21.265Z"
   },
   {
    "duration": 82,
    "start_time": "2025-03-22T03:17:21.270Z"
   },
   {
    "duration": 13,
    "start_time": "2025-03-22T03:17:21.353Z"
   },
   {
    "duration": 306,
    "start_time": "2025-03-22T03:17:21.443Z"
   },
   {
    "duration": 0,
    "start_time": "2025-03-22T03:17:21.750Z"
   },
   {
    "duration": 0,
    "start_time": "2025-03-22T03:17:21.751Z"
   },
   {
    "duration": 0,
    "start_time": "2025-03-22T03:17:21.753Z"
   },
   {
    "duration": 853,
    "start_time": "2025-03-22T03:19:49.425Z"
   },
   {
    "duration": 242,
    "start_time": "2025-03-22T03:19:50.281Z"
   },
   {
    "duration": 3,
    "start_time": "2025-03-22T03:19:50.524Z"
   },
   {
    "duration": 114,
    "start_time": "2025-03-22T03:19:50.529Z"
   },
   {
    "duration": 379,
    "start_time": "2025-03-22T03:19:50.645Z"
   },
   {
    "duration": 0,
    "start_time": "2025-03-22T03:19:51.026Z"
   },
   {
    "duration": 0,
    "start_time": "2025-03-22T03:19:51.028Z"
   },
   {
    "duration": 0,
    "start_time": "2025-03-22T03:19:51.029Z"
   },
   {
    "duration": 939,
    "start_time": "2025-03-22T03:21:07.163Z"
   },
   {
    "duration": 237,
    "start_time": "2025-03-22T03:21:08.105Z"
   },
   {
    "duration": 4,
    "start_time": "2025-03-22T03:21:08.343Z"
   },
   {
    "duration": 97,
    "start_time": "2025-03-22T03:21:08.348Z"
   },
   {
    "duration": 363,
    "start_time": "2025-03-22T03:21:08.447Z"
   },
   {
    "duration": 0,
    "start_time": "2025-03-22T03:21:08.812Z"
   },
   {
    "duration": 0,
    "start_time": "2025-03-22T03:21:08.813Z"
   },
   {
    "duration": 0,
    "start_time": "2025-03-22T03:21:08.814Z"
   },
   {
    "duration": 921,
    "start_time": "2025-03-22T03:21:45.374Z"
   },
   {
    "duration": 237,
    "start_time": "2025-03-22T03:21:46.298Z"
   },
   {
    "duration": 7,
    "start_time": "2025-03-22T03:21:46.536Z"
   },
   {
    "duration": 99,
    "start_time": "2025-03-22T03:21:46.545Z"
   },
   {
    "duration": 5,
    "start_time": "2025-03-22T03:21:46.648Z"
   },
   {
    "duration": 223,
    "start_time": "2025-03-22T03:21:46.655Z"
   },
   {
    "duration": 0,
    "start_time": "2025-03-22T03:21:46.880Z"
   },
   {
    "duration": 0,
    "start_time": "2025-03-22T03:21:46.881Z"
   },
   {
    "duration": 892,
    "start_time": "2025-03-22T03:23:38.190Z"
   },
   {
    "duration": 235,
    "start_time": "2025-03-22T03:23:39.084Z"
   },
   {
    "duration": 3,
    "start_time": "2025-03-22T03:23:39.321Z"
   },
   {
    "duration": 122,
    "start_time": "2025-03-22T03:23:39.325Z"
   },
   {
    "duration": 4,
    "start_time": "2025-03-22T03:23:39.450Z"
   },
   {
    "duration": 236,
    "start_time": "2025-03-22T03:23:39.455Z"
   },
   {
    "duration": 0,
    "start_time": "2025-03-22T03:23:39.692Z"
   },
   {
    "duration": 0,
    "start_time": "2025-03-22T03:23:39.693Z"
   },
   {
    "duration": 892,
    "start_time": "2025-03-22T03:24:37.173Z"
   },
   {
    "duration": 234,
    "start_time": "2025-03-22T03:24:38.067Z"
   },
   {
    "duration": 3,
    "start_time": "2025-03-22T03:24:38.303Z"
   },
   {
    "duration": 65,
    "start_time": "2025-03-22T03:24:38.308Z"
   },
   {
    "duration": 68,
    "start_time": "2025-03-22T03:24:38.375Z"
   },
   {
    "duration": 367,
    "start_time": "2025-03-22T03:24:38.444Z"
   },
   {
    "duration": 0,
    "start_time": "2025-03-22T03:24:38.813Z"
   },
   {
    "duration": 0,
    "start_time": "2025-03-22T03:24:38.814Z"
   },
   {
    "duration": 17,
    "start_time": "2025-03-22T03:25:28.921Z"
   },
   {
    "duration": 892,
    "start_time": "2025-03-22T03:25:40.517Z"
   },
   {
    "duration": 235,
    "start_time": "2025-03-22T03:25:41.411Z"
   },
   {
    "duration": 2,
    "start_time": "2025-03-22T03:25:41.648Z"
   },
   {
    "duration": 90,
    "start_time": "2025-03-22T03:25:41.654Z"
   },
   {
    "duration": 4,
    "start_time": "2025-03-22T03:25:41.746Z"
   },
   {
    "duration": 94,
    "start_time": "2025-03-22T03:25:41.751Z"
   },
   {
    "duration": 287,
    "start_time": "2025-03-22T03:25:41.847Z"
   },
   {
    "duration": 0,
    "start_time": "2025-03-22T03:25:42.136Z"
   },
   {
    "duration": 552,
    "start_time": "2025-03-22T03:27:21.017Z"
   },
   {
    "duration": 28,
    "start_time": "2025-03-22T03:27:43.440Z"
   },
   {
    "duration": 26,
    "start_time": "2025-03-22T03:33:41.739Z"
   },
   {
    "duration": 3094,
    "start_time": "2025-03-22T03:35:11.674Z"
   },
   {
    "duration": 2560,
    "start_time": "2025-03-22T03:35:51.646Z"
   },
   {
    "duration": 5,
    "start_time": "2025-03-22T03:42:09.632Z"
   },
   {
    "duration": 864,
    "start_time": "2025-03-22T03:44:14.265Z"
   },
   {
    "duration": 235,
    "start_time": "2025-03-22T03:44:15.131Z"
   },
   {
    "duration": 3,
    "start_time": "2025-03-22T03:44:15.368Z"
   },
   {
    "duration": 77,
    "start_time": "2025-03-22T03:44:15.373Z"
   },
   {
    "duration": 4,
    "start_time": "2025-03-22T03:44:15.452Z"
   },
   {
    "duration": 91,
    "start_time": "2025-03-22T03:44:15.458Z"
   },
   {
    "duration": 2686,
    "start_time": "2025-03-22T03:44:15.551Z"
   },
   {
    "duration": 5,
    "start_time": "2025-03-22T03:44:18.239Z"
   },
   {
    "duration": 863,
    "start_time": "2025-03-22T03:44:47.346Z"
   },
   {
    "duration": 253,
    "start_time": "2025-03-22T03:44:48.211Z"
   },
   {
    "duration": 3,
    "start_time": "2025-03-22T03:44:48.465Z"
   },
   {
    "duration": 80,
    "start_time": "2025-03-22T03:44:48.470Z"
   },
   {
    "duration": 5,
    "start_time": "2025-03-22T03:44:48.553Z"
   },
   {
    "duration": 92,
    "start_time": "2025-03-22T03:44:48.562Z"
   },
   {
    "duration": 2719,
    "start_time": "2025-03-22T03:44:48.655Z"
   },
   {
    "duration": 4,
    "start_time": "2025-03-22T03:44:51.375Z"
   }
  ],
  "kernelspec": {
   "display_name": "Python 3 (ipykernel)",
   "language": "python",
   "name": "python3"
  },
  "language_info": {
   "codemirror_mode": {
    "name": "ipython",
    "version": 3
   },
   "file_extension": ".py",
   "mimetype": "text/x-python",
   "name": "python",
   "nbconvert_exporter": "python",
   "pygments_lexer": "ipython3",
   "version": "3.9.19"
  },
  "toc": {
   "base_numbering": 1,
   "nav_menu": {},
   "number_sections": true,
   "sideBar": true,
   "skip_h1_title": true,
   "title_cell": "Table of Contents",
   "title_sidebar": "Contents",
   "toc_cell": false,
   "toc_position": {},
   "toc_section_display": true,
   "toc_window_display": false
  }
 },
 "nbformat": 4,
 "nbformat_minor": 2
}
