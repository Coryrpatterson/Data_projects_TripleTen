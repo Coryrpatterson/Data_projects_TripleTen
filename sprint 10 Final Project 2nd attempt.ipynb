{
 "cells": [
  {
   "cell_type": "markdown",
   "metadata": {},
   "source": [
    "<div style=\"border-radius: 15px; border: 3px solid indigo; padding: 15px;\">\n",
    "<b> Reviewer's comment</b>\n",
    "    \n",
    "Hi Cory, I am a reviewer on this project. Congratulations on submitting the second integrated project! 🎉\n",
    "    \n",
    "\n",
    "Before we start, I want to pay your attention to the color marking:\n",
    "    \n",
    "\n",
    "   \n",
    "    \n",
    "<div class=\"alert alert-success\" style=\"border-radius: 15px; box-shadow: 4px 4px 4px; border: 1px solid \">\n",
    "\n",
    "Great solutions and ideas that can and should be used in the future are in green comments. Some of them are: \n",
    "    \n",
    "        \n",
    "    \n",
    "- Read the data;\n",
    "\n",
    "    \n",
    "\n",
    "\n",
    "- Handled missing values;    \n",
    "    \n",
    "    \n",
    "    \n",
    "- Displayed concentration boxplots for three metals and analyzed them;    \n",
    "    \n",
    "        \n",
    "    \n",
    "- You have successfully compared the distributions in the test and training sets;\n",
    "\n",
    "    \n",
    "- Correctly defined the smape function; \n",
    "\n",
    "\n",
    "- Excluded columns that not available in the test set from the training subset.    \n",
    "    \n",
    "    \n",
    "- Trained several models; \n",
    "\n",
    "\n",
    "\n",
    "- Analyzed metrics. It is not enough to just fit the model and print the result. Instead, we have to analyze the results as it helps us identify what can be improved;\n",
    "\n",
    "   \n",
    "    \n",
    "    \n",
    "- Wrote conclusions! \n",
    "\n",
    "</div>\n",
    "    \n",
    "<div class=\"alert alert-warning\" style=\"border-radius: 15px; box-shadow: 4px 4px 4px; border: 1px solid \">\n",
    "<b> Reviewer's comment </b>\n",
    "\n",
    "Yellow color indicates what should be optimized. This is not necessary, but it will be great if you make changes to this project. I've left several recommendations throughout the project. Please take a look.\n",
    " \n",
    "</div>\n",
    "<div class=\"alert alert-danger\" style=\"border-radius: 15px; box-shadow: 4px 4px 4px; border: 1px solid \">\n",
    "<b> Reviewer's comment </b>\n",
    "\n",
    "Issues that must be corrected to achieve accurate results are indicated in red comments. Please note that the project cannot be accepted until these issues are resolved. For instance: \n",
    "    \n",
    "    \n",
    "- Would you please add an introduction and a title to the project? \n",
    "\n",
    "    \n",
    "      \n",
    "    \n",
    "- Please pay attention to the columns not available in the test set. Why is that so? What do they indicate? Do we need to use them during the training process? \n",
    "    \n",
    "    \n",
    "- We need to drop missing values from the target columns before we fill in the gaps.\n",
    "\n",
    "\n",
    "- Please fill in the gaps using `median` or `ffill` method.    \n",
    "    \n",
    "    \n",
    "- Please fix the issues I described in the concentration analysis sections. \n",
    "    \n",
    "       \n",
    "      \n",
    "    \n",
    "- Please try to tune hyperparameters for at least one of the models. \n",
    "    \n",
    "    \n",
    "    \n",
    "- Please don't forget about the final conclusion;\n",
    "\n",
    "    \n",
    "    \n",
    "- Make sure each cell in the project works fine before you send it for review. \n",
    "\n",
    "    \n",
    "There may be some other issues, I explained everything in my comments.    \n",
    "</div>        \n",
    "<hr>\n",
    "    \n",
    "<font color='dodgerblue'>**To sum up:**</font> you did a great job here, thank you so much! The updates should not take much time. If you have any questions, please feel free to ask. I will wait the project for the second review 😊 \n",
    "    \n",
    "\n",
    "<hr>\n",
    "    \n",
    "Please use some color other than those listed to highlight answers to my comments.\n",
    "I would also ask you **not to change, move or delete my comments** to make it easier for me to navigate during the next review.\n",
    "    \n",
    " \n",
    "\n",
    "    \n",
    "<hr>\n",
    "    \n",
    "✍️ Here's a nice article: [Developing Multi-Target Regression Models with Python](https://medium.com/@tubelwj/developing-multi-class-regression-models-with-python-c8beca5dd482) that you may find interesting.    \n",
    "<hr>\n",
    "    \n",
    "📌 Please feel free to schedule a 1:1 with our tutors or TAs, join daily coworking sessions, or ask questions in the sprint channels on Discord if you need assistance. \n",
    "</div>"
   ]
  },
  {
   "cell_type": "markdown",
   "metadata": {},
   "source": [
    "<div class=\"alert alert-danger\" style=\"border-radius: 15px; box-shadow: 4px 4px 4px; border: 1px solid \">\n",
    "<h2> Reviewer's comment</h2>\n",
    "    \n",
    "First things first. The introduction is the initial paragraph that each project, each essay or any article should have. It is important to write an introductory part because it gives an idea about the content of the project. Please, add a title with some introduction :) \n",
    "    \n",
    "</div>"
   ]
  },
  {
   "cell_type": "markdown",
   "metadata": {},
   "source": [
    "Today we are looking at the concentrations of three metals as it goes through the process of refining. We will be looking for a few different things such as the MAE, and later in the analysis we will be looking at the sMAPE which is a metric sed to evaluate the accuracy of predictive models that will be used today."
   ]
  },
  {
   "cell_type": "code",
   "execution_count": 1,
   "metadata": {},
   "outputs": [],
   "source": [
    "import pandas as pd\n",
    "import numpy as np\n",
    "import matplotlib.pyplot as plt\n",
    "import seaborn as sns\n",
    "from sklearn.metrics import mean_absolute_error, make_scorer\n",
    "from sklearn.model_selection import cross_val_score, train_test_split, GridSearchCV\n",
    "from sklearn.ensemble import RandomForestRegressor\n",
    "from sklearn.tree import DecisionTreeRegressor\n",
    "from sklearn.model_selection import KFold"
   ]
  },
  {
   "cell_type": "code",
   "execution_count": 2,
   "metadata": {
    "scrolled": false
   },
   "outputs": [
    {
     "data": {
      "text/plain": [
       "'Train Data Sample:\\n'"
      ]
     },
     "metadata": {},
     "output_type": "display_data"
    },
    {
     "data": {
      "text/html": [
       "<div>\n",
       "<style scoped>\n",
       "    .dataframe tbody tr th:only-of-type {\n",
       "        vertical-align: middle;\n",
       "    }\n",
       "\n",
       "    .dataframe tbody tr th {\n",
       "        vertical-align: top;\n",
       "    }\n",
       "\n",
       "    .dataframe thead th {\n",
       "        text-align: right;\n",
       "    }\n",
       "</style>\n",
       "<table border=\"1\" class=\"dataframe\">\n",
       "  <thead>\n",
       "    <tr style=\"text-align: right;\">\n",
       "      <th></th>\n",
       "      <th>final.output.concentrate_ag</th>\n",
       "      <th>final.output.concentrate_pb</th>\n",
       "      <th>final.output.concentrate_sol</th>\n",
       "      <th>final.output.concentrate_au</th>\n",
       "      <th>final.output.recovery</th>\n",
       "      <th>final.output.tail_ag</th>\n",
       "      <th>final.output.tail_pb</th>\n",
       "      <th>final.output.tail_sol</th>\n",
       "      <th>final.output.tail_au</th>\n",
       "      <th>primary_cleaner.input.sulfate</th>\n",
       "      <th>...</th>\n",
       "      <th>secondary_cleaner.state.floatbank4_a_air</th>\n",
       "      <th>secondary_cleaner.state.floatbank4_a_level</th>\n",
       "      <th>secondary_cleaner.state.floatbank4_b_air</th>\n",
       "      <th>secondary_cleaner.state.floatbank4_b_level</th>\n",
       "      <th>secondary_cleaner.state.floatbank5_a_air</th>\n",
       "      <th>secondary_cleaner.state.floatbank5_a_level</th>\n",
       "      <th>secondary_cleaner.state.floatbank5_b_air</th>\n",
       "      <th>secondary_cleaner.state.floatbank5_b_level</th>\n",
       "      <th>secondary_cleaner.state.floatbank6_a_air</th>\n",
       "      <th>secondary_cleaner.state.floatbank6_a_level</th>\n",
       "    </tr>\n",
       "    <tr>\n",
       "      <th>date</th>\n",
       "      <th></th>\n",
       "      <th></th>\n",
       "      <th></th>\n",
       "      <th></th>\n",
       "      <th></th>\n",
       "      <th></th>\n",
       "      <th></th>\n",
       "      <th></th>\n",
       "      <th></th>\n",
       "      <th></th>\n",
       "      <th></th>\n",
       "      <th></th>\n",
       "      <th></th>\n",
       "      <th></th>\n",
       "      <th></th>\n",
       "      <th></th>\n",
       "      <th></th>\n",
       "      <th></th>\n",
       "      <th></th>\n",
       "      <th></th>\n",
       "      <th></th>\n",
       "    </tr>\n",
       "  </thead>\n",
       "  <tbody>\n",
       "    <tr>\n",
       "      <th>2016-01-15 00:00:00</th>\n",
       "      <td>6.055403</td>\n",
       "      <td>9.889648</td>\n",
       "      <td>5.507324</td>\n",
       "      <td>42.192020</td>\n",
       "      <td>70.541216</td>\n",
       "      <td>10.411962</td>\n",
       "      <td>0.895447</td>\n",
       "      <td>16.904297</td>\n",
       "      <td>2.143149</td>\n",
       "      <td>127.092003</td>\n",
       "      <td>...</td>\n",
       "      <td>14.016835</td>\n",
       "      <td>-502.488007</td>\n",
       "      <td>12.099931</td>\n",
       "      <td>-504.715942</td>\n",
       "      <td>9.925633</td>\n",
       "      <td>-498.310211</td>\n",
       "      <td>8.079666</td>\n",
       "      <td>-500.470978</td>\n",
       "      <td>14.151341</td>\n",
       "      <td>-605.841980</td>\n",
       "    </tr>\n",
       "    <tr>\n",
       "      <th>2016-01-15 01:00:00</th>\n",
       "      <td>6.029369</td>\n",
       "      <td>9.968944</td>\n",
       "      <td>5.257781</td>\n",
       "      <td>42.701629</td>\n",
       "      <td>69.266198</td>\n",
       "      <td>10.462676</td>\n",
       "      <td>0.927452</td>\n",
       "      <td>16.634514</td>\n",
       "      <td>2.224930</td>\n",
       "      <td>125.629232</td>\n",
       "      <td>...</td>\n",
       "      <td>13.992281</td>\n",
       "      <td>-505.503262</td>\n",
       "      <td>11.950531</td>\n",
       "      <td>-501.331529</td>\n",
       "      <td>10.039245</td>\n",
       "      <td>-500.169983</td>\n",
       "      <td>7.984757</td>\n",
       "      <td>-500.582168</td>\n",
       "      <td>13.998353</td>\n",
       "      <td>-599.787184</td>\n",
       "    </tr>\n",
       "    <tr>\n",
       "      <th>2016-01-15 02:00:00</th>\n",
       "      <td>6.055926</td>\n",
       "      <td>10.213995</td>\n",
       "      <td>5.383759</td>\n",
       "      <td>42.657501</td>\n",
       "      <td>68.116445</td>\n",
       "      <td>10.507046</td>\n",
       "      <td>0.953716</td>\n",
       "      <td>16.208849</td>\n",
       "      <td>2.257889</td>\n",
       "      <td>123.819808</td>\n",
       "      <td>...</td>\n",
       "      <td>14.015015</td>\n",
       "      <td>-502.520901</td>\n",
       "      <td>11.912783</td>\n",
       "      <td>-501.133383</td>\n",
       "      <td>10.070913</td>\n",
       "      <td>-500.129135</td>\n",
       "      <td>8.013877</td>\n",
       "      <td>-500.517572</td>\n",
       "      <td>14.028663</td>\n",
       "      <td>-601.427363</td>\n",
       "    </tr>\n",
       "    <tr>\n",
       "      <th>2016-01-15 03:00:00</th>\n",
       "      <td>6.047977</td>\n",
       "      <td>9.977019</td>\n",
       "      <td>4.858634</td>\n",
       "      <td>42.689819</td>\n",
       "      <td>68.347543</td>\n",
       "      <td>10.422762</td>\n",
       "      <td>0.883763</td>\n",
       "      <td>16.532835</td>\n",
       "      <td>2.146849</td>\n",
       "      <td>122.270188</td>\n",
       "      <td>...</td>\n",
       "      <td>14.036510</td>\n",
       "      <td>-500.857308</td>\n",
       "      <td>11.999550</td>\n",
       "      <td>-501.193686</td>\n",
       "      <td>9.970366</td>\n",
       "      <td>-499.201640</td>\n",
       "      <td>7.977324</td>\n",
       "      <td>-500.255908</td>\n",
       "      <td>14.005551</td>\n",
       "      <td>-599.996129</td>\n",
       "    </tr>\n",
       "    <tr>\n",
       "      <th>2016-01-15 04:00:00</th>\n",
       "      <td>6.148599</td>\n",
       "      <td>10.142511</td>\n",
       "      <td>4.939416</td>\n",
       "      <td>42.774141</td>\n",
       "      <td>66.927016</td>\n",
       "      <td>10.360302</td>\n",
       "      <td>0.792826</td>\n",
       "      <td>16.525686</td>\n",
       "      <td>2.055292</td>\n",
       "      <td>117.988169</td>\n",
       "      <td>...</td>\n",
       "      <td>14.027298</td>\n",
       "      <td>-499.838632</td>\n",
       "      <td>11.953070</td>\n",
       "      <td>-501.053894</td>\n",
       "      <td>9.925709</td>\n",
       "      <td>-501.686727</td>\n",
       "      <td>7.894242</td>\n",
       "      <td>-500.356035</td>\n",
       "      <td>13.996647</td>\n",
       "      <td>-601.496691</td>\n",
       "    </tr>\n",
       "  </tbody>\n",
       "</table>\n",
       "<p>5 rows × 86 columns</p>\n",
       "</div>"
      ],
      "text/plain": [
       "                     final.output.concentrate_ag  final.output.concentrate_pb  \\\n",
       "date                                                                            \n",
       "2016-01-15 00:00:00                     6.055403                     9.889648   \n",
       "2016-01-15 01:00:00                     6.029369                     9.968944   \n",
       "2016-01-15 02:00:00                     6.055926                    10.213995   \n",
       "2016-01-15 03:00:00                     6.047977                     9.977019   \n",
       "2016-01-15 04:00:00                     6.148599                    10.142511   \n",
       "\n",
       "                     final.output.concentrate_sol  \\\n",
       "date                                                \n",
       "2016-01-15 00:00:00                      5.507324   \n",
       "2016-01-15 01:00:00                      5.257781   \n",
       "2016-01-15 02:00:00                      5.383759   \n",
       "2016-01-15 03:00:00                      4.858634   \n",
       "2016-01-15 04:00:00                      4.939416   \n",
       "\n",
       "                     final.output.concentrate_au  final.output.recovery  \\\n",
       "date                                                                      \n",
       "2016-01-15 00:00:00                    42.192020              70.541216   \n",
       "2016-01-15 01:00:00                    42.701629              69.266198   \n",
       "2016-01-15 02:00:00                    42.657501              68.116445   \n",
       "2016-01-15 03:00:00                    42.689819              68.347543   \n",
       "2016-01-15 04:00:00                    42.774141              66.927016   \n",
       "\n",
       "                     final.output.tail_ag  final.output.tail_pb  \\\n",
       "date                                                              \n",
       "2016-01-15 00:00:00             10.411962              0.895447   \n",
       "2016-01-15 01:00:00             10.462676              0.927452   \n",
       "2016-01-15 02:00:00             10.507046              0.953716   \n",
       "2016-01-15 03:00:00             10.422762              0.883763   \n",
       "2016-01-15 04:00:00             10.360302              0.792826   \n",
       "\n",
       "                     final.output.tail_sol  final.output.tail_au  \\\n",
       "date                                                               \n",
       "2016-01-15 00:00:00              16.904297              2.143149   \n",
       "2016-01-15 01:00:00              16.634514              2.224930   \n",
       "2016-01-15 02:00:00              16.208849              2.257889   \n",
       "2016-01-15 03:00:00              16.532835              2.146849   \n",
       "2016-01-15 04:00:00              16.525686              2.055292   \n",
       "\n",
       "                     primary_cleaner.input.sulfate  ...  \\\n",
       "date                                                ...   \n",
       "2016-01-15 00:00:00                     127.092003  ...   \n",
       "2016-01-15 01:00:00                     125.629232  ...   \n",
       "2016-01-15 02:00:00                     123.819808  ...   \n",
       "2016-01-15 03:00:00                     122.270188  ...   \n",
       "2016-01-15 04:00:00                     117.988169  ...   \n",
       "\n",
       "                     secondary_cleaner.state.floatbank4_a_air  \\\n",
       "date                                                            \n",
       "2016-01-15 00:00:00                                 14.016835   \n",
       "2016-01-15 01:00:00                                 13.992281   \n",
       "2016-01-15 02:00:00                                 14.015015   \n",
       "2016-01-15 03:00:00                                 14.036510   \n",
       "2016-01-15 04:00:00                                 14.027298   \n",
       "\n",
       "                     secondary_cleaner.state.floatbank4_a_level  \\\n",
       "date                                                              \n",
       "2016-01-15 00:00:00                                 -502.488007   \n",
       "2016-01-15 01:00:00                                 -505.503262   \n",
       "2016-01-15 02:00:00                                 -502.520901   \n",
       "2016-01-15 03:00:00                                 -500.857308   \n",
       "2016-01-15 04:00:00                                 -499.838632   \n",
       "\n",
       "                     secondary_cleaner.state.floatbank4_b_air  \\\n",
       "date                                                            \n",
       "2016-01-15 00:00:00                                 12.099931   \n",
       "2016-01-15 01:00:00                                 11.950531   \n",
       "2016-01-15 02:00:00                                 11.912783   \n",
       "2016-01-15 03:00:00                                 11.999550   \n",
       "2016-01-15 04:00:00                                 11.953070   \n",
       "\n",
       "                     secondary_cleaner.state.floatbank4_b_level  \\\n",
       "date                                                              \n",
       "2016-01-15 00:00:00                                 -504.715942   \n",
       "2016-01-15 01:00:00                                 -501.331529   \n",
       "2016-01-15 02:00:00                                 -501.133383   \n",
       "2016-01-15 03:00:00                                 -501.193686   \n",
       "2016-01-15 04:00:00                                 -501.053894   \n",
       "\n",
       "                     secondary_cleaner.state.floatbank5_a_air  \\\n",
       "date                                                            \n",
       "2016-01-15 00:00:00                                  9.925633   \n",
       "2016-01-15 01:00:00                                 10.039245   \n",
       "2016-01-15 02:00:00                                 10.070913   \n",
       "2016-01-15 03:00:00                                  9.970366   \n",
       "2016-01-15 04:00:00                                  9.925709   \n",
       "\n",
       "                     secondary_cleaner.state.floatbank5_a_level  \\\n",
       "date                                                              \n",
       "2016-01-15 00:00:00                                 -498.310211   \n",
       "2016-01-15 01:00:00                                 -500.169983   \n",
       "2016-01-15 02:00:00                                 -500.129135   \n",
       "2016-01-15 03:00:00                                 -499.201640   \n",
       "2016-01-15 04:00:00                                 -501.686727   \n",
       "\n",
       "                     secondary_cleaner.state.floatbank5_b_air  \\\n",
       "date                                                            \n",
       "2016-01-15 00:00:00                                  8.079666   \n",
       "2016-01-15 01:00:00                                  7.984757   \n",
       "2016-01-15 02:00:00                                  8.013877   \n",
       "2016-01-15 03:00:00                                  7.977324   \n",
       "2016-01-15 04:00:00                                  7.894242   \n",
       "\n",
       "                     secondary_cleaner.state.floatbank5_b_level  \\\n",
       "date                                                              \n",
       "2016-01-15 00:00:00                                 -500.470978   \n",
       "2016-01-15 01:00:00                                 -500.582168   \n",
       "2016-01-15 02:00:00                                 -500.517572   \n",
       "2016-01-15 03:00:00                                 -500.255908   \n",
       "2016-01-15 04:00:00                                 -500.356035   \n",
       "\n",
       "                     secondary_cleaner.state.floatbank6_a_air  \\\n",
       "date                                                            \n",
       "2016-01-15 00:00:00                                 14.151341   \n",
       "2016-01-15 01:00:00                                 13.998353   \n",
       "2016-01-15 02:00:00                                 14.028663   \n",
       "2016-01-15 03:00:00                                 14.005551   \n",
       "2016-01-15 04:00:00                                 13.996647   \n",
       "\n",
       "                     secondary_cleaner.state.floatbank6_a_level  \n",
       "date                                                             \n",
       "2016-01-15 00:00:00                                 -605.841980  \n",
       "2016-01-15 01:00:00                                 -599.787184  \n",
       "2016-01-15 02:00:00                                 -601.427363  \n",
       "2016-01-15 03:00:00                                 -599.996129  \n",
       "2016-01-15 04:00:00                                 -601.496691  \n",
       "\n",
       "[5 rows x 86 columns]"
      ]
     },
     "metadata": {},
     "output_type": "display_data"
    },
    {
     "data": {
      "text/plain": [
       "'Test Data Sample:\\n'"
      ]
     },
     "metadata": {},
     "output_type": "display_data"
    },
    {
     "data": {
      "text/html": [
       "<div>\n",
       "<style scoped>\n",
       "    .dataframe tbody tr th:only-of-type {\n",
       "        vertical-align: middle;\n",
       "    }\n",
       "\n",
       "    .dataframe tbody tr th {\n",
       "        vertical-align: top;\n",
       "    }\n",
       "\n",
       "    .dataframe thead th {\n",
       "        text-align: right;\n",
       "    }\n",
       "</style>\n",
       "<table border=\"1\" class=\"dataframe\">\n",
       "  <thead>\n",
       "    <tr style=\"text-align: right;\">\n",
       "      <th></th>\n",
       "      <th>primary_cleaner.input.sulfate</th>\n",
       "      <th>primary_cleaner.input.depressant</th>\n",
       "      <th>primary_cleaner.input.feed_size</th>\n",
       "      <th>primary_cleaner.input.xanthate</th>\n",
       "      <th>primary_cleaner.state.floatbank8_a_air</th>\n",
       "      <th>primary_cleaner.state.floatbank8_a_level</th>\n",
       "      <th>primary_cleaner.state.floatbank8_b_air</th>\n",
       "      <th>primary_cleaner.state.floatbank8_b_level</th>\n",
       "      <th>primary_cleaner.state.floatbank8_c_air</th>\n",
       "      <th>primary_cleaner.state.floatbank8_c_level</th>\n",
       "      <th>...</th>\n",
       "      <th>secondary_cleaner.state.floatbank4_a_air</th>\n",
       "      <th>secondary_cleaner.state.floatbank4_a_level</th>\n",
       "      <th>secondary_cleaner.state.floatbank4_b_air</th>\n",
       "      <th>secondary_cleaner.state.floatbank4_b_level</th>\n",
       "      <th>secondary_cleaner.state.floatbank5_a_air</th>\n",
       "      <th>secondary_cleaner.state.floatbank5_a_level</th>\n",
       "      <th>secondary_cleaner.state.floatbank5_b_air</th>\n",
       "      <th>secondary_cleaner.state.floatbank5_b_level</th>\n",
       "      <th>secondary_cleaner.state.floatbank6_a_air</th>\n",
       "      <th>secondary_cleaner.state.floatbank6_a_level</th>\n",
       "    </tr>\n",
       "    <tr>\n",
       "      <th>date</th>\n",
       "      <th></th>\n",
       "      <th></th>\n",
       "      <th></th>\n",
       "      <th></th>\n",
       "      <th></th>\n",
       "      <th></th>\n",
       "      <th></th>\n",
       "      <th></th>\n",
       "      <th></th>\n",
       "      <th></th>\n",
       "      <th></th>\n",
       "      <th></th>\n",
       "      <th></th>\n",
       "      <th></th>\n",
       "      <th></th>\n",
       "      <th></th>\n",
       "      <th></th>\n",
       "      <th></th>\n",
       "      <th></th>\n",
       "      <th></th>\n",
       "      <th></th>\n",
       "    </tr>\n",
       "  </thead>\n",
       "  <tbody>\n",
       "    <tr>\n",
       "      <th>2016-09-01 00:59:59</th>\n",
       "      <td>210.800909</td>\n",
       "      <td>14.993118</td>\n",
       "      <td>8.080000</td>\n",
       "      <td>1.005021</td>\n",
       "      <td>1398.981301</td>\n",
       "      <td>-500.225577</td>\n",
       "      <td>1399.144926</td>\n",
       "      <td>-499.919735</td>\n",
       "      <td>1400.102998</td>\n",
       "      <td>-500.704369</td>\n",
       "      <td>...</td>\n",
       "      <td>12.023554</td>\n",
       "      <td>-497.795834</td>\n",
       "      <td>8.016656</td>\n",
       "      <td>-501.289139</td>\n",
       "      <td>7.946562</td>\n",
       "      <td>-432.317850</td>\n",
       "      <td>4.872511</td>\n",
       "      <td>-500.037437</td>\n",
       "      <td>26.705889</td>\n",
       "      <td>-499.709414</td>\n",
       "    </tr>\n",
       "    <tr>\n",
       "      <th>2016-09-01 01:59:59</th>\n",
       "      <td>215.392455</td>\n",
       "      <td>14.987471</td>\n",
       "      <td>8.080000</td>\n",
       "      <td>0.990469</td>\n",
       "      <td>1398.777912</td>\n",
       "      <td>-500.057435</td>\n",
       "      <td>1398.055362</td>\n",
       "      <td>-499.778182</td>\n",
       "      <td>1396.151033</td>\n",
       "      <td>-499.240168</td>\n",
       "      <td>...</td>\n",
       "      <td>12.058140</td>\n",
       "      <td>-498.695773</td>\n",
       "      <td>8.130979</td>\n",
       "      <td>-499.634209</td>\n",
       "      <td>7.958270</td>\n",
       "      <td>-525.839648</td>\n",
       "      <td>4.878850</td>\n",
       "      <td>-500.162375</td>\n",
       "      <td>25.019940</td>\n",
       "      <td>-499.819438</td>\n",
       "    </tr>\n",
       "    <tr>\n",
       "      <th>2016-09-01 02:59:59</th>\n",
       "      <td>215.259946</td>\n",
       "      <td>12.884934</td>\n",
       "      <td>7.786667</td>\n",
       "      <td>0.996043</td>\n",
       "      <td>1398.493666</td>\n",
       "      <td>-500.868360</td>\n",
       "      <td>1398.860436</td>\n",
       "      <td>-499.764529</td>\n",
       "      <td>1398.075709</td>\n",
       "      <td>-502.151509</td>\n",
       "      <td>...</td>\n",
       "      <td>11.962366</td>\n",
       "      <td>-498.767484</td>\n",
       "      <td>8.096893</td>\n",
       "      <td>-500.827423</td>\n",
       "      <td>8.071056</td>\n",
       "      <td>-500.801673</td>\n",
       "      <td>4.905125</td>\n",
       "      <td>-499.828510</td>\n",
       "      <td>24.994862</td>\n",
       "      <td>-500.622559</td>\n",
       "    </tr>\n",
       "    <tr>\n",
       "      <th>2016-09-01 03:59:59</th>\n",
       "      <td>215.336236</td>\n",
       "      <td>12.006805</td>\n",
       "      <td>7.640000</td>\n",
       "      <td>0.863514</td>\n",
       "      <td>1399.618111</td>\n",
       "      <td>-498.863574</td>\n",
       "      <td>1397.440120</td>\n",
       "      <td>-499.211024</td>\n",
       "      <td>1400.129303</td>\n",
       "      <td>-498.355873</td>\n",
       "      <td>...</td>\n",
       "      <td>12.033091</td>\n",
       "      <td>-498.350935</td>\n",
       "      <td>8.074946</td>\n",
       "      <td>-499.474407</td>\n",
       "      <td>7.897085</td>\n",
       "      <td>-500.868509</td>\n",
       "      <td>4.931400</td>\n",
       "      <td>-499.963623</td>\n",
       "      <td>24.948919</td>\n",
       "      <td>-498.709987</td>\n",
       "    </tr>\n",
       "    <tr>\n",
       "      <th>2016-09-01 04:59:59</th>\n",
       "      <td>199.099327</td>\n",
       "      <td>10.682530</td>\n",
       "      <td>7.530000</td>\n",
       "      <td>0.805575</td>\n",
       "      <td>1401.268123</td>\n",
       "      <td>-500.808305</td>\n",
       "      <td>1398.128818</td>\n",
       "      <td>-499.504543</td>\n",
       "      <td>1402.172226</td>\n",
       "      <td>-500.810606</td>\n",
       "      <td>...</td>\n",
       "      <td>12.025367</td>\n",
       "      <td>-500.786497</td>\n",
       "      <td>8.054678</td>\n",
       "      <td>-500.397500</td>\n",
       "      <td>8.107890</td>\n",
       "      <td>-509.526725</td>\n",
       "      <td>4.957674</td>\n",
       "      <td>-500.360026</td>\n",
       "      <td>25.003331</td>\n",
       "      <td>-500.856333</td>\n",
       "    </tr>\n",
       "  </tbody>\n",
       "</table>\n",
       "<p>5 rows × 52 columns</p>\n",
       "</div>"
      ],
      "text/plain": [
       "                     primary_cleaner.input.sulfate  \\\n",
       "date                                                 \n",
       "2016-09-01 00:59:59                     210.800909   \n",
       "2016-09-01 01:59:59                     215.392455   \n",
       "2016-09-01 02:59:59                     215.259946   \n",
       "2016-09-01 03:59:59                     215.336236   \n",
       "2016-09-01 04:59:59                     199.099327   \n",
       "\n",
       "                     primary_cleaner.input.depressant  \\\n",
       "date                                                    \n",
       "2016-09-01 00:59:59                         14.993118   \n",
       "2016-09-01 01:59:59                         14.987471   \n",
       "2016-09-01 02:59:59                         12.884934   \n",
       "2016-09-01 03:59:59                         12.006805   \n",
       "2016-09-01 04:59:59                         10.682530   \n",
       "\n",
       "                     primary_cleaner.input.feed_size  \\\n",
       "date                                                   \n",
       "2016-09-01 00:59:59                         8.080000   \n",
       "2016-09-01 01:59:59                         8.080000   \n",
       "2016-09-01 02:59:59                         7.786667   \n",
       "2016-09-01 03:59:59                         7.640000   \n",
       "2016-09-01 04:59:59                         7.530000   \n",
       "\n",
       "                     primary_cleaner.input.xanthate  \\\n",
       "date                                                  \n",
       "2016-09-01 00:59:59                        1.005021   \n",
       "2016-09-01 01:59:59                        0.990469   \n",
       "2016-09-01 02:59:59                        0.996043   \n",
       "2016-09-01 03:59:59                        0.863514   \n",
       "2016-09-01 04:59:59                        0.805575   \n",
       "\n",
       "                     primary_cleaner.state.floatbank8_a_air  \\\n",
       "date                                                          \n",
       "2016-09-01 00:59:59                             1398.981301   \n",
       "2016-09-01 01:59:59                             1398.777912   \n",
       "2016-09-01 02:59:59                             1398.493666   \n",
       "2016-09-01 03:59:59                             1399.618111   \n",
       "2016-09-01 04:59:59                             1401.268123   \n",
       "\n",
       "                     primary_cleaner.state.floatbank8_a_level  \\\n",
       "date                                                            \n",
       "2016-09-01 00:59:59                               -500.225577   \n",
       "2016-09-01 01:59:59                               -500.057435   \n",
       "2016-09-01 02:59:59                               -500.868360   \n",
       "2016-09-01 03:59:59                               -498.863574   \n",
       "2016-09-01 04:59:59                               -500.808305   \n",
       "\n",
       "                     primary_cleaner.state.floatbank8_b_air  \\\n",
       "date                                                          \n",
       "2016-09-01 00:59:59                             1399.144926   \n",
       "2016-09-01 01:59:59                             1398.055362   \n",
       "2016-09-01 02:59:59                             1398.860436   \n",
       "2016-09-01 03:59:59                             1397.440120   \n",
       "2016-09-01 04:59:59                             1398.128818   \n",
       "\n",
       "                     primary_cleaner.state.floatbank8_b_level  \\\n",
       "date                                                            \n",
       "2016-09-01 00:59:59                               -499.919735   \n",
       "2016-09-01 01:59:59                               -499.778182   \n",
       "2016-09-01 02:59:59                               -499.764529   \n",
       "2016-09-01 03:59:59                               -499.211024   \n",
       "2016-09-01 04:59:59                               -499.504543   \n",
       "\n",
       "                     primary_cleaner.state.floatbank8_c_air  \\\n",
       "date                                                          \n",
       "2016-09-01 00:59:59                             1400.102998   \n",
       "2016-09-01 01:59:59                             1396.151033   \n",
       "2016-09-01 02:59:59                             1398.075709   \n",
       "2016-09-01 03:59:59                             1400.129303   \n",
       "2016-09-01 04:59:59                             1402.172226   \n",
       "\n",
       "                     primary_cleaner.state.floatbank8_c_level  ...  \\\n",
       "date                                                           ...   \n",
       "2016-09-01 00:59:59                               -500.704369  ...   \n",
       "2016-09-01 01:59:59                               -499.240168  ...   \n",
       "2016-09-01 02:59:59                               -502.151509  ...   \n",
       "2016-09-01 03:59:59                               -498.355873  ...   \n",
       "2016-09-01 04:59:59                               -500.810606  ...   \n",
       "\n",
       "                     secondary_cleaner.state.floatbank4_a_air  \\\n",
       "date                                                            \n",
       "2016-09-01 00:59:59                                 12.023554   \n",
       "2016-09-01 01:59:59                                 12.058140   \n",
       "2016-09-01 02:59:59                                 11.962366   \n",
       "2016-09-01 03:59:59                                 12.033091   \n",
       "2016-09-01 04:59:59                                 12.025367   \n",
       "\n",
       "                     secondary_cleaner.state.floatbank4_a_level  \\\n",
       "date                                                              \n",
       "2016-09-01 00:59:59                                 -497.795834   \n",
       "2016-09-01 01:59:59                                 -498.695773   \n",
       "2016-09-01 02:59:59                                 -498.767484   \n",
       "2016-09-01 03:59:59                                 -498.350935   \n",
       "2016-09-01 04:59:59                                 -500.786497   \n",
       "\n",
       "                     secondary_cleaner.state.floatbank4_b_air  \\\n",
       "date                                                            \n",
       "2016-09-01 00:59:59                                  8.016656   \n",
       "2016-09-01 01:59:59                                  8.130979   \n",
       "2016-09-01 02:59:59                                  8.096893   \n",
       "2016-09-01 03:59:59                                  8.074946   \n",
       "2016-09-01 04:59:59                                  8.054678   \n",
       "\n",
       "                     secondary_cleaner.state.floatbank4_b_level  \\\n",
       "date                                                              \n",
       "2016-09-01 00:59:59                                 -501.289139   \n",
       "2016-09-01 01:59:59                                 -499.634209   \n",
       "2016-09-01 02:59:59                                 -500.827423   \n",
       "2016-09-01 03:59:59                                 -499.474407   \n",
       "2016-09-01 04:59:59                                 -500.397500   \n",
       "\n",
       "                     secondary_cleaner.state.floatbank5_a_air  \\\n",
       "date                                                            \n",
       "2016-09-01 00:59:59                                  7.946562   \n",
       "2016-09-01 01:59:59                                  7.958270   \n",
       "2016-09-01 02:59:59                                  8.071056   \n",
       "2016-09-01 03:59:59                                  7.897085   \n",
       "2016-09-01 04:59:59                                  8.107890   \n",
       "\n",
       "                     secondary_cleaner.state.floatbank5_a_level  \\\n",
       "date                                                              \n",
       "2016-09-01 00:59:59                                 -432.317850   \n",
       "2016-09-01 01:59:59                                 -525.839648   \n",
       "2016-09-01 02:59:59                                 -500.801673   \n",
       "2016-09-01 03:59:59                                 -500.868509   \n",
       "2016-09-01 04:59:59                                 -509.526725   \n",
       "\n",
       "                     secondary_cleaner.state.floatbank5_b_air  \\\n",
       "date                                                            \n",
       "2016-09-01 00:59:59                                  4.872511   \n",
       "2016-09-01 01:59:59                                  4.878850   \n",
       "2016-09-01 02:59:59                                  4.905125   \n",
       "2016-09-01 03:59:59                                  4.931400   \n",
       "2016-09-01 04:59:59                                  4.957674   \n",
       "\n",
       "                     secondary_cleaner.state.floatbank5_b_level  \\\n",
       "date                                                              \n",
       "2016-09-01 00:59:59                                 -500.037437   \n",
       "2016-09-01 01:59:59                                 -500.162375   \n",
       "2016-09-01 02:59:59                                 -499.828510   \n",
       "2016-09-01 03:59:59                                 -499.963623   \n",
       "2016-09-01 04:59:59                                 -500.360026   \n",
       "\n",
       "                     secondary_cleaner.state.floatbank6_a_air  \\\n",
       "date                                                            \n",
       "2016-09-01 00:59:59                                 26.705889   \n",
       "2016-09-01 01:59:59                                 25.019940   \n",
       "2016-09-01 02:59:59                                 24.994862   \n",
       "2016-09-01 03:59:59                                 24.948919   \n",
       "2016-09-01 04:59:59                                 25.003331   \n",
       "\n",
       "                     secondary_cleaner.state.floatbank6_a_level  \n",
       "date                                                             \n",
       "2016-09-01 00:59:59                                 -499.709414  \n",
       "2016-09-01 01:59:59                                 -499.819438  \n",
       "2016-09-01 02:59:59                                 -500.622559  \n",
       "2016-09-01 03:59:59                                 -498.709987  \n",
       "2016-09-01 04:59:59                                 -500.856333  \n",
       "\n",
       "[5 rows x 52 columns]"
      ]
     },
     "metadata": {},
     "output_type": "display_data"
    },
    {
     "data": {
      "text/plain": [
       "'Full Data Sample:\\n'"
      ]
     },
     "metadata": {},
     "output_type": "display_data"
    },
    {
     "data": {
      "text/html": [
       "<div>\n",
       "<style scoped>\n",
       "    .dataframe tbody tr th:only-of-type {\n",
       "        vertical-align: middle;\n",
       "    }\n",
       "\n",
       "    .dataframe tbody tr th {\n",
       "        vertical-align: top;\n",
       "    }\n",
       "\n",
       "    .dataframe thead th {\n",
       "        text-align: right;\n",
       "    }\n",
       "</style>\n",
       "<table border=\"1\" class=\"dataframe\">\n",
       "  <thead>\n",
       "    <tr style=\"text-align: right;\">\n",
       "      <th></th>\n",
       "      <th>final.output.concentrate_ag</th>\n",
       "      <th>final.output.concentrate_pb</th>\n",
       "      <th>final.output.concentrate_sol</th>\n",
       "      <th>final.output.concentrate_au</th>\n",
       "      <th>final.output.recovery</th>\n",
       "      <th>final.output.tail_ag</th>\n",
       "      <th>final.output.tail_pb</th>\n",
       "      <th>final.output.tail_sol</th>\n",
       "      <th>final.output.tail_au</th>\n",
       "      <th>primary_cleaner.input.sulfate</th>\n",
       "      <th>...</th>\n",
       "      <th>secondary_cleaner.state.floatbank4_a_air</th>\n",
       "      <th>secondary_cleaner.state.floatbank4_a_level</th>\n",
       "      <th>secondary_cleaner.state.floatbank4_b_air</th>\n",
       "      <th>secondary_cleaner.state.floatbank4_b_level</th>\n",
       "      <th>secondary_cleaner.state.floatbank5_a_air</th>\n",
       "      <th>secondary_cleaner.state.floatbank5_a_level</th>\n",
       "      <th>secondary_cleaner.state.floatbank5_b_air</th>\n",
       "      <th>secondary_cleaner.state.floatbank5_b_level</th>\n",
       "      <th>secondary_cleaner.state.floatbank6_a_air</th>\n",
       "      <th>secondary_cleaner.state.floatbank6_a_level</th>\n",
       "    </tr>\n",
       "    <tr>\n",
       "      <th>date</th>\n",
       "      <th></th>\n",
       "      <th></th>\n",
       "      <th></th>\n",
       "      <th></th>\n",
       "      <th></th>\n",
       "      <th></th>\n",
       "      <th></th>\n",
       "      <th></th>\n",
       "      <th></th>\n",
       "      <th></th>\n",
       "      <th></th>\n",
       "      <th></th>\n",
       "      <th></th>\n",
       "      <th></th>\n",
       "      <th></th>\n",
       "      <th></th>\n",
       "      <th></th>\n",
       "      <th></th>\n",
       "      <th></th>\n",
       "      <th></th>\n",
       "      <th></th>\n",
       "    </tr>\n",
       "  </thead>\n",
       "  <tbody>\n",
       "    <tr>\n",
       "      <th>2016-01-15 00:00:00</th>\n",
       "      <td>6.055403</td>\n",
       "      <td>9.889648</td>\n",
       "      <td>5.507324</td>\n",
       "      <td>42.192020</td>\n",
       "      <td>70.541216</td>\n",
       "      <td>10.411962</td>\n",
       "      <td>0.895447</td>\n",
       "      <td>16.904297</td>\n",
       "      <td>2.143149</td>\n",
       "      <td>127.092003</td>\n",
       "      <td>...</td>\n",
       "      <td>14.016835</td>\n",
       "      <td>-502.488007</td>\n",
       "      <td>12.099931</td>\n",
       "      <td>-504.715942</td>\n",
       "      <td>9.925633</td>\n",
       "      <td>-498.310211</td>\n",
       "      <td>8.079666</td>\n",
       "      <td>-500.470978</td>\n",
       "      <td>14.151341</td>\n",
       "      <td>-605.841980</td>\n",
       "    </tr>\n",
       "    <tr>\n",
       "      <th>2016-01-15 01:00:00</th>\n",
       "      <td>6.029369</td>\n",
       "      <td>9.968944</td>\n",
       "      <td>5.257781</td>\n",
       "      <td>42.701629</td>\n",
       "      <td>69.266198</td>\n",
       "      <td>10.462676</td>\n",
       "      <td>0.927452</td>\n",
       "      <td>16.634514</td>\n",
       "      <td>2.224930</td>\n",
       "      <td>125.629232</td>\n",
       "      <td>...</td>\n",
       "      <td>13.992281</td>\n",
       "      <td>-505.503262</td>\n",
       "      <td>11.950531</td>\n",
       "      <td>-501.331529</td>\n",
       "      <td>10.039245</td>\n",
       "      <td>-500.169983</td>\n",
       "      <td>7.984757</td>\n",
       "      <td>-500.582168</td>\n",
       "      <td>13.998353</td>\n",
       "      <td>-599.787184</td>\n",
       "    </tr>\n",
       "    <tr>\n",
       "      <th>2016-01-15 02:00:00</th>\n",
       "      <td>6.055926</td>\n",
       "      <td>10.213995</td>\n",
       "      <td>5.383759</td>\n",
       "      <td>42.657501</td>\n",
       "      <td>68.116445</td>\n",
       "      <td>10.507046</td>\n",
       "      <td>0.953716</td>\n",
       "      <td>16.208849</td>\n",
       "      <td>2.257889</td>\n",
       "      <td>123.819808</td>\n",
       "      <td>...</td>\n",
       "      <td>14.015015</td>\n",
       "      <td>-502.520901</td>\n",
       "      <td>11.912783</td>\n",
       "      <td>-501.133383</td>\n",
       "      <td>10.070913</td>\n",
       "      <td>-500.129135</td>\n",
       "      <td>8.013877</td>\n",
       "      <td>-500.517572</td>\n",
       "      <td>14.028663</td>\n",
       "      <td>-601.427363</td>\n",
       "    </tr>\n",
       "    <tr>\n",
       "      <th>2016-01-15 03:00:00</th>\n",
       "      <td>6.047977</td>\n",
       "      <td>9.977019</td>\n",
       "      <td>4.858634</td>\n",
       "      <td>42.689819</td>\n",
       "      <td>68.347543</td>\n",
       "      <td>10.422762</td>\n",
       "      <td>0.883763</td>\n",
       "      <td>16.532835</td>\n",
       "      <td>2.146849</td>\n",
       "      <td>122.270188</td>\n",
       "      <td>...</td>\n",
       "      <td>14.036510</td>\n",
       "      <td>-500.857308</td>\n",
       "      <td>11.999550</td>\n",
       "      <td>-501.193686</td>\n",
       "      <td>9.970366</td>\n",
       "      <td>-499.201640</td>\n",
       "      <td>7.977324</td>\n",
       "      <td>-500.255908</td>\n",
       "      <td>14.005551</td>\n",
       "      <td>-599.996129</td>\n",
       "    </tr>\n",
       "    <tr>\n",
       "      <th>2016-01-15 04:00:00</th>\n",
       "      <td>6.148599</td>\n",
       "      <td>10.142511</td>\n",
       "      <td>4.939416</td>\n",
       "      <td>42.774141</td>\n",
       "      <td>66.927016</td>\n",
       "      <td>10.360302</td>\n",
       "      <td>0.792826</td>\n",
       "      <td>16.525686</td>\n",
       "      <td>2.055292</td>\n",
       "      <td>117.988169</td>\n",
       "      <td>...</td>\n",
       "      <td>14.027298</td>\n",
       "      <td>-499.838632</td>\n",
       "      <td>11.953070</td>\n",
       "      <td>-501.053894</td>\n",
       "      <td>9.925709</td>\n",
       "      <td>-501.686727</td>\n",
       "      <td>7.894242</td>\n",
       "      <td>-500.356035</td>\n",
       "      <td>13.996647</td>\n",
       "      <td>-601.496691</td>\n",
       "    </tr>\n",
       "  </tbody>\n",
       "</table>\n",
       "<p>5 rows × 86 columns</p>\n",
       "</div>"
      ],
      "text/plain": [
       "                     final.output.concentrate_ag  final.output.concentrate_pb  \\\n",
       "date                                                                            \n",
       "2016-01-15 00:00:00                     6.055403                     9.889648   \n",
       "2016-01-15 01:00:00                     6.029369                     9.968944   \n",
       "2016-01-15 02:00:00                     6.055926                    10.213995   \n",
       "2016-01-15 03:00:00                     6.047977                     9.977019   \n",
       "2016-01-15 04:00:00                     6.148599                    10.142511   \n",
       "\n",
       "                     final.output.concentrate_sol  \\\n",
       "date                                                \n",
       "2016-01-15 00:00:00                      5.507324   \n",
       "2016-01-15 01:00:00                      5.257781   \n",
       "2016-01-15 02:00:00                      5.383759   \n",
       "2016-01-15 03:00:00                      4.858634   \n",
       "2016-01-15 04:00:00                      4.939416   \n",
       "\n",
       "                     final.output.concentrate_au  final.output.recovery  \\\n",
       "date                                                                      \n",
       "2016-01-15 00:00:00                    42.192020              70.541216   \n",
       "2016-01-15 01:00:00                    42.701629              69.266198   \n",
       "2016-01-15 02:00:00                    42.657501              68.116445   \n",
       "2016-01-15 03:00:00                    42.689819              68.347543   \n",
       "2016-01-15 04:00:00                    42.774141              66.927016   \n",
       "\n",
       "                     final.output.tail_ag  final.output.tail_pb  \\\n",
       "date                                                              \n",
       "2016-01-15 00:00:00             10.411962              0.895447   \n",
       "2016-01-15 01:00:00             10.462676              0.927452   \n",
       "2016-01-15 02:00:00             10.507046              0.953716   \n",
       "2016-01-15 03:00:00             10.422762              0.883763   \n",
       "2016-01-15 04:00:00             10.360302              0.792826   \n",
       "\n",
       "                     final.output.tail_sol  final.output.tail_au  \\\n",
       "date                                                               \n",
       "2016-01-15 00:00:00              16.904297              2.143149   \n",
       "2016-01-15 01:00:00              16.634514              2.224930   \n",
       "2016-01-15 02:00:00              16.208849              2.257889   \n",
       "2016-01-15 03:00:00              16.532835              2.146849   \n",
       "2016-01-15 04:00:00              16.525686              2.055292   \n",
       "\n",
       "                     primary_cleaner.input.sulfate  ...  \\\n",
       "date                                                ...   \n",
       "2016-01-15 00:00:00                     127.092003  ...   \n",
       "2016-01-15 01:00:00                     125.629232  ...   \n",
       "2016-01-15 02:00:00                     123.819808  ...   \n",
       "2016-01-15 03:00:00                     122.270188  ...   \n",
       "2016-01-15 04:00:00                     117.988169  ...   \n",
       "\n",
       "                     secondary_cleaner.state.floatbank4_a_air  \\\n",
       "date                                                            \n",
       "2016-01-15 00:00:00                                 14.016835   \n",
       "2016-01-15 01:00:00                                 13.992281   \n",
       "2016-01-15 02:00:00                                 14.015015   \n",
       "2016-01-15 03:00:00                                 14.036510   \n",
       "2016-01-15 04:00:00                                 14.027298   \n",
       "\n",
       "                     secondary_cleaner.state.floatbank4_a_level  \\\n",
       "date                                                              \n",
       "2016-01-15 00:00:00                                 -502.488007   \n",
       "2016-01-15 01:00:00                                 -505.503262   \n",
       "2016-01-15 02:00:00                                 -502.520901   \n",
       "2016-01-15 03:00:00                                 -500.857308   \n",
       "2016-01-15 04:00:00                                 -499.838632   \n",
       "\n",
       "                     secondary_cleaner.state.floatbank4_b_air  \\\n",
       "date                                                            \n",
       "2016-01-15 00:00:00                                 12.099931   \n",
       "2016-01-15 01:00:00                                 11.950531   \n",
       "2016-01-15 02:00:00                                 11.912783   \n",
       "2016-01-15 03:00:00                                 11.999550   \n",
       "2016-01-15 04:00:00                                 11.953070   \n",
       "\n",
       "                     secondary_cleaner.state.floatbank4_b_level  \\\n",
       "date                                                              \n",
       "2016-01-15 00:00:00                                 -504.715942   \n",
       "2016-01-15 01:00:00                                 -501.331529   \n",
       "2016-01-15 02:00:00                                 -501.133383   \n",
       "2016-01-15 03:00:00                                 -501.193686   \n",
       "2016-01-15 04:00:00                                 -501.053894   \n",
       "\n",
       "                     secondary_cleaner.state.floatbank5_a_air  \\\n",
       "date                                                            \n",
       "2016-01-15 00:00:00                                  9.925633   \n",
       "2016-01-15 01:00:00                                 10.039245   \n",
       "2016-01-15 02:00:00                                 10.070913   \n",
       "2016-01-15 03:00:00                                  9.970366   \n",
       "2016-01-15 04:00:00                                  9.925709   \n",
       "\n",
       "                     secondary_cleaner.state.floatbank5_a_level  \\\n",
       "date                                                              \n",
       "2016-01-15 00:00:00                                 -498.310211   \n",
       "2016-01-15 01:00:00                                 -500.169983   \n",
       "2016-01-15 02:00:00                                 -500.129135   \n",
       "2016-01-15 03:00:00                                 -499.201640   \n",
       "2016-01-15 04:00:00                                 -501.686727   \n",
       "\n",
       "                     secondary_cleaner.state.floatbank5_b_air  \\\n",
       "date                                                            \n",
       "2016-01-15 00:00:00                                  8.079666   \n",
       "2016-01-15 01:00:00                                  7.984757   \n",
       "2016-01-15 02:00:00                                  8.013877   \n",
       "2016-01-15 03:00:00                                  7.977324   \n",
       "2016-01-15 04:00:00                                  7.894242   \n",
       "\n",
       "                     secondary_cleaner.state.floatbank5_b_level  \\\n",
       "date                                                              \n",
       "2016-01-15 00:00:00                                 -500.470978   \n",
       "2016-01-15 01:00:00                                 -500.582168   \n",
       "2016-01-15 02:00:00                                 -500.517572   \n",
       "2016-01-15 03:00:00                                 -500.255908   \n",
       "2016-01-15 04:00:00                                 -500.356035   \n",
       "\n",
       "                     secondary_cleaner.state.floatbank6_a_air  \\\n",
       "date                                                            \n",
       "2016-01-15 00:00:00                                 14.151341   \n",
       "2016-01-15 01:00:00                                 13.998353   \n",
       "2016-01-15 02:00:00                                 14.028663   \n",
       "2016-01-15 03:00:00                                 14.005551   \n",
       "2016-01-15 04:00:00                                 13.996647   \n",
       "\n",
       "                     secondary_cleaner.state.floatbank6_a_level  \n",
       "date                                                             \n",
       "2016-01-15 00:00:00                                 -605.841980  \n",
       "2016-01-15 01:00:00                                 -599.787184  \n",
       "2016-01-15 02:00:00                                 -601.427363  \n",
       "2016-01-15 03:00:00                                 -599.996129  \n",
       "2016-01-15 04:00:00                                 -601.496691  \n",
       "\n",
       "[5 rows x 86 columns]"
      ]
     },
     "metadata": {},
     "output_type": "display_data"
    }
   ],
   "source": [
    "df_train = pd.read_csv(\"/datasets/gold_recovery_train.csv\", index_col=\"date\", parse_dates=True)\n",
    "df_test = pd.read_csv(\"/datasets/gold_recovery_test.csv\", index_col=\"date\", parse_dates=True)\n",
    "df_full = pd.read_csv(\"/datasets/gold_recovery_full.csv\", index_col=\"date\", parse_dates=True)\n",
    "\n",
    "display(\"Train Data Sample:\\n\", df_train.head())\n",
    "display(\"Test Data Sample:\\n\", df_test.head())\n",
    "display(\"Full Data Sample:\\n\", df_full.head())"
   ]
  },
  {
   "cell_type": "markdown",
   "metadata": {},
   "source": [
    "All of the data has been pulled, Lets check to see if there are any missing values. We can tell that there are some columns that are in our df_train that aren't in our df_test...we will handle those missing values in a bit!"
   ]
  },
  {
   "cell_type": "markdown",
   "metadata": {},
   "source": [
    "<div class=\"alert alert-success\" style=\"border-radius: 15px; box-shadow: 4px 4px 4px; border: 1px solid \">\n",
    "<h2>   Reviewer's comment </h2>\n",
    "    \n",
    "The data was successfully read, well done! \n",
    "\n",
    "</div>"
   ]
  },
  {
   "cell_type": "code",
   "execution_count": 3,
   "metadata": {
    "scrolled": false
   },
   "outputs": [
    {
     "data": {
      "text/html": [
       "<div>\n",
       "<style scoped>\n",
       "    .dataframe tbody tr th:only-of-type {\n",
       "        vertical-align: middle;\n",
       "    }\n",
       "\n",
       "    .dataframe tbody tr th {\n",
       "        vertical-align: top;\n",
       "    }\n",
       "\n",
       "    .dataframe thead th {\n",
       "        text-align: right;\n",
       "    }\n",
       "</style>\n",
       "<table border=\"1\" class=\"dataframe\">\n",
       "  <thead>\n",
       "    <tr style=\"text-align: right;\">\n",
       "      <th></th>\n",
       "      <th>final.output.concentrate_ag</th>\n",
       "      <th>final.output.concentrate_pb</th>\n",
       "      <th>final.output.concentrate_sol</th>\n",
       "      <th>final.output.concentrate_au</th>\n",
       "      <th>final.output.recovery</th>\n",
       "      <th>final.output.tail_ag</th>\n",
       "      <th>final.output.tail_pb</th>\n",
       "      <th>final.output.tail_sol</th>\n",
       "      <th>final.output.tail_au</th>\n",
       "      <th>primary_cleaner.input.sulfate</th>\n",
       "      <th>...</th>\n",
       "      <th>secondary_cleaner.state.floatbank4_a_air</th>\n",
       "      <th>secondary_cleaner.state.floatbank4_a_level</th>\n",
       "      <th>secondary_cleaner.state.floatbank4_b_air</th>\n",
       "      <th>secondary_cleaner.state.floatbank4_b_level</th>\n",
       "      <th>secondary_cleaner.state.floatbank5_a_air</th>\n",
       "      <th>secondary_cleaner.state.floatbank5_a_level</th>\n",
       "      <th>secondary_cleaner.state.floatbank5_b_air</th>\n",
       "      <th>secondary_cleaner.state.floatbank5_b_level</th>\n",
       "      <th>secondary_cleaner.state.floatbank6_a_air</th>\n",
       "      <th>secondary_cleaner.state.floatbank6_a_level</th>\n",
       "    </tr>\n",
       "    <tr>\n",
       "      <th>date</th>\n",
       "      <th></th>\n",
       "      <th></th>\n",
       "      <th></th>\n",
       "      <th></th>\n",
       "      <th></th>\n",
       "      <th></th>\n",
       "      <th></th>\n",
       "      <th></th>\n",
       "      <th></th>\n",
       "      <th></th>\n",
       "      <th></th>\n",
       "      <th></th>\n",
       "      <th></th>\n",
       "      <th></th>\n",
       "      <th></th>\n",
       "      <th></th>\n",
       "      <th></th>\n",
       "      <th></th>\n",
       "      <th></th>\n",
       "      <th></th>\n",
       "      <th></th>\n",
       "    </tr>\n",
       "  </thead>\n",
       "  <tbody>\n",
       "    <tr>\n",
       "      <th>2016-01-15 00:00:00</th>\n",
       "      <td>False</td>\n",
       "      <td>False</td>\n",
       "      <td>False</td>\n",
       "      <td>False</td>\n",
       "      <td>False</td>\n",
       "      <td>False</td>\n",
       "      <td>False</td>\n",
       "      <td>False</td>\n",
       "      <td>False</td>\n",
       "      <td>False</td>\n",
       "      <td>...</td>\n",
       "      <td>False</td>\n",
       "      <td>False</td>\n",
       "      <td>False</td>\n",
       "      <td>False</td>\n",
       "      <td>False</td>\n",
       "      <td>False</td>\n",
       "      <td>False</td>\n",
       "      <td>False</td>\n",
       "      <td>False</td>\n",
       "      <td>False</td>\n",
       "    </tr>\n",
       "    <tr>\n",
       "      <th>2016-01-15 01:00:00</th>\n",
       "      <td>False</td>\n",
       "      <td>False</td>\n",
       "      <td>False</td>\n",
       "      <td>False</td>\n",
       "      <td>False</td>\n",
       "      <td>False</td>\n",
       "      <td>False</td>\n",
       "      <td>False</td>\n",
       "      <td>False</td>\n",
       "      <td>False</td>\n",
       "      <td>...</td>\n",
       "      <td>False</td>\n",
       "      <td>False</td>\n",
       "      <td>False</td>\n",
       "      <td>False</td>\n",
       "      <td>False</td>\n",
       "      <td>False</td>\n",
       "      <td>False</td>\n",
       "      <td>False</td>\n",
       "      <td>False</td>\n",
       "      <td>False</td>\n",
       "    </tr>\n",
       "    <tr>\n",
       "      <th>2016-01-15 02:00:00</th>\n",
       "      <td>False</td>\n",
       "      <td>False</td>\n",
       "      <td>False</td>\n",
       "      <td>False</td>\n",
       "      <td>False</td>\n",
       "      <td>False</td>\n",
       "      <td>False</td>\n",
       "      <td>False</td>\n",
       "      <td>False</td>\n",
       "      <td>False</td>\n",
       "      <td>...</td>\n",
       "      <td>False</td>\n",
       "      <td>False</td>\n",
       "      <td>False</td>\n",
       "      <td>False</td>\n",
       "      <td>False</td>\n",
       "      <td>False</td>\n",
       "      <td>False</td>\n",
       "      <td>False</td>\n",
       "      <td>False</td>\n",
       "      <td>False</td>\n",
       "    </tr>\n",
       "    <tr>\n",
       "      <th>2016-01-15 03:00:00</th>\n",
       "      <td>False</td>\n",
       "      <td>False</td>\n",
       "      <td>False</td>\n",
       "      <td>False</td>\n",
       "      <td>False</td>\n",
       "      <td>False</td>\n",
       "      <td>False</td>\n",
       "      <td>False</td>\n",
       "      <td>False</td>\n",
       "      <td>False</td>\n",
       "      <td>...</td>\n",
       "      <td>False</td>\n",
       "      <td>False</td>\n",
       "      <td>False</td>\n",
       "      <td>False</td>\n",
       "      <td>False</td>\n",
       "      <td>False</td>\n",
       "      <td>False</td>\n",
       "      <td>False</td>\n",
       "      <td>False</td>\n",
       "      <td>False</td>\n",
       "    </tr>\n",
       "    <tr>\n",
       "      <th>2016-01-15 04:00:00</th>\n",
       "      <td>False</td>\n",
       "      <td>False</td>\n",
       "      <td>False</td>\n",
       "      <td>False</td>\n",
       "      <td>False</td>\n",
       "      <td>False</td>\n",
       "      <td>False</td>\n",
       "      <td>False</td>\n",
       "      <td>False</td>\n",
       "      <td>False</td>\n",
       "      <td>...</td>\n",
       "      <td>False</td>\n",
       "      <td>False</td>\n",
       "      <td>False</td>\n",
       "      <td>False</td>\n",
       "      <td>False</td>\n",
       "      <td>False</td>\n",
       "      <td>False</td>\n",
       "      <td>False</td>\n",
       "      <td>False</td>\n",
       "      <td>False</td>\n",
       "    </tr>\n",
       "    <tr>\n",
       "      <th>...</th>\n",
       "      <td>...</td>\n",
       "      <td>...</td>\n",
       "      <td>...</td>\n",
       "      <td>...</td>\n",
       "      <td>...</td>\n",
       "      <td>...</td>\n",
       "      <td>...</td>\n",
       "      <td>...</td>\n",
       "      <td>...</td>\n",
       "      <td>...</td>\n",
       "      <td>...</td>\n",
       "      <td>...</td>\n",
       "      <td>...</td>\n",
       "      <td>...</td>\n",
       "      <td>...</td>\n",
       "      <td>...</td>\n",
       "      <td>...</td>\n",
       "      <td>...</td>\n",
       "      <td>...</td>\n",
       "      <td>...</td>\n",
       "      <td>...</td>\n",
       "    </tr>\n",
       "    <tr>\n",
       "      <th>2018-08-18 06:59:59</th>\n",
       "      <td>False</td>\n",
       "      <td>False</td>\n",
       "      <td>False</td>\n",
       "      <td>False</td>\n",
       "      <td>False</td>\n",
       "      <td>False</td>\n",
       "      <td>False</td>\n",
       "      <td>False</td>\n",
       "      <td>False</td>\n",
       "      <td>False</td>\n",
       "      <td>...</td>\n",
       "      <td>False</td>\n",
       "      <td>False</td>\n",
       "      <td>False</td>\n",
       "      <td>False</td>\n",
       "      <td>False</td>\n",
       "      <td>False</td>\n",
       "      <td>False</td>\n",
       "      <td>False</td>\n",
       "      <td>False</td>\n",
       "      <td>False</td>\n",
       "    </tr>\n",
       "    <tr>\n",
       "      <th>2018-08-18 07:59:59</th>\n",
       "      <td>False</td>\n",
       "      <td>False</td>\n",
       "      <td>False</td>\n",
       "      <td>False</td>\n",
       "      <td>False</td>\n",
       "      <td>False</td>\n",
       "      <td>False</td>\n",
       "      <td>False</td>\n",
       "      <td>False</td>\n",
       "      <td>False</td>\n",
       "      <td>...</td>\n",
       "      <td>False</td>\n",
       "      <td>False</td>\n",
       "      <td>False</td>\n",
       "      <td>False</td>\n",
       "      <td>False</td>\n",
       "      <td>False</td>\n",
       "      <td>False</td>\n",
       "      <td>False</td>\n",
       "      <td>False</td>\n",
       "      <td>False</td>\n",
       "    </tr>\n",
       "    <tr>\n",
       "      <th>2018-08-18 08:59:59</th>\n",
       "      <td>False</td>\n",
       "      <td>False</td>\n",
       "      <td>False</td>\n",
       "      <td>False</td>\n",
       "      <td>False</td>\n",
       "      <td>False</td>\n",
       "      <td>False</td>\n",
       "      <td>False</td>\n",
       "      <td>False</td>\n",
       "      <td>False</td>\n",
       "      <td>...</td>\n",
       "      <td>False</td>\n",
       "      <td>False</td>\n",
       "      <td>False</td>\n",
       "      <td>False</td>\n",
       "      <td>False</td>\n",
       "      <td>False</td>\n",
       "      <td>False</td>\n",
       "      <td>False</td>\n",
       "      <td>False</td>\n",
       "      <td>False</td>\n",
       "    </tr>\n",
       "    <tr>\n",
       "      <th>2018-08-18 09:59:59</th>\n",
       "      <td>False</td>\n",
       "      <td>False</td>\n",
       "      <td>False</td>\n",
       "      <td>False</td>\n",
       "      <td>False</td>\n",
       "      <td>False</td>\n",
       "      <td>False</td>\n",
       "      <td>False</td>\n",
       "      <td>False</td>\n",
       "      <td>False</td>\n",
       "      <td>...</td>\n",
       "      <td>False</td>\n",
       "      <td>False</td>\n",
       "      <td>False</td>\n",
       "      <td>False</td>\n",
       "      <td>False</td>\n",
       "      <td>False</td>\n",
       "      <td>False</td>\n",
       "      <td>False</td>\n",
       "      <td>False</td>\n",
       "      <td>False</td>\n",
       "    </tr>\n",
       "    <tr>\n",
       "      <th>2018-08-18 10:59:59</th>\n",
       "      <td>False</td>\n",
       "      <td>False</td>\n",
       "      <td>False</td>\n",
       "      <td>False</td>\n",
       "      <td>False</td>\n",
       "      <td>False</td>\n",
       "      <td>False</td>\n",
       "      <td>False</td>\n",
       "      <td>False</td>\n",
       "      <td>False</td>\n",
       "      <td>...</td>\n",
       "      <td>False</td>\n",
       "      <td>False</td>\n",
       "      <td>False</td>\n",
       "      <td>False</td>\n",
       "      <td>False</td>\n",
       "      <td>False</td>\n",
       "      <td>False</td>\n",
       "      <td>False</td>\n",
       "      <td>False</td>\n",
       "      <td>False</td>\n",
       "    </tr>\n",
       "  </tbody>\n",
       "</table>\n",
       "<p>22716 rows × 86 columns</p>\n",
       "</div>"
      ],
      "text/plain": [
       "                     final.output.concentrate_ag  final.output.concentrate_pb  \\\n",
       "date                                                                            \n",
       "2016-01-15 00:00:00                        False                        False   \n",
       "2016-01-15 01:00:00                        False                        False   \n",
       "2016-01-15 02:00:00                        False                        False   \n",
       "2016-01-15 03:00:00                        False                        False   \n",
       "2016-01-15 04:00:00                        False                        False   \n",
       "...                                          ...                          ...   \n",
       "2018-08-18 06:59:59                        False                        False   \n",
       "2018-08-18 07:59:59                        False                        False   \n",
       "2018-08-18 08:59:59                        False                        False   \n",
       "2018-08-18 09:59:59                        False                        False   \n",
       "2018-08-18 10:59:59                        False                        False   \n",
       "\n",
       "                     final.output.concentrate_sol  \\\n",
       "date                                                \n",
       "2016-01-15 00:00:00                         False   \n",
       "2016-01-15 01:00:00                         False   \n",
       "2016-01-15 02:00:00                         False   \n",
       "2016-01-15 03:00:00                         False   \n",
       "2016-01-15 04:00:00                         False   \n",
       "...                                           ...   \n",
       "2018-08-18 06:59:59                         False   \n",
       "2018-08-18 07:59:59                         False   \n",
       "2018-08-18 08:59:59                         False   \n",
       "2018-08-18 09:59:59                         False   \n",
       "2018-08-18 10:59:59                         False   \n",
       "\n",
       "                     final.output.concentrate_au  final.output.recovery  \\\n",
       "date                                                                      \n",
       "2016-01-15 00:00:00                        False                  False   \n",
       "2016-01-15 01:00:00                        False                  False   \n",
       "2016-01-15 02:00:00                        False                  False   \n",
       "2016-01-15 03:00:00                        False                  False   \n",
       "2016-01-15 04:00:00                        False                  False   \n",
       "...                                          ...                    ...   \n",
       "2018-08-18 06:59:59                        False                  False   \n",
       "2018-08-18 07:59:59                        False                  False   \n",
       "2018-08-18 08:59:59                        False                  False   \n",
       "2018-08-18 09:59:59                        False                  False   \n",
       "2018-08-18 10:59:59                        False                  False   \n",
       "\n",
       "                     final.output.tail_ag  final.output.tail_pb  \\\n",
       "date                                                              \n",
       "2016-01-15 00:00:00                 False                 False   \n",
       "2016-01-15 01:00:00                 False                 False   \n",
       "2016-01-15 02:00:00                 False                 False   \n",
       "2016-01-15 03:00:00                 False                 False   \n",
       "2016-01-15 04:00:00                 False                 False   \n",
       "...                                   ...                   ...   \n",
       "2018-08-18 06:59:59                 False                 False   \n",
       "2018-08-18 07:59:59                 False                 False   \n",
       "2018-08-18 08:59:59                 False                 False   \n",
       "2018-08-18 09:59:59                 False                 False   \n",
       "2018-08-18 10:59:59                 False                 False   \n",
       "\n",
       "                     final.output.tail_sol  final.output.tail_au  \\\n",
       "date                                                               \n",
       "2016-01-15 00:00:00                  False                 False   \n",
       "2016-01-15 01:00:00                  False                 False   \n",
       "2016-01-15 02:00:00                  False                 False   \n",
       "2016-01-15 03:00:00                  False                 False   \n",
       "2016-01-15 04:00:00                  False                 False   \n",
       "...                                    ...                   ...   \n",
       "2018-08-18 06:59:59                  False                 False   \n",
       "2018-08-18 07:59:59                  False                 False   \n",
       "2018-08-18 08:59:59                  False                 False   \n",
       "2018-08-18 09:59:59                  False                 False   \n",
       "2018-08-18 10:59:59                  False                 False   \n",
       "\n",
       "                     primary_cleaner.input.sulfate  ...  \\\n",
       "date                                                ...   \n",
       "2016-01-15 00:00:00                          False  ...   \n",
       "2016-01-15 01:00:00                          False  ...   \n",
       "2016-01-15 02:00:00                          False  ...   \n",
       "2016-01-15 03:00:00                          False  ...   \n",
       "2016-01-15 04:00:00                          False  ...   \n",
       "...                                            ...  ...   \n",
       "2018-08-18 06:59:59                          False  ...   \n",
       "2018-08-18 07:59:59                          False  ...   \n",
       "2018-08-18 08:59:59                          False  ...   \n",
       "2018-08-18 09:59:59                          False  ...   \n",
       "2018-08-18 10:59:59                          False  ...   \n",
       "\n",
       "                     secondary_cleaner.state.floatbank4_a_air  \\\n",
       "date                                                            \n",
       "2016-01-15 00:00:00                                     False   \n",
       "2016-01-15 01:00:00                                     False   \n",
       "2016-01-15 02:00:00                                     False   \n",
       "2016-01-15 03:00:00                                     False   \n",
       "2016-01-15 04:00:00                                     False   \n",
       "...                                                       ...   \n",
       "2018-08-18 06:59:59                                     False   \n",
       "2018-08-18 07:59:59                                     False   \n",
       "2018-08-18 08:59:59                                     False   \n",
       "2018-08-18 09:59:59                                     False   \n",
       "2018-08-18 10:59:59                                     False   \n",
       "\n",
       "                     secondary_cleaner.state.floatbank4_a_level  \\\n",
       "date                                                              \n",
       "2016-01-15 00:00:00                                       False   \n",
       "2016-01-15 01:00:00                                       False   \n",
       "2016-01-15 02:00:00                                       False   \n",
       "2016-01-15 03:00:00                                       False   \n",
       "2016-01-15 04:00:00                                       False   \n",
       "...                                                         ...   \n",
       "2018-08-18 06:59:59                                       False   \n",
       "2018-08-18 07:59:59                                       False   \n",
       "2018-08-18 08:59:59                                       False   \n",
       "2018-08-18 09:59:59                                       False   \n",
       "2018-08-18 10:59:59                                       False   \n",
       "\n",
       "                     secondary_cleaner.state.floatbank4_b_air  \\\n",
       "date                                                            \n",
       "2016-01-15 00:00:00                                     False   \n",
       "2016-01-15 01:00:00                                     False   \n",
       "2016-01-15 02:00:00                                     False   \n",
       "2016-01-15 03:00:00                                     False   \n",
       "2016-01-15 04:00:00                                     False   \n",
       "...                                                       ...   \n",
       "2018-08-18 06:59:59                                     False   \n",
       "2018-08-18 07:59:59                                     False   \n",
       "2018-08-18 08:59:59                                     False   \n",
       "2018-08-18 09:59:59                                     False   \n",
       "2018-08-18 10:59:59                                     False   \n",
       "\n",
       "                     secondary_cleaner.state.floatbank4_b_level  \\\n",
       "date                                                              \n",
       "2016-01-15 00:00:00                                       False   \n",
       "2016-01-15 01:00:00                                       False   \n",
       "2016-01-15 02:00:00                                       False   \n",
       "2016-01-15 03:00:00                                       False   \n",
       "2016-01-15 04:00:00                                       False   \n",
       "...                                                         ...   \n",
       "2018-08-18 06:59:59                                       False   \n",
       "2018-08-18 07:59:59                                       False   \n",
       "2018-08-18 08:59:59                                       False   \n",
       "2018-08-18 09:59:59                                       False   \n",
       "2018-08-18 10:59:59                                       False   \n",
       "\n",
       "                     secondary_cleaner.state.floatbank5_a_air  \\\n",
       "date                                                            \n",
       "2016-01-15 00:00:00                                     False   \n",
       "2016-01-15 01:00:00                                     False   \n",
       "2016-01-15 02:00:00                                     False   \n",
       "2016-01-15 03:00:00                                     False   \n",
       "2016-01-15 04:00:00                                     False   \n",
       "...                                                       ...   \n",
       "2018-08-18 06:59:59                                     False   \n",
       "2018-08-18 07:59:59                                     False   \n",
       "2018-08-18 08:59:59                                     False   \n",
       "2018-08-18 09:59:59                                     False   \n",
       "2018-08-18 10:59:59                                     False   \n",
       "\n",
       "                     secondary_cleaner.state.floatbank5_a_level  \\\n",
       "date                                                              \n",
       "2016-01-15 00:00:00                                       False   \n",
       "2016-01-15 01:00:00                                       False   \n",
       "2016-01-15 02:00:00                                       False   \n",
       "2016-01-15 03:00:00                                       False   \n",
       "2016-01-15 04:00:00                                       False   \n",
       "...                                                         ...   \n",
       "2018-08-18 06:59:59                                       False   \n",
       "2018-08-18 07:59:59                                       False   \n",
       "2018-08-18 08:59:59                                       False   \n",
       "2018-08-18 09:59:59                                       False   \n",
       "2018-08-18 10:59:59                                       False   \n",
       "\n",
       "                     secondary_cleaner.state.floatbank5_b_air  \\\n",
       "date                                                            \n",
       "2016-01-15 00:00:00                                     False   \n",
       "2016-01-15 01:00:00                                     False   \n",
       "2016-01-15 02:00:00                                     False   \n",
       "2016-01-15 03:00:00                                     False   \n",
       "2016-01-15 04:00:00                                     False   \n",
       "...                                                       ...   \n",
       "2018-08-18 06:59:59                                     False   \n",
       "2018-08-18 07:59:59                                     False   \n",
       "2018-08-18 08:59:59                                     False   \n",
       "2018-08-18 09:59:59                                     False   \n",
       "2018-08-18 10:59:59                                     False   \n",
       "\n",
       "                     secondary_cleaner.state.floatbank5_b_level  \\\n",
       "date                                                              \n",
       "2016-01-15 00:00:00                                       False   \n",
       "2016-01-15 01:00:00                                       False   \n",
       "2016-01-15 02:00:00                                       False   \n",
       "2016-01-15 03:00:00                                       False   \n",
       "2016-01-15 04:00:00                                       False   \n",
       "...                                                         ...   \n",
       "2018-08-18 06:59:59                                       False   \n",
       "2018-08-18 07:59:59                                       False   \n",
       "2018-08-18 08:59:59                                       False   \n",
       "2018-08-18 09:59:59                                       False   \n",
       "2018-08-18 10:59:59                                       False   \n",
       "\n",
       "                     secondary_cleaner.state.floatbank6_a_air  \\\n",
       "date                                                            \n",
       "2016-01-15 00:00:00                                     False   \n",
       "2016-01-15 01:00:00                                     False   \n",
       "2016-01-15 02:00:00                                     False   \n",
       "2016-01-15 03:00:00                                     False   \n",
       "2016-01-15 04:00:00                                     False   \n",
       "...                                                       ...   \n",
       "2018-08-18 06:59:59                                     False   \n",
       "2018-08-18 07:59:59                                     False   \n",
       "2018-08-18 08:59:59                                     False   \n",
       "2018-08-18 09:59:59                                     False   \n",
       "2018-08-18 10:59:59                                     False   \n",
       "\n",
       "                     secondary_cleaner.state.floatbank6_a_level  \n",
       "date                                                             \n",
       "2016-01-15 00:00:00                                       False  \n",
       "2016-01-15 01:00:00                                       False  \n",
       "2016-01-15 02:00:00                                       False  \n",
       "2016-01-15 03:00:00                                       False  \n",
       "2016-01-15 04:00:00                                       False  \n",
       "...                                                         ...  \n",
       "2018-08-18 06:59:59                                       False  \n",
       "2018-08-18 07:59:59                                       False  \n",
       "2018-08-18 08:59:59                                       False  \n",
       "2018-08-18 09:59:59                                       False  \n",
       "2018-08-18 10:59:59                                       False  \n",
       "\n",
       "[22716 rows x 86 columns]"
      ]
     },
     "metadata": {},
     "output_type": "display_data"
    }
   ],
   "source": [
    "missing_values = df_full.isnull()\n",
    "display(missing_values)"
   ]
  },
  {
   "cell_type": "markdown",
   "metadata": {},
   "source": [
    "<div class=\"alert alert-warning\" style=\"border-radius: 15px; box-shadow: 4px 4px 4px; border: 1px solid \">\n",
    "<h2>  Reviewer's comment </h2>\n",
    "    \n",
    "\n",
    "Try to use `display` instead of `print` with dataframes :) The output will look better.\n",
    "\n",
    "\n",
    "\n",
    "</div>"
   ]
  },
  {
   "cell_type": "code",
   "execution_count": 4,
   "metadata": {
    "scrolled": true
   },
   "outputs": [
    {
     "name": "stdout",
     "output_type": "stream",
     "text": [
      "<class 'pandas.core.frame.DataFrame'>\n",
      "DatetimeIndex: 14934 entries, 2016-01-15 00:00:00 to 2018-08-18 10:59:59\n",
      "Data columns (total 86 columns):\n",
      " #   Column                                              Non-Null Count  Dtype  \n",
      "---  ------                                              --------------  -----  \n",
      " 0   final.output.concentrate_ag                         14934 non-null  float64\n",
      " 1   final.output.concentrate_pb                         14934 non-null  float64\n",
      " 2   final.output.concentrate_sol                        14934 non-null  float64\n",
      " 3   final.output.concentrate_au                         14934 non-null  float64\n",
      " 4   final.output.recovery                               14934 non-null  float64\n",
      " 5   final.output.tail_ag                                14934 non-null  float64\n",
      " 6   final.output.tail_pb                                14934 non-null  float64\n",
      " 7   final.output.tail_sol                               14934 non-null  float64\n",
      " 8   final.output.tail_au                                14934 non-null  float64\n",
      " 9   primary_cleaner.input.sulfate                       14560 non-null  float64\n",
      " 10  primary_cleaner.input.depressant                    14696 non-null  float64\n",
      " 11  primary_cleaner.input.feed_size                     14934 non-null  float64\n",
      " 12  primary_cleaner.input.xanthate                      14661 non-null  float64\n",
      " 13  primary_cleaner.output.concentrate_ag               14934 non-null  float64\n",
      " 14  primary_cleaner.output.concentrate_pb               14831 non-null  float64\n",
      " 15  primary_cleaner.output.concentrate_sol              14606 non-null  float64\n",
      " 16  primary_cleaner.output.concentrate_au               14934 non-null  float64\n",
      " 17  primary_cleaner.output.tail_ag                      14933 non-null  float64\n",
      " 18  primary_cleaner.output.tail_pb                      14918 non-null  float64\n",
      " 19  primary_cleaner.output.tail_sol                     14864 non-null  float64\n",
      " 20  primary_cleaner.output.tail_au                      14934 non-null  float64\n",
      " 21  primary_cleaner.state.floatbank8_a_air              14926 non-null  float64\n",
      " 22  primary_cleaner.state.floatbank8_a_level            14933 non-null  float64\n",
      " 23  primary_cleaner.state.floatbank8_b_air              14926 non-null  float64\n",
      " 24  primary_cleaner.state.floatbank8_b_level            14933 non-null  float64\n",
      " 25  primary_cleaner.state.floatbank8_c_air              14928 non-null  float64\n",
      " 26  primary_cleaner.state.floatbank8_c_level            14933 non-null  float64\n",
      " 27  primary_cleaner.state.floatbank8_d_air              14927 non-null  float64\n",
      " 28  primary_cleaner.state.floatbank8_d_level            14933 non-null  float64\n",
      " 29  rougher.calculation.sulfate_to_au_concentrate       14933 non-null  float64\n",
      " 30  rougher.calculation.floatbank10_sulfate_to_au_feed  14933 non-null  float64\n",
      " 31  rougher.calculation.floatbank11_sulfate_to_au_feed  14933 non-null  float64\n",
      " 32  rougher.calculation.au_pb_ratio                     14934 non-null  float64\n",
      " 33  rougher.input.feed_ag                               14934 non-null  float64\n",
      " 34  rougher.input.feed_pb                               14923 non-null  float64\n",
      " 35  rougher.input.feed_rate                             14719 non-null  float64\n",
      " 36  rougher.input.feed_size                             14790 non-null  float64\n",
      " 37  rougher.input.feed_sol                              14814 non-null  float64\n",
      " 38  rougher.input.feed_au                               14934 non-null  float64\n",
      " 39  rougher.input.floatbank10_sulfate                   14583 non-null  float64\n",
      " 40  rougher.input.floatbank10_xanthate                  14843 non-null  float64\n",
      " 41  rougher.input.floatbank11_sulfate                   14579 non-null  float64\n",
      " 42  rougher.input.floatbank11_xanthate                  14158 non-null  float64\n",
      " 43  rougher.output.concentrate_ag                       14934 non-null  float64\n",
      " 44  rougher.output.concentrate_pb                       14934 non-null  float64\n",
      " 45  rougher.output.concentrate_sol                      14885 non-null  float64\n",
      " 46  rougher.output.concentrate_au                       14934 non-null  float64\n",
      " 47  rougher.output.recovery                             13832 non-null  float64\n",
      " 48  rougher.output.tail_ag                              14053 non-null  float64\n",
      " 49  rougher.output.tail_pb                              14934 non-null  float64\n",
      " 50  rougher.output.tail_sol                             14054 non-null  float64\n",
      " 51  rougher.output.tail_au                              14054 non-null  float64\n",
      " 52  rougher.state.floatbank10_a_air                     14918 non-null  float64\n",
      " 53  rougher.state.floatbank10_a_level                   14918 non-null  float64\n",
      " 54  rougher.state.floatbank10_b_air                     14918 non-null  float64\n",
      " 55  rougher.state.floatbank10_b_level                   14918 non-null  float64\n",
      " 56  rougher.state.floatbank10_c_air                     14918 non-null  float64\n",
      " 57  rougher.state.floatbank10_c_level                   14918 non-null  float64\n",
      " 58  rougher.state.floatbank10_d_air                     14919 non-null  float64\n",
      " 59  rougher.state.floatbank10_d_level                   14919 non-null  float64\n",
      " 60  rougher.state.floatbank10_e_air                     14406 non-null  float64\n",
      " 61  rougher.state.floatbank10_e_level                   14919 non-null  float64\n",
      " 62  rougher.state.floatbank10_f_air                     14919 non-null  float64\n",
      " 63  rougher.state.floatbank10_f_level                   14919 non-null  float64\n",
      " 64  secondary_cleaner.output.tail_ag                    14932 non-null  float64\n",
      " 65  secondary_cleaner.output.tail_pb                    14920 non-null  float64\n",
      " 66  secondary_cleaner.output.tail_sol                   13255 non-null  float64\n",
      " 67  secondary_cleaner.output.tail_au                    14934 non-null  float64\n",
      " 68  secondary_cleaner.state.floatbank2_a_air            14705 non-null  float64\n",
      " 69  secondary_cleaner.state.floatbank2_a_level          14933 non-null  float64\n",
      " 70  secondary_cleaner.state.floatbank2_b_air            14915 non-null  float64\n",
      " 71  secondary_cleaner.state.floatbank2_b_level          14933 non-null  float64\n",
      " 72  secondary_cleaner.state.floatbank3_a_air            14932 non-null  float64\n",
      " 73  secondary_cleaner.state.floatbank3_a_level          14933 non-null  float64\n",
      " 74  secondary_cleaner.state.floatbank3_b_air            14933 non-null  float64\n",
      " 75  secondary_cleaner.state.floatbank3_b_level          14933 non-null  float64\n",
      " 76  secondary_cleaner.state.floatbank4_a_air            14925 non-null  float64\n",
      " 77  secondary_cleaner.state.floatbank4_a_level          14933 non-null  float64\n",
      " 78  secondary_cleaner.state.floatbank4_b_air            14933 non-null  float64\n",
      " 79  secondary_cleaner.state.floatbank4_b_level          14933 non-null  float64\n",
      " 80  secondary_cleaner.state.floatbank5_a_air            14933 non-null  float64\n",
      " 81  secondary_cleaner.state.floatbank5_a_level          14933 non-null  float64\n",
      " 82  secondary_cleaner.state.floatbank5_b_air            14933 non-null  float64\n",
      " 83  secondary_cleaner.state.floatbank5_b_level          14933 non-null  float64\n",
      " 84  secondary_cleaner.state.floatbank6_a_air            14931 non-null  float64\n",
      " 85  secondary_cleaner.state.floatbank6_a_level          14933 non-null  float64\n",
      "dtypes: float64(86)\n",
      "memory usage: 9.9 MB\n"
     ]
    },
    {
     "data": {
      "text/plain": [
       "None"
      ]
     },
     "metadata": {},
     "output_type": "display_data"
    }
   ],
   "source": [
    "columns_to_drop = [\n",
    "    \"final.output.concentrate_ag\",\n",
    "    \"final.output.concentrate_pb\",\n",
    "    \"final.output.concentrate_sol\",\n",
    "    \"final.output.concentrate_au\",\n",
    "    \"final.output.recovery\",\n",
    "    \"final.output.tail_ag\",\n",
    "    \"final.output.tail_pb\",\n",
    "    \"final.output.tail_sol\",\n",
    "    \"final.output.tail_au\"\n",
    "]\n",
    "\n",
    "df_train = df_train.dropna(subset=columns_to_drop)\n",
    "\n",
    "display(df_train.info())"
   ]
  },
  {
   "cell_type": "code",
   "execution_count": 5,
   "metadata": {
    "scrolled": false
   },
   "outputs": [
    {
     "name": "stdout",
     "output_type": "stream",
     "text": [
      "<class 'pandas.core.frame.DataFrame'>\n",
      "DatetimeIndex: 14934 entries, 2016-01-15 00:00:00 to 2018-08-18 10:59:59\n",
      "Data columns (total 86 columns):\n",
      " #   Column                                              Non-Null Count  Dtype  \n",
      "---  ------                                              --------------  -----  \n",
      " 0   final.output.concentrate_ag                         14934 non-null  float64\n",
      " 1   final.output.concentrate_pb                         14934 non-null  float64\n",
      " 2   final.output.concentrate_sol                        14934 non-null  float64\n",
      " 3   final.output.concentrate_au                         14934 non-null  float64\n",
      " 4   final.output.recovery                               14934 non-null  float64\n",
      " 5   final.output.tail_ag                                14934 non-null  float64\n",
      " 6   final.output.tail_pb                                14934 non-null  float64\n",
      " 7   final.output.tail_sol                               14934 non-null  float64\n",
      " 8   final.output.tail_au                                14934 non-null  float64\n",
      " 9   primary_cleaner.input.sulfate                       14934 non-null  float64\n",
      " 10  primary_cleaner.input.depressant                    14934 non-null  float64\n",
      " 11  primary_cleaner.input.feed_size                     14934 non-null  float64\n",
      " 12  primary_cleaner.input.xanthate                      14934 non-null  float64\n",
      " 13  primary_cleaner.output.concentrate_ag               14934 non-null  float64\n",
      " 14  primary_cleaner.output.concentrate_pb               14934 non-null  float64\n",
      " 15  primary_cleaner.output.concentrate_sol              14934 non-null  float64\n",
      " 16  primary_cleaner.output.concentrate_au               14934 non-null  float64\n",
      " 17  primary_cleaner.output.tail_ag                      14934 non-null  float64\n",
      " 18  primary_cleaner.output.tail_pb                      14934 non-null  float64\n",
      " 19  primary_cleaner.output.tail_sol                     14934 non-null  float64\n",
      " 20  primary_cleaner.output.tail_au                      14934 non-null  float64\n",
      " 21  primary_cleaner.state.floatbank8_a_air              14934 non-null  float64\n",
      " 22  primary_cleaner.state.floatbank8_a_level            14934 non-null  float64\n",
      " 23  primary_cleaner.state.floatbank8_b_air              14934 non-null  float64\n",
      " 24  primary_cleaner.state.floatbank8_b_level            14934 non-null  float64\n",
      " 25  primary_cleaner.state.floatbank8_c_air              14934 non-null  float64\n",
      " 26  primary_cleaner.state.floatbank8_c_level            14934 non-null  float64\n",
      " 27  primary_cleaner.state.floatbank8_d_air              14934 non-null  float64\n",
      " 28  primary_cleaner.state.floatbank8_d_level            14934 non-null  float64\n",
      " 29  rougher.calculation.sulfate_to_au_concentrate       14934 non-null  float64\n",
      " 30  rougher.calculation.floatbank10_sulfate_to_au_feed  14934 non-null  float64\n",
      " 31  rougher.calculation.floatbank11_sulfate_to_au_feed  14934 non-null  float64\n",
      " 32  rougher.calculation.au_pb_ratio                     14934 non-null  float64\n",
      " 33  rougher.input.feed_ag                               14934 non-null  float64\n",
      " 34  rougher.input.feed_pb                               14934 non-null  float64\n",
      " 35  rougher.input.feed_rate                             14934 non-null  float64\n",
      " 36  rougher.input.feed_size                             14934 non-null  float64\n",
      " 37  rougher.input.feed_sol                              14934 non-null  float64\n",
      " 38  rougher.input.feed_au                               14934 non-null  float64\n",
      " 39  rougher.input.floatbank10_sulfate                   14934 non-null  float64\n",
      " 40  rougher.input.floatbank10_xanthate                  14934 non-null  float64\n",
      " 41  rougher.input.floatbank11_sulfate                   14934 non-null  float64\n",
      " 42  rougher.input.floatbank11_xanthate                  14934 non-null  float64\n",
      " 43  rougher.output.concentrate_ag                       14934 non-null  float64\n",
      " 44  rougher.output.concentrate_pb                       14934 non-null  float64\n",
      " 45  rougher.output.concentrate_sol                      14934 non-null  float64\n",
      " 46  rougher.output.concentrate_au                       14934 non-null  float64\n",
      " 47  rougher.output.recovery                             14934 non-null  float64\n",
      " 48  rougher.output.tail_ag                              14934 non-null  float64\n",
      " 49  rougher.output.tail_pb                              14934 non-null  float64\n",
      " 50  rougher.output.tail_sol                             14934 non-null  float64\n",
      " 51  rougher.output.tail_au                              14934 non-null  float64\n",
      " 52  rougher.state.floatbank10_a_air                     14934 non-null  float64\n",
      " 53  rougher.state.floatbank10_a_level                   14934 non-null  float64\n",
      " 54  rougher.state.floatbank10_b_air                     14934 non-null  float64\n",
      " 55  rougher.state.floatbank10_b_level                   14934 non-null  float64\n",
      " 56  rougher.state.floatbank10_c_air                     14934 non-null  float64\n",
      " 57  rougher.state.floatbank10_c_level                   14934 non-null  float64\n",
      " 58  rougher.state.floatbank10_d_air                     14934 non-null  float64\n",
      " 59  rougher.state.floatbank10_d_level                   14934 non-null  float64\n",
      " 60  rougher.state.floatbank10_e_air                     14934 non-null  float64\n",
      " 61  rougher.state.floatbank10_e_level                   14934 non-null  float64\n",
      " 62  rougher.state.floatbank10_f_air                     14934 non-null  float64\n",
      " 63  rougher.state.floatbank10_f_level                   14934 non-null  float64\n",
      " 64  secondary_cleaner.output.tail_ag                    14934 non-null  float64\n",
      " 65  secondary_cleaner.output.tail_pb                    14934 non-null  float64\n",
      " 66  secondary_cleaner.output.tail_sol                   14934 non-null  float64\n",
      " 67  secondary_cleaner.output.tail_au                    14934 non-null  float64\n",
      " 68  secondary_cleaner.state.floatbank2_a_air            14934 non-null  float64\n",
      " 69  secondary_cleaner.state.floatbank2_a_level          14934 non-null  float64\n",
      " 70  secondary_cleaner.state.floatbank2_b_air            14934 non-null  float64\n",
      " 71  secondary_cleaner.state.floatbank2_b_level          14934 non-null  float64\n",
      " 72  secondary_cleaner.state.floatbank3_a_air            14934 non-null  float64\n",
      " 73  secondary_cleaner.state.floatbank3_a_level          14934 non-null  float64\n",
      " 74  secondary_cleaner.state.floatbank3_b_air            14934 non-null  float64\n",
      " 75  secondary_cleaner.state.floatbank3_b_level          14934 non-null  float64\n",
      " 76  secondary_cleaner.state.floatbank4_a_air            14934 non-null  float64\n",
      " 77  secondary_cleaner.state.floatbank4_a_level          14934 non-null  float64\n",
      " 78  secondary_cleaner.state.floatbank4_b_air            14934 non-null  float64\n",
      " 79  secondary_cleaner.state.floatbank4_b_level          14934 non-null  float64\n",
      " 80  secondary_cleaner.state.floatbank5_a_air            14934 non-null  float64\n",
      " 81  secondary_cleaner.state.floatbank5_a_level          14934 non-null  float64\n",
      " 82  secondary_cleaner.state.floatbank5_b_air            14934 non-null  float64\n",
      " 83  secondary_cleaner.state.floatbank5_b_level          14934 non-null  float64\n",
      " 84  secondary_cleaner.state.floatbank6_a_air            14934 non-null  float64\n",
      " 85  secondary_cleaner.state.floatbank6_a_level          14934 non-null  float64\n",
      "dtypes: float64(86)\n",
      "memory usage: 9.9 MB\n"
     ]
    },
    {
     "data": {
      "text/plain": [
       "None"
      ]
     },
     "metadata": {},
     "output_type": "display_data"
    },
    {
     "name": "stdout",
     "output_type": "stream",
     "text": [
      "<class 'pandas.core.frame.DataFrame'>\n",
      "DatetimeIndex: 5856 entries, 2016-09-01 00:59:59 to 2017-12-31 23:59:59\n",
      "Data columns (total 52 columns):\n",
      " #   Column                                      Non-Null Count  Dtype  \n",
      "---  ------                                      --------------  -----  \n",
      " 0   primary_cleaner.input.sulfate               5856 non-null   float64\n",
      " 1   primary_cleaner.input.depressant            5856 non-null   float64\n",
      " 2   primary_cleaner.input.feed_size             5856 non-null   float64\n",
      " 3   primary_cleaner.input.xanthate              5856 non-null   float64\n",
      " 4   primary_cleaner.state.floatbank8_a_air      5856 non-null   float64\n",
      " 5   primary_cleaner.state.floatbank8_a_level    5856 non-null   float64\n",
      " 6   primary_cleaner.state.floatbank8_b_air      5856 non-null   float64\n",
      " 7   primary_cleaner.state.floatbank8_b_level    5856 non-null   float64\n",
      " 8   primary_cleaner.state.floatbank8_c_air      5856 non-null   float64\n",
      " 9   primary_cleaner.state.floatbank8_c_level    5856 non-null   float64\n",
      " 10  primary_cleaner.state.floatbank8_d_air      5856 non-null   float64\n",
      " 11  primary_cleaner.state.floatbank8_d_level    5856 non-null   float64\n",
      " 12  rougher.input.feed_ag                       5856 non-null   float64\n",
      " 13  rougher.input.feed_pb                       5856 non-null   float64\n",
      " 14  rougher.input.feed_rate                     5856 non-null   float64\n",
      " 15  rougher.input.feed_size                     5856 non-null   float64\n",
      " 16  rougher.input.feed_sol                      5856 non-null   float64\n",
      " 17  rougher.input.feed_au                       5856 non-null   float64\n",
      " 18  rougher.input.floatbank10_sulfate           5856 non-null   float64\n",
      " 19  rougher.input.floatbank10_xanthate          5856 non-null   float64\n",
      " 20  rougher.input.floatbank11_sulfate           5856 non-null   float64\n",
      " 21  rougher.input.floatbank11_xanthate          5856 non-null   float64\n",
      " 22  rougher.state.floatbank10_a_air             5856 non-null   float64\n",
      " 23  rougher.state.floatbank10_a_level           5856 non-null   float64\n",
      " 24  rougher.state.floatbank10_b_air             5856 non-null   float64\n",
      " 25  rougher.state.floatbank10_b_level           5856 non-null   float64\n",
      " 26  rougher.state.floatbank10_c_air             5856 non-null   float64\n",
      " 27  rougher.state.floatbank10_c_level           5856 non-null   float64\n",
      " 28  rougher.state.floatbank10_d_air             5856 non-null   float64\n",
      " 29  rougher.state.floatbank10_d_level           5856 non-null   float64\n",
      " 30  rougher.state.floatbank10_e_air             5856 non-null   float64\n",
      " 31  rougher.state.floatbank10_e_level           5856 non-null   float64\n",
      " 32  rougher.state.floatbank10_f_air             5856 non-null   float64\n",
      " 33  rougher.state.floatbank10_f_level           5856 non-null   float64\n",
      " 34  secondary_cleaner.state.floatbank2_a_air    5856 non-null   float64\n",
      " 35  secondary_cleaner.state.floatbank2_a_level  5856 non-null   float64\n",
      " 36  secondary_cleaner.state.floatbank2_b_air    5856 non-null   float64\n",
      " 37  secondary_cleaner.state.floatbank2_b_level  5856 non-null   float64\n",
      " 38  secondary_cleaner.state.floatbank3_a_air    5856 non-null   float64\n",
      " 39  secondary_cleaner.state.floatbank3_a_level  5856 non-null   float64\n",
      " 40  secondary_cleaner.state.floatbank3_b_air    5856 non-null   float64\n",
      " 41  secondary_cleaner.state.floatbank3_b_level  5856 non-null   float64\n",
      " 42  secondary_cleaner.state.floatbank4_a_air    5856 non-null   float64\n",
      " 43  secondary_cleaner.state.floatbank4_a_level  5856 non-null   float64\n",
      " 44  secondary_cleaner.state.floatbank4_b_air    5856 non-null   float64\n",
      " 45  secondary_cleaner.state.floatbank4_b_level  5856 non-null   float64\n",
      " 46  secondary_cleaner.state.floatbank5_a_air    5856 non-null   float64\n",
      " 47  secondary_cleaner.state.floatbank5_a_level  5856 non-null   float64\n",
      " 48  secondary_cleaner.state.floatbank5_b_air    5856 non-null   float64\n",
      " 49  secondary_cleaner.state.floatbank5_b_level  5856 non-null   float64\n",
      " 50  secondary_cleaner.state.floatbank6_a_air    5856 non-null   float64\n",
      " 51  secondary_cleaner.state.floatbank6_a_level  5856 non-null   float64\n",
      "dtypes: float64(52)\n",
      "memory usage: 2.4 MB\n"
     ]
    },
    {
     "data": {
      "text/plain": [
       "None"
      ]
     },
     "metadata": {},
     "output_type": "display_data"
    },
    {
     "data": {
      "text/plain": [
       "final.output.concentrate_ag                   0\n",
       "final.output.concentrate_pb                   0\n",
       "final.output.concentrate_sol                  0\n",
       "final.output.concentrate_au                   0\n",
       "final.output.recovery                         0\n",
       "                                             ..\n",
       "secondary_cleaner.state.floatbank5_a_level    0\n",
       "secondary_cleaner.state.floatbank5_b_air      0\n",
       "secondary_cleaner.state.floatbank5_b_level    0\n",
       "secondary_cleaner.state.floatbank6_a_air      0\n",
       "secondary_cleaner.state.floatbank6_a_level    0\n",
       "Length: 86, dtype: int64"
      ]
     },
     "metadata": {},
     "output_type": "display_data"
    },
    {
     "data": {
      "text/plain": [
       "primary_cleaner.input.sulfate                 0\n",
       "primary_cleaner.input.depressant              0\n",
       "primary_cleaner.input.feed_size               0\n",
       "primary_cleaner.input.xanthate                0\n",
       "primary_cleaner.state.floatbank8_a_air        0\n",
       "primary_cleaner.state.floatbank8_a_level      0\n",
       "primary_cleaner.state.floatbank8_b_air        0\n",
       "primary_cleaner.state.floatbank8_b_level      0\n",
       "primary_cleaner.state.floatbank8_c_air        0\n",
       "primary_cleaner.state.floatbank8_c_level      0\n",
       "primary_cleaner.state.floatbank8_d_air        0\n",
       "primary_cleaner.state.floatbank8_d_level      0\n",
       "rougher.input.feed_ag                         0\n",
       "rougher.input.feed_pb                         0\n",
       "rougher.input.feed_rate                       0\n",
       "rougher.input.feed_size                       0\n",
       "rougher.input.feed_sol                        0\n",
       "rougher.input.feed_au                         0\n",
       "rougher.input.floatbank10_sulfate             0\n",
       "rougher.input.floatbank10_xanthate            0\n",
       "rougher.input.floatbank11_sulfate             0\n",
       "rougher.input.floatbank11_xanthate            0\n",
       "rougher.state.floatbank10_a_air               0\n",
       "rougher.state.floatbank10_a_level             0\n",
       "rougher.state.floatbank10_b_air               0\n",
       "rougher.state.floatbank10_b_level             0\n",
       "rougher.state.floatbank10_c_air               0\n",
       "rougher.state.floatbank10_c_level             0\n",
       "rougher.state.floatbank10_d_air               0\n",
       "rougher.state.floatbank10_d_level             0\n",
       "rougher.state.floatbank10_e_air               0\n",
       "rougher.state.floatbank10_e_level             0\n",
       "rougher.state.floatbank10_f_air               0\n",
       "rougher.state.floatbank10_f_level             0\n",
       "secondary_cleaner.state.floatbank2_a_air      0\n",
       "secondary_cleaner.state.floatbank2_a_level    0\n",
       "secondary_cleaner.state.floatbank2_b_air      0\n",
       "secondary_cleaner.state.floatbank2_b_level    0\n",
       "secondary_cleaner.state.floatbank3_a_air      0\n",
       "secondary_cleaner.state.floatbank3_a_level    0\n",
       "secondary_cleaner.state.floatbank3_b_air      0\n",
       "secondary_cleaner.state.floatbank3_b_level    0\n",
       "secondary_cleaner.state.floatbank4_a_air      0\n",
       "secondary_cleaner.state.floatbank4_a_level    0\n",
       "secondary_cleaner.state.floatbank4_b_air      0\n",
       "secondary_cleaner.state.floatbank4_b_level    0\n",
       "secondary_cleaner.state.floatbank5_a_air      0\n",
       "secondary_cleaner.state.floatbank5_a_level    0\n",
       "secondary_cleaner.state.floatbank5_b_air      0\n",
       "secondary_cleaner.state.floatbank5_b_level    0\n",
       "secondary_cleaner.state.floatbank6_a_air      0\n",
       "secondary_cleaner.state.floatbank6_a_level    0\n",
       "dtype: int64"
      ]
     },
     "metadata": {},
     "output_type": "display_data"
    }
   ],
   "source": [
    "df_train = df_train.fillna(df_train.median())\n",
    "df_test = df_test.fillna(df_test.median())\n",
    "\n",
    "display(df_train.info())\n",
    "display(df_test.info())\n",
    "display(df_train.isna().sum(), df_test.isna().sum())"
   ]
  },
  {
   "cell_type": "markdown",
   "metadata": {},
   "source": [
    "Perfect! We have removed the missing values but have retained the data we need to perform our testing! Now, Let's calculate the MAE for our Recovery Calculation!"
   ]
  },
  {
   "cell_type": "markdown",
   "metadata": {},
   "source": [
    "<div class=\"alert alert-danger\" style=\"border-radius: 15px; box-shadow: 4px 4px 4px; border: 1px solid \">\n",
    "<h2> Reviewer's comment</h2>\n",
    "    \n",
    "- Don't forget to drop missing values in target columns before you fill in the gaps. \n",
    "    \n",
    "\n",
    "\n",
    "\n",
    "- Let's also use medians, since it does not skew the distribution.\n",
    "\n",
    "</div>"
   ]
  },
  {
   "cell_type": "code",
   "execution_count": 6,
   "metadata": {},
   "outputs": [
    {
     "name": "stdout",
     "output_type": "stream",
     "text": [
      "Mean Absolute Error for Recovery Calculation: 11.153601011360065\n"
     ]
    }
   ],
   "source": [
    "def calculate_recovery(c, f, t):\n",
    "    return (c * (f - t)) / (f * (c - t)) * 100\n",
    "\n",
    "df_recovery = df_train[[\"rougher.output.recovery\", \n",
    "                         \"rougher.output.concentrate_au\", \n",
    "                         \"rougher.input.feed_au\", \n",
    "                         \"rougher.output.tail_au\"]].dropna()\n",
    "\n",
    "true_recovery = df_recovery[\"rougher.output.recovery\"]\n",
    "calculated_recovery = calculate_recovery(df_recovery[\"rougher.output.concentrate_au\"], \n",
    "                                         df_recovery[\"rougher.input.feed_au\"], \n",
    "                                         df_recovery[\"rougher.output.tail_au\"])\n",
    "\n",
    "calculated_recovery.replace([np.inf, -np.inf], np.nan, inplace=True)\n",
    "calculated_recovery = calculated_recovery.dropna()\n",
    "\n",
    "true_recovery = true_recovery.loc[calculated_recovery.index]\n",
    "\n",
    "mae = mean_absolute_error(true_recovery, calculated_recovery)\n",
    "print(f\"Mean Absolute Error for Recovery Calculation: {mae}\")"
   ]
  },
  {
   "cell_type": "markdown",
   "metadata": {},
   "source": [
    "An MAE of 11.15! Not bad, This means that from a scale of 0 - 100 our predictive accuracy is pretty great! In laymans terms it means that with the recovery we will be either plus or minus 11.15 units!"
   ]
  },
  {
   "cell_type": "markdown",
   "metadata": {},
   "source": [
    "<div class=\"alert alert-success\" style=\"border-radius: 15px; box-shadow: 4px 4px 4px; border: 1px solid \">\n",
    "<h2>   Reviewer's comment </h2>\n",
    "    \n",
    "The formula is correct.     \n",
    "</div>\n",
    "<div class=\"alert alert-danger\" style=\"border-radius: 15px; box-shadow: 4px 4px 4px; border: 1px solid \">\n",
    "<h2>   Reviewer's comment </h2>\n",
    "    \n",
    "- However, the error value is too large. Please try to first check validate the data using this formula, and only them fill in the gaps. \n",
    "\n",
    "\n",
    "- Would you please add a conclusion? What does low or high MAE mean here? \n",
    "\n",
    "</div>"
   ]
  },
  {
   "cell_type": "markdown",
   "metadata": {},
   "source": [
    "Quite a bit here missing from the test set. No big deal, with enough digging and work we will make sure that the final product is exactly what we need."
   ]
  },
  {
   "cell_type": "code",
   "execution_count": 7,
   "metadata": {},
   "outputs": [
    {
     "data": {
      "image/png": "[encoded data removed]",
      "text/plain": [
       "<Figure size 1200x600 with 1 Axes>"
      ]
     },
     "metadata": {},
     "output_type": "display_data"
    }
   ],
   "source": [
    "metal_columns = [\"primary_cleaner.output.concentrate_au\", \"rougher.output.concentrate_au\", \"final.output.concentrate_au\",\n",
    "                 \"primary_cleaner.output.concentrate_ag\", \"rougher.output.concentrate_ag\", \"final.output.concentrate_ag\",\n",
    "                 \"primary_cleaner.output.concentrate_pb\", \"rougher.output.concentrate_pb\", \"final.output.concentrate_pb\"]\n",
    "\n",
    "df_train[metal_columns].plot(kind='box', figsize=(12,6), logy=True)\n",
    "plt.title(\"Metal Concentrations at Different Stages\")\n",
    "plt.xticks(rotation=90)\n",
    "plt.show()\n",
    "\n"
   ]
  },
  {
   "cell_type": "markdown",
   "metadata": {},
   "source": [
    "Interestingly enough, both AU and PB both improve in their quality has they are refined in each step. That being said AG improves in the first filtering step and then is worse then when it starts in the second filtering step. "
   ]
  },
  {
   "cell_type": "code",
   "execution_count": 8,
   "metadata": {},
   "outputs": [
    {
     "data": {
      "image/png": "[encoded data removed]",
      "text/plain": [
       "<Figure size 640x480 with 1 Axes>"
      ]
     },
     "metadata": {},
     "output_type": "display_data"
    }
   ],
   "source": [
    "sns.histplot(df_train[\"rougher.input.feed_size\"], kde=True, label=\"Train\", color='blue')\n",
    "sns.histplot(df_test[\"rougher.input.feed_size\"], kde=True, label=\"Test\", color='yellow')\n",
    "plt.legend()\n",
    "plt.title(\"Feed Particle Size Distribution\")\n",
    "plt.show()"
   ]
  },
  {
   "cell_type": "markdown",
   "metadata": {},
   "source": [
    "For this graph we wanted to see if our test and train models were similar or different, as shown above they are similar which is great because it shows we are on the right path! If the didn't look the same and had different shapes our earlier coding and process would have been flawed and unusable!"
   ]
  },
  {
   "cell_type": "code",
   "execution_count": 9,
   "metadata": {},
   "outputs": [
    {
     "data": {
      "image/png": "[encoded data removed]",
      "text/plain": [
       "<Figure size 1000x600 with 1 Axes>"
      ]
     },
     "metadata": {},
     "output_type": "display_data"
    }
   ],
   "source": [
    "plt.figure(figsize=(10,6))\n",
    "sns.histplot(df_train[\"primary_cleaner.input.feed_size\"], kde=True, label=\"Train\", color='green')\n",
    "sns.histplot(df_test[\"primary_cleaner.input.feed_size\"], kde=True, label=\"Test\", color='orange')\n",
    "plt.legend()\n",
    "plt.title(\"Primary Cleaner Feed Size Distribution\")\n",
    "plt.xticks(rotation=45)\n",
    "plt.show()"
   ]
  },
  {
   "cell_type": "markdown",
   "metadata": {},
   "source": [
    "What we are seeing here is the first step in the cleaning or purifying process! Before the first round of purification we see that between all three metals the bell curve between our test and train system all metals are very close in the fact that most of the metal is generally the same. There is some that is more purified and some that are less, however there are none that are crazy outliers causing issues with the process"
   ]
  },
  {
   "cell_type": "code",
   "execution_count": 10,
   "metadata": {},
   "outputs": [
    {
     "data": {
      "image/png": "[encoded data removed]",
      "text/plain": [
       "<Figure size 1000x600 with 1 Axes>"
      ]
     },
     "metadata": {},
     "output_type": "display_data"
    }
   ],
   "source": [
    "df_train[\"rougher.input.feed_total\"] = df_train[[\"rougher.input.feed_au\", \"rougher.input.feed_ag\", \"rougher.input.feed_pb\"]].sum(axis=1)\n",
    "df_train[\"rougher.output.concentrate_total\"] = df_train[[\"rougher.output.concentrate_au\", \"rougher.output.concentrate_ag\", \"rougher.output.concentrate_pb\"]].sum(axis=1)\n",
    "df_train[\"final.output.concentrate_total\"] = df_train[[\"final.output.concentrate_au\", \"final.output.concentrate_ag\", \"final.output.concentrate_pb\"]].sum(axis=1)\n",
    "\n",
    "plt.figure(figsize=(10,6))\n",
    "sns.histplot(df_train[\"rougher.output.concentrate_total\"].dropna(), kde=True, color='purple')\n",
    "plt.title(\"Total Metal Concentration at Rougher Output Stage\")\n",
    "plt.xlabel(\"Total Concentration\")\n",
    "plt.ylabel(\"Density\")\n",
    "plt.show()"
   ]
  },
  {
   "cell_type": "markdown",
   "metadata": {},
   "source": [
    "Here we have our first step in the purification process! There are some outliers but they wont effect the data for us. When we take the sum of all the metals and put them in our graph we see that the density is higher then I wouldve expected, this is why we trust the data! We can see that we overall are getting a better outcome from our metal instead of just looking at one of the metals which will mean better profits when selling all three! "
   ]
  },
  {
   "cell_type": "markdown",
   "metadata": {},
   "source": [
    "<div class=\"alert alert-danger\" style=\"border-radius: 15px; box-shadow: 4px 4px 4px; border: 1px solid \">\n",
    "<h2>   Reviewer's comment </h2>\n",
    "    \n",
    "- Let's analyze histograms as well.  For this purpose, please use  `primary_cleaner.output.concentrate_`, `rougher.output.concentrate_`, and `final.output.concentrate_` columns for each of the three metals. We need to see how concentration changes from stage to stage for each metal.\n",
    "\n",
    "\n",
    "\n",
    "- For the particle size comparison, please display one more chart with the `primary_cleaner.input.feed_size` distributions.\n",
    "\n",
    "\n",
    "\n",
    "- For the total concentration analysis, please use `rougher.input.feed_`, `rougher.output.concentrate_`, and `final.output.concentrate_` columns and sum them for each of the three metals. For instance, for the `rougher.output.concentrate_`, we sum `rougher.output.concentrate_au`, `rougher.output.concentrate_ag`, and `rougher.output.concentrate_pb` and display histogram. Would you fix it please? \n",
    "    \n",
    "\n",
    "\n",
    "- Under each result, would you please add a conclusion? \n",
    "\n",
    "\n",
    "- Are there any outliers? If yes, do we need to drop them? </div>"
   ]
  },
  {
   "cell_type": "code",
   "execution_count": 12,
   "metadata": {
    "scrolled": true
   },
   "outputs": [
    {
     "name": "stdout",
     "output_type": "stream",
     "text": [
      "sMAPE Rougher Scores: [12.23363424 10.72781649 14.38028701 17.91844533 13.92655168]\n",
      "sMAPE Final Scores: [ 9.81130273 14.13870084 11.59262524 10.95329569 10.83203954]\n",
      "Mean sMAPE Rougher: 13.837346949992726\n",
      "Mean sMAPE Final: 11.465592806939807\n",
      "Final sMAPE: 3.682924813551575\n"
     ]
    }
   ],
   "source": [
    "features = list(df_test.columns)\n",
    "targets = [\"rougher.output.recovery\", \"final.output.recovery\"]\n",
    "\n",
    "combined_df = df_train.dropna(subset=targets + features)\n",
    "X_train = combined_df[features]\n",
    "y_train = combined_df[targets]\n",
    "\n",
    "def smape(y_true, y_pred):\n",
    "    numerator = np.abs(y_true - y_pred)\n",
    "    denominator = (np.abs(y_true) + np.abs(y_pred)) / 2\n",
    "    smape_values = numerator / denominator\n",
    "    return np.mean(smape_values) * 100\n",
    "\n",
    "smape_scorer = make_scorer(smape, greater_is_better=False)\n",
    "\n",
    "model_rougher = RandomForestRegressor(n_estimators=100, random_state=12345)\n",
    "model_final = RandomForestRegressor(n_estimators=100, random_state=12345)\n",
    "\n",
    "model_rougher.fit(X_train, y_train[\"rougher.output.recovery\"])\n",
    "model_final.fit(X_train, y_train[\"final.output.recovery\"])\n",
    "\n",
    "y_pred_rougher = model_rougher.predict(X_train)\n",
    "y_pred_final = model_final.predict(X_train)\n",
    "\n",
    "smape_rougher = smape(y_train[\"rougher.output.recovery\"], y_pred_rougher)\n",
    "smape_final = smape(y_train[\"final.output.recovery\"], y_pred_final)\n",
    "\n",
    "scores_rougher = -cross_val_score(model_rougher, X_train, y_train[\"rougher.output.recovery\"], cv=5, scoring=smape_scorer)\n",
    "scores_final = -cross_val_score(model_final, X_train, y_train[\"final.output.recovery\"], cv=5, scoring=smape_scorer)\n",
    "\n",
    "final_sMAPE = 0.25 * smape_rougher + 0.75 * smape_final\n",
    "\n",
    "print(f\"sMAPE Rougher Scores: {scores_rougher}\")\n",
    "print(f\"sMAPE Final Scores: {scores_final}\")\n",
    "print(f\"Mean sMAPE Rougher: {np.mean(scores_rougher)}\")\n",
    "print(f\"Mean sMAPE Final: {np.mean(scores_final)}\")\n",
    "print(f\"Final sMAPE: {final_sMAPE}\")"
   ]
  },
  {
   "cell_type": "markdown",
   "metadata": {},
   "source": [
    "Here we have tested using a Random Forest to look at the sMAPE 3.68 is incredible! a low sMAPE indicated very little deviation and a more accurate showing for the predictive model!"
   ]
  },
  {
   "cell_type": "markdown",
   "metadata": {},
   "source": [
    "<div class=\"alert alert-success\" style=\"border-radius: 15px; box-shadow: 4px 4px 4px; border: 1px solid \">\n",
    "<h2>   Reviewer's comment </h2>\n",
    "    \n",
    "You have correctly implemented the smape function and created a scorer, well done!     \n",
    "</div>\n"
   ]
  },
  {
   "cell_type": "code",
   "execution_count": 13,
   "metadata": {
    "scrolled": true
   },
   "outputs": [
    {
     "name": "stdout",
     "output_type": "stream",
     "text": [
      "Fitting 5 folds for each of 108 candidates, totalling 540 fits\n",
      "[CV] END max_depth=None, max_features=None, min_samples_leaf=1, min_samples_split=2; total time=   0.9s\n",
      "[CV] END max_depth=None, max_features=None, min_samples_leaf=1, min_samples_split=2; total time=   0.8s\n",
      "[CV] END max_depth=None, max_features=None, min_samples_leaf=1, min_samples_split=2; total time=   0.8s\n",
      "[CV] END max_depth=None, max_features=None, min_samples_leaf=1, min_samples_split=2; total time=   0.9s\n",
      "[CV] END max_depth=None, max_features=None, min_samples_leaf=1, min_samples_split=2; total time=   1.0s\n",
      "[CV] END max_depth=None, max_features=None, min_samples_leaf=1, min_samples_split=5; total time=   0.8s\n",
      "[CV] END max_depth=None, max_features=None, min_samples_leaf=1, min_samples_split=5; total time=   0.8s\n",
      "[CV] END max_depth=None, max_features=None, min_samples_leaf=1, min_samples_split=5; total time=   0.8s\n",
      "[CV] END max_depth=None, max_features=None, min_samples_leaf=1, min_samples_split=5; total time=   0.9s\n",
      "[CV] END max_depth=None, max_features=None, min_samples_leaf=1, min_samples_split=5; total time=   1.0s\n",
      "[CV] END max_depth=None, max_features=None, min_samples_leaf=1, min_samples_split=10; total time=   0.8s\n",
      "[CV] END max_depth=None, max_features=None, min_samples_leaf=1, min_samples_split=10; total time=   0.8s\n",
      "[CV] END max_depth=None, max_features=None, min_samples_leaf=1, min_samples_split=10; total time=   0.8s\n",
      "[CV] END max_depth=None, max_features=None, min_samples_leaf=1, min_samples_split=10; total time=   0.9s\n",
      "[CV] END max_depth=None, max_features=None, min_samples_leaf=1, min_samples_split=10; total time=   1.0s\n",
      "[CV] END max_depth=None, max_features=None, min_samples_leaf=2, min_samples_split=2; total time=   0.8s\n",
      "[CV] END max_depth=None, max_features=None, min_samples_leaf=2, min_samples_split=2; total time=   0.7s\n",
      "[CV] END max_depth=None, max_features=None, min_samples_leaf=2, min_samples_split=2; total time=   0.7s\n",
      "[CV] END max_depth=None, max_features=None, min_samples_leaf=2, min_samples_split=2; total time=   0.9s\n",
      "[CV] END max_depth=None, max_features=None, min_samples_leaf=2, min_samples_split=2; total time=   0.9s\n",
      "[CV] END max_depth=None, max_features=None, min_samples_leaf=2, min_samples_split=5; total time=   0.8s\n",
      "[CV] END max_depth=None, max_features=None, min_samples_leaf=2, min_samples_split=5; total time=   0.7s\n",
      "[CV] END max_depth=None, max_features=None, min_samples_leaf=2, min_samples_split=5; total time=   0.8s\n",
      "[CV] END max_depth=None, max_features=None, min_samples_leaf=2, min_samples_split=5; total time=   0.9s\n",
      "[CV] END max_depth=None, max_features=None, min_samples_leaf=2, min_samples_split=5; total time=   0.9s\n",
      "[CV] END max_depth=None, max_features=None, min_samples_leaf=2, min_samples_split=10; total time=   0.8s\n",
      "[CV] END max_depth=None, max_features=None, min_samples_leaf=2, min_samples_split=10; total time=   0.7s\n",
      "[CV] END max_depth=None, max_features=None, min_samples_leaf=2, min_samples_split=10; total time=   0.7s\n",
      "[CV] END max_depth=None, max_features=None, min_samples_leaf=2, min_samples_split=10; total time=   0.8s\n",
      "[CV] END max_depth=None, max_features=None, min_samples_leaf=2, min_samples_split=10; total time=   0.9s\n",
      "[CV] END max_depth=None, max_features=None, min_samples_leaf=4, min_samples_split=2; total time=   0.8s\n",
      "[CV] END max_depth=None, max_features=None, min_samples_leaf=4, min_samples_split=2; total time=   0.7s\n",
      "[CV] END max_depth=None, max_features=None, min_samples_leaf=4, min_samples_split=2; total time=   0.7s\n",
      "[CV] END max_depth=None, max_features=None, min_samples_leaf=4, min_samples_split=2; total time=   0.8s\n",
      "[CV] END max_depth=None, max_features=None, min_samples_leaf=4, min_samples_split=2; total time=   0.8s\n",
      "[CV] END max_depth=None, max_features=None, min_samples_leaf=4, min_samples_split=5; total time=   0.8s\n",
      "[CV] END max_depth=None, max_features=None, min_samples_leaf=4, min_samples_split=5; total time=   0.7s\n",
      "[CV] END max_depth=None, max_features=None, min_samples_leaf=4, min_samples_split=5; total time=   0.7s\n",
      "[CV] END max_depth=None, max_features=None, min_samples_leaf=4, min_samples_split=5; total time=   0.8s\n",
      "[CV] END max_depth=None, max_features=None, min_samples_leaf=4, min_samples_split=5; total time=   0.8s\n",
      "[CV] END max_depth=None, max_features=None, min_samples_leaf=4, min_samples_split=10; total time=   0.8s\n",
      "[CV] END max_depth=None, max_features=None, min_samples_leaf=4, min_samples_split=10; total time=   0.7s\n",
      "[CV] END max_depth=None, max_features=None, min_samples_leaf=4, min_samples_split=10; total time=   0.7s\n",
      "[CV] END max_depth=None, max_features=None, min_samples_leaf=4, min_samples_split=10; total time=   0.8s\n",
      "[CV] END max_depth=None, max_features=None, min_samples_leaf=4, min_samples_split=10; total time=   0.8s\n",
      "[CV] END max_depth=None, max_features=sqrt, min_samples_leaf=1, min_samples_split=2; total time=   0.1s\n",
      "[CV] END max_depth=None, max_features=sqrt, min_samples_leaf=1, min_samples_split=2; total time=   0.1s\n",
      "[CV] END max_depth=None, max_features=sqrt, min_samples_leaf=1, min_samples_split=2; total time=   0.1s\n",
      "[CV] END max_depth=None, max_features=sqrt, min_samples_leaf=1, min_samples_split=2; total time=   0.1s\n",
      "[CV] END max_depth=None, max_features=sqrt, min_samples_leaf=1, min_samples_split=2; total time=   0.1s\n",
      "[CV] END max_depth=None, max_features=sqrt, min_samples_leaf=1, min_samples_split=5; total time=   0.1s\n",
      "[CV] END max_depth=None, max_features=sqrt, min_samples_leaf=1, min_samples_split=5; total time=   0.1s\n",
      "[CV] END max_depth=None, max_features=sqrt, min_samples_leaf=1, min_samples_split=5; total time=   0.1s\n",
      "[CV] END max_depth=None, max_features=sqrt, min_samples_leaf=1, min_samples_split=5; total time=   0.1s\n",
      "[CV] END max_depth=None, max_features=sqrt, min_samples_leaf=1, min_samples_split=5; total time=   0.1s\n",
      "[CV] END max_depth=None, max_features=sqrt, min_samples_leaf=1, min_samples_split=10; total time=   0.1s\n",
      "[CV] END max_depth=None, max_features=sqrt, min_samples_leaf=1, min_samples_split=10; total time=   0.1s\n",
      "[CV] END max_depth=None, max_features=sqrt, min_samples_leaf=1, min_samples_split=10; total time=   0.1s\n",
      "[CV] END max_depth=None, max_features=sqrt, min_samples_leaf=1, min_samples_split=10; total time=   0.1s\n",
      "[CV] END max_depth=None, max_features=sqrt, min_samples_leaf=1, min_samples_split=10; total time=   0.1s\n",
      "[CV] END max_depth=None, max_features=sqrt, min_samples_leaf=2, min_samples_split=2; total time=   0.1s\n",
      "[CV] END max_depth=None, max_features=sqrt, min_samples_leaf=2, min_samples_split=2; total time=   0.1s\n",
      "[CV] END max_depth=None, max_features=sqrt, min_samples_leaf=2, min_samples_split=2; total time=   0.1s\n",
      "[CV] END max_depth=None, max_features=sqrt, min_samples_leaf=2, min_samples_split=2; total time=   0.1s\n",
      "[CV] END max_depth=None, max_features=sqrt, min_samples_leaf=2, min_samples_split=2; total time=   0.1s\n",
      "[CV] END max_depth=None, max_features=sqrt, min_samples_leaf=2, min_samples_split=5; total time=   0.1s\n",
      "[CV] END max_depth=None, max_features=sqrt, min_samples_leaf=2, min_samples_split=5; total time=   0.1s\n",
      "[CV] END max_depth=None, max_features=sqrt, min_samples_leaf=2, min_samples_split=5; total time=   0.1s\n",
      "[CV] END max_depth=None, max_features=sqrt, min_samples_leaf=2, min_samples_split=5; total time=   0.1s\n",
      "[CV] END max_depth=None, max_features=sqrt, min_samples_leaf=2, min_samples_split=5; total time=   0.1s\n",
      "[CV] END max_depth=None, max_features=sqrt, min_samples_leaf=2, min_samples_split=10; total time=   0.1s\n",
      "[CV] END max_depth=None, max_features=sqrt, min_samples_leaf=2, min_samples_split=10; total time=   0.1s\n",
      "[CV] END max_depth=None, max_features=sqrt, min_samples_leaf=2, min_samples_split=10; total time=   0.1s\n",
      "[CV] END max_depth=None, max_features=sqrt, min_samples_leaf=2, min_samples_split=10; total time=   0.1s\n",
      "[CV] END max_depth=None, max_features=sqrt, min_samples_leaf=2, min_samples_split=10; total time=   0.1s\n",
      "[CV] END max_depth=None, max_features=sqrt, min_samples_leaf=4, min_samples_split=2; total time=   0.1s\n",
      "[CV] END max_depth=None, max_features=sqrt, min_samples_leaf=4, min_samples_split=2; total time=   0.1s\n",
      "[CV] END max_depth=None, max_features=sqrt, min_samples_leaf=4, min_samples_split=2; total time=   0.1s\n",
      "[CV] END max_depth=None, max_features=sqrt, min_samples_leaf=4, min_samples_split=2; total time=   0.1s\n"
     ]
    },
    {
     "name": "stdout",
     "output_type": "stream",
     "text": [
      "[CV] END max_depth=None, max_features=sqrt, min_samples_leaf=4, min_samples_split=2; total time=   0.1s\n",
      "[CV] END max_depth=None, max_features=sqrt, min_samples_leaf=4, min_samples_split=5; total time=   0.1s\n",
      "[CV] END max_depth=None, max_features=sqrt, min_samples_leaf=4, min_samples_split=5; total time=   0.1s\n",
      "[CV] END max_depth=None, max_features=sqrt, min_samples_leaf=4, min_samples_split=5; total time=   0.1s\n",
      "[CV] END max_depth=None, max_features=sqrt, min_samples_leaf=4, min_samples_split=5; total time=   0.1s\n",
      "[CV] END max_depth=None, max_features=sqrt, min_samples_leaf=4, min_samples_split=5; total time=   0.1s\n",
      "[CV] END max_depth=None, max_features=sqrt, min_samples_leaf=4, min_samples_split=10; total time=   0.1s\n",
      "[CV] END max_depth=None, max_features=sqrt, min_samples_leaf=4, min_samples_split=10; total time=   0.1s\n",
      "[CV] END max_depth=None, max_features=sqrt, min_samples_leaf=4, min_samples_split=10; total time=   0.1s\n",
      "[CV] END max_depth=None, max_features=sqrt, min_samples_leaf=4, min_samples_split=10; total time=   0.1s\n",
      "[CV] END max_depth=None, max_features=sqrt, min_samples_leaf=4, min_samples_split=10; total time=   0.1s\n",
      "[CV] END max_depth=None, max_features=log2, min_samples_leaf=1, min_samples_split=2; total time=   0.1s\n",
      "[CV] END max_depth=None, max_features=log2, min_samples_leaf=1, min_samples_split=2; total time=   0.1s\n",
      "[CV] END max_depth=None, max_features=log2, min_samples_leaf=1, min_samples_split=2; total time=   0.1s\n",
      "[CV] END max_depth=None, max_features=log2, min_samples_leaf=1, min_samples_split=2; total time=   0.1s\n",
      "[CV] END max_depth=None, max_features=log2, min_samples_leaf=1, min_samples_split=2; total time=   0.1s\n",
      "[CV] END max_depth=None, max_features=log2, min_samples_leaf=1, min_samples_split=5; total time=   0.1s\n",
      "[CV] END max_depth=None, max_features=log2, min_samples_leaf=1, min_samples_split=5; total time=   0.1s\n",
      "[CV] END max_depth=None, max_features=log2, min_samples_leaf=1, min_samples_split=5; total time=   0.1s\n",
      "[CV] END max_depth=None, max_features=log2, min_samples_leaf=1, min_samples_split=5; total time=   0.1s\n",
      "[CV] END max_depth=None, max_features=log2, min_samples_leaf=1, min_samples_split=5; total time=   0.1s\n",
      "[CV] END max_depth=None, max_features=log2, min_samples_leaf=1, min_samples_split=10; total time=   0.1s\n",
      "[CV] END max_depth=None, max_features=log2, min_samples_leaf=1, min_samples_split=10; total time=   0.1s\n",
      "[CV] END max_depth=None, max_features=log2, min_samples_leaf=1, min_samples_split=10; total time=   0.1s\n",
      "[CV] END max_depth=None, max_features=log2, min_samples_leaf=1, min_samples_split=10; total time=   0.1s\n",
      "[CV] END max_depth=None, max_features=log2, min_samples_leaf=1, min_samples_split=10; total time=   0.1s\n",
      "[CV] END max_depth=None, max_features=log2, min_samples_leaf=2, min_samples_split=2; total time=   0.1s\n",
      "[CV] END max_depth=None, max_features=log2, min_samples_leaf=2, min_samples_split=2; total time=   0.1s\n",
      "[CV] END max_depth=None, max_features=log2, min_samples_leaf=2, min_samples_split=2; total time=   0.1s\n",
      "[CV] END max_depth=None, max_features=log2, min_samples_leaf=2, min_samples_split=2; total time=   0.1s\n",
      "[CV] END max_depth=None, max_features=log2, min_samples_leaf=2, min_samples_split=2; total time=   0.1s\n",
      "[CV] END max_depth=None, max_features=log2, min_samples_leaf=2, min_samples_split=5; total time=   0.1s\n",
      "[CV] END max_depth=None, max_features=log2, min_samples_leaf=2, min_samples_split=5; total time=   0.1s\n",
      "[CV] END max_depth=None, max_features=log2, min_samples_leaf=2, min_samples_split=5; total time=   0.1s\n",
      "[CV] END max_depth=None, max_features=log2, min_samples_leaf=2, min_samples_split=5; total time=   0.1s\n",
      "[CV] END max_depth=None, max_features=log2, min_samples_leaf=2, min_samples_split=5; total time=   0.1s\n",
      "[CV] END max_depth=None, max_features=log2, min_samples_leaf=2, min_samples_split=10; total time=   0.1s\n",
      "[CV] END max_depth=None, max_features=log2, min_samples_leaf=2, min_samples_split=10; total time=   0.1s\n",
      "[CV] END max_depth=None, max_features=log2, min_samples_leaf=2, min_samples_split=10; total time=   0.1s\n",
      "[CV] END max_depth=None, max_features=log2, min_samples_leaf=2, min_samples_split=10; total time=   0.1s\n",
      "[CV] END max_depth=None, max_features=log2, min_samples_leaf=2, min_samples_split=10; total time=   0.1s\n",
      "[CV] END max_depth=None, max_features=log2, min_samples_leaf=4, min_samples_split=2; total time=   0.1s\n",
      "[CV] END max_depth=None, max_features=log2, min_samples_leaf=4, min_samples_split=2; total time=   0.1s\n",
      "[CV] END max_depth=None, max_features=log2, min_samples_leaf=4, min_samples_split=2; total time=   0.1s\n",
      "[CV] END max_depth=None, max_features=log2, min_samples_leaf=4, min_samples_split=2; total time=   0.1s\n",
      "[CV] END max_depth=None, max_features=log2, min_samples_leaf=4, min_samples_split=2; total time=   0.1s\n",
      "[CV] END max_depth=None, max_features=log2, min_samples_leaf=4, min_samples_split=5; total time=   0.1s\n",
      "[CV] END max_depth=None, max_features=log2, min_samples_leaf=4, min_samples_split=5; total time=   0.1s\n",
      "[CV] END max_depth=None, max_features=log2, min_samples_leaf=4, min_samples_split=5; total time=   0.1s\n",
      "[CV] END max_depth=None, max_features=log2, min_samples_leaf=4, min_samples_split=5; total time=   0.1s\n",
      "[CV] END max_depth=None, max_features=log2, min_samples_leaf=4, min_samples_split=5; total time=   0.1s\n",
      "[CV] END max_depth=None, max_features=log2, min_samples_leaf=4, min_samples_split=10; total time=   0.1s\n",
      "[CV] END max_depth=None, max_features=log2, min_samples_leaf=4, min_samples_split=10; total time=   0.1s\n",
      "[CV] END max_depth=None, max_features=log2, min_samples_leaf=4, min_samples_split=10; total time=   0.1s\n",
      "[CV] END max_depth=None, max_features=log2, min_samples_leaf=4, min_samples_split=10; total time=   0.1s\n",
      "[CV] END max_depth=None, max_features=log2, min_samples_leaf=4, min_samples_split=10; total time=   0.1s\n",
      "[CV] END max_depth=10, max_features=None, min_samples_leaf=1, min_samples_split=2; total time=   0.5s\n",
      "[CV] END max_depth=10, max_features=None, min_samples_leaf=1, min_samples_split=2; total time=   0.5s\n",
      "[CV] END max_depth=10, max_features=None, min_samples_leaf=1, min_samples_split=2; total time=   0.5s\n",
      "[CV] END max_depth=10, max_features=None, min_samples_leaf=1, min_samples_split=2; total time=   0.5s\n",
      "[CV] END max_depth=10, max_features=None, min_samples_leaf=1, min_samples_split=2; total time=   0.5s\n",
      "[CV] END max_depth=10, max_features=None, min_samples_leaf=1, min_samples_split=5; total time=   0.5s\n",
      "[CV] END max_depth=10, max_features=None, min_samples_leaf=1, min_samples_split=5; total time=   0.5s\n",
      "[CV] END max_depth=10, max_features=None, min_samples_leaf=1, min_samples_split=5; total time=   0.5s\n",
      "[CV] END max_depth=10, max_features=None, min_samples_leaf=1, min_samples_split=5; total time=   0.5s\n",
      "[CV] END max_depth=10, max_features=None, min_samples_leaf=1, min_samples_split=5; total time=   0.5s\n",
      "[CV] END max_depth=10, max_features=None, min_samples_leaf=1, min_samples_split=10; total time=   0.5s\n",
      "[CV] END max_depth=10, max_features=None, min_samples_leaf=1, min_samples_split=10; total time=   0.5s\n",
      "[CV] END max_depth=10, max_features=None, min_samples_leaf=1, min_samples_split=10; total time=   0.5s\n",
      "[CV] END max_depth=10, max_features=None, min_samples_leaf=1, min_samples_split=10; total time=   0.5s\n",
      "[CV] END max_depth=10, max_features=None, min_samples_leaf=1, min_samples_split=10; total time=   0.5s\n",
      "[CV] END max_depth=10, max_features=None, min_samples_leaf=2, min_samples_split=2; total time=   0.5s\n",
      "[CV] END max_depth=10, max_features=None, min_samples_leaf=2, min_samples_split=2; total time=   0.5s\n",
      "[CV] END max_depth=10, max_features=None, min_samples_leaf=2, min_samples_split=2; total time=   0.5s\n",
      "[CV] END max_depth=10, max_features=None, min_samples_leaf=2, min_samples_split=2; total time=   0.5s\n",
      "[CV] END max_depth=10, max_features=None, min_samples_leaf=2, min_samples_split=2; total time=   0.5s\n",
      "[CV] END max_depth=10, max_features=None, min_samples_leaf=2, min_samples_split=5; total time=   0.5s\n",
      "[CV] END max_depth=10, max_features=None, min_samples_leaf=2, min_samples_split=5; total time=   0.5s\n",
      "[CV] END max_depth=10, max_features=None, min_samples_leaf=2, min_samples_split=5; total time=   0.5s\n"
     ]
    },
    {
     "name": "stdout",
     "output_type": "stream",
     "text": [
      "[CV] END max_depth=10, max_features=None, min_samples_leaf=2, min_samples_split=5; total time=   0.5s\n",
      "[CV] END max_depth=10, max_features=None, min_samples_leaf=2, min_samples_split=5; total time=   0.5s\n",
      "[CV] END max_depth=10, max_features=None, min_samples_leaf=2, min_samples_split=10; total time=   0.5s\n",
      "[CV] END max_depth=10, max_features=None, min_samples_leaf=2, min_samples_split=10; total time=   0.5s\n",
      "[CV] END max_depth=10, max_features=None, min_samples_leaf=2, min_samples_split=10; total time=   0.5s\n",
      "[CV] END max_depth=10, max_features=None, min_samples_leaf=2, min_samples_split=10; total time=   0.5s\n",
      "[CV] END max_depth=10, max_features=None, min_samples_leaf=2, min_samples_split=10; total time=   0.5s\n",
      "[CV] END max_depth=10, max_features=None, min_samples_leaf=4, min_samples_split=2; total time=   0.5s\n",
      "[CV] END max_depth=10, max_features=None, min_samples_leaf=4, min_samples_split=2; total time=   0.5s\n",
      "[CV] END max_depth=10, max_features=None, min_samples_leaf=4, min_samples_split=2; total time=   0.5s\n",
      "[CV] END max_depth=10, max_features=None, min_samples_leaf=4, min_samples_split=2; total time=   0.5s\n",
      "[CV] END max_depth=10, max_features=None, min_samples_leaf=4, min_samples_split=2; total time=   0.5s\n",
      "[CV] END max_depth=10, max_features=None, min_samples_leaf=4, min_samples_split=5; total time=   0.5s\n",
      "[CV] END max_depth=10, max_features=None, min_samples_leaf=4, min_samples_split=5; total time=   0.5s\n",
      "[CV] END max_depth=10, max_features=None, min_samples_leaf=4, min_samples_split=5; total time=   0.5s\n",
      "[CV] END max_depth=10, max_features=None, min_samples_leaf=4, min_samples_split=5; total time=   0.5s\n",
      "[CV] END max_depth=10, max_features=None, min_samples_leaf=4, min_samples_split=5; total time=   0.5s\n",
      "[CV] END max_depth=10, max_features=None, min_samples_leaf=4, min_samples_split=10; total time=   0.5s\n",
      "[CV] END max_depth=10, max_features=None, min_samples_leaf=4, min_samples_split=10; total time=   0.5s\n",
      "[CV] END max_depth=10, max_features=None, min_samples_leaf=4, min_samples_split=10; total time=   0.5s\n",
      "[CV] END max_depth=10, max_features=None, min_samples_leaf=4, min_samples_split=10; total time=   0.5s\n",
      "[CV] END max_depth=10, max_features=None, min_samples_leaf=4, min_samples_split=10; total time=   0.5s\n",
      "[CV] END max_depth=10, max_features=sqrt, min_samples_leaf=1, min_samples_split=2; total time=   0.1s\n",
      "[CV] END max_depth=10, max_features=sqrt, min_samples_leaf=1, min_samples_split=2; total time=   0.1s\n",
      "[CV] END max_depth=10, max_features=sqrt, min_samples_leaf=1, min_samples_split=2; total time=   0.1s\n",
      "[CV] END max_depth=10, max_features=sqrt, min_samples_leaf=1, min_samples_split=2; total time=   0.1s\n",
      "[CV] END max_depth=10, max_features=sqrt, min_samples_leaf=1, min_samples_split=2; total time=   0.1s\n",
      "[CV] END max_depth=10, max_features=sqrt, min_samples_leaf=1, min_samples_split=5; total time=   0.1s\n",
      "[CV] END max_depth=10, max_features=sqrt, min_samples_leaf=1, min_samples_split=5; total time=   0.1s\n",
      "[CV] END max_depth=10, max_features=sqrt, min_samples_leaf=1, min_samples_split=5; total time=   0.1s\n",
      "[CV] END max_depth=10, max_features=sqrt, min_samples_leaf=1, min_samples_split=5; total time=   0.1s\n",
      "[CV] END max_depth=10, max_features=sqrt, min_samples_leaf=1, min_samples_split=5; total time=   0.1s\n",
      "[CV] END max_depth=10, max_features=sqrt, min_samples_leaf=1, min_samples_split=10; total time=   0.1s\n",
      "[CV] END max_depth=10, max_features=sqrt, min_samples_leaf=1, min_samples_split=10; total time=   0.1s\n",
      "[CV] END max_depth=10, max_features=sqrt, min_samples_leaf=1, min_samples_split=10; total time=   0.1s\n",
      "[CV] END max_depth=10, max_features=sqrt, min_samples_leaf=1, min_samples_split=10; total time=   0.1s\n",
      "[CV] END max_depth=10, max_features=sqrt, min_samples_leaf=1, min_samples_split=10; total time=   0.1s\n",
      "[CV] END max_depth=10, max_features=sqrt, min_samples_leaf=2, min_samples_split=2; total time=   0.1s\n",
      "[CV] END max_depth=10, max_features=sqrt, min_samples_leaf=2, min_samples_split=2; total time=   0.1s\n",
      "[CV] END max_depth=10, max_features=sqrt, min_samples_leaf=2, min_samples_split=2; total time=   0.1s\n",
      "[CV] END max_depth=10, max_features=sqrt, min_samples_leaf=2, min_samples_split=2; total time=   0.1s\n",
      "[CV] END max_depth=10, max_features=sqrt, min_samples_leaf=2, min_samples_split=2; total time=   0.1s\n",
      "[CV] END max_depth=10, max_features=sqrt, min_samples_leaf=2, min_samples_split=5; total time=   0.1s\n",
      "[CV] END max_depth=10, max_features=sqrt, min_samples_leaf=2, min_samples_split=5; total time=   0.1s\n",
      "[CV] END max_depth=10, max_features=sqrt, min_samples_leaf=2, min_samples_split=5; total time=   0.1s\n",
      "[CV] END max_depth=10, max_features=sqrt, min_samples_leaf=2, min_samples_split=5; total time=   0.1s\n",
      "[CV] END max_depth=10, max_features=sqrt, min_samples_leaf=2, min_samples_split=5; total time=   0.1s\n",
      "[CV] END max_depth=10, max_features=sqrt, min_samples_leaf=2, min_samples_split=10; total time=   0.1s\n",
      "[CV] END max_depth=10, max_features=sqrt, min_samples_leaf=2, min_samples_split=10; total time=   0.1s\n",
      "[CV] END max_depth=10, max_features=sqrt, min_samples_leaf=2, min_samples_split=10; total time=   0.1s\n",
      "[CV] END max_depth=10, max_features=sqrt, min_samples_leaf=2, min_samples_split=10; total time=   0.1s\n",
      "[CV] END max_depth=10, max_features=sqrt, min_samples_leaf=2, min_samples_split=10; total time=   0.1s\n",
      "[CV] END max_depth=10, max_features=sqrt, min_samples_leaf=4, min_samples_split=2; total time=   0.1s\n",
      "[CV] END max_depth=10, max_features=sqrt, min_samples_leaf=4, min_samples_split=2; total time=   0.1s\n",
      "[CV] END max_depth=10, max_features=sqrt, min_samples_leaf=4, min_samples_split=2; total time=   0.1s\n",
      "[CV] END max_depth=10, max_features=sqrt, min_samples_leaf=4, min_samples_split=2; total time=   0.1s\n",
      "[CV] END max_depth=10, max_features=sqrt, min_samples_leaf=4, min_samples_split=2; total time=   0.1s\n",
      "[CV] END max_depth=10, max_features=sqrt, min_samples_leaf=4, min_samples_split=5; total time=   0.1s\n",
      "[CV] END max_depth=10, max_features=sqrt, min_samples_leaf=4, min_samples_split=5; total time=   0.1s\n",
      "[CV] END max_depth=10, max_features=sqrt, min_samples_leaf=4, min_samples_split=5; total time=   0.1s\n",
      "[CV] END max_depth=10, max_features=sqrt, min_samples_leaf=4, min_samples_split=5; total time=   0.1s\n",
      "[CV] END max_depth=10, max_features=sqrt, min_samples_leaf=4, min_samples_split=5; total time=   0.1s\n",
      "[CV] END max_depth=10, max_features=sqrt, min_samples_leaf=4, min_samples_split=10; total time=   0.1s\n",
      "[CV] END max_depth=10, max_features=sqrt, min_samples_leaf=4, min_samples_split=10; total time=   0.1s\n",
      "[CV] END max_depth=10, max_features=sqrt, min_samples_leaf=4, min_samples_split=10; total time=   0.1s\n",
      "[CV] END max_depth=10, max_features=sqrt, min_samples_leaf=4, min_samples_split=10; total time=   0.1s\n",
      "[CV] END max_depth=10, max_features=sqrt, min_samples_leaf=4, min_samples_split=10; total time=   0.1s\n",
      "[CV] END max_depth=10, max_features=log2, min_samples_leaf=1, min_samples_split=2; total time=   0.1s\n",
      "[CV] END max_depth=10, max_features=log2, min_samples_leaf=1, min_samples_split=2; total time=   0.1s\n",
      "[CV] END max_depth=10, max_features=log2, min_samples_leaf=1, min_samples_split=2; total time=   0.1s\n",
      "[CV] END max_depth=10, max_features=log2, min_samples_leaf=1, min_samples_split=2; total time=   0.1s\n",
      "[CV] END max_depth=10, max_features=log2, min_samples_leaf=1, min_samples_split=2; total time=   0.1s\n",
      "[CV] END max_depth=10, max_features=log2, min_samples_leaf=1, min_samples_split=5; total time=   0.1s\n",
      "[CV] END max_depth=10, max_features=log2, min_samples_leaf=1, min_samples_split=5; total time=   0.0s\n",
      "[CV] END max_depth=10, max_features=log2, min_samples_leaf=1, min_samples_split=5; total time=   0.1s\n",
      "[CV] END max_depth=10, max_features=log2, min_samples_leaf=1, min_samples_split=5; total time=   0.1s\n",
      "[CV] END max_depth=10, max_features=log2, min_samples_leaf=1, min_samples_split=5; total time=   0.1s\n",
      "[CV] END max_depth=10, max_features=log2, min_samples_leaf=1, min_samples_split=10; total time=   0.1s\n",
      "[CV] END max_depth=10, max_features=log2, min_samples_leaf=1, min_samples_split=10; total time=   0.1s\n",
      "[CV] END max_depth=10, max_features=log2, min_samples_leaf=1, min_samples_split=10; total time=   0.1s\n",
      "[CV] END max_depth=10, max_features=log2, min_samples_leaf=1, min_samples_split=10; total time=   0.0s\n",
      "[CV] END max_depth=10, max_features=log2, min_samples_leaf=1, min_samples_split=10; total time=   0.1s\n"
     ]
    },
    {
     "name": "stdout",
     "output_type": "stream",
     "text": [
      "[CV] END max_depth=10, max_features=log2, min_samples_leaf=2, min_samples_split=2; total time=   0.1s\n",
      "[CV] END max_depth=10, max_features=log2, min_samples_leaf=2, min_samples_split=2; total time=   0.1s\n",
      "[CV] END max_depth=10, max_features=log2, min_samples_leaf=2, min_samples_split=2; total time=   0.1s\n",
      "[CV] END max_depth=10, max_features=log2, min_samples_leaf=2, min_samples_split=2; total time=   0.1s\n",
      "[CV] END max_depth=10, max_features=log2, min_samples_leaf=2, min_samples_split=2; total time=   0.1s\n",
      "[CV] END max_depth=10, max_features=log2, min_samples_leaf=2, min_samples_split=5; total time=   0.1s\n",
      "[CV] END max_depth=10, max_features=log2, min_samples_leaf=2, min_samples_split=5; total time=   0.1s\n",
      "[CV] END max_depth=10, max_features=log2, min_samples_leaf=2, min_samples_split=5; total time=   0.1s\n",
      "[CV] END max_depth=10, max_features=log2, min_samples_leaf=2, min_samples_split=5; total time=   0.1s\n",
      "[CV] END max_depth=10, max_features=log2, min_samples_leaf=2, min_samples_split=5; total time=   0.1s\n",
      "[CV] END max_depth=10, max_features=log2, min_samples_leaf=2, min_samples_split=10; total time=   0.1s\n",
      "[CV] END max_depth=10, max_features=log2, min_samples_leaf=2, min_samples_split=10; total time=   0.1s\n",
      "[CV] END max_depth=10, max_features=log2, min_samples_leaf=2, min_samples_split=10; total time=   0.1s\n",
      "[CV] END max_depth=10, max_features=log2, min_samples_leaf=2, min_samples_split=10; total time=   0.1s\n",
      "[CV] END max_depth=10, max_features=log2, min_samples_leaf=2, min_samples_split=10; total time=   0.1s\n",
      "[CV] END max_depth=10, max_features=log2, min_samples_leaf=4, min_samples_split=2; total time=   0.1s\n",
      "[CV] END max_depth=10, max_features=log2, min_samples_leaf=4, min_samples_split=2; total time=   0.1s\n",
      "[CV] END max_depth=10, max_features=log2, min_samples_leaf=4, min_samples_split=2; total time=   0.1s\n",
      "[CV] END max_depth=10, max_features=log2, min_samples_leaf=4, min_samples_split=2; total time=   0.1s\n",
      "[CV] END max_depth=10, max_features=log2, min_samples_leaf=4, min_samples_split=2; total time=   0.1s\n",
      "[CV] END max_depth=10, max_features=log2, min_samples_leaf=4, min_samples_split=5; total time=   0.1s\n",
      "[CV] END max_depth=10, max_features=log2, min_samples_leaf=4, min_samples_split=5; total time=   0.1s\n",
      "[CV] END max_depth=10, max_features=log2, min_samples_leaf=4, min_samples_split=5; total time=   0.1s\n",
      "[CV] END max_depth=10, max_features=log2, min_samples_leaf=4, min_samples_split=5; total time=   0.1s\n",
      "[CV] END max_depth=10, max_features=log2, min_samples_leaf=4, min_samples_split=5; total time=   0.1s\n",
      "[CV] END max_depth=10, max_features=log2, min_samples_leaf=4, min_samples_split=10; total time=   0.1s\n",
      "[CV] END max_depth=10, max_features=log2, min_samples_leaf=4, min_samples_split=10; total time=   0.1s\n",
      "[CV] END max_depth=10, max_features=log2, min_samples_leaf=4, min_samples_split=10; total time=   0.1s\n",
      "[CV] END max_depth=10, max_features=log2, min_samples_leaf=4, min_samples_split=10; total time=   0.1s\n",
      "[CV] END max_depth=10, max_features=log2, min_samples_leaf=4, min_samples_split=10; total time=   0.1s\n",
      "[CV] END max_depth=20, max_features=None, min_samples_leaf=1, min_samples_split=2; total time=   0.8s\n",
      "[CV] END max_depth=20, max_features=None, min_samples_leaf=1, min_samples_split=2; total time=   0.7s\n",
      "[CV] END max_depth=20, max_features=None, min_samples_leaf=1, min_samples_split=2; total time=   0.7s\n",
      "[CV] END max_depth=20, max_features=None, min_samples_leaf=1, min_samples_split=2; total time=   0.8s\n",
      "[CV] END max_depth=20, max_features=None, min_samples_leaf=1, min_samples_split=2; total time=   0.8s\n",
      "[CV] END max_depth=20, max_features=None, min_samples_leaf=1, min_samples_split=5; total time=   0.8s\n",
      "[CV] END max_depth=20, max_features=None, min_samples_leaf=1, min_samples_split=5; total time=   0.7s\n",
      "[CV] END max_depth=20, max_features=None, min_samples_leaf=1, min_samples_split=5; total time=   0.8s\n",
      "[CV] END max_depth=20, max_features=None, min_samples_leaf=1, min_samples_split=5; total time=   0.8s\n",
      "[CV] END max_depth=20, max_features=None, min_samples_leaf=1, min_samples_split=5; total time=   0.8s\n",
      "[CV] END max_depth=20, max_features=None, min_samples_leaf=1, min_samples_split=10; total time=   0.7s\n",
      "[CV] END max_depth=20, max_features=None, min_samples_leaf=1, min_samples_split=10; total time=   0.7s\n",
      "[CV] END max_depth=20, max_features=None, min_samples_leaf=1, min_samples_split=10; total time=   0.7s\n",
      "[CV] END max_depth=20, max_features=None, min_samples_leaf=1, min_samples_split=10; total time=   0.8s\n",
      "[CV] END max_depth=20, max_features=None, min_samples_leaf=1, min_samples_split=10; total time=   0.8s\n",
      "[CV] END max_depth=20, max_features=None, min_samples_leaf=2, min_samples_split=2; total time=   0.7s\n",
      "[CV] END max_depth=20, max_features=None, min_samples_leaf=2, min_samples_split=2; total time=   0.7s\n",
      "[CV] END max_depth=20, max_features=None, min_samples_leaf=2, min_samples_split=2; total time=   0.7s\n",
      "[CV] END max_depth=20, max_features=None, min_samples_leaf=2, min_samples_split=2; total time=   0.8s\n",
      "[CV] END max_depth=20, max_features=None, min_samples_leaf=2, min_samples_split=2; total time=   0.8s\n",
      "[CV] END max_depth=20, max_features=None, min_samples_leaf=2, min_samples_split=5; total time=   0.8s\n",
      "[CV] END max_depth=20, max_features=None, min_samples_leaf=2, min_samples_split=5; total time=   0.7s\n",
      "[CV] END max_depth=20, max_features=None, min_samples_leaf=2, min_samples_split=5; total time=   0.7s\n",
      "[CV] END max_depth=20, max_features=None, min_samples_leaf=2, min_samples_split=5; total time=   0.8s\n",
      "[CV] END max_depth=20, max_features=None, min_samples_leaf=2, min_samples_split=5; total time=   0.8s\n",
      "[CV] END max_depth=20, max_features=None, min_samples_leaf=2, min_samples_split=10; total time=   0.7s\n",
      "[CV] END max_depth=20, max_features=None, min_samples_leaf=2, min_samples_split=10; total time=   0.7s\n",
      "[CV] END max_depth=20, max_features=None, min_samples_leaf=2, min_samples_split=10; total time=   0.7s\n",
      "[CV] END max_depth=20, max_features=None, min_samples_leaf=2, min_samples_split=10; total time=   0.7s\n",
      "[CV] END max_depth=20, max_features=None, min_samples_leaf=2, min_samples_split=10; total time=   0.8s\n",
      "[CV] END max_depth=20, max_features=None, min_samples_leaf=4, min_samples_split=2; total time=   0.7s\n",
      "[CV] END max_depth=20, max_features=None, min_samples_leaf=4, min_samples_split=2; total time=   0.7s\n",
      "[CV] END max_depth=20, max_features=None, min_samples_leaf=4, min_samples_split=2; total time=   0.7s\n",
      "[CV] END max_depth=20, max_features=None, min_samples_leaf=4, min_samples_split=2; total time=   0.7s\n",
      "[CV] END max_depth=20, max_features=None, min_samples_leaf=4, min_samples_split=2; total time=   0.8s\n",
      "[CV] END max_depth=20, max_features=None, min_samples_leaf=4, min_samples_split=5; total time=   0.7s\n",
      "[CV] END max_depth=20, max_features=None, min_samples_leaf=4, min_samples_split=5; total time=   0.7s\n",
      "[CV] END max_depth=20, max_features=None, min_samples_leaf=4, min_samples_split=5; total time=   0.7s\n",
      "[CV] END max_depth=20, max_features=None, min_samples_leaf=4, min_samples_split=5; total time=   0.7s\n",
      "[CV] END max_depth=20, max_features=None, min_samples_leaf=4, min_samples_split=5; total time=   0.8s\n",
      "[CV] END max_depth=20, max_features=None, min_samples_leaf=4, min_samples_split=10; total time=   0.7s\n",
      "[CV] END max_depth=20, max_features=None, min_samples_leaf=4, min_samples_split=10; total time=   0.7s\n",
      "[CV] END max_depth=20, max_features=None, min_samples_leaf=4, min_samples_split=10; total time=   0.7s\n",
      "[CV] END max_depth=20, max_features=None, min_samples_leaf=4, min_samples_split=10; total time=   0.7s\n",
      "[CV] END max_depth=20, max_features=None, min_samples_leaf=4, min_samples_split=10; total time=   0.8s\n",
      "[CV] END max_depth=20, max_features=sqrt, min_samples_leaf=1, min_samples_split=2; total time=   0.1s\n",
      "[CV] END max_depth=20, max_features=sqrt, min_samples_leaf=1, min_samples_split=2; total time=   0.1s\n",
      "[CV] END max_depth=20, max_features=sqrt, min_samples_leaf=1, min_samples_split=2; total time=   0.1s\n",
      "[CV] END max_depth=20, max_features=sqrt, min_samples_leaf=1, min_samples_split=2; total time=   0.1s\n",
      "[CV] END max_depth=20, max_features=sqrt, min_samples_leaf=1, min_samples_split=2; total time=   0.1s\n",
      "[CV] END max_depth=20, max_features=sqrt, min_samples_leaf=1, min_samples_split=5; total time=   0.1s\n",
      "[CV] END max_depth=20, max_features=sqrt, min_samples_leaf=1, min_samples_split=5; total time=   0.1s\n"
     ]
    },
    {
     "name": "stdout",
     "output_type": "stream",
     "text": [
      "[CV] END max_depth=20, max_features=sqrt, min_samples_leaf=1, min_samples_split=5; total time=   0.1s\n",
      "[CV] END max_depth=20, max_features=sqrt, min_samples_leaf=1, min_samples_split=5; total time=   0.1s\n",
      "[CV] END max_depth=20, max_features=sqrt, min_samples_leaf=1, min_samples_split=5; total time=   0.1s\n",
      "[CV] END max_depth=20, max_features=sqrt, min_samples_leaf=1, min_samples_split=10; total time=   0.1s\n",
      "[CV] END max_depth=20, max_features=sqrt, min_samples_leaf=1, min_samples_split=10; total time=   0.1s\n",
      "[CV] END max_depth=20, max_features=sqrt, min_samples_leaf=1, min_samples_split=10; total time=   0.1s\n",
      "[CV] END max_depth=20, max_features=sqrt, min_samples_leaf=1, min_samples_split=10; total time=   0.1s\n",
      "[CV] END max_depth=20, max_features=sqrt, min_samples_leaf=1, min_samples_split=10; total time=   0.1s\n",
      "[CV] END max_depth=20, max_features=sqrt, min_samples_leaf=2, min_samples_split=2; total time=   0.1s\n",
      "[CV] END max_depth=20, max_features=sqrt, min_samples_leaf=2, min_samples_split=2; total time=   0.1s\n",
      "[CV] END max_depth=20, max_features=sqrt, min_samples_leaf=2, min_samples_split=2; total time=   0.1s\n",
      "[CV] END max_depth=20, max_features=sqrt, min_samples_leaf=2, min_samples_split=2; total time=   0.1s\n",
      "[CV] END max_depth=20, max_features=sqrt, min_samples_leaf=2, min_samples_split=2; total time=   0.1s\n",
      "[CV] END max_depth=20, max_features=sqrt, min_samples_leaf=2, min_samples_split=5; total time=   0.1s\n",
      "[CV] END max_depth=20, max_features=sqrt, min_samples_leaf=2, min_samples_split=5; total time=   0.1s\n",
      "[CV] END max_depth=20, max_features=sqrt, min_samples_leaf=2, min_samples_split=5; total time=   0.1s\n",
      "[CV] END max_depth=20, max_features=sqrt, min_samples_leaf=2, min_samples_split=5; total time=   0.1s\n",
      "[CV] END max_depth=20, max_features=sqrt, min_samples_leaf=2, min_samples_split=5; total time=   0.1s\n",
      "[CV] END max_depth=20, max_features=sqrt, min_samples_leaf=2, min_samples_split=10; total time=   0.1s\n",
      "[CV] END max_depth=20, max_features=sqrt, min_samples_leaf=2, min_samples_split=10; total time=   0.1s\n",
      "[CV] END max_depth=20, max_features=sqrt, min_samples_leaf=2, min_samples_split=10; total time=   0.1s\n",
      "[CV] END max_depth=20, max_features=sqrt, min_samples_leaf=2, min_samples_split=10; total time=   0.1s\n",
      "[CV] END max_depth=20, max_features=sqrt, min_samples_leaf=2, min_samples_split=10; total time=   0.1s\n",
      "[CV] END max_depth=20, max_features=sqrt, min_samples_leaf=4, min_samples_split=2; total time=   0.1s\n",
      "[CV] END max_depth=20, max_features=sqrt, min_samples_leaf=4, min_samples_split=2; total time=   0.1s\n",
      "[CV] END max_depth=20, max_features=sqrt, min_samples_leaf=4, min_samples_split=2; total time=   0.1s\n",
      "[CV] END max_depth=20, max_features=sqrt, min_samples_leaf=4, min_samples_split=2; total time=   0.1s\n",
      "[CV] END max_depth=20, max_features=sqrt, min_samples_leaf=4, min_samples_split=2; total time=   0.1s\n",
      "[CV] END max_depth=20, max_features=sqrt, min_samples_leaf=4, min_samples_split=5; total time=   0.1s\n",
      "[CV] END max_depth=20, max_features=sqrt, min_samples_leaf=4, min_samples_split=5; total time=   0.1s\n",
      "[CV] END max_depth=20, max_features=sqrt, min_samples_leaf=4, min_samples_split=5; total time=   0.1s\n",
      "[CV] END max_depth=20, max_features=sqrt, min_samples_leaf=4, min_samples_split=5; total time=   0.1s\n",
      "[CV] END max_depth=20, max_features=sqrt, min_samples_leaf=4, min_samples_split=5; total time=   0.1s\n",
      "[CV] END max_depth=20, max_features=sqrt, min_samples_leaf=4, min_samples_split=10; total time=   0.1s\n",
      "[CV] END max_depth=20, max_features=sqrt, min_samples_leaf=4, min_samples_split=10; total time=   0.1s\n",
      "[CV] END max_depth=20, max_features=sqrt, min_samples_leaf=4, min_samples_split=10; total time=   0.1s\n",
      "[CV] END max_depth=20, max_features=sqrt, min_samples_leaf=4, min_samples_split=10; total time=   0.1s\n",
      "[CV] END max_depth=20, max_features=sqrt, min_samples_leaf=4, min_samples_split=10; total time=   0.1s\n",
      "[CV] END max_depth=20, max_features=log2, min_samples_leaf=1, min_samples_split=2; total time=   0.1s\n",
      "[CV] END max_depth=20, max_features=log2, min_samples_leaf=1, min_samples_split=2; total time=   0.1s\n",
      "[CV] END max_depth=20, max_features=log2, min_samples_leaf=1, min_samples_split=2; total time=   0.1s\n",
      "[CV] END max_depth=20, max_features=log2, min_samples_leaf=1, min_samples_split=2; total time=   0.1s\n",
      "[CV] END max_depth=20, max_features=log2, min_samples_leaf=1, min_samples_split=2; total time=   0.1s\n",
      "[CV] END max_depth=20, max_features=log2, min_samples_leaf=1, min_samples_split=5; total time=   0.1s\n",
      "[CV] END max_depth=20, max_features=log2, min_samples_leaf=1, min_samples_split=5; total time=   0.1s\n",
      "[CV] END max_depth=20, max_features=log2, min_samples_leaf=1, min_samples_split=5; total time=   0.1s\n",
      "[CV] END max_depth=20, max_features=log2, min_samples_leaf=1, min_samples_split=5; total time=   0.1s\n",
      "[CV] END max_depth=20, max_features=log2, min_samples_leaf=1, min_samples_split=5; total time=   0.1s\n",
      "[CV] END max_depth=20, max_features=log2, min_samples_leaf=1, min_samples_split=10; total time=   0.1s\n",
      "[CV] END max_depth=20, max_features=log2, min_samples_leaf=1, min_samples_split=10; total time=   0.1s\n",
      "[CV] END max_depth=20, max_features=log2, min_samples_leaf=1, min_samples_split=10; total time=   0.1s\n",
      "[CV] END max_depth=20, max_features=log2, min_samples_leaf=1, min_samples_split=10; total time=   0.1s\n",
      "[CV] END max_depth=20, max_features=log2, min_samples_leaf=1, min_samples_split=10; total time=   0.1s\n",
      "[CV] END max_depth=20, max_features=log2, min_samples_leaf=2, min_samples_split=2; total time=   0.1s\n",
      "[CV] END max_depth=20, max_features=log2, min_samples_leaf=2, min_samples_split=2; total time=   0.1s\n",
      "[CV] END max_depth=20, max_features=log2, min_samples_leaf=2, min_samples_split=2; total time=   0.1s\n",
      "[CV] END max_depth=20, max_features=log2, min_samples_leaf=2, min_samples_split=2; total time=   0.1s\n",
      "[CV] END max_depth=20, max_features=log2, min_samples_leaf=2, min_samples_split=2; total time=   0.1s\n",
      "[CV] END max_depth=20, max_features=log2, min_samples_leaf=2, min_samples_split=5; total time=   0.1s\n",
      "[CV] END max_depth=20, max_features=log2, min_samples_leaf=2, min_samples_split=5; total time=   0.1s\n",
      "[CV] END max_depth=20, max_features=log2, min_samples_leaf=2, min_samples_split=5; total time=   0.1s\n",
      "[CV] END max_depth=20, max_features=log2, min_samples_leaf=2, min_samples_split=5; total time=   0.1s\n",
      "[CV] END max_depth=20, max_features=log2, min_samples_leaf=2, min_samples_split=5; total time=   0.1s\n",
      "[CV] END max_depth=20, max_features=log2, min_samples_leaf=2, min_samples_split=10; total time=   0.1s\n",
      "[CV] END max_depth=20, max_features=log2, min_samples_leaf=2, min_samples_split=10; total time=   0.1s\n",
      "[CV] END max_depth=20, max_features=log2, min_samples_leaf=2, min_samples_split=10; total time=   0.1s\n",
      "[CV] END max_depth=20, max_features=log2, min_samples_leaf=2, min_samples_split=10; total time=   0.1s\n",
      "[CV] END max_depth=20, max_features=log2, min_samples_leaf=2, min_samples_split=10; total time=   0.1s\n",
      "[CV] END max_depth=20, max_features=log2, min_samples_leaf=4, min_samples_split=2; total time=   0.1s\n",
      "[CV] END max_depth=20, max_features=log2, min_samples_leaf=4, min_samples_split=2; total time=   0.1s\n",
      "[CV] END max_depth=20, max_features=log2, min_samples_leaf=4, min_samples_split=2; total time=   0.1s\n",
      "[CV] END max_depth=20, max_features=log2, min_samples_leaf=4, min_samples_split=2; total time=   0.1s\n",
      "[CV] END max_depth=20, max_features=log2, min_samples_leaf=4, min_samples_split=2; total time=   0.1s\n",
      "[CV] END max_depth=20, max_features=log2, min_samples_leaf=4, min_samples_split=5; total time=   0.1s\n",
      "[CV] END max_depth=20, max_features=log2, min_samples_leaf=4, min_samples_split=5; total time=   0.1s\n",
      "[CV] END max_depth=20, max_features=log2, min_samples_leaf=4, min_samples_split=5; total time=   0.1s\n",
      "[CV] END max_depth=20, max_features=log2, min_samples_leaf=4, min_samples_split=5; total time=   0.1s\n",
      "[CV] END max_depth=20, max_features=log2, min_samples_leaf=4, min_samples_split=5; total time=   0.1s\n",
      "[CV] END max_depth=20, max_features=log2, min_samples_leaf=4, min_samples_split=10; total time=   0.1s\n",
      "[CV] END max_depth=20, max_features=log2, min_samples_leaf=4, min_samples_split=10; total time=   0.1s\n",
      "[CV] END max_depth=20, max_features=log2, min_samples_leaf=4, min_samples_split=10; total time=   0.1s\n"
     ]
    },
    {
     "name": "stdout",
     "output_type": "stream",
     "text": [
      "[CV] END max_depth=20, max_features=log2, min_samples_leaf=4, min_samples_split=10; total time=   0.1s\n",
      "[CV] END max_depth=20, max_features=log2, min_samples_leaf=4, min_samples_split=10; total time=   0.1s\n",
      "[CV] END max_depth=30, max_features=None, min_samples_leaf=1, min_samples_split=2; total time=   0.8s\n",
      "[CV] END max_depth=30, max_features=None, min_samples_leaf=1, min_samples_split=2; total time=   0.8s\n",
      "[CV] END max_depth=30, max_features=None, min_samples_leaf=1, min_samples_split=2; total time=   0.8s\n",
      "[CV] END max_depth=30, max_features=None, min_samples_leaf=1, min_samples_split=2; total time=   0.9s\n",
      "[CV] END max_depth=30, max_features=None, min_samples_leaf=1, min_samples_split=2; total time=   1.0s\n",
      "[CV] END max_depth=30, max_features=None, min_samples_leaf=1, min_samples_split=5; total time=   0.8s\n",
      "[CV] END max_depth=30, max_features=None, min_samples_leaf=1, min_samples_split=5; total time=   0.8s\n",
      "[CV] END max_depth=30, max_features=None, min_samples_leaf=1, min_samples_split=5; total time=   0.8s\n",
      "[CV] END max_depth=30, max_features=None, min_samples_leaf=1, min_samples_split=5; total time=   0.8s\n",
      "[CV] END max_depth=30, max_features=None, min_samples_leaf=1, min_samples_split=5; total time=   1.0s\n",
      "[CV] END max_depth=30, max_features=None, min_samples_leaf=1, min_samples_split=10; total time=   0.8s\n",
      "[CV] END max_depth=30, max_features=None, min_samples_leaf=1, min_samples_split=10; total time=   0.8s\n",
      "[CV] END max_depth=30, max_features=None, min_samples_leaf=1, min_samples_split=10; total time=   0.8s\n",
      "[CV] END max_depth=30, max_features=None, min_samples_leaf=1, min_samples_split=10; total time=   0.8s\n",
      "[CV] END max_depth=30, max_features=None, min_samples_leaf=1, min_samples_split=10; total time=   0.9s\n",
      "[CV] END max_depth=30, max_features=None, min_samples_leaf=2, min_samples_split=2; total time=   0.8s\n",
      "[CV] END max_depth=30, max_features=None, min_samples_leaf=2, min_samples_split=2; total time=   0.8s\n",
      "[CV] END max_depth=30, max_features=None, min_samples_leaf=2, min_samples_split=2; total time=   0.8s\n",
      "[CV] END max_depth=30, max_features=None, min_samples_leaf=2, min_samples_split=2; total time=   0.8s\n",
      "[CV] END max_depth=30, max_features=None, min_samples_leaf=2, min_samples_split=2; total time=   0.9s\n",
      "[CV] END max_depth=30, max_features=None, min_samples_leaf=2, min_samples_split=5; total time=   0.8s\n",
      "[CV] END max_depth=30, max_features=None, min_samples_leaf=2, min_samples_split=5; total time=   0.7s\n",
      "[CV] END max_depth=30, max_features=None, min_samples_leaf=2, min_samples_split=5; total time=   0.7s\n",
      "[CV] END max_depth=30, max_features=None, min_samples_leaf=2, min_samples_split=5; total time=   0.8s\n",
      "[CV] END max_depth=30, max_features=None, min_samples_leaf=2, min_samples_split=5; total time=   0.9s\n",
      "[CV] END max_depth=30, max_features=None, min_samples_leaf=2, min_samples_split=10; total time=   0.8s\n",
      "[CV] END max_depth=30, max_features=None, min_samples_leaf=2, min_samples_split=10; total time=   0.7s\n",
      "[CV] END max_depth=30, max_features=None, min_samples_leaf=2, min_samples_split=10; total time=   0.7s\n",
      "[CV] END max_depth=30, max_features=None, min_samples_leaf=2, min_samples_split=10; total time=   0.8s\n",
      "[CV] END max_depth=30, max_features=None, min_samples_leaf=2, min_samples_split=10; total time=   0.9s\n",
      "[CV] END max_depth=30, max_features=None, min_samples_leaf=4, min_samples_split=2; total time=   0.8s\n",
      "[CV] END max_depth=30, max_features=None, min_samples_leaf=4, min_samples_split=2; total time=   0.7s\n",
      "[CV] END max_depth=30, max_features=None, min_samples_leaf=4, min_samples_split=2; total time=   0.7s\n",
      "[CV] END max_depth=30, max_features=None, min_samples_leaf=4, min_samples_split=2; total time=   0.8s\n",
      "[CV] END max_depth=30, max_features=None, min_samples_leaf=4, min_samples_split=2; total time=   0.8s\n",
      "[CV] END max_depth=30, max_features=None, min_samples_leaf=4, min_samples_split=5; total time=   0.8s\n",
      "[CV] END max_depth=30, max_features=None, min_samples_leaf=4, min_samples_split=5; total time=   0.7s\n",
      "[CV] END max_depth=30, max_features=None, min_samples_leaf=4, min_samples_split=5; total time=   0.7s\n",
      "[CV] END max_depth=30, max_features=None, min_samples_leaf=4, min_samples_split=5; total time=   0.8s\n",
      "[CV] END max_depth=30, max_features=None, min_samples_leaf=4, min_samples_split=5; total time=   0.8s\n",
      "[CV] END max_depth=30, max_features=None, min_samples_leaf=4, min_samples_split=10; total time=   0.8s\n",
      "[CV] END max_depth=30, max_features=None, min_samples_leaf=4, min_samples_split=10; total time=   0.7s\n",
      "[CV] END max_depth=30, max_features=None, min_samples_leaf=4, min_samples_split=10; total time=   0.7s\n",
      "[CV] END max_depth=30, max_features=None, min_samples_leaf=4, min_samples_split=10; total time=   0.8s\n",
      "[CV] END max_depth=30, max_features=None, min_samples_leaf=4, min_samples_split=10; total time=   0.8s\n",
      "[CV] END max_depth=30, max_features=sqrt, min_samples_leaf=1, min_samples_split=2; total time=   0.1s\n",
      "[CV] END max_depth=30, max_features=sqrt, min_samples_leaf=1, min_samples_split=2; total time=   0.1s\n",
      "[CV] END max_depth=30, max_features=sqrt, min_samples_leaf=1, min_samples_split=2; total time=   0.1s\n",
      "[CV] END max_depth=30, max_features=sqrt, min_samples_leaf=1, min_samples_split=2; total time=   0.1s\n",
      "[CV] END max_depth=30, max_features=sqrt, min_samples_leaf=1, min_samples_split=2; total time=   0.1s\n",
      "[CV] END max_depth=30, max_features=sqrt, min_samples_leaf=1, min_samples_split=5; total time=   0.1s\n",
      "[CV] END max_depth=30, max_features=sqrt, min_samples_leaf=1, min_samples_split=5; total time=   0.1s\n",
      "[CV] END max_depth=30, max_features=sqrt, min_samples_leaf=1, min_samples_split=5; total time=   0.1s\n",
      "[CV] END max_depth=30, max_features=sqrt, min_samples_leaf=1, min_samples_split=5; total time=   0.1s\n",
      "[CV] END max_depth=30, max_features=sqrt, min_samples_leaf=1, min_samples_split=5; total time=   0.1s\n",
      "[CV] END max_depth=30, max_features=sqrt, min_samples_leaf=1, min_samples_split=10; total time=   0.1s\n",
      "[CV] END max_depth=30, max_features=sqrt, min_samples_leaf=1, min_samples_split=10; total time=   0.1s\n",
      "[CV] END max_depth=30, max_features=sqrt, min_samples_leaf=1, min_samples_split=10; total time=   0.1s\n",
      "[CV] END max_depth=30, max_features=sqrt, min_samples_leaf=1, min_samples_split=10; total time=   0.1s\n",
      "[CV] END max_depth=30, max_features=sqrt, min_samples_leaf=1, min_samples_split=10; total time=   0.1s\n",
      "[CV] END max_depth=30, max_features=sqrt, min_samples_leaf=2, min_samples_split=2; total time=   0.1s\n",
      "[CV] END max_depth=30, max_features=sqrt, min_samples_leaf=2, min_samples_split=2; total time=   0.1s\n",
      "[CV] END max_depth=30, max_features=sqrt, min_samples_leaf=2, min_samples_split=2; total time=   0.1s\n",
      "[CV] END max_depth=30, max_features=sqrt, min_samples_leaf=2, min_samples_split=2; total time=   0.1s\n",
      "[CV] END max_depth=30, max_features=sqrt, min_samples_leaf=2, min_samples_split=2; total time=   0.1s\n",
      "[CV] END max_depth=30, max_features=sqrt, min_samples_leaf=2, min_samples_split=5; total time=   0.1s\n",
      "[CV] END max_depth=30, max_features=sqrt, min_samples_leaf=2, min_samples_split=5; total time=   0.1s\n",
      "[CV] END max_depth=30, max_features=sqrt, min_samples_leaf=2, min_samples_split=5; total time=   0.1s\n",
      "[CV] END max_depth=30, max_features=sqrt, min_samples_leaf=2, min_samples_split=5; total time=   0.1s\n",
      "[CV] END max_depth=30, max_features=sqrt, min_samples_leaf=2, min_samples_split=5; total time=   0.1s\n",
      "[CV] END max_depth=30, max_features=sqrt, min_samples_leaf=2, min_samples_split=10; total time=   0.1s\n",
      "[CV] END max_depth=30, max_features=sqrt, min_samples_leaf=2, min_samples_split=10; total time=   0.1s\n",
      "[CV] END max_depth=30, max_features=sqrt, min_samples_leaf=2, min_samples_split=10; total time=   0.1s\n",
      "[CV] END max_depth=30, max_features=sqrt, min_samples_leaf=2, min_samples_split=10; total time=   0.1s\n",
      "[CV] END max_depth=30, max_features=sqrt, min_samples_leaf=2, min_samples_split=10; total time=   0.1s\n",
      "[CV] END max_depth=30, max_features=sqrt, min_samples_leaf=4, min_samples_split=2; total time=   0.1s\n",
      "[CV] END max_depth=30, max_features=sqrt, min_samples_leaf=4, min_samples_split=2; total time=   0.1s\n",
      "[CV] END max_depth=30, max_features=sqrt, min_samples_leaf=4, min_samples_split=2; total time=   0.1s\n",
      "[CV] END max_depth=30, max_features=sqrt, min_samples_leaf=4, min_samples_split=2; total time=   0.1s\n"
     ]
    },
    {
     "name": "stdout",
     "output_type": "stream",
     "text": [
      "[CV] END max_depth=30, max_features=sqrt, min_samples_leaf=4, min_samples_split=2; total time=   0.1s\n",
      "[CV] END max_depth=30, max_features=sqrt, min_samples_leaf=4, min_samples_split=5; total time=   0.1s\n",
      "[CV] END max_depth=30, max_features=sqrt, min_samples_leaf=4, min_samples_split=5; total time=   0.1s\n",
      "[CV] END max_depth=30, max_features=sqrt, min_samples_leaf=4, min_samples_split=5; total time=   0.1s\n",
      "[CV] END max_depth=30, max_features=sqrt, min_samples_leaf=4, min_samples_split=5; total time=   0.1s\n",
      "[CV] END max_depth=30, max_features=sqrt, min_samples_leaf=4, min_samples_split=5; total time=   0.1s\n",
      "[CV] END max_depth=30, max_features=sqrt, min_samples_leaf=4, min_samples_split=10; total time=   0.1s\n",
      "[CV] END max_depth=30, max_features=sqrt, min_samples_leaf=4, min_samples_split=10; total time=   0.1s\n",
      "[CV] END max_depth=30, max_features=sqrt, min_samples_leaf=4, min_samples_split=10; total time=   0.1s\n",
      "[CV] END max_depth=30, max_features=sqrt, min_samples_leaf=4, min_samples_split=10; total time=   0.1s\n",
      "[CV] END max_depth=30, max_features=sqrt, min_samples_leaf=4, min_samples_split=10; total time=   0.1s\n",
      "[CV] END max_depth=30, max_features=log2, min_samples_leaf=1, min_samples_split=2; total time=   0.1s\n",
      "[CV] END max_depth=30, max_features=log2, min_samples_leaf=1, min_samples_split=2; total time=   0.1s\n",
      "[CV] END max_depth=30, max_features=log2, min_samples_leaf=1, min_samples_split=2; total time=   0.1s\n",
      "[CV] END max_depth=30, max_features=log2, min_samples_leaf=1, min_samples_split=2; total time=   0.1s\n",
      "[CV] END max_depth=30, max_features=log2, min_samples_leaf=1, min_samples_split=2; total time=   0.1s\n",
      "[CV] END max_depth=30, max_features=log2, min_samples_leaf=1, min_samples_split=5; total time=   0.1s\n",
      "[CV] END max_depth=30, max_features=log2, min_samples_leaf=1, min_samples_split=5; total time=   0.1s\n",
      "[CV] END max_depth=30, max_features=log2, min_samples_leaf=1, min_samples_split=5; total time=   0.1s\n",
      "[CV] END max_depth=30, max_features=log2, min_samples_leaf=1, min_samples_split=5; total time=   0.1s\n",
      "[CV] END max_depth=30, max_features=log2, min_samples_leaf=1, min_samples_split=5; total time=   0.1s\n",
      "[CV] END max_depth=30, max_features=log2, min_samples_leaf=1, min_samples_split=10; total time=   0.1s\n",
      "[CV] END max_depth=30, max_features=log2, min_samples_leaf=1, min_samples_split=10; total time=   0.1s\n",
      "[CV] END max_depth=30, max_features=log2, min_samples_leaf=1, min_samples_split=10; total time=   0.1s\n",
      "[CV] END max_depth=30, max_features=log2, min_samples_leaf=1, min_samples_split=10; total time=   0.1s\n",
      "[CV] END max_depth=30, max_features=log2, min_samples_leaf=1, min_samples_split=10; total time=   0.1s\n",
      "[CV] END max_depth=30, max_features=log2, min_samples_leaf=2, min_samples_split=2; total time=   0.1s\n",
      "[CV] END max_depth=30, max_features=log2, min_samples_leaf=2, min_samples_split=2; total time=   0.1s\n",
      "[CV] END max_depth=30, max_features=log2, min_samples_leaf=2, min_samples_split=2; total time=   0.1s\n",
      "[CV] END max_depth=30, max_features=log2, min_samples_leaf=2, min_samples_split=2; total time=   0.1s\n",
      "[CV] END max_depth=30, max_features=log2, min_samples_leaf=2, min_samples_split=2; total time=   0.1s\n",
      "[CV] END max_depth=30, max_features=log2, min_samples_leaf=2, min_samples_split=5; total time=   0.1s\n",
      "[CV] END max_depth=30, max_features=log2, min_samples_leaf=2, min_samples_split=5; total time=   0.1s\n",
      "[CV] END max_depth=30, max_features=log2, min_samples_leaf=2, min_samples_split=5; total time=   0.1s\n",
      "[CV] END max_depth=30, max_features=log2, min_samples_leaf=2, min_samples_split=5; total time=   0.1s\n",
      "[CV] END max_depth=30, max_features=log2, min_samples_leaf=2, min_samples_split=5; total time=   0.1s\n",
      "[CV] END max_depth=30, max_features=log2, min_samples_leaf=2, min_samples_split=10; total time=   0.1s\n",
      "[CV] END max_depth=30, max_features=log2, min_samples_leaf=2, min_samples_split=10; total time=   0.1s\n",
      "[CV] END max_depth=30, max_features=log2, min_samples_leaf=2, min_samples_split=10; total time=   0.1s\n",
      "[CV] END max_depth=30, max_features=log2, min_samples_leaf=2, min_samples_split=10; total time=   0.1s\n",
      "[CV] END max_depth=30, max_features=log2, min_samples_leaf=2, min_samples_split=10; total time=   0.1s\n",
      "[CV] END max_depth=30, max_features=log2, min_samples_leaf=4, min_samples_split=2; total time=   0.1s\n",
      "[CV] END max_depth=30, max_features=log2, min_samples_leaf=4, min_samples_split=2; total time=   0.1s\n",
      "[CV] END max_depth=30, max_features=log2, min_samples_leaf=4, min_samples_split=2; total time=   0.1s\n",
      "[CV] END max_depth=30, max_features=log2, min_samples_leaf=4, min_samples_split=2; total time=   0.1s\n",
      "[CV] END max_depth=30, max_features=log2, min_samples_leaf=4, min_samples_split=2; total time=   0.1s\n",
      "[CV] END max_depth=30, max_features=log2, min_samples_leaf=4, min_samples_split=5; total time=   0.1s\n",
      "[CV] END max_depth=30, max_features=log2, min_samples_leaf=4, min_samples_split=5; total time=   0.1s\n",
      "[CV] END max_depth=30, max_features=log2, min_samples_leaf=4, min_samples_split=5; total time=   0.1s\n",
      "[CV] END max_depth=30, max_features=log2, min_samples_leaf=4, min_samples_split=5; total time=   0.1s\n",
      "[CV] END max_depth=30, max_features=log2, min_samples_leaf=4, min_samples_split=5; total time=   0.1s\n",
      "[CV] END max_depth=30, max_features=log2, min_samples_leaf=4, min_samples_split=10; total time=   0.1s\n",
      "[CV] END max_depth=30, max_features=log2, min_samples_leaf=4, min_samples_split=10; total time=   0.1s\n",
      "[CV] END max_depth=30, max_features=log2, min_samples_leaf=4, min_samples_split=10; total time=   0.1s\n",
      "[CV] END max_depth=30, max_features=log2, min_samples_leaf=4, min_samples_split=10; total time=   0.1s\n",
      "[CV] END max_depth=30, max_features=log2, min_samples_leaf=4, min_samples_split=10; total time=   0.1s\n",
      "Fitting 5 folds for each of 108 candidates, totalling 540 fits\n",
      "[CV] END max_depth=None, max_features=None, min_samples_leaf=1, min_samples_split=2; total time=   1.0s\n",
      "[CV] END max_depth=None, max_features=None, min_samples_leaf=1, min_samples_split=2; total time=   0.9s\n",
      "[CV] END max_depth=None, max_features=None, min_samples_leaf=1, min_samples_split=2; total time=   0.9s\n",
      "[CV] END max_depth=None, max_features=None, min_samples_leaf=1, min_samples_split=2; total time=   0.9s\n",
      "[CV] END max_depth=None, max_features=None, min_samples_leaf=1, min_samples_split=2; total time=   1.0s\n",
      "[CV] END max_depth=None, max_features=None, min_samples_leaf=1, min_samples_split=5; total time=   0.9s\n",
      "[CV] END max_depth=None, max_features=None, min_samples_leaf=1, min_samples_split=5; total time=   0.9s\n",
      "[CV] END max_depth=None, max_features=None, min_samples_leaf=1, min_samples_split=5; total time=   0.9s\n",
      "[CV] END max_depth=None, max_features=None, min_samples_leaf=1, min_samples_split=5; total time=   0.9s\n",
      "[CV] END max_depth=None, max_features=None, min_samples_leaf=1, min_samples_split=5; total time=   1.0s\n",
      "[CV] END max_depth=None, max_features=None, min_samples_leaf=1, min_samples_split=10; total time=   1.0s\n",
      "[CV] END max_depth=None, max_features=None, min_samples_leaf=1, min_samples_split=10; total time=   0.9s\n",
      "[CV] END max_depth=None, max_features=None, min_samples_leaf=1, min_samples_split=10; total time=   0.8s\n",
      "[CV] END max_depth=None, max_features=None, min_samples_leaf=1, min_samples_split=10; total time=   0.9s\n",
      "[CV] END max_depth=None, max_features=None, min_samples_leaf=1, min_samples_split=10; total time=   1.0s\n",
      "[CV] END max_depth=None, max_features=None, min_samples_leaf=2, min_samples_split=2; total time=   0.9s\n",
      "[CV] END max_depth=None, max_features=None, min_samples_leaf=2, min_samples_split=2; total time=   0.9s\n",
      "[CV] END max_depth=None, max_features=None, min_samples_leaf=2, min_samples_split=2; total time=   0.8s\n",
      "[CV] END max_depth=None, max_features=None, min_samples_leaf=2, min_samples_split=2; total time=   0.9s\n",
      "[CV] END max_depth=None, max_features=None, min_samples_leaf=2, min_samples_split=2; total time=   1.0s\n",
      "[CV] END max_depth=None, max_features=None, min_samples_leaf=2, min_samples_split=5; total time=   0.9s\n",
      "[CV] END max_depth=None, max_features=None, min_samples_leaf=2, min_samples_split=5; total time=   0.9s\n",
      "[CV] END max_depth=None, max_features=None, min_samples_leaf=2, min_samples_split=5; total time=   0.8s\n",
      "[CV] END max_depth=None, max_features=None, min_samples_leaf=2, min_samples_split=5; total time=   0.9s\n"
     ]
    },
    {
     "name": "stdout",
     "output_type": "stream",
     "text": [
      "[CV] END max_depth=None, max_features=None, min_samples_leaf=2, min_samples_split=5; total time=   1.0s\n",
      "[CV] END max_depth=None, max_features=None, min_samples_leaf=2, min_samples_split=10; total time=   0.9s\n",
      "[CV] END max_depth=None, max_features=None, min_samples_leaf=2, min_samples_split=10; total time=   0.9s\n",
      "[CV] END max_depth=None, max_features=None, min_samples_leaf=2, min_samples_split=10; total time=   0.8s\n",
      "[CV] END max_depth=None, max_features=None, min_samples_leaf=2, min_samples_split=10; total time=   0.9s\n",
      "[CV] END max_depth=None, max_features=None, min_samples_leaf=2, min_samples_split=10; total time=   1.0s\n",
      "[CV] END max_depth=None, max_features=None, min_samples_leaf=4, min_samples_split=2; total time=   0.8s\n",
      "[CV] END max_depth=None, max_features=None, min_samples_leaf=4, min_samples_split=2; total time=   0.8s\n",
      "[CV] END max_depth=None, max_features=None, min_samples_leaf=4, min_samples_split=2; total time=   0.8s\n",
      "[CV] END max_depth=None, max_features=None, min_samples_leaf=4, min_samples_split=2; total time=   0.8s\n",
      "[CV] END max_depth=None, max_features=None, min_samples_leaf=4, min_samples_split=2; total time=   0.9s\n",
      "[CV] END max_depth=None, max_features=None, min_samples_leaf=4, min_samples_split=5; total time=   0.8s\n",
      "[CV] END max_depth=None, max_features=None, min_samples_leaf=4, min_samples_split=5; total time=   0.8s\n",
      "[CV] END max_depth=None, max_features=None, min_samples_leaf=4, min_samples_split=5; total time=   0.8s\n",
      "[CV] END max_depth=None, max_features=None, min_samples_leaf=4, min_samples_split=5; total time=   0.8s\n",
      "[CV] END max_depth=None, max_features=None, min_samples_leaf=4, min_samples_split=5; total time=   0.9s\n",
      "[CV] END max_depth=None, max_features=None, min_samples_leaf=4, min_samples_split=10; total time=   0.8s\n",
      "[CV] END max_depth=None, max_features=None, min_samples_leaf=4, min_samples_split=10; total time=   0.8s\n",
      "[CV] END max_depth=None, max_features=None, min_samples_leaf=4, min_samples_split=10; total time=   0.8s\n",
      "[CV] END max_depth=None, max_features=None, min_samples_leaf=4, min_samples_split=10; total time=   0.8s\n",
      "[CV] END max_depth=None, max_features=None, min_samples_leaf=4, min_samples_split=10; total time=   0.9s\n",
      "[CV] END max_depth=None, max_features=sqrt, min_samples_leaf=1, min_samples_split=2; total time=   0.1s\n",
      "[CV] END max_depth=None, max_features=sqrt, min_samples_leaf=1, min_samples_split=2; total time=   0.2s\n",
      "[CV] END max_depth=None, max_features=sqrt, min_samples_leaf=1, min_samples_split=2; total time=   0.1s\n",
      "[CV] END max_depth=None, max_features=sqrt, min_samples_leaf=1, min_samples_split=2; total time=   0.1s\n",
      "[CV] END max_depth=None, max_features=sqrt, min_samples_leaf=1, min_samples_split=2; total time=   0.1s\n",
      "[CV] END max_depth=None, max_features=sqrt, min_samples_leaf=1, min_samples_split=5; total time=   0.1s\n",
      "[CV] END max_depth=None, max_features=sqrt, min_samples_leaf=1, min_samples_split=5; total time=   0.1s\n",
      "[CV] END max_depth=None, max_features=sqrt, min_samples_leaf=1, min_samples_split=5; total time=   0.1s\n",
      "[CV] END max_depth=None, max_features=sqrt, min_samples_leaf=1, min_samples_split=5; total time=   0.1s\n",
      "[CV] END max_depth=None, max_features=sqrt, min_samples_leaf=1, min_samples_split=5; total time=   0.2s\n",
      "[CV] END max_depth=None, max_features=sqrt, min_samples_leaf=1, min_samples_split=10; total time=   0.1s\n",
      "[CV] END max_depth=None, max_features=sqrt, min_samples_leaf=1, min_samples_split=10; total time=   0.1s\n",
      "[CV] END max_depth=None, max_features=sqrt, min_samples_leaf=1, min_samples_split=10; total time=   0.1s\n",
      "[CV] END max_depth=None, max_features=sqrt, min_samples_leaf=1, min_samples_split=10; total time=   0.1s\n",
      "[CV] END max_depth=None, max_features=sqrt, min_samples_leaf=1, min_samples_split=10; total time=   0.1s\n",
      "[CV] END max_depth=None, max_features=sqrt, min_samples_leaf=2, min_samples_split=2; total time=   0.1s\n",
      "[CV] END max_depth=None, max_features=sqrt, min_samples_leaf=2, min_samples_split=2; total time=   0.1s\n",
      "[CV] END max_depth=None, max_features=sqrt, min_samples_leaf=2, min_samples_split=2; total time=   0.1s\n",
      "[CV] END max_depth=None, max_features=sqrt, min_samples_leaf=2, min_samples_split=2; total time=   0.1s\n",
      "[CV] END max_depth=None, max_features=sqrt, min_samples_leaf=2, min_samples_split=2; total time=   0.1s\n",
      "[CV] END max_depth=None, max_features=sqrt, min_samples_leaf=2, min_samples_split=5; total time=   0.1s\n",
      "[CV] END max_depth=None, max_features=sqrt, min_samples_leaf=2, min_samples_split=5; total time=   0.1s\n",
      "[CV] END max_depth=None, max_features=sqrt, min_samples_leaf=2, min_samples_split=5; total time=   0.1s\n",
      "[CV] END max_depth=None, max_features=sqrt, min_samples_leaf=2, min_samples_split=5; total time=   0.1s\n",
      "[CV] END max_depth=None, max_features=sqrt, min_samples_leaf=2, min_samples_split=5; total time=   0.1s\n",
      "[CV] END max_depth=None, max_features=sqrt, min_samples_leaf=2, min_samples_split=10; total time=   0.1s\n",
      "[CV] END max_depth=None, max_features=sqrt, min_samples_leaf=2, min_samples_split=10; total time=   0.1s\n",
      "[CV] END max_depth=None, max_features=sqrt, min_samples_leaf=2, min_samples_split=10; total time=   0.1s\n",
      "[CV] END max_depth=None, max_features=sqrt, min_samples_leaf=2, min_samples_split=10; total time=   0.1s\n",
      "[CV] END max_depth=None, max_features=sqrt, min_samples_leaf=2, min_samples_split=10; total time=   0.1s\n",
      "[CV] END max_depth=None, max_features=sqrt, min_samples_leaf=4, min_samples_split=2; total time=   0.1s\n",
      "[CV] END max_depth=None, max_features=sqrt, min_samples_leaf=4, min_samples_split=2; total time=   0.1s\n",
      "[CV] END max_depth=None, max_features=sqrt, min_samples_leaf=4, min_samples_split=2; total time=   0.1s\n",
      "[CV] END max_depth=None, max_features=sqrt, min_samples_leaf=4, min_samples_split=2; total time=   0.1s\n",
      "[CV] END max_depth=None, max_features=sqrt, min_samples_leaf=4, min_samples_split=2; total time=   0.1s\n",
      "[CV] END max_depth=None, max_features=sqrt, min_samples_leaf=4, min_samples_split=5; total time=   0.1s\n",
      "[CV] END max_depth=None, max_features=sqrt, min_samples_leaf=4, min_samples_split=5; total time=   0.1s\n",
      "[CV] END max_depth=None, max_features=sqrt, min_samples_leaf=4, min_samples_split=5; total time=   0.1s\n",
      "[CV] END max_depth=None, max_features=sqrt, min_samples_leaf=4, min_samples_split=5; total time=   0.1s\n",
      "[CV] END max_depth=None, max_features=sqrt, min_samples_leaf=4, min_samples_split=5; total time=   0.1s\n",
      "[CV] END max_depth=None, max_features=sqrt, min_samples_leaf=4, min_samples_split=10; total time=   0.1s\n",
      "[CV] END max_depth=None, max_features=sqrt, min_samples_leaf=4, min_samples_split=10; total time=   0.1s\n",
      "[CV] END max_depth=None, max_features=sqrt, min_samples_leaf=4, min_samples_split=10; total time=   0.1s\n",
      "[CV] END max_depth=None, max_features=sqrt, min_samples_leaf=4, min_samples_split=10; total time=   0.1s\n",
      "[CV] END max_depth=None, max_features=sqrt, min_samples_leaf=4, min_samples_split=10; total time=   0.1s\n",
      "[CV] END max_depth=None, max_features=log2, min_samples_leaf=1, min_samples_split=2; total time=   0.1s\n",
      "[CV] END max_depth=None, max_features=log2, min_samples_leaf=1, min_samples_split=2; total time=   0.1s\n",
      "[CV] END max_depth=None, max_features=log2, min_samples_leaf=1, min_samples_split=2; total time=   0.1s\n",
      "[CV] END max_depth=None, max_features=log2, min_samples_leaf=1, min_samples_split=2; total time=   0.1s\n",
      "[CV] END max_depth=None, max_features=log2, min_samples_leaf=1, min_samples_split=2; total time=   0.1s\n",
      "[CV] END max_depth=None, max_features=log2, min_samples_leaf=1, min_samples_split=5; total time=   0.1s\n",
      "[CV] END max_depth=None, max_features=log2, min_samples_leaf=1, min_samples_split=5; total time=   0.1s\n",
      "[CV] END max_depth=None, max_features=log2, min_samples_leaf=1, min_samples_split=5; total time=   0.1s\n",
      "[CV] END max_depth=None, max_features=log2, min_samples_leaf=1, min_samples_split=5; total time=   0.1s\n",
      "[CV] END max_depth=None, max_features=log2, min_samples_leaf=1, min_samples_split=5; total time=   0.1s\n",
      "[CV] END max_depth=None, max_features=log2, min_samples_leaf=1, min_samples_split=10; total time=   0.1s\n",
      "[CV] END max_depth=None, max_features=log2, min_samples_leaf=1, min_samples_split=10; total time=   0.1s\n",
      "[CV] END max_depth=None, max_features=log2, min_samples_leaf=1, min_samples_split=10; total time=   0.1s\n"
     ]
    },
    {
     "name": "stdout",
     "output_type": "stream",
     "text": [
      "[CV] END max_depth=None, max_features=log2, min_samples_leaf=1, min_samples_split=10; total time=   0.1s\n",
      "[CV] END max_depth=None, max_features=log2, min_samples_leaf=1, min_samples_split=10; total time=   0.1s\n",
      "[CV] END max_depth=None, max_features=log2, min_samples_leaf=2, min_samples_split=2; total time=   0.1s\n",
      "[CV] END max_depth=None, max_features=log2, min_samples_leaf=2, min_samples_split=2; total time=   0.1s\n",
      "[CV] END max_depth=None, max_features=log2, min_samples_leaf=2, min_samples_split=2; total time=   0.1s\n",
      "[CV] END max_depth=None, max_features=log2, min_samples_leaf=2, min_samples_split=2; total time=   0.1s\n",
      "[CV] END max_depth=None, max_features=log2, min_samples_leaf=2, min_samples_split=2; total time=   0.1s\n",
      "[CV] END max_depth=None, max_features=log2, min_samples_leaf=2, min_samples_split=5; total time=   0.1s\n",
      "[CV] END max_depth=None, max_features=log2, min_samples_leaf=2, min_samples_split=5; total time=   0.1s\n",
      "[CV] END max_depth=None, max_features=log2, min_samples_leaf=2, min_samples_split=5; total time=   0.1s\n",
      "[CV] END max_depth=None, max_features=log2, min_samples_leaf=2, min_samples_split=5; total time=   0.1s\n",
      "[CV] END max_depth=None, max_features=log2, min_samples_leaf=2, min_samples_split=5; total time=   0.1s\n",
      "[CV] END max_depth=None, max_features=log2, min_samples_leaf=2, min_samples_split=10; total time=   0.1s\n",
      "[CV] END max_depth=None, max_features=log2, min_samples_leaf=2, min_samples_split=10; total time=   0.1s\n",
      "[CV] END max_depth=None, max_features=log2, min_samples_leaf=2, min_samples_split=10; total time=   0.1s\n",
      "[CV] END max_depth=None, max_features=log2, min_samples_leaf=2, min_samples_split=10; total time=   0.1s\n",
      "[CV] END max_depth=None, max_features=log2, min_samples_leaf=2, min_samples_split=10; total time=   0.1s\n",
      "[CV] END max_depth=None, max_features=log2, min_samples_leaf=4, min_samples_split=2; total time=   0.1s\n",
      "[CV] END max_depth=None, max_features=log2, min_samples_leaf=4, min_samples_split=2; total time=   0.1s\n",
      "[CV] END max_depth=None, max_features=log2, min_samples_leaf=4, min_samples_split=2; total time=   0.1s\n",
      "[CV] END max_depth=None, max_features=log2, min_samples_leaf=4, min_samples_split=2; total time=   0.1s\n",
      "[CV] END max_depth=None, max_features=log2, min_samples_leaf=4, min_samples_split=2; total time=   0.1s\n",
      "[CV] END max_depth=None, max_features=log2, min_samples_leaf=4, min_samples_split=5; total time=   0.1s\n",
      "[CV] END max_depth=None, max_features=log2, min_samples_leaf=4, min_samples_split=5; total time=   0.1s\n",
      "[CV] END max_depth=None, max_features=log2, min_samples_leaf=4, min_samples_split=5; total time=   0.1s\n",
      "[CV] END max_depth=None, max_features=log2, min_samples_leaf=4, min_samples_split=5; total time=   0.1s\n",
      "[CV] END max_depth=None, max_features=log2, min_samples_leaf=4, min_samples_split=5; total time=   0.1s\n",
      "[CV] END max_depth=None, max_features=log2, min_samples_leaf=4, min_samples_split=10; total time=   0.1s\n",
      "[CV] END max_depth=None, max_features=log2, min_samples_leaf=4, min_samples_split=10; total time=   0.1s\n",
      "[CV] END max_depth=None, max_features=log2, min_samples_leaf=4, min_samples_split=10; total time=   0.1s\n",
      "[CV] END max_depth=None, max_features=log2, min_samples_leaf=4, min_samples_split=10; total time=   0.1s\n",
      "[CV] END max_depth=None, max_features=log2, min_samples_leaf=4, min_samples_split=10; total time=   0.1s\n",
      "[CV] END max_depth=10, max_features=None, min_samples_leaf=1, min_samples_split=2; total time=   0.5s\n",
      "[CV] END max_depth=10, max_features=None, min_samples_leaf=1, min_samples_split=2; total time=   0.5s\n",
      "[CV] END max_depth=10, max_features=None, min_samples_leaf=1, min_samples_split=2; total time=   0.5s\n",
      "[CV] END max_depth=10, max_features=None, min_samples_leaf=1, min_samples_split=2; total time=   0.5s\n",
      "[CV] END max_depth=10, max_features=None, min_samples_leaf=1, min_samples_split=2; total time=   0.5s\n",
      "[CV] END max_depth=10, max_features=None, min_samples_leaf=1, min_samples_split=5; total time=   0.5s\n",
      "[CV] END max_depth=10, max_features=None, min_samples_leaf=1, min_samples_split=5; total time=   0.5s\n",
      "[CV] END max_depth=10, max_features=None, min_samples_leaf=1, min_samples_split=5; total time=   0.5s\n",
      "[CV] END max_depth=10, max_features=None, min_samples_leaf=1, min_samples_split=5; total time=   0.5s\n",
      "[CV] END max_depth=10, max_features=None, min_samples_leaf=1, min_samples_split=5; total time=   0.5s\n",
      "[CV] END max_depth=10, max_features=None, min_samples_leaf=1, min_samples_split=10; total time=   0.5s\n",
      "[CV] END max_depth=10, max_features=None, min_samples_leaf=1, min_samples_split=10; total time=   0.5s\n",
      "[CV] END max_depth=10, max_features=None, min_samples_leaf=1, min_samples_split=10; total time=   0.5s\n",
      "[CV] END max_depth=10, max_features=None, min_samples_leaf=1, min_samples_split=10; total time=   0.5s\n",
      "[CV] END max_depth=10, max_features=None, min_samples_leaf=1, min_samples_split=10; total time=   0.5s\n",
      "[CV] END max_depth=10, max_features=None, min_samples_leaf=2, min_samples_split=2; total time=   0.5s\n",
      "[CV] END max_depth=10, max_features=None, min_samples_leaf=2, min_samples_split=2; total time=   0.5s\n",
      "[CV] END max_depth=10, max_features=None, min_samples_leaf=2, min_samples_split=2; total time=   0.5s\n",
      "[CV] END max_depth=10, max_features=None, min_samples_leaf=2, min_samples_split=2; total time=   0.5s\n",
      "[CV] END max_depth=10, max_features=None, min_samples_leaf=2, min_samples_split=2; total time=   0.5s\n",
      "[CV] END max_depth=10, max_features=None, min_samples_leaf=2, min_samples_split=5; total time=   0.5s\n",
      "[CV] END max_depth=10, max_features=None, min_samples_leaf=2, min_samples_split=5; total time=   0.5s\n",
      "[CV] END max_depth=10, max_features=None, min_samples_leaf=2, min_samples_split=5; total time=   0.5s\n",
      "[CV] END max_depth=10, max_features=None, min_samples_leaf=2, min_samples_split=5; total time=   0.5s\n",
      "[CV] END max_depth=10, max_features=None, min_samples_leaf=2, min_samples_split=5; total time=   0.5s\n",
      "[CV] END max_depth=10, max_features=None, min_samples_leaf=2, min_samples_split=10; total time=   0.5s\n",
      "[CV] END max_depth=10, max_features=None, min_samples_leaf=2, min_samples_split=10; total time=   0.5s\n",
      "[CV] END max_depth=10, max_features=None, min_samples_leaf=2, min_samples_split=10; total time=   0.5s\n",
      "[CV] END max_depth=10, max_features=None, min_samples_leaf=2, min_samples_split=10; total time=   0.5s\n",
      "[CV] END max_depth=10, max_features=None, min_samples_leaf=2, min_samples_split=10; total time=   0.5s\n",
      "[CV] END max_depth=10, max_features=None, min_samples_leaf=4, min_samples_split=2; total time=   0.5s\n",
      "[CV] END max_depth=10, max_features=None, min_samples_leaf=4, min_samples_split=2; total time=   0.5s\n",
      "[CV] END max_depth=10, max_features=None, min_samples_leaf=4, min_samples_split=2; total time=   0.5s\n",
      "[CV] END max_depth=10, max_features=None, min_samples_leaf=4, min_samples_split=2; total time=   0.5s\n",
      "[CV] END max_depth=10, max_features=None, min_samples_leaf=4, min_samples_split=2; total time=   0.5s\n",
      "[CV] END max_depth=10, max_features=None, min_samples_leaf=4, min_samples_split=5; total time=   0.5s\n",
      "[CV] END max_depth=10, max_features=None, min_samples_leaf=4, min_samples_split=5; total time=   0.5s\n",
      "[CV] END max_depth=10, max_features=None, min_samples_leaf=4, min_samples_split=5; total time=   0.5s\n",
      "[CV] END max_depth=10, max_features=None, min_samples_leaf=4, min_samples_split=5; total time=   0.5s\n",
      "[CV] END max_depth=10, max_features=None, min_samples_leaf=4, min_samples_split=5; total time=   0.5s\n",
      "[CV] END max_depth=10, max_features=None, min_samples_leaf=4, min_samples_split=10; total time=   0.5s\n",
      "[CV] END max_depth=10, max_features=None, min_samples_leaf=4, min_samples_split=10; total time=   0.5s\n",
      "[CV] END max_depth=10, max_features=None, min_samples_leaf=4, min_samples_split=10; total time=   0.5s\n",
      "[CV] END max_depth=10, max_features=None, min_samples_leaf=4, min_samples_split=10; total time=   0.5s\n",
      "[CV] END max_depth=10, max_features=None, min_samples_leaf=4, min_samples_split=10; total time=   0.5s\n",
      "[CV] END max_depth=10, max_features=sqrt, min_samples_leaf=1, min_samples_split=2; total time=   0.1s\n",
      "[CV] END max_depth=10, max_features=sqrt, min_samples_leaf=1, min_samples_split=2; total time=   0.1s\n",
      "[CV] END max_depth=10, max_features=sqrt, min_samples_leaf=1, min_samples_split=2; total time=   0.1s\n",
      "[CV] END max_depth=10, max_features=sqrt, min_samples_leaf=1, min_samples_split=2; total time=   0.1s\n",
      "[CV] END max_depth=10, max_features=sqrt, min_samples_leaf=1, min_samples_split=2; total time=   0.1s\n"
     ]
    },
    {
     "name": "stdout",
     "output_type": "stream",
     "text": [
      "[CV] END max_depth=10, max_features=sqrt, min_samples_leaf=1, min_samples_split=5; total time=   0.1s\n",
      "[CV] END max_depth=10, max_features=sqrt, min_samples_leaf=1, min_samples_split=5; total time=   0.1s\n",
      "[CV] END max_depth=10, max_features=sqrt, min_samples_leaf=1, min_samples_split=5; total time=   0.1s\n",
      "[CV] END max_depth=10, max_features=sqrt, min_samples_leaf=1, min_samples_split=5; total time=   0.1s\n",
      "[CV] END max_depth=10, max_features=sqrt, min_samples_leaf=1, min_samples_split=5; total time=   0.1s\n",
      "[CV] END max_depth=10, max_features=sqrt, min_samples_leaf=1, min_samples_split=10; total time=   0.1s\n",
      "[CV] END max_depth=10, max_features=sqrt, min_samples_leaf=1, min_samples_split=10; total time=   0.1s\n",
      "[CV] END max_depth=10, max_features=sqrt, min_samples_leaf=1, min_samples_split=10; total time=   0.1s\n",
      "[CV] END max_depth=10, max_features=sqrt, min_samples_leaf=1, min_samples_split=10; total time=   0.1s\n",
      "[CV] END max_depth=10, max_features=sqrt, min_samples_leaf=1, min_samples_split=10; total time=   0.1s\n",
      "[CV] END max_depth=10, max_features=sqrt, min_samples_leaf=2, min_samples_split=2; total time=   0.1s\n",
      "[CV] END max_depth=10, max_features=sqrt, min_samples_leaf=2, min_samples_split=2; total time=   0.1s\n",
      "[CV] END max_depth=10, max_features=sqrt, min_samples_leaf=2, min_samples_split=2; total time=   0.1s\n",
      "[CV] END max_depth=10, max_features=sqrt, min_samples_leaf=2, min_samples_split=2; total time=   0.1s\n",
      "[CV] END max_depth=10, max_features=sqrt, min_samples_leaf=2, min_samples_split=2; total time=   0.1s\n",
      "[CV] END max_depth=10, max_features=sqrt, min_samples_leaf=2, min_samples_split=5; total time=   0.1s\n",
      "[CV] END max_depth=10, max_features=sqrt, min_samples_leaf=2, min_samples_split=5; total time=   0.1s\n",
      "[CV] END max_depth=10, max_features=sqrt, min_samples_leaf=2, min_samples_split=5; total time=   0.1s\n",
      "[CV] END max_depth=10, max_features=sqrt, min_samples_leaf=2, min_samples_split=5; total time=   0.1s\n",
      "[CV] END max_depth=10, max_features=sqrt, min_samples_leaf=2, min_samples_split=5; total time=   0.1s\n",
      "[CV] END max_depth=10, max_features=sqrt, min_samples_leaf=2, min_samples_split=10; total time=   0.1s\n",
      "[CV] END max_depth=10, max_features=sqrt, min_samples_leaf=2, min_samples_split=10; total time=   0.1s\n",
      "[CV] END max_depth=10, max_features=sqrt, min_samples_leaf=2, min_samples_split=10; total time=   0.1s\n",
      "[CV] END max_depth=10, max_features=sqrt, min_samples_leaf=2, min_samples_split=10; total time=   0.1s\n",
      "[CV] END max_depth=10, max_features=sqrt, min_samples_leaf=2, min_samples_split=10; total time=   0.1s\n",
      "[CV] END max_depth=10, max_features=sqrt, min_samples_leaf=4, min_samples_split=2; total time=   0.1s\n",
      "[CV] END max_depth=10, max_features=sqrt, min_samples_leaf=4, min_samples_split=2; total time=   0.1s\n",
      "[CV] END max_depth=10, max_features=sqrt, min_samples_leaf=4, min_samples_split=2; total time=   0.1s\n",
      "[CV] END max_depth=10, max_features=sqrt, min_samples_leaf=4, min_samples_split=2; total time=   0.1s\n",
      "[CV] END max_depth=10, max_features=sqrt, min_samples_leaf=4, min_samples_split=2; total time=   0.1s\n",
      "[CV] END max_depth=10, max_features=sqrt, min_samples_leaf=4, min_samples_split=5; total time=   0.1s\n",
      "[CV] END max_depth=10, max_features=sqrt, min_samples_leaf=4, min_samples_split=5; total time=   0.1s\n",
      "[CV] END max_depth=10, max_features=sqrt, min_samples_leaf=4, min_samples_split=5; total time=   0.1s\n",
      "[CV] END max_depth=10, max_features=sqrt, min_samples_leaf=4, min_samples_split=5; total time=   0.1s\n",
      "[CV] END max_depth=10, max_features=sqrt, min_samples_leaf=4, min_samples_split=5; total time=   0.1s\n",
      "[CV] END max_depth=10, max_features=sqrt, min_samples_leaf=4, min_samples_split=10; total time=   0.1s\n",
      "[CV] END max_depth=10, max_features=sqrt, min_samples_leaf=4, min_samples_split=10; total time=   0.1s\n",
      "[CV] END max_depth=10, max_features=sqrt, min_samples_leaf=4, min_samples_split=10; total time=   0.1s\n",
      "[CV] END max_depth=10, max_features=sqrt, min_samples_leaf=4, min_samples_split=10; total time=   0.1s\n",
      "[CV] END max_depth=10, max_features=sqrt, min_samples_leaf=4, min_samples_split=10; total time=   0.1s\n",
      "[CV] END max_depth=10, max_features=log2, min_samples_leaf=1, min_samples_split=2; total time=   0.1s\n",
      "[CV] END max_depth=10, max_features=log2, min_samples_leaf=1, min_samples_split=2; total time=   0.1s\n",
      "[CV] END max_depth=10, max_features=log2, min_samples_leaf=1, min_samples_split=2; total time=   0.1s\n",
      "[CV] END max_depth=10, max_features=log2, min_samples_leaf=1, min_samples_split=2; total time=   0.1s\n",
      "[CV] END max_depth=10, max_features=log2, min_samples_leaf=1, min_samples_split=2; total time=   0.1s\n",
      "[CV] END max_depth=10, max_features=log2, min_samples_leaf=1, min_samples_split=5; total time=   0.1s\n",
      "[CV] END max_depth=10, max_features=log2, min_samples_leaf=1, min_samples_split=5; total time=   0.1s\n",
      "[CV] END max_depth=10, max_features=log2, min_samples_leaf=1, min_samples_split=5; total time=   0.1s\n",
      "[CV] END max_depth=10, max_features=log2, min_samples_leaf=1, min_samples_split=5; total time=   0.1s\n",
      "[CV] END max_depth=10, max_features=log2, min_samples_leaf=1, min_samples_split=5; total time=   0.1s\n",
      "[CV] END max_depth=10, max_features=log2, min_samples_leaf=1, min_samples_split=10; total time=   0.1s\n",
      "[CV] END max_depth=10, max_features=log2, min_samples_leaf=1, min_samples_split=10; total time=   0.1s\n",
      "[CV] END max_depth=10, max_features=log2, min_samples_leaf=1, min_samples_split=10; total time=   0.1s\n",
      "[CV] END max_depth=10, max_features=log2, min_samples_leaf=1, min_samples_split=10; total time=   0.1s\n",
      "[CV] END max_depth=10, max_features=log2, min_samples_leaf=1, min_samples_split=10; total time=   0.1s\n",
      "[CV] END max_depth=10, max_features=log2, min_samples_leaf=2, min_samples_split=2; total time=   0.1s\n",
      "[CV] END max_depth=10, max_features=log2, min_samples_leaf=2, min_samples_split=2; total time=   0.1s\n",
      "[CV] END max_depth=10, max_features=log2, min_samples_leaf=2, min_samples_split=2; total time=   0.1s\n",
      "[CV] END max_depth=10, max_features=log2, min_samples_leaf=2, min_samples_split=2; total time=   0.1s\n",
      "[CV] END max_depth=10, max_features=log2, min_samples_leaf=2, min_samples_split=2; total time=   0.1s\n",
      "[CV] END max_depth=10, max_features=log2, min_samples_leaf=2, min_samples_split=5; total time=   0.1s\n",
      "[CV] END max_depth=10, max_features=log2, min_samples_leaf=2, min_samples_split=5; total time=   0.1s\n",
      "[CV] END max_depth=10, max_features=log2, min_samples_leaf=2, min_samples_split=5; total time=   0.1s\n",
      "[CV] END max_depth=10, max_features=log2, min_samples_leaf=2, min_samples_split=5; total time=   0.1s\n",
      "[CV] END max_depth=10, max_features=log2, min_samples_leaf=2, min_samples_split=5; total time=   0.1s\n",
      "[CV] END max_depth=10, max_features=log2, min_samples_leaf=2, min_samples_split=10; total time=   0.1s\n",
      "[CV] END max_depth=10, max_features=log2, min_samples_leaf=2, min_samples_split=10; total time=   0.1s\n",
      "[CV] END max_depth=10, max_features=log2, min_samples_leaf=2, min_samples_split=10; total time=   0.1s\n",
      "[CV] END max_depth=10, max_features=log2, min_samples_leaf=2, min_samples_split=10; total time=   0.1s\n",
      "[CV] END max_depth=10, max_features=log2, min_samples_leaf=2, min_samples_split=10; total time=   0.1s\n",
      "[CV] END max_depth=10, max_features=log2, min_samples_leaf=4, min_samples_split=2; total time=   0.1s\n",
      "[CV] END max_depth=10, max_features=log2, min_samples_leaf=4, min_samples_split=2; total time=   0.1s\n",
      "[CV] END max_depth=10, max_features=log2, min_samples_leaf=4, min_samples_split=2; total time=   0.1s\n",
      "[CV] END max_depth=10, max_features=log2, min_samples_leaf=4, min_samples_split=2; total time=   0.1s\n",
      "[CV] END max_depth=10, max_features=log2, min_samples_leaf=4, min_samples_split=2; total time=   0.1s\n",
      "[CV] END max_depth=10, max_features=log2, min_samples_leaf=4, min_samples_split=5; total time=   0.1s\n",
      "[CV] END max_depth=10, max_features=log2, min_samples_leaf=4, min_samples_split=5; total time=   0.1s\n",
      "[CV] END max_depth=10, max_features=log2, min_samples_leaf=4, min_samples_split=5; total time=   0.1s\n",
      "[CV] END max_depth=10, max_features=log2, min_samples_leaf=4, min_samples_split=5; total time=   0.1s\n",
      "[CV] END max_depth=10, max_features=log2, min_samples_leaf=4, min_samples_split=5; total time=   0.1s\n",
      "[CV] END max_depth=10, max_features=log2, min_samples_leaf=4, min_samples_split=10; total time=   0.1s\n",
      "[CV] END max_depth=10, max_features=log2, min_samples_leaf=4, min_samples_split=10; total time=   0.1s\n",
      "[CV] END max_depth=10, max_features=log2, min_samples_leaf=4, min_samples_split=10; total time=   0.1s\n"
     ]
    },
    {
     "name": "stdout",
     "output_type": "stream",
     "text": [
      "[CV] END max_depth=10, max_features=log2, min_samples_leaf=4, min_samples_split=10; total time=   0.1s\n",
      "[CV] END max_depth=10, max_features=log2, min_samples_leaf=4, min_samples_split=10; total time=   0.1s\n",
      "[CV] END max_depth=20, max_features=None, min_samples_leaf=1, min_samples_split=2; total time=   0.8s\n",
      "[CV] END max_depth=20, max_features=None, min_samples_leaf=1, min_samples_split=2; total time=   0.8s\n",
      "[CV] END max_depth=20, max_features=None, min_samples_leaf=1, min_samples_split=2; total time=   0.8s\n",
      "[CV] END max_depth=20, max_features=None, min_samples_leaf=1, min_samples_split=2; total time=   0.8s\n",
      "[CV] END max_depth=20, max_features=None, min_samples_leaf=1, min_samples_split=2; total time=   0.9s\n",
      "[CV] END max_depth=20, max_features=None, min_samples_leaf=1, min_samples_split=5; total time=   0.8s\n",
      "[CV] END max_depth=20, max_features=None, min_samples_leaf=1, min_samples_split=5; total time=   0.8s\n",
      "[CV] END max_depth=20, max_features=None, min_samples_leaf=1, min_samples_split=5; total time=   0.8s\n",
      "[CV] END max_depth=20, max_features=None, min_samples_leaf=1, min_samples_split=5; total time=   0.8s\n",
      "[CV] END max_depth=20, max_features=None, min_samples_leaf=1, min_samples_split=5; total time=   0.8s\n",
      "[CV] END max_depth=20, max_features=None, min_samples_leaf=1, min_samples_split=10; total time=   0.8s\n",
      "[CV] END max_depth=20, max_features=None, min_samples_leaf=1, min_samples_split=10; total time=   0.8s\n",
      "[CV] END max_depth=20, max_features=None, min_samples_leaf=1, min_samples_split=10; total time=   0.8s\n",
      "[CV] END max_depth=20, max_features=None, min_samples_leaf=1, min_samples_split=10; total time=   0.8s\n",
      "[CV] END max_depth=20, max_features=None, min_samples_leaf=1, min_samples_split=10; total time=   0.9s\n",
      "[CV] END max_depth=20, max_features=None, min_samples_leaf=2, min_samples_split=2; total time=   0.8s\n",
      "[CV] END max_depth=20, max_features=None, min_samples_leaf=2, min_samples_split=2; total time=   0.8s\n",
      "[CV] END max_depth=20, max_features=None, min_samples_leaf=2, min_samples_split=2; total time=   0.8s\n",
      "[CV] END max_depth=20, max_features=None, min_samples_leaf=2, min_samples_split=2; total time=   0.8s\n",
      "[CV] END max_depth=20, max_features=None, min_samples_leaf=2, min_samples_split=2; total time=   0.8s\n",
      "[CV] END max_depth=20, max_features=None, min_samples_leaf=2, min_samples_split=5; total time=   0.8s\n",
      "[CV] END max_depth=20, max_features=None, min_samples_leaf=2, min_samples_split=5; total time=   0.8s\n",
      "[CV] END max_depth=20, max_features=None, min_samples_leaf=2, min_samples_split=5; total time=   0.8s\n",
      "[CV] END max_depth=20, max_features=None, min_samples_leaf=2, min_samples_split=5; total time=   0.8s\n",
      "[CV] END max_depth=20, max_features=None, min_samples_leaf=2, min_samples_split=5; total time=   0.8s\n",
      "[CV] END max_depth=20, max_features=None, min_samples_leaf=2, min_samples_split=10; total time=   0.8s\n",
      "[CV] END max_depth=20, max_features=None, min_samples_leaf=2, min_samples_split=10; total time=   0.8s\n",
      "[CV] END max_depth=20, max_features=None, min_samples_leaf=2, min_samples_split=10; total time=   0.8s\n",
      "[CV] END max_depth=20, max_features=None, min_samples_leaf=2, min_samples_split=10; total time=   0.8s\n",
      "[CV] END max_depth=20, max_features=None, min_samples_leaf=2, min_samples_split=10; total time=   0.8s\n",
      "[CV] END max_depth=20, max_features=None, min_samples_leaf=4, min_samples_split=2; total time=   0.7s\n",
      "[CV] END max_depth=20, max_features=None, min_samples_leaf=4, min_samples_split=2; total time=   0.8s\n",
      "[CV] END max_depth=20, max_features=None, min_samples_leaf=4, min_samples_split=2; total time=   0.7s\n",
      "[CV] END max_depth=20, max_features=None, min_samples_leaf=4, min_samples_split=2; total time=   0.7s\n",
      "[CV] END max_depth=20, max_features=None, min_samples_leaf=4, min_samples_split=2; total time=   0.8s\n",
      "[CV] END max_depth=20, max_features=None, min_samples_leaf=4, min_samples_split=5; total time=   0.8s\n",
      "[CV] END max_depth=20, max_features=None, min_samples_leaf=4, min_samples_split=5; total time=   0.8s\n",
      "[CV] END max_depth=20, max_features=None, min_samples_leaf=4, min_samples_split=5; total time=   0.7s\n",
      "[CV] END max_depth=20, max_features=None, min_samples_leaf=4, min_samples_split=5; total time=   0.7s\n",
      "[CV] END max_depth=20, max_features=None, min_samples_leaf=4, min_samples_split=5; total time=   0.8s\n",
      "[CV] END max_depth=20, max_features=None, min_samples_leaf=4, min_samples_split=10; total time=   0.8s\n",
      "[CV] END max_depth=20, max_features=None, min_samples_leaf=4, min_samples_split=10; total time=   0.8s\n",
      "[CV] END max_depth=20, max_features=None, min_samples_leaf=4, min_samples_split=10; total time=   0.7s\n",
      "[CV] END max_depth=20, max_features=None, min_samples_leaf=4, min_samples_split=10; total time=   0.7s\n",
      "[CV] END max_depth=20, max_features=None, min_samples_leaf=4, min_samples_split=10; total time=   0.8s\n",
      "[CV] END max_depth=20, max_features=sqrt, min_samples_leaf=1, min_samples_split=2; total time=   0.1s\n",
      "[CV] END max_depth=20, max_features=sqrt, min_samples_leaf=1, min_samples_split=2; total time=   0.1s\n",
      "[CV] END max_depth=20, max_features=sqrt, min_samples_leaf=1, min_samples_split=2; total time=   0.1s\n",
      "[CV] END max_depth=20, max_features=sqrt, min_samples_leaf=1, min_samples_split=2; total time=   0.1s\n",
      "[CV] END max_depth=20, max_features=sqrt, min_samples_leaf=1, min_samples_split=2; total time=   0.1s\n",
      "[CV] END max_depth=20, max_features=sqrt, min_samples_leaf=1, min_samples_split=5; total time=   0.1s\n",
      "[CV] END max_depth=20, max_features=sqrt, min_samples_leaf=1, min_samples_split=5; total time=   0.1s\n",
      "[CV] END max_depth=20, max_features=sqrt, min_samples_leaf=1, min_samples_split=5; total time=   0.1s\n",
      "[CV] END max_depth=20, max_features=sqrt, min_samples_leaf=1, min_samples_split=5; total time=   0.1s\n",
      "[CV] END max_depth=20, max_features=sqrt, min_samples_leaf=1, min_samples_split=5; total time=   0.1s\n",
      "[CV] END max_depth=20, max_features=sqrt, min_samples_leaf=1, min_samples_split=10; total time=   0.1s\n",
      "[CV] END max_depth=20, max_features=sqrt, min_samples_leaf=1, min_samples_split=10; total time=   0.1s\n",
      "[CV] END max_depth=20, max_features=sqrt, min_samples_leaf=1, min_samples_split=10; total time=   0.1s\n",
      "[CV] END max_depth=20, max_features=sqrt, min_samples_leaf=1, min_samples_split=10; total time=   0.1s\n",
      "[CV] END max_depth=20, max_features=sqrt, min_samples_leaf=1, min_samples_split=10; total time=   0.1s\n",
      "[CV] END max_depth=20, max_features=sqrt, min_samples_leaf=2, min_samples_split=2; total time=   0.1s\n",
      "[CV] END max_depth=20, max_features=sqrt, min_samples_leaf=2, min_samples_split=2; total time=   0.1s\n",
      "[CV] END max_depth=20, max_features=sqrt, min_samples_leaf=2, min_samples_split=2; total time=   0.1s\n",
      "[CV] END max_depth=20, max_features=sqrt, min_samples_leaf=2, min_samples_split=2; total time=   0.1s\n",
      "[CV] END max_depth=20, max_features=sqrt, min_samples_leaf=2, min_samples_split=2; total time=   0.1s\n",
      "[CV] END max_depth=20, max_features=sqrt, min_samples_leaf=2, min_samples_split=5; total time=   0.1s\n",
      "[CV] END max_depth=20, max_features=sqrt, min_samples_leaf=2, min_samples_split=5; total time=   0.1s\n",
      "[CV] END max_depth=20, max_features=sqrt, min_samples_leaf=2, min_samples_split=5; total time=   0.1s\n",
      "[CV] END max_depth=20, max_features=sqrt, min_samples_leaf=2, min_samples_split=5; total time=   0.1s\n",
      "[CV] END max_depth=20, max_features=sqrt, min_samples_leaf=2, min_samples_split=5; total time=   0.1s\n",
      "[CV] END max_depth=20, max_features=sqrt, min_samples_leaf=2, min_samples_split=10; total time=   0.1s\n",
      "[CV] END max_depth=20, max_features=sqrt, min_samples_leaf=2, min_samples_split=10; total time=   0.1s\n",
      "[CV] END max_depth=20, max_features=sqrt, min_samples_leaf=2, min_samples_split=10; total time=   0.1s\n",
      "[CV] END max_depth=20, max_features=sqrt, min_samples_leaf=2, min_samples_split=10; total time=   0.1s\n",
      "[CV] END max_depth=20, max_features=sqrt, min_samples_leaf=2, min_samples_split=10; total time=   0.1s\n",
      "[CV] END max_depth=20, max_features=sqrt, min_samples_leaf=4, min_samples_split=2; total time=   0.1s\n",
      "[CV] END max_depth=20, max_features=sqrt, min_samples_leaf=4, min_samples_split=2; total time=   0.1s\n",
      "[CV] END max_depth=20, max_features=sqrt, min_samples_leaf=4, min_samples_split=2; total time=   0.1s\n",
      "[CV] END max_depth=20, max_features=sqrt, min_samples_leaf=4, min_samples_split=2; total time=   0.1s\n",
      "[CV] END max_depth=20, max_features=sqrt, min_samples_leaf=4, min_samples_split=2; total time=   0.1s\n"
     ]
    },
    {
     "name": "stdout",
     "output_type": "stream",
     "text": [
      "[CV] END max_depth=20, max_features=sqrt, min_samples_leaf=4, min_samples_split=5; total time=   0.1s\n",
      "[CV] END max_depth=20, max_features=sqrt, min_samples_leaf=4, min_samples_split=5; total time=   0.1s\n",
      "[CV] END max_depth=20, max_features=sqrt, min_samples_leaf=4, min_samples_split=5; total time=   0.1s\n",
      "[CV] END max_depth=20, max_features=sqrt, min_samples_leaf=4, min_samples_split=5; total time=   0.1s\n",
      "[CV] END max_depth=20, max_features=sqrt, min_samples_leaf=4, min_samples_split=5; total time=   0.1s\n",
      "[CV] END max_depth=20, max_features=sqrt, min_samples_leaf=4, min_samples_split=10; total time=   0.1s\n",
      "[CV] END max_depth=20, max_features=sqrt, min_samples_leaf=4, min_samples_split=10; total time=   0.1s\n",
      "[CV] END max_depth=20, max_features=sqrt, min_samples_leaf=4, min_samples_split=10; total time=   0.1s\n",
      "[CV] END max_depth=20, max_features=sqrt, min_samples_leaf=4, min_samples_split=10; total time=   0.1s\n",
      "[CV] END max_depth=20, max_features=sqrt, min_samples_leaf=4, min_samples_split=10; total time=   0.1s\n",
      "[CV] END max_depth=20, max_features=log2, min_samples_leaf=1, min_samples_split=2; total time=   0.1s\n",
      "[CV] END max_depth=20, max_features=log2, min_samples_leaf=1, min_samples_split=2; total time=   0.1s\n",
      "[CV] END max_depth=20, max_features=log2, min_samples_leaf=1, min_samples_split=2; total time=   0.1s\n",
      "[CV] END max_depth=20, max_features=log2, min_samples_leaf=1, min_samples_split=2; total time=   0.1s\n",
      "[CV] END max_depth=20, max_features=log2, min_samples_leaf=1, min_samples_split=2; total time=   0.1s\n",
      "[CV] END max_depth=20, max_features=log2, min_samples_leaf=1, min_samples_split=5; total time=   0.1s\n",
      "[CV] END max_depth=20, max_features=log2, min_samples_leaf=1, min_samples_split=5; total time=   0.1s\n",
      "[CV] END max_depth=20, max_features=log2, min_samples_leaf=1, min_samples_split=5; total time=   0.1s\n",
      "[CV] END max_depth=20, max_features=log2, min_samples_leaf=1, min_samples_split=5; total time=   0.1s\n",
      "[CV] END max_depth=20, max_features=log2, min_samples_leaf=1, min_samples_split=5; total time=   0.1s\n",
      "[CV] END max_depth=20, max_features=log2, min_samples_leaf=1, min_samples_split=10; total time=   0.1s\n",
      "[CV] END max_depth=20, max_features=log2, min_samples_leaf=1, min_samples_split=10; total time=   0.1s\n",
      "[CV] END max_depth=20, max_features=log2, min_samples_leaf=1, min_samples_split=10; total time=   0.1s\n",
      "[CV] END max_depth=20, max_features=log2, min_samples_leaf=1, min_samples_split=10; total time=   0.1s\n",
      "[CV] END max_depth=20, max_features=log2, min_samples_leaf=1, min_samples_split=10; total time=   0.1s\n",
      "[CV] END max_depth=20, max_features=log2, min_samples_leaf=2, min_samples_split=2; total time=   0.1s\n",
      "[CV] END max_depth=20, max_features=log2, min_samples_leaf=2, min_samples_split=2; total time=   0.1s\n",
      "[CV] END max_depth=20, max_features=log2, min_samples_leaf=2, min_samples_split=2; total time=   0.1s\n",
      "[CV] END max_depth=20, max_features=log2, min_samples_leaf=2, min_samples_split=2; total time=   0.1s\n",
      "[CV] END max_depth=20, max_features=log2, min_samples_leaf=2, min_samples_split=2; total time=   0.1s\n",
      "[CV] END max_depth=20, max_features=log2, min_samples_leaf=2, min_samples_split=5; total time=   0.1s\n",
      "[CV] END max_depth=20, max_features=log2, min_samples_leaf=2, min_samples_split=5; total time=   0.1s\n",
      "[CV] END max_depth=20, max_features=log2, min_samples_leaf=2, min_samples_split=5; total time=   0.1s\n",
      "[CV] END max_depth=20, max_features=log2, min_samples_leaf=2, min_samples_split=5; total time=   0.1s\n",
      "[CV] END max_depth=20, max_features=log2, min_samples_leaf=2, min_samples_split=5; total time=   0.1s\n",
      "[CV] END max_depth=20, max_features=log2, min_samples_leaf=2, min_samples_split=10; total time=   0.1s\n",
      "[CV] END max_depth=20, max_features=log2, min_samples_leaf=2, min_samples_split=10; total time=   0.1s\n",
      "[CV] END max_depth=20, max_features=log2, min_samples_leaf=2, min_samples_split=10; total time=   0.1s\n",
      "[CV] END max_depth=20, max_features=log2, min_samples_leaf=2, min_samples_split=10; total time=   0.1s\n",
      "[CV] END max_depth=20, max_features=log2, min_samples_leaf=2, min_samples_split=10; total time=   0.1s\n",
      "[CV] END max_depth=20, max_features=log2, min_samples_leaf=4, min_samples_split=2; total time=   0.1s\n",
      "[CV] END max_depth=20, max_features=log2, min_samples_leaf=4, min_samples_split=2; total time=   0.1s\n",
      "[CV] END max_depth=20, max_features=log2, min_samples_leaf=4, min_samples_split=2; total time=   0.1s\n",
      "[CV] END max_depth=20, max_features=log2, min_samples_leaf=4, min_samples_split=2; total time=   0.1s\n",
      "[CV] END max_depth=20, max_features=log2, min_samples_leaf=4, min_samples_split=2; total time=   0.1s\n",
      "[CV] END max_depth=20, max_features=log2, min_samples_leaf=4, min_samples_split=5; total time=   0.1s\n",
      "[CV] END max_depth=20, max_features=log2, min_samples_leaf=4, min_samples_split=5; total time=   0.1s\n",
      "[CV] END max_depth=20, max_features=log2, min_samples_leaf=4, min_samples_split=5; total time=   0.1s\n",
      "[CV] END max_depth=20, max_features=log2, min_samples_leaf=4, min_samples_split=5; total time=   0.1s\n",
      "[CV] END max_depth=20, max_features=log2, min_samples_leaf=4, min_samples_split=5; total time=   0.1s\n",
      "[CV] END max_depth=20, max_features=log2, min_samples_leaf=4, min_samples_split=10; total time=   0.1s\n",
      "[CV] END max_depth=20, max_features=log2, min_samples_leaf=4, min_samples_split=10; total time=   0.1s\n",
      "[CV] END max_depth=20, max_features=log2, min_samples_leaf=4, min_samples_split=10; total time=   0.1s\n",
      "[CV] END max_depth=20, max_features=log2, min_samples_leaf=4, min_samples_split=10; total time=   0.1s\n",
      "[CV] END max_depth=20, max_features=log2, min_samples_leaf=4, min_samples_split=10; total time=   0.1s\n",
      "[CV] END max_depth=30, max_features=None, min_samples_leaf=1, min_samples_split=2; total time=   0.9s\n",
      "[CV] END max_depth=30, max_features=None, min_samples_leaf=1, min_samples_split=2; total time=   0.9s\n",
      "[CV] END max_depth=30, max_features=None, min_samples_leaf=1, min_samples_split=2; total time=   0.9s\n",
      "[CV] END max_depth=30, max_features=None, min_samples_leaf=1, min_samples_split=2; total time=   0.9s\n",
      "[CV] END max_depth=30, max_features=None, min_samples_leaf=1, min_samples_split=2; total time=   1.0s\n",
      "[CV] END max_depth=30, max_features=None, min_samples_leaf=1, min_samples_split=5; total time=   0.9s\n",
      "[CV] END max_depth=30, max_features=None, min_samples_leaf=1, min_samples_split=5; total time=   0.9s\n",
      "[CV] END max_depth=30, max_features=None, min_samples_leaf=1, min_samples_split=5; total time=   0.9s\n",
      "[CV] END max_depth=30, max_features=None, min_samples_leaf=1, min_samples_split=5; total time=   0.9s\n",
      "[CV] END max_depth=30, max_features=None, min_samples_leaf=1, min_samples_split=5; total time=   1.0s\n",
      "[CV] END max_depth=30, max_features=None, min_samples_leaf=1, min_samples_split=10; total time=   0.9s\n",
      "[CV] END max_depth=30, max_features=None, min_samples_leaf=1, min_samples_split=10; total time=   0.9s\n",
      "[CV] END max_depth=30, max_features=None, min_samples_leaf=1, min_samples_split=10; total time=   0.8s\n",
      "[CV] END max_depth=30, max_features=None, min_samples_leaf=1, min_samples_split=10; total time=   0.9s\n",
      "[CV] END max_depth=30, max_features=None, min_samples_leaf=1, min_samples_split=10; total time=   1.0s\n",
      "[CV] END max_depth=30, max_features=None, min_samples_leaf=2, min_samples_split=2; total time=   0.9s\n",
      "[CV] END max_depth=30, max_features=None, min_samples_leaf=2, min_samples_split=2; total time=   0.9s\n",
      "[CV] END max_depth=30, max_features=None, min_samples_leaf=2, min_samples_split=2; total time=   0.8s\n",
      "[CV] END max_depth=30, max_features=None, min_samples_leaf=2, min_samples_split=2; total time=   0.9s\n",
      "[CV] END max_depth=30, max_features=None, min_samples_leaf=2, min_samples_split=2; total time=   1.0s\n",
      "[CV] END max_depth=30, max_features=None, min_samples_leaf=2, min_samples_split=5; total time=   0.9s\n",
      "[CV] END max_depth=30, max_features=None, min_samples_leaf=2, min_samples_split=5; total time=   0.9s\n",
      "[CV] END max_depth=30, max_features=None, min_samples_leaf=2, min_samples_split=5; total time=   0.8s\n",
      "[CV] END max_depth=30, max_features=None, min_samples_leaf=2, min_samples_split=5; total time=   0.9s\n",
      "[CV] END max_depth=30, max_features=None, min_samples_leaf=2, min_samples_split=5; total time=   1.0s\n",
      "[CV] END max_depth=30, max_features=None, min_samples_leaf=2, min_samples_split=10; total time=   0.9s\n"
     ]
    },
    {
     "name": "stdout",
     "output_type": "stream",
     "text": [
      "[CV] END max_depth=30, max_features=None, min_samples_leaf=2, min_samples_split=10; total time=   0.9s\n",
      "[CV] END max_depth=30, max_features=None, min_samples_leaf=2, min_samples_split=10; total time=   0.8s\n",
      "[CV] END max_depth=30, max_features=None, min_samples_leaf=2, min_samples_split=10; total time=   0.8s\n",
      "[CV] END max_depth=30, max_features=None, min_samples_leaf=2, min_samples_split=10; total time=   0.9s\n",
      "[CV] END max_depth=30, max_features=None, min_samples_leaf=4, min_samples_split=2; total time=   0.8s\n",
      "[CV] END max_depth=30, max_features=None, min_samples_leaf=4, min_samples_split=2; total time=   0.9s\n",
      "[CV] END max_depth=30, max_features=None, min_samples_leaf=4, min_samples_split=2; total time=   0.8s\n",
      "[CV] END max_depth=30, max_features=None, min_samples_leaf=4, min_samples_split=2; total time=   0.8s\n",
      "[CV] END max_depth=30, max_features=None, min_samples_leaf=4, min_samples_split=2; total time=   0.9s\n",
      "[CV] END max_depth=30, max_features=None, min_samples_leaf=4, min_samples_split=5; total time=   0.8s\n",
      "[CV] END max_depth=30, max_features=None, min_samples_leaf=4, min_samples_split=5; total time=   0.8s\n",
      "[CV] END max_depth=30, max_features=None, min_samples_leaf=4, min_samples_split=5; total time=   0.8s\n",
      "[CV] END max_depth=30, max_features=None, min_samples_leaf=4, min_samples_split=5; total time=   0.8s\n",
      "[CV] END max_depth=30, max_features=None, min_samples_leaf=4, min_samples_split=5; total time=   0.9s\n",
      "[CV] END max_depth=30, max_features=None, min_samples_leaf=4, min_samples_split=10; total time=   0.8s\n",
      "[CV] END max_depth=30, max_features=None, min_samples_leaf=4, min_samples_split=10; total time=   0.8s\n",
      "[CV] END max_depth=30, max_features=None, min_samples_leaf=4, min_samples_split=10; total time=   0.8s\n",
      "[CV] END max_depth=30, max_features=None, min_samples_leaf=4, min_samples_split=10; total time=   0.8s\n",
      "[CV] END max_depth=30, max_features=None, min_samples_leaf=4, min_samples_split=10; total time=   0.9s\n",
      "[CV] END max_depth=30, max_features=sqrt, min_samples_leaf=1, min_samples_split=2; total time=   0.1s\n",
      "[CV] END max_depth=30, max_features=sqrt, min_samples_leaf=1, min_samples_split=2; total time=   0.1s\n",
      "[CV] END max_depth=30, max_features=sqrt, min_samples_leaf=1, min_samples_split=2; total time=   0.1s\n",
      "[CV] END max_depth=30, max_features=sqrt, min_samples_leaf=1, min_samples_split=2; total time=   0.1s\n",
      "[CV] END max_depth=30, max_features=sqrt, min_samples_leaf=1, min_samples_split=2; total time=   0.1s\n",
      "[CV] END max_depth=30, max_features=sqrt, min_samples_leaf=1, min_samples_split=5; total time=   0.1s\n",
      "[CV] END max_depth=30, max_features=sqrt, min_samples_leaf=1, min_samples_split=5; total time=   0.1s\n",
      "[CV] END max_depth=30, max_features=sqrt, min_samples_leaf=1, min_samples_split=5; total time=   0.1s\n",
      "[CV] END max_depth=30, max_features=sqrt, min_samples_leaf=1, min_samples_split=5; total time=   0.1s\n",
      "[CV] END max_depth=30, max_features=sqrt, min_samples_leaf=1, min_samples_split=5; total time=   0.1s\n",
      "[CV] END max_depth=30, max_features=sqrt, min_samples_leaf=1, min_samples_split=10; total time=   0.1s\n",
      "[CV] END max_depth=30, max_features=sqrt, min_samples_leaf=1, min_samples_split=10; total time=   0.1s\n",
      "[CV] END max_depth=30, max_features=sqrt, min_samples_leaf=1, min_samples_split=10; total time=   0.1s\n",
      "[CV] END max_depth=30, max_features=sqrt, min_samples_leaf=1, min_samples_split=10; total time=   0.1s\n",
      "[CV] END max_depth=30, max_features=sqrt, min_samples_leaf=1, min_samples_split=10; total time=   0.1s\n",
      "[CV] END max_depth=30, max_features=sqrt, min_samples_leaf=2, min_samples_split=2; total time=   0.1s\n",
      "[CV] END max_depth=30, max_features=sqrt, min_samples_leaf=2, min_samples_split=2; total time=   0.1s\n",
      "[CV] END max_depth=30, max_features=sqrt, min_samples_leaf=2, min_samples_split=2; total time=   0.1s\n",
      "[CV] END max_depth=30, max_features=sqrt, min_samples_leaf=2, min_samples_split=2; total time=   0.1s\n",
      "[CV] END max_depth=30, max_features=sqrt, min_samples_leaf=2, min_samples_split=2; total time=   0.1s\n",
      "[CV] END max_depth=30, max_features=sqrt, min_samples_leaf=2, min_samples_split=5; total time=   0.1s\n",
      "[CV] END max_depth=30, max_features=sqrt, min_samples_leaf=2, min_samples_split=5; total time=   0.1s\n",
      "[CV] END max_depth=30, max_features=sqrt, min_samples_leaf=2, min_samples_split=5; total time=   0.1s\n",
      "[CV] END max_depth=30, max_features=sqrt, min_samples_leaf=2, min_samples_split=5; total time=   0.1s\n",
      "[CV] END max_depth=30, max_features=sqrt, min_samples_leaf=2, min_samples_split=5; total time=   0.1s\n",
      "[CV] END max_depth=30, max_features=sqrt, min_samples_leaf=2, min_samples_split=10; total time=   0.1s\n",
      "[CV] END max_depth=30, max_features=sqrt, min_samples_leaf=2, min_samples_split=10; total time=   0.1s\n",
      "[CV] END max_depth=30, max_features=sqrt, min_samples_leaf=2, min_samples_split=10; total time=   0.1s\n",
      "[CV] END max_depth=30, max_features=sqrt, min_samples_leaf=2, min_samples_split=10; total time=   0.1s\n",
      "[CV] END max_depth=30, max_features=sqrt, min_samples_leaf=2, min_samples_split=10; total time=   0.1s\n",
      "[CV] END max_depth=30, max_features=sqrt, min_samples_leaf=4, min_samples_split=2; total time=   0.1s\n",
      "[CV] END max_depth=30, max_features=sqrt, min_samples_leaf=4, min_samples_split=2; total time=   0.1s\n",
      "[CV] END max_depth=30, max_features=sqrt, min_samples_leaf=4, min_samples_split=2; total time=   0.1s\n",
      "[CV] END max_depth=30, max_features=sqrt, min_samples_leaf=4, min_samples_split=2; total time=   0.1s\n",
      "[CV] END max_depth=30, max_features=sqrt, min_samples_leaf=4, min_samples_split=2; total time=   0.1s\n",
      "[CV] END max_depth=30, max_features=sqrt, min_samples_leaf=4, min_samples_split=5; total time=   0.1s\n",
      "[CV] END max_depth=30, max_features=sqrt, min_samples_leaf=4, min_samples_split=5; total time=   0.1s\n",
      "[CV] END max_depth=30, max_features=sqrt, min_samples_leaf=4, min_samples_split=5; total time=   0.1s\n",
      "[CV] END max_depth=30, max_features=sqrt, min_samples_leaf=4, min_samples_split=5; total time=   0.1s\n",
      "[CV] END max_depth=30, max_features=sqrt, min_samples_leaf=4, min_samples_split=5; total time=   0.1s\n",
      "[CV] END max_depth=30, max_features=sqrt, min_samples_leaf=4, min_samples_split=10; total time=   0.1s\n",
      "[CV] END max_depth=30, max_features=sqrt, min_samples_leaf=4, min_samples_split=10; total time=   0.1s\n",
      "[CV] END max_depth=30, max_features=sqrt, min_samples_leaf=4, min_samples_split=10; total time=   0.1s\n",
      "[CV] END max_depth=30, max_features=sqrt, min_samples_leaf=4, min_samples_split=10; total time=   0.1s\n",
      "[CV] END max_depth=30, max_features=sqrt, min_samples_leaf=4, min_samples_split=10; total time=   0.1s\n",
      "[CV] END max_depth=30, max_features=log2, min_samples_leaf=1, min_samples_split=2; total time=   0.1s\n",
      "[CV] END max_depth=30, max_features=log2, min_samples_leaf=1, min_samples_split=2; total time=   0.1s\n",
      "[CV] END max_depth=30, max_features=log2, min_samples_leaf=1, min_samples_split=2; total time=   0.1s\n",
      "[CV] END max_depth=30, max_features=log2, min_samples_leaf=1, min_samples_split=2; total time=   0.1s\n",
      "[CV] END max_depth=30, max_features=log2, min_samples_leaf=1, min_samples_split=2; total time=   0.1s\n",
      "[CV] END max_depth=30, max_features=log2, min_samples_leaf=1, min_samples_split=5; total time=   0.1s\n",
      "[CV] END max_depth=30, max_features=log2, min_samples_leaf=1, min_samples_split=5; total time=   0.1s\n",
      "[CV] END max_depth=30, max_features=log2, min_samples_leaf=1, min_samples_split=5; total time=   0.1s\n",
      "[CV] END max_depth=30, max_features=log2, min_samples_leaf=1, min_samples_split=5; total time=   0.1s\n",
      "[CV] END max_depth=30, max_features=log2, min_samples_leaf=1, min_samples_split=5; total time=   0.1s\n",
      "[CV] END max_depth=30, max_features=log2, min_samples_leaf=1, min_samples_split=10; total time=   0.1s\n",
      "[CV] END max_depth=30, max_features=log2, min_samples_leaf=1, min_samples_split=10; total time=   0.1s\n",
      "[CV] END max_depth=30, max_features=log2, min_samples_leaf=1, min_samples_split=10; total time=   0.1s\n",
      "[CV] END max_depth=30, max_features=log2, min_samples_leaf=1, min_samples_split=10; total time=   0.1s\n",
      "[CV] END max_depth=30, max_features=log2, min_samples_leaf=1, min_samples_split=10; total time=   0.1s\n",
      "[CV] END max_depth=30, max_features=log2, min_samples_leaf=2, min_samples_split=2; total time=   0.1s\n",
      "[CV] END max_depth=30, max_features=log2, min_samples_leaf=2, min_samples_split=2; total time=   0.1s\n",
      "[CV] END max_depth=30, max_features=log2, min_samples_leaf=2, min_samples_split=2; total time=   0.1s\n"
     ]
    },
    {
     "name": "stdout",
     "output_type": "stream",
     "text": [
      "[CV] END max_depth=30, max_features=log2, min_samples_leaf=2, min_samples_split=2; total time=   0.1s\n",
      "[CV] END max_depth=30, max_features=log2, min_samples_leaf=2, min_samples_split=2; total time=   0.1s\n",
      "[CV] END max_depth=30, max_features=log2, min_samples_leaf=2, min_samples_split=5; total time=   0.1s\n",
      "[CV] END max_depth=30, max_features=log2, min_samples_leaf=2, min_samples_split=5; total time=   0.1s\n",
      "[CV] END max_depth=30, max_features=log2, min_samples_leaf=2, min_samples_split=5; total time=   0.1s\n",
      "[CV] END max_depth=30, max_features=log2, min_samples_leaf=2, min_samples_split=5; total time=   0.1s\n",
      "[CV] END max_depth=30, max_features=log2, min_samples_leaf=2, min_samples_split=5; total time=   0.1s\n",
      "[CV] END max_depth=30, max_features=log2, min_samples_leaf=2, min_samples_split=10; total time=   0.1s\n",
      "[CV] END max_depth=30, max_features=log2, min_samples_leaf=2, min_samples_split=10; total time=   0.1s\n",
      "[CV] END max_depth=30, max_features=log2, min_samples_leaf=2, min_samples_split=10; total time=   0.1s\n",
      "[CV] END max_depth=30, max_features=log2, min_samples_leaf=2, min_samples_split=10; total time=   0.1s\n",
      "[CV] END max_depth=30, max_features=log2, min_samples_leaf=2, min_samples_split=10; total time=   0.1s\n",
      "[CV] END max_depth=30, max_features=log2, min_samples_leaf=4, min_samples_split=2; total time=   0.1s\n",
      "[CV] END max_depth=30, max_features=log2, min_samples_leaf=4, min_samples_split=2; total time=   0.1s\n",
      "[CV] END max_depth=30, max_features=log2, min_samples_leaf=4, min_samples_split=2; total time=   0.1s\n",
      "[CV] END max_depth=30, max_features=log2, min_samples_leaf=4, min_samples_split=2; total time=   0.1s\n",
      "[CV] END max_depth=30, max_features=log2, min_samples_leaf=4, min_samples_split=2; total time=   0.1s\n",
      "[CV] END max_depth=30, max_features=log2, min_samples_leaf=4, min_samples_split=5; total time=   0.1s\n",
      "[CV] END max_depth=30, max_features=log2, min_samples_leaf=4, min_samples_split=5; total time=   0.1s\n",
      "[CV] END max_depth=30, max_features=log2, min_samples_leaf=4, min_samples_split=5; total time=   0.1s\n",
      "[CV] END max_depth=30, max_features=log2, min_samples_leaf=4, min_samples_split=5; total time=   0.1s\n",
      "[CV] END max_depth=30, max_features=log2, min_samples_leaf=4, min_samples_split=5; total time=   0.1s\n",
      "[CV] END max_depth=30, max_features=log2, min_samples_leaf=4, min_samples_split=10; total time=   0.1s\n",
      "[CV] END max_depth=30, max_features=log2, min_samples_leaf=4, min_samples_split=10; total time=   0.1s\n",
      "[CV] END max_depth=30, max_features=log2, min_samples_leaf=4, min_samples_split=10; total time=   0.1s\n",
      "[CV] END max_depth=30, max_features=log2, min_samples_leaf=4, min_samples_split=10; total time=   0.1s\n",
      "[CV] END max_depth=30, max_features=log2, min_samples_leaf=4, min_samples_split=10; total time=   0.1s\n",
      "sMAPE Scores Rougher: [13.6661201   9.05832411 14.34266606 15.43647879  6.00456121]\n",
      "Mean sMAPE Rougher: 11.701630053703868\n",
      "sMAPE Scores Final: [10.96952634 11.32948702 14.45052695 13.65035382 10.3524935 ]\n",
      "Mean sMAPE Final: 12.150477522955153\n",
      "Final sMAPE: 12.03826565564233\n",
      "Final Model Predictions for Rougher: [86.48176246 85.90652507 86.48176246 ... 85.90652507 84.22290148\n",
      " 92.2563069 ]\n",
      "Final Model Predictions for Final: [67.93357121 67.93357121 67.93357121 ... 69.11692041 72.3762027\n",
      " 72.3762027 ]\n"
     ]
    }
   ],
   "source": [
    "model = DecisionTreeRegressor(random_state=42)\n",
    "\n",
    "param_grid = {\n",
    "    'max_depth': [None, 10, 20, 30],  \n",
    "    'min_samples_split': [2, 5, 10],  \n",
    "    'min_samples_leaf': [1, 2, 4],    \n",
    "    'max_features': [None, 'sqrt', 'log2']  \n",
    "}\n",
    "\n",
    "grid_search = GridSearchCV(estimator=model, param_grid=param_grid, cv=5, n_jobs=-1, verbose=2, scoring=smape_scorer)\n",
    "\n",
    "grid_search.fit(X_train, y_train[\"rougher.output.recovery\"])\n",
    "best_model_rougher = grid_search.best_estimator_\n",
    "\n",
    "scores_rougher = -cross_val_score(best_model_rougher, X_train, y_train[\"rougher.output.recovery\"], cv=5, scoring=smape_scorer)\n",
    "mean_smape_rougher = np.mean(scores_rougher)\n",
    "\n",
    "grid_search.fit(X_train, y_train[\"final.output.recovery\"])\n",
    "best_model_final = grid_search.best_estimator_\n",
    "\n",
    "scores_final = -cross_val_score(best_model_final, X_train, y_train[\"final.output.recovery\"], cv=5, scoring=smape_scorer)\n",
    "mean_smape_final = np.mean(scores_final)\n",
    "\n",
    "print(f\"sMAPE Scores Rougher: {scores_rougher}\")\n",
    "print(f\"Mean sMAPE Rougher: {mean_smape_rougher}\")\n",
    "print(f\"sMAPE Scores Final: {scores_final}\")\n",
    "print(f\"Mean sMAPE Final: {mean_smape_final}\")\n",
    "\n",
    "final_sMAPE = 0.25 * mean_smape_rougher + 0.75 * mean_smape_final\n",
    "print(f\"Final sMAPE: {final_sMAPE}\")\n",
    "\n",
    "best_model_rougher.fit(X_train, y_train[\"rougher.output.recovery\"])\n",
    "y_pred_rougher = best_model_rougher.predict(df_test[features])\n",
    "\n",
    "best_model_final.fit(X_train, y_train[\"final.output.recovery\"])\n",
    "y_pred_final = best_model_final.predict(df_test[features])\n",
    "\n",
    "print(\"Final Model Predictions for Rougher:\", y_pred_rougher)\n",
    "print(\"Final Model Predictions for Final:\", y_pred_final)"
   ]
  },
  {
   "cell_type": "markdown",
   "metadata": {},
   "source": [
    "Using the Decision Tree Algorithim it still has a great accuracy, but not nearly as good as the Random Forest! After testing both of these options it is clear that the Random Forest will work better for our needs!"
   ]
  },
  {
   "cell_type": "markdown",
   "metadata": {},
   "source": [
    "<div class=\"alert alert-danger\" style=\"border-radius: 15px; box-shadow: 4px 4px 4px; border: 1px solid \">\n",
    "<h2>   Reviewer's comment </h2>\n",
    "    \n",
    "- Don't forget to fit the model and calculate smape values :)\n",
    "\n",
    "\n",
    "\n",
    "- According to the task, we need to try different models. Would you please add some other algorithm? \n",
    "\n",
    "\n",
    " \n",
    "\n",
    "</div></div>\n"
   ]
  },
  {
   "cell_type": "markdown",
   "metadata": {},
   "source": [
    "<div class=\"alert alert-danger\" style=\"border-radius: 15px; box-shadow: 4px 4px 4px; border: 1px solid \">\n",
    "<h2>   Reviewer's comment </h2>\n",
    "    \n",
    "Please don't forget to test the best model here. In this section, please make sure you choose the best model (one model) and run the final test using the test subset to evaluate its generalization ability. The results will change :) \n",
    "\n",
    "</div></div>\n"
   ]
  },
  {
   "cell_type": "markdown",
   "metadata": {},
   "source": [
    "So it looks like with calculating the sMAPE our score is 3.68% which is incredibly accrate with very little deviation from the actual data! That being said for our purposes of predicting the accuracy of the metals that we are working with, we have used multiple ways to show that though volitile our process is incredibly accurate and gives us the results we are looking for when purifying Gold or AU. I would recommend procceding with the mining and purification of Gold as stated above."
   ]
  },
  {
   "cell_type": "markdown",
   "metadata": {},
   "source": [
    "<div class=\"alert alert-danger\" style=\"border-radius: 15px; box-shadow: 4px 4px 4px; border: 1px solid \">\n",
    "<h2> Reviewer's comment  </h2>\n",
    "    \n",
    "Please don't forget to add the overall conclusion to your project: what has been done, what can be inferred from the results and what would you recommend? \n",
    "\n",
    "</div>"
   ]
  },
  {
   "cell_type": "markdown",
   "metadata": {},
   "source": [
    "<div style=\"border-radius: 15px; border: 3px solid indigo; padding: 15px;\">\n",
    "<b> Students's comment</b>   I belive I have fixed everything that you have asked for. If not I apologies and will give it another go. Also thank you for your very indepth feed back that has made it incredibly easy to see where I went astray and helped me realize what needed to be done! Thank you so much! - Cory"
   ]
  }
 ],
 "metadata": {
  "ExecuteTimeLog": [
   {
    "duration": 2644,
    "start_time": "2025-03-23T07:22:55.375Z"
   },
   {
    "duration": 639,
    "start_time": "2025-03-23T07:24:21.171Z"
   },
   {
    "duration": 548,
    "start_time": "2025-03-23T07:24:39.381Z"
   },
   {
    "duration": 351,
    "start_time": "2025-03-23T07:26:11.524Z"
   },
   {
    "duration": 7,
    "start_time": "2025-03-23T07:27:09.656Z"
   },
   {
    "duration": 3005,
    "start_time": "2025-03-23T16:53:21.096Z"
   },
   {
    "duration": 834,
    "start_time": "2025-03-23T16:53:24.103Z"
   },
   {
    "duration": 311,
    "start_time": "2025-03-23T16:53:24.938Z"
   },
   {
    "duration": 8,
    "start_time": "2025-03-23T16:54:10.750Z"
   },
   {
    "duration": 17,
    "start_time": "2025-03-23T16:54:13.464Z"
   },
   {
    "duration": 8,
    "start_time": "2025-03-23T16:54:51.801Z"
   },
   {
    "duration": 40,
    "start_time": "2025-03-23T16:55:38.261Z"
   },
   {
    "duration": 8,
    "start_time": "2025-03-23T16:56:02.994Z"
   },
   {
    "duration": 1598,
    "start_time": "2025-03-23T16:58:35.056Z"
   },
   {
    "duration": 1610,
    "start_time": "2025-03-23T16:59:49.970Z"
   },
   {
    "duration": 1585,
    "start_time": "2025-03-23T17:02:09.985Z"
   },
   {
    "duration": 196,
    "start_time": "2025-03-23T17:03:19.211Z"
   },
   {
    "duration": 1014,
    "start_time": "2025-03-23T17:03:26.873Z"
   },
   {
    "duration": 539,
    "start_time": "2025-03-23T17:03:27.889Z"
   },
   {
    "duration": 9,
    "start_time": "2025-03-23T17:03:28.430Z"
   },
   {
    "duration": 7,
    "start_time": "2025-03-23T17:03:28.440Z"
   },
   {
    "duration": 204,
    "start_time": "2025-03-23T17:03:28.470Z"
   },
   {
    "duration": 977,
    "start_time": "2025-03-23T17:03:28.675Z"
   },
   {
    "duration": 982,
    "start_time": "2025-03-23T17:05:53.428Z"
   },
   {
    "duration": 544,
    "start_time": "2025-03-23T17:05:54.412Z"
   },
   {
    "duration": 18,
    "start_time": "2025-03-23T17:05:54.957Z"
   },
   {
    "duration": 8,
    "start_time": "2025-03-23T17:05:54.977Z"
   },
   {
    "duration": 1720,
    "start_time": "2025-03-23T17:05:54.986Z"
   },
   {
    "duration": 233,
    "start_time": "2025-03-23T17:15:19.635Z"
   },
   {
    "duration": 10,
    "start_time": "2025-03-23T17:16:17.419Z"
   },
   {
    "duration": 10,
    "start_time": "2025-03-23T17:19:10.442Z"
   },
   {
    "duration": 11,
    "start_time": "2025-03-23T17:19:38.918Z"
   },
   {
    "duration": 30,
    "start_time": "2025-03-23T17:23:00.215Z"
   },
   {
    "duration": 50,
    "start_time": "2025-03-23T17:23:08.605Z"
   },
   {
    "duration": 3296,
    "start_time": "2025-03-23T20:41:22.057Z"
   },
   {
    "duration": 926,
    "start_time": "2025-03-23T20:41:25.355Z"
   },
   {
    "duration": 13,
    "start_time": "2025-03-23T20:41:26.284Z"
   },
   {
    "duration": 95,
    "start_time": "2025-03-23T20:41:26.300Z"
   },
   {
    "duration": 14,
    "start_time": "2025-03-23T20:41:26.397Z"
   },
   {
    "duration": 9,
    "start_time": "2025-03-23T20:41:26.412Z"
   },
   {
    "duration": 1908,
    "start_time": "2025-03-23T20:41:26.424Z"
   },
   {
    "duration": 1016,
    "start_time": "2025-03-23T20:50:07.396Z"
   },
   {
    "duration": 581,
    "start_time": "2025-03-23T20:50:08.415Z"
   },
   {
    "duration": 12,
    "start_time": "2025-03-23T20:50:09.005Z"
   },
   {
    "duration": 55,
    "start_time": "2025-03-23T20:50:09.020Z"
   },
   {
    "duration": 35,
    "start_time": "2025-03-23T20:50:09.076Z"
   },
   {
    "duration": 6,
    "start_time": "2025-03-23T20:50:09.115Z"
   },
   {
    "duration": 1767,
    "start_time": "2025-03-23T20:50:09.123Z"
   },
   {
    "duration": 3,
    "start_time": "2025-03-23T20:50:10.893Z"
   },
   {
    "duration": 8,
    "start_time": "2025-03-23T20:50:33.301Z"
   },
   {
    "duration": 1064,
    "start_time": "2025-03-23T21:16:32.328Z"
   },
   {
    "duration": 562,
    "start_time": "2025-03-23T21:16:33.395Z"
   },
   {
    "duration": 10,
    "start_time": "2025-03-23T21:16:33.959Z"
   },
   {
    "duration": 72,
    "start_time": "2025-03-23T21:16:33.971Z"
   },
   {
    "duration": 9,
    "start_time": "2025-03-23T21:16:34.045Z"
   },
   {
    "duration": 7,
    "start_time": "2025-03-23T21:16:34.055Z"
   },
   {
    "duration": 1666,
    "start_time": "2025-03-23T21:16:34.064Z"
   },
   {
    "duration": 39888,
    "start_time": "2025-03-23T21:16:35.732Z"
   },
   {
    "duration": 39762,
    "start_time": "2025-03-23T21:19:57.788Z"
   },
   {
    "duration": 199819,
    "start_time": "2025-03-23T21:21:43.196Z"
   },
   {
    "duration": 1052,
    "start_time": "2025-03-23T21:32:40.349Z"
   },
   {
    "duration": 566,
    "start_time": "2025-03-23T21:32:41.405Z"
   },
   {
    "duration": 11,
    "start_time": "2025-03-23T21:32:41.973Z"
   },
   {
    "duration": 69,
    "start_time": "2025-03-23T21:32:41.986Z"
   },
   {
    "duration": 8,
    "start_time": "2025-03-23T21:32:42.057Z"
   },
   {
    "duration": 6,
    "start_time": "2025-03-23T21:32:42.067Z"
   },
   {
    "duration": 1874,
    "start_time": "2025-03-23T21:32:42.075Z"
   },
   {
    "duration": 40180,
    "start_time": "2025-03-23T21:32:43.952Z"
   },
   {
    "duration": 0,
    "start_time": "2025-03-23T21:33:24.134Z"
   },
   {
    "duration": 200598,
    "start_time": "2025-03-23T21:33:47.590Z"
   },
   {
    "duration": 5,
    "start_time": "2025-03-23T21:38:22.139Z"
   },
   {
    "duration": 7,
    "start_time": "2025-03-23T21:38:31.706Z"
   },
   {
    "duration": 39812,
    "start_time": "2025-03-23T21:38:37.764Z"
   },
   {
    "duration": 199606,
    "start_time": "2025-03-23T21:42:57.343Z"
   },
   {
    "duration": 39459,
    "start_time": "2025-03-23T21:48:58.494Z"
   },
   {
    "duration": 39478,
    "start_time": "2025-03-23T21:52:30.535Z"
   },
   {
    "duration": 1007,
    "start_time": "2025-03-23T22:14:52.473Z"
   },
   {
    "duration": 541,
    "start_time": "2025-03-23T22:14:53.483Z"
   },
   {
    "duration": 10,
    "start_time": "2025-03-23T22:14:54.025Z"
   },
   {
    "duration": 70,
    "start_time": "2025-03-23T22:14:54.036Z"
   },
   {
    "duration": 8,
    "start_time": "2025-03-23T22:14:54.108Z"
   },
   {
    "duration": 8,
    "start_time": "2025-03-23T22:14:54.118Z"
   },
   {
    "duration": 1725,
    "start_time": "2025-03-23T22:14:54.128Z"
   },
   {
    "duration": 5,
    "start_time": "2025-03-23T22:24:09.037Z"
   },
   {
    "duration": 906,
    "start_time": "2025-03-23T22:24:41.638Z"
   },
   {
    "duration": 46,
    "start_time": "2025-03-23T22:25:35.887Z"
   },
   {
    "duration": 1075,
    "start_time": "2025-03-23T22:25:47.159Z"
   },
   {
    "duration": 571,
    "start_time": "2025-03-23T22:25:48.238Z"
   },
   {
    "duration": 12,
    "start_time": "2025-03-23T22:25:48.812Z"
   },
   {
    "duration": 51,
    "start_time": "2025-03-23T22:25:48.826Z"
   },
   {
    "duration": 397,
    "start_time": "2025-03-23T22:25:48.881Z"
   },
   {
    "duration": 0,
    "start_time": "2025-03-23T22:25:49.279Z"
   },
   {
    "duration": 0,
    "start_time": "2025-03-23T22:25:49.280Z"
   },
   {
    "duration": 0,
    "start_time": "2025-03-23T22:25:49.281Z"
   },
   {
    "duration": 12,
    "start_time": "2025-03-23T22:27:31.613Z"
   },
   {
    "duration": 1117,
    "start_time": "2025-03-23T22:30:27.987Z"
   },
   {
    "duration": 636,
    "start_time": "2025-03-23T22:30:29.107Z"
   },
   {
    "duration": 10,
    "start_time": "2025-03-23T22:30:29.745Z"
   },
   {
    "duration": 70,
    "start_time": "2025-03-23T22:30:29.756Z"
   },
   {
    "duration": 15,
    "start_time": "2025-03-23T22:30:29.829Z"
   },
   {
    "duration": 259,
    "start_time": "2025-03-23T22:30:29.846Z"
   },
   {
    "duration": 0,
    "start_time": "2025-03-23T22:30:30.107Z"
   },
   {
    "duration": 1025,
    "start_time": "2025-03-23T22:31:16.558Z"
   },
   {
    "duration": 527,
    "start_time": "2025-03-23T22:31:17.585Z"
   },
   {
    "duration": 9,
    "start_time": "2025-03-23T22:31:18.114Z"
   },
   {
    "duration": 47,
    "start_time": "2025-03-23T22:31:18.125Z"
   },
   {
    "duration": 37,
    "start_time": "2025-03-23T22:31:18.173Z"
   },
   {
    "duration": 258,
    "start_time": "2025-03-23T22:31:18.212Z"
   },
   {
    "duration": 0,
    "start_time": "2025-03-23T22:31:18.471Z"
   },
   {
    "duration": 0,
    "start_time": "2025-03-23T22:31:18.473Z"
   },
   {
    "duration": 7,
    "start_time": "2025-03-23T22:33:07.384Z"
   },
   {
    "duration": 1055,
    "start_time": "2025-03-23T22:33:18.627Z"
   },
   {
    "duration": 552,
    "start_time": "2025-03-23T22:33:19.684Z"
   },
   {
    "duration": 10,
    "start_time": "2025-03-23T22:33:20.238Z"
   },
   {
    "duration": 72,
    "start_time": "2025-03-23T22:33:20.250Z"
   },
   {
    "duration": 11,
    "start_time": "2025-03-23T22:33:20.325Z"
   },
   {
    "duration": 8,
    "start_time": "2025-03-23T22:33:20.338Z"
   },
   {
    "duration": 1672,
    "start_time": "2025-03-23T22:33:20.347Z"
   },
   {
    "duration": 2647,
    "start_time": "2025-03-24T04:07:00.705Z"
   },
   {
    "duration": 675,
    "start_time": "2025-03-24T04:07:03.355Z"
   },
   {
    "duration": 10,
    "start_time": "2025-03-24T04:07:04.031Z"
   },
   {
    "duration": 73,
    "start_time": "2025-03-24T04:07:04.042Z"
   },
   {
    "duration": 11,
    "start_time": "2025-03-24T04:07:04.116Z"
   },
   {
    "duration": 6,
    "start_time": "2025-03-24T04:07:04.128Z"
   },
   {
    "duration": 1844,
    "start_time": "2025-03-24T04:07:04.135Z"
   },
   {
    "duration": 198578,
    "start_time": "2025-03-24T04:07:05.980Z"
   },
   {
    "duration": 982,
    "start_time": "2025-03-24T04:13:06.693Z"
   },
   {
    "duration": 563,
    "start_time": "2025-03-24T04:13:07.677Z"
   },
   {
    "duration": 10,
    "start_time": "2025-03-24T04:13:08.242Z"
   },
   {
    "duration": 69,
    "start_time": "2025-03-24T04:13:08.254Z"
   },
   {
    "duration": 9,
    "start_time": "2025-03-24T04:13:08.326Z"
   },
   {
    "duration": 3,
    "start_time": "2025-03-24T04:13:08.337Z"
   },
   {
    "duration": 1676,
    "start_time": "2025-03-24T04:13:08.342Z"
   },
   {
    "duration": 198277,
    "start_time": "2025-03-24T04:13:10.020Z"
   },
   {
    "duration": 983,
    "start_time": "2025-03-24T04:18:25.792Z"
   },
   {
    "duration": 542,
    "start_time": "2025-03-24T04:18:26.778Z"
   },
   {
    "duration": 10,
    "start_time": "2025-03-24T04:18:27.322Z"
   },
   {
    "duration": 59,
    "start_time": "2025-03-24T04:18:27.334Z"
   },
   {
    "duration": 9,
    "start_time": "2025-03-24T04:18:27.412Z"
   },
   {
    "duration": 3,
    "start_time": "2025-03-24T04:18:27.423Z"
   },
   {
    "duration": 1685,
    "start_time": "2025-03-24T04:18:27.427Z"
   },
   {
    "duration": 198452,
    "start_time": "2025-03-24T04:18:29.113Z"
   },
   {
    "duration": 3497,
    "start_time": "2025-03-24T04:21:47.567Z"
   },
   {
    "duration": 983,
    "start_time": "2025-03-24T04:22:11.388Z"
   },
   {
    "duration": 540,
    "start_time": "2025-03-24T04:22:12.373Z"
   },
   {
    "duration": 10,
    "start_time": "2025-03-24T04:22:12.914Z"
   },
   {
    "duration": 55,
    "start_time": "2025-03-24T04:22:12.926Z"
   },
   {
    "duration": 34,
    "start_time": "2025-03-24T04:22:12.983Z"
   },
   {
    "duration": 4,
    "start_time": "2025-03-24T04:22:13.018Z"
   },
   {
    "duration": 1720,
    "start_time": "2025-03-24T04:22:13.024Z"
   },
   {
    "duration": 199131,
    "start_time": "2025-03-24T04:22:14.745Z"
   },
   {
    "duration": 3499,
    "start_time": "2025-03-24T04:25:33.878Z"
   },
   {
    "duration": 872,
    "start_time": "2025-03-24T04:28:51.813Z"
   },
   {
    "duration": 252,
    "start_time": "2025-03-24T04:35:53.329Z"
   },
   {
    "duration": 3,
    "start_time": "2025-03-24T04:36:26.387Z"
   },
   {
    "duration": 1051,
    "start_time": "2025-03-24T04:36:31.446Z"
   },
   {
    "duration": 834,
    "start_time": "2025-03-24T04:37:13.508Z"
   },
   {
    "duration": 819,
    "start_time": "2025-03-24T04:39:42.741Z"
   },
   {
    "duration": 825,
    "start_time": "2025-03-24T04:42:31.852Z"
   },
   {
    "duration": 6193,
    "start_time": "2025-03-24T04:43:01.204Z"
   },
   {
    "duration": 1009,
    "start_time": "2025-03-24T04:49:33.802Z"
   },
   {
    "duration": 557,
    "start_time": "2025-03-24T04:49:34.814Z"
   },
   {
    "duration": 9,
    "start_time": "2025-03-24T04:49:35.373Z"
   },
   {
    "duration": 76,
    "start_time": "2025-03-24T04:49:35.384Z"
   },
   {
    "duration": 8,
    "start_time": "2025-03-24T04:49:35.463Z"
   },
   {
    "duration": 1655,
    "start_time": "2025-03-24T04:49:35.473Z"
   },
   {
    "duration": 198630,
    "start_time": "2025-03-24T04:49:37.131Z"
   },
   {
    "duration": 3494,
    "start_time": "2025-03-24T04:52:55.763Z"
   },
   {
    "duration": 874,
    "start_time": "2025-03-24T04:52:59.258Z"
   },
   {
    "duration": 5993,
    "start_time": "2025-03-24T04:53:00.134Z"
   },
   {
    "duration": 1277,
    "start_time": "2025-03-24T04:53:06.129Z"
   },
   {
    "duration": 824,
    "start_time": "2025-03-24T04:53:37.972Z"
   },
   {
    "duration": 2630,
    "start_time": "2025-03-25T00:37:52.190Z"
   },
   {
    "duration": 650,
    "start_time": "2025-03-25T00:37:54.823Z"
   },
   {
    "duration": 10,
    "start_time": "2025-03-25T00:37:55.475Z"
   },
   {
    "duration": 6,
    "start_time": "2025-03-25T00:37:55.488Z"
   },
   {
    "duration": 0,
    "start_time": "2025-03-25T00:37:55.496Z"
   },
   {
    "duration": 0,
    "start_time": "2025-03-25T00:37:55.498Z"
   },
   {
    "duration": 0,
    "start_time": "2025-03-25T00:37:55.499Z"
   },
   {
    "duration": 0,
    "start_time": "2025-03-25T00:37:55.501Z"
   },
   {
    "duration": 0,
    "start_time": "2025-03-25T00:37:55.502Z"
   },
   {
    "duration": 0,
    "start_time": "2025-03-25T00:37:55.532Z"
   },
   {
    "duration": 55,
    "start_time": "2025-03-25T00:40:15.878Z"
   },
   {
    "duration": 39,
    "start_time": "2025-03-25T00:40:41.637Z"
   },
   {
    "duration": 45,
    "start_time": "2025-03-25T00:41:57.782Z"
   },
   {
    "duration": 984,
    "start_time": "2025-03-25T00:42:29.328Z"
   },
   {
    "duration": 587,
    "start_time": "2025-03-25T00:42:30.314Z"
   },
   {
    "duration": 10,
    "start_time": "2025-03-25T00:42:30.903Z"
   },
   {
    "duration": 65,
    "start_time": "2025-03-25T00:42:30.915Z"
   },
   {
    "duration": 11,
    "start_time": "2025-03-25T00:42:30.981Z"
   },
   {
    "duration": 1631,
    "start_time": "2025-03-25T00:42:30.993Z"
   },
   {
    "duration": 324248,
    "start_time": "2025-03-25T00:42:32.626Z"
   },
   {
    "duration": 5393,
    "start_time": "2025-03-25T00:47:56.876Z"
   },
   {
    "duration": 1391,
    "start_time": "2025-03-25T00:48:02.271Z"
   },
   {
    "duration": 371247,
    "start_time": "2025-03-25T00:48:03.665Z"
   },
   {
    "duration": 324156,
    "start_time": "2025-03-25T00:54:14.913Z"
   },
   {
    "duration": 1002,
    "start_time": "2025-03-25T01:17:23.508Z"
   },
   {
    "duration": 564,
    "start_time": "2025-03-25T01:17:24.513Z"
   },
   {
    "duration": 11,
    "start_time": "2025-03-25T01:17:25.078Z"
   },
   {
    "duration": 65,
    "start_time": "2025-03-25T01:17:25.091Z"
   },
   {
    "duration": 10,
    "start_time": "2025-03-25T01:17:25.158Z"
   },
   {
    "duration": 1706,
    "start_time": "2025-03-25T01:17:25.170Z"
   },
   {
    "duration": 238,
    "start_time": "2025-03-25T01:17:26.877Z"
   },
   {
    "duration": 0,
    "start_time": "2025-03-25T01:17:27.117Z"
   },
   {
    "duration": 0,
    "start_time": "2025-03-25T01:17:27.118Z"
   },
   {
    "duration": 1039,
    "start_time": "2025-03-25T01:17:56.848Z"
   },
   {
    "duration": 565,
    "start_time": "2025-03-25T01:17:57.889Z"
   },
   {
    "duration": 11,
    "start_time": "2025-03-25T01:17:58.456Z"
   },
   {
    "duration": 69,
    "start_time": "2025-03-25T01:17:58.468Z"
   },
   {
    "duration": 10,
    "start_time": "2025-03-25T01:17:58.539Z"
   },
   {
    "duration": 1752,
    "start_time": "2025-03-25T01:17:58.551Z"
   },
   {
    "duration": 243,
    "start_time": "2025-03-25T01:18:00.305Z"
   },
   {
    "duration": 0,
    "start_time": "2025-03-25T01:18:00.549Z"
   },
   {
    "duration": 0,
    "start_time": "2025-03-25T01:18:00.551Z"
   },
   {
    "duration": 1093,
    "start_time": "2025-03-25T01:21:15.968Z"
   },
   {
    "duration": 579,
    "start_time": "2025-03-25T01:21:17.064Z"
   },
   {
    "duration": 16,
    "start_time": "2025-03-25T01:21:17.644Z"
   },
   {
    "duration": 70,
    "start_time": "2025-03-25T01:21:17.665Z"
   },
   {
    "duration": 11,
    "start_time": "2025-03-25T01:21:17.737Z"
   },
   {
    "duration": 1739,
    "start_time": "2025-03-25T01:21:17.750Z"
   },
   {
    "duration": 249,
    "start_time": "2025-03-25T01:21:19.491Z"
   },
   {
    "duration": 0,
    "start_time": "2025-03-25T01:21:19.742Z"
   },
   {
    "duration": 0,
    "start_time": "2025-03-25T01:21:19.746Z"
   },
   {
    "duration": 5441,
    "start_time": "2025-03-25T01:21:42.252Z"
   },
   {
    "duration": 5423,
    "start_time": "2025-03-25T01:22:26.086Z"
   },
   {
    "duration": 0,
    "start_time": "2025-03-25T01:28:08.791Z"
   },
   {
    "duration": 1142,
    "start_time": "2025-03-25T01:28:27.175Z"
   },
   {
    "duration": 587,
    "start_time": "2025-03-25T01:28:28.320Z"
   },
   {
    "duration": 24,
    "start_time": "2025-03-25T01:28:28.908Z"
   },
   {
    "duration": 51,
    "start_time": "2025-03-25T01:28:28.934Z"
   },
   {
    "duration": 10,
    "start_time": "2025-03-25T01:28:28.988Z"
   },
   {
    "duration": 1683,
    "start_time": "2025-03-25T01:28:29.000Z"
   },
   {
    "duration": 165,
    "start_time": "2025-03-25T01:58:06.262Z"
   },
   {
    "duration": 2829,
    "start_time": "2025-03-25T01:58:20.445Z"
   },
   {
    "duration": 617,
    "start_time": "2025-03-25T01:58:23.277Z"
   },
   {
    "duration": 12,
    "start_time": "2025-03-25T01:58:23.896Z"
   },
   {
    "duration": 73,
    "start_time": "2025-03-25T01:58:23.910Z"
   },
   {
    "duration": 12,
    "start_time": "2025-03-25T01:58:23.986Z"
   },
   {
    "duration": 1742,
    "start_time": "2025-03-25T01:58:24.000Z"
   },
   {
    "duration": 5393,
    "start_time": "2025-03-25T01:58:25.744Z"
   },
   {
    "duration": 1638,
    "start_time": "2025-03-25T01:58:31.139Z"
   },
   {
    "duration": 0,
    "start_time": "2025-03-25T01:58:32.779Z"
   },
   {
    "duration": 1484,
    "start_time": "2025-03-25T02:00:16.416Z"
   },
   {
    "duration": 1054,
    "start_time": "2025-03-25T02:01:59.776Z"
   },
   {
    "duration": 585,
    "start_time": "2025-03-25T02:02:00.832Z"
   },
   {
    "duration": 25,
    "start_time": "2025-03-25T02:02:01.419Z"
   },
   {
    "duration": 52,
    "start_time": "2025-03-25T02:02:01.447Z"
   },
   {
    "duration": 11,
    "start_time": "2025-03-25T02:02:01.500Z"
   },
   {
    "duration": 1763,
    "start_time": "2025-03-25T02:02:01.513Z"
   },
   {
    "duration": 5383,
    "start_time": "2025-03-25T02:02:03.279Z"
   },
   {
    "duration": 590,
    "start_time": "2025-03-25T02:02:08.665Z"
   },
   {
    "duration": 0,
    "start_time": "2025-03-25T02:02:09.257Z"
   },
   {
    "duration": 18,
    "start_time": "2025-03-25T02:02:40.035Z"
   },
   {
    "duration": 7,
    "start_time": "2025-03-25T02:02:56.352Z"
   },
   {
    "duration": 1415,
    "start_time": "2025-03-25T02:03:03.064Z"
   },
   {
    "duration": 35,
    "start_time": "2025-03-25T02:07:53.318Z"
   },
   {
    "duration": 3,
    "start_time": "2025-03-25T02:08:25.829Z"
   },
   {
    "duration": 1013,
    "start_time": "2025-03-25T02:15:47.198Z"
   },
   {
    "duration": 561,
    "start_time": "2025-03-25T02:15:48.213Z"
   },
   {
    "duration": 10,
    "start_time": "2025-03-25T02:15:48.776Z"
   },
   {
    "duration": 68,
    "start_time": "2025-03-25T02:15:48.788Z"
   },
   {
    "duration": 10,
    "start_time": "2025-03-25T02:15:48.858Z"
   },
   {
    "duration": 1720,
    "start_time": "2025-03-25T02:15:48.870Z"
   },
   {
    "duration": 5441,
    "start_time": "2025-03-25T02:15:50.592Z"
   },
   {
    "duration": 162,
    "start_time": "2025-03-25T03:00:12.314Z"
   },
   {
    "duration": 13,
    "start_time": "2025-03-25T03:00:25.271Z"
   },
   {
    "duration": 2660,
    "start_time": "2025-03-25T03:02:44.499Z"
   },
   {
    "duration": 694,
    "start_time": "2025-03-25T03:02:47.162Z"
   },
   {
    "duration": 10,
    "start_time": "2025-03-25T03:02:47.858Z"
   },
   {
    "duration": 73,
    "start_time": "2025-03-25T03:02:47.870Z"
   },
   {
    "duration": 11,
    "start_time": "2025-03-25T03:02:47.946Z"
   },
   {
    "duration": 1833,
    "start_time": "2025-03-25T03:02:47.959Z"
   },
   {
    "duration": 5368,
    "start_time": "2025-03-25T03:02:49.794Z"
   },
   {
    "duration": 324822,
    "start_time": "2025-03-25T03:02:55.164Z"
   },
   {
    "duration": 0,
    "start_time": "2025-03-25T03:08:19.987Z"
   },
   {
    "duration": 8,
    "start_time": "2025-03-25T03:19:08.278Z"
   },
   {
    "duration": 26,
    "start_time": "2025-03-25T03:19:30.012Z"
   },
   {
    "duration": 1068,
    "start_time": "2025-03-25T03:30:56.167Z"
   },
   {
    "duration": 606,
    "start_time": "2025-03-25T03:30:57.238Z"
   },
   {
    "duration": 11,
    "start_time": "2025-03-25T03:30:57.846Z"
   },
   {
    "duration": 76,
    "start_time": "2025-03-25T03:30:57.860Z"
   },
   {
    "duration": 13,
    "start_time": "2025-03-25T03:30:57.939Z"
   },
   {
    "duration": 1713,
    "start_time": "2025-03-25T03:30:57.954Z"
   },
   {
    "duration": 242,
    "start_time": "2025-03-25T03:30:59.669Z"
   },
   {
    "duration": 0,
    "start_time": "2025-03-25T03:30:59.913Z"
   },
   {
    "duration": 0,
    "start_time": "2025-03-25T03:30:59.914Z"
   },
   {
    "duration": 0,
    "start_time": "2025-03-25T03:30:59.916Z"
   },
   {
    "duration": 1055,
    "start_time": "2025-03-25T03:31:33.782Z"
   },
   {
    "duration": 567,
    "start_time": "2025-03-25T03:31:34.840Z"
   },
   {
    "duration": 24,
    "start_time": "2025-03-25T03:31:35.409Z"
   },
   {
    "duration": 55,
    "start_time": "2025-03-25T03:31:35.436Z"
   },
   {
    "duration": 10,
    "start_time": "2025-03-25T03:31:35.493Z"
   },
   {
    "duration": 1780,
    "start_time": "2025-03-25T03:31:35.505Z"
   },
   {
    "duration": 151536,
    "start_time": "2025-03-25T03:31:37.287Z"
   },
   {
    "duration": 0,
    "start_time": "2025-03-25T03:34:08.825Z"
   },
   {
    "duration": 0,
    "start_time": "2025-03-25T03:34:08.826Z"
   },
   {
    "duration": 0,
    "start_time": "2025-03-25T03:34:08.830Z"
   },
   {
    "duration": 150385,
    "start_time": "2025-03-25T03:34:48.708Z"
   },
   {
    "duration": 1042,
    "start_time": "2025-03-25T03:56:09.090Z"
   },
   {
    "duration": 582,
    "start_time": "2025-03-25T03:56:10.134Z"
   },
   {
    "duration": 25,
    "start_time": "2025-03-25T03:56:10.717Z"
   },
   {
    "duration": 54,
    "start_time": "2025-03-25T03:56:10.744Z"
   },
   {
    "duration": 32,
    "start_time": "2025-03-25T03:56:10.800Z"
   },
   {
    "duration": 1767,
    "start_time": "2025-03-25T03:56:10.833Z"
   },
   {
    "duration": 151979,
    "start_time": "2025-03-25T03:56:12.602Z"
   },
   {
    "duration": 237,
    "start_time": "2025-03-25T03:58:44.583Z"
   },
   {
    "duration": 0,
    "start_time": "2025-03-25T03:58:44.822Z"
   },
   {
    "duration": 1036,
    "start_time": "2025-03-25T03:59:41.455Z"
   },
   {
    "duration": 557,
    "start_time": "2025-03-25T03:59:42.493Z"
   },
   {
    "duration": 11,
    "start_time": "2025-03-25T03:59:43.052Z"
   },
   {
    "duration": 73,
    "start_time": "2025-03-25T03:59:43.064Z"
   },
   {
    "duration": 10,
    "start_time": "2025-03-25T03:59:43.139Z"
   },
   {
    "duration": 1725,
    "start_time": "2025-03-25T03:59:43.151Z"
   },
   {
    "duration": 150721,
    "start_time": "2025-03-25T03:59:44.878Z"
   },
   {
    "duration": 5418,
    "start_time": "2025-03-25T04:02:15.601Z"
   },
   {
    "duration": 1414,
    "start_time": "2025-03-25T04:02:21.021Z"
   },
   {
    "duration": 5381,
    "start_time": "2025-03-25T04:07:50.908Z"
   },
   {
    "duration": 155693,
    "start_time": "2025-03-25T04:10:32.198Z"
   },
   {
    "duration": 1169,
    "start_time": "2025-03-25T08:04:00.936Z"
   },
   {
    "duration": 687,
    "start_time": "2025-03-25T08:04:02.108Z"
   },
   {
    "duration": 11,
    "start_time": "2025-03-25T08:04:02.808Z"
   },
   {
    "duration": 48,
    "start_time": "2025-03-25T08:04:02.821Z"
   },
   {
    "duration": 10,
    "start_time": "2025-03-25T08:04:02.870Z"
   },
   {
    "duration": 1740,
    "start_time": "2025-03-25T08:04:02.881Z"
   },
   {
    "duration": 27,
    "start_time": "2025-03-25T08:04:04.623Z"
   },
   {
    "duration": 155,
    "start_time": "2025-03-25T13:22:33.888Z"
   },
   {
    "duration": 2964,
    "start_time": "2025-03-25T13:22:40.839Z"
   },
   {
    "duration": 736,
    "start_time": "2025-03-25T13:22:43.806Z"
   },
   {
    "duration": 17,
    "start_time": "2025-03-25T13:22:44.544Z"
   },
   {
    "duration": 73,
    "start_time": "2025-03-25T13:22:44.562Z"
   },
   {
    "duration": 10,
    "start_time": "2025-03-25T13:22:44.637Z"
   },
   {
    "duration": 1737,
    "start_time": "2025-03-25T13:22:44.649Z"
   },
   {
    "duration": 149187,
    "start_time": "2025-03-25T13:22:46.388Z"
   },
   {
    "duration": 0,
    "start_time": "2025-03-25T13:25:15.578Z"
   },
   {
    "duration": 0,
    "start_time": "2025-03-25T13:25:15.579Z"
   },
   {
    "duration": 970,
    "start_time": "2025-03-25T13:25:40.940Z"
   },
   {
    "duration": 545,
    "start_time": "2025-03-25T13:25:41.912Z"
   },
   {
    "duration": 17,
    "start_time": "2025-03-25T13:25:42.458Z"
   },
   {
    "duration": 80,
    "start_time": "2025-03-25T13:25:42.477Z"
   },
   {
    "duration": 9,
    "start_time": "2025-03-25T13:25:42.559Z"
   },
   {
    "duration": 1633,
    "start_time": "2025-03-25T13:25:42.570Z"
   },
   {
    "duration": 152203,
    "start_time": "2025-03-25T13:25:44.205Z"
   },
   {
    "duration": 0,
    "start_time": "2025-03-25T13:28:16.410Z"
   },
   {
    "duration": 0,
    "start_time": "2025-03-25T13:28:16.411Z"
   },
   {
    "duration": 74,
    "start_time": "2025-03-25T13:40:05.068Z"
   },
   {
    "duration": 192,
    "start_time": "2025-03-26T00:20:35.459Z"
   },
   {
    "duration": 2755,
    "start_time": "2025-03-26T00:21:16.609Z"
   },
   {
    "duration": 683,
    "start_time": "2025-03-26T00:21:19.366Z"
   },
   {
    "duration": 34,
    "start_time": "2025-03-26T00:21:20.050Z"
   },
   {
    "duration": 87,
    "start_time": "2025-03-26T00:21:20.087Z"
   },
   {
    "duration": 10,
    "start_time": "2025-03-26T00:21:20.176Z"
   },
   {
    "duration": 1797,
    "start_time": "2025-03-26T00:21:20.188Z"
   },
   {
    "duration": 477540,
    "start_time": "2025-03-26T00:21:21.988Z"
   },
   {
    "duration": 5449,
    "start_time": "2025-03-26T00:29:19.530Z"
   },
   {
    "duration": 1436,
    "start_time": "2025-03-26T00:29:24.980Z"
   },
   {
    "duration": 1085,
    "start_time": "2025-03-26T01:00:46.867Z"
   },
   {
    "duration": 578,
    "start_time": "2025-03-26T01:00:47.956Z"
   },
   {
    "duration": 33,
    "start_time": "2025-03-26T01:00:48.537Z"
   },
   {
    "duration": 70,
    "start_time": "2025-03-26T01:00:48.571Z"
   },
   {
    "duration": 29,
    "start_time": "2025-03-26T01:00:48.644Z"
   },
   {
    "duration": 606,
    "start_time": "2025-03-26T01:00:48.675Z"
   },
   {
    "duration": 0,
    "start_time": "2025-03-26T01:00:49.283Z"
   },
   {
    "duration": 0,
    "start_time": "2025-03-26T01:00:49.283Z"
   },
   {
    "duration": 0,
    "start_time": "2025-03-26T01:00:49.284Z"
   },
   {
    "duration": 4,
    "start_time": "2025-03-26T01:02:08.574Z"
   },
   {
    "duration": 4,
    "start_time": "2025-03-26T01:03:26.612Z"
   },
   {
    "duration": 52,
    "start_time": "2025-03-26T01:04:32.019Z"
   },
   {
    "duration": 3135,
    "start_time": "2025-03-26T01:06:19.730Z"
   },
   {
    "duration": 3158,
    "start_time": "2025-03-26T01:22:19.870Z"
   },
   {
    "duration": 1172,
    "start_time": "2025-03-26T01:23:29.003Z"
   },
   {
    "duration": 563,
    "start_time": "2025-03-26T01:23:30.177Z"
   },
   {
    "duration": 30,
    "start_time": "2025-03-26T01:23:30.741Z"
   },
   {
    "duration": 79,
    "start_time": "2025-03-26T01:23:30.772Z"
   },
   {
    "duration": 16,
    "start_time": "2025-03-26T01:23:30.871Z"
   },
   {
    "duration": 3241,
    "start_time": "2025-03-26T01:23:30.888Z"
   },
   {
    "duration": 1014,
    "start_time": "2025-03-26T01:31:16.058Z"
   },
   {
    "duration": 602,
    "start_time": "2025-03-26T01:31:17.074Z"
   },
   {
    "duration": 18,
    "start_time": "2025-03-26T01:31:17.678Z"
   },
   {
    "duration": 83,
    "start_time": "2025-03-26T01:31:17.698Z"
   },
   {
    "duration": 10,
    "start_time": "2025-03-26T01:31:17.783Z"
   },
   {
    "duration": 2993,
    "start_time": "2025-03-26T01:31:17.795Z"
   },
   {
    "duration": 1016,
    "start_time": "2025-03-26T01:32:22.931Z"
   },
   {
    "duration": 590,
    "start_time": "2025-03-26T01:32:23.950Z"
   },
   {
    "duration": 29,
    "start_time": "2025-03-26T01:32:24.542Z"
   },
   {
    "duration": 65,
    "start_time": "2025-03-26T01:32:24.573Z"
   },
   {
    "duration": 31,
    "start_time": "2025-03-26T01:32:24.640Z"
   },
   {
    "duration": 3067,
    "start_time": "2025-03-26T01:32:24.672Z"
   },
   {
    "duration": 988,
    "start_time": "2025-03-26T01:36:42.625Z"
   },
   {
    "duration": 586,
    "start_time": "2025-03-26T01:36:43.615Z"
   },
   {
    "duration": 18,
    "start_time": "2025-03-26T01:36:44.202Z"
   },
   {
    "duration": 85,
    "start_time": "2025-03-26T01:36:44.223Z"
   },
   {
    "duration": 10,
    "start_time": "2025-03-26T01:36:44.310Z"
   },
   {
    "duration": 524,
    "start_time": "2025-03-26T01:36:44.322Z"
   },
   {
    "duration": 1156,
    "start_time": "2025-03-26T01:36:44.849Z"
   },
   {
    "duration": 768,
    "start_time": "2025-03-26T01:36:46.008Z"
   },
   {
    "duration": 563,
    "start_time": "2025-03-26T01:36:46.778Z"
   },
   {
    "duration": 1011,
    "start_time": "2025-03-26T01:57:00.167Z"
   },
   {
    "duration": 581,
    "start_time": "2025-03-26T01:57:01.180Z"
   },
   {
    "duration": 18,
    "start_time": "2025-03-26T01:57:01.771Z"
   },
   {
    "duration": 84,
    "start_time": "2025-03-26T01:57:01.791Z"
   },
   {
    "duration": 10,
    "start_time": "2025-03-26T01:57:01.876Z"
   },
   {
    "duration": 518,
    "start_time": "2025-03-26T01:57:01.888Z"
   },
   {
    "duration": 1165,
    "start_time": "2025-03-26T01:57:02.408Z"
   },
   {
    "duration": 747,
    "start_time": "2025-03-26T01:57:03.575Z"
   },
   {
    "duration": 529,
    "start_time": "2025-03-26T01:57:04.323Z"
   },
   {
    "duration": 478331,
    "start_time": "2025-03-26T01:57:04.855Z"
   },
   {
    "duration": 6904,
    "start_time": "2025-03-26T02:05:03.188Z"
   },
   {
    "duration": 1451,
    "start_time": "2025-03-26T02:05:10.094Z"
   },
   {
    "duration": 12548,
    "start_time": "2025-03-26T02:09:30.510Z"
   },
   {
    "duration": 743681,
    "start_time": "2025-03-26T02:13:42.755Z"
   },
   {
    "duration": 159,
    "start_time": "2025-03-26T04:18:11.418Z"
   },
   {
    "duration": 2750,
    "start_time": "2025-03-26T04:18:20.838Z"
   },
   {
    "duration": 698,
    "start_time": "2025-03-26T04:18:23.595Z"
   },
   {
    "duration": 18,
    "start_time": "2025-03-26T04:18:24.296Z"
   },
   {
    "duration": 303,
    "start_time": "2025-03-26T04:18:24.316Z"
   },
   {
    "duration": 0,
    "start_time": "2025-03-26T04:18:24.621Z"
   },
   {
    "duration": 0,
    "start_time": "2025-03-26T04:18:24.622Z"
   },
   {
    "duration": 0,
    "start_time": "2025-03-26T04:18:24.624Z"
   },
   {
    "duration": 0,
    "start_time": "2025-03-26T04:18:24.625Z"
   },
   {
    "duration": 0,
    "start_time": "2025-03-26T04:18:24.626Z"
   },
   {
    "duration": 0,
    "start_time": "2025-03-26T04:18:24.627Z"
   },
   {
    "duration": 0,
    "start_time": "2025-03-26T04:18:24.629Z"
   },
   {
    "duration": 0,
    "start_time": "2025-03-26T04:18:24.630Z"
   },
   {
    "duration": 0,
    "start_time": "2025-03-26T04:18:24.631Z"
   },
   {
    "duration": 0,
    "start_time": "2025-03-26T04:18:24.632Z"
   },
   {
    "duration": 13,
    "start_time": "2025-03-26T04:18:55.513Z"
   },
   {
    "duration": 16,
    "start_time": "2025-03-26T04:20:49.325Z"
   },
   {
    "duration": 6,
    "start_time": "2025-03-26T04:21:05.287Z"
   },
   {
    "duration": 1036,
    "start_time": "2025-03-26T04:21:13.637Z"
   },
   {
    "duration": 556,
    "start_time": "2025-03-26T04:21:14.675Z"
   },
   {
    "duration": 21,
    "start_time": "2025-03-26T04:21:15.232Z"
   },
   {
    "duration": 6,
    "start_time": "2025-03-26T04:21:15.255Z"
   },
   {
    "duration": 87,
    "start_time": "2025-03-26T04:21:15.264Z"
   },
   {
    "duration": 10,
    "start_time": "2025-03-26T04:21:15.352Z"
   },
   {
    "duration": 535,
    "start_time": "2025-03-26T04:21:15.364Z"
   },
   {
    "duration": 1222,
    "start_time": "2025-03-26T04:21:15.901Z"
   },
   {
    "duration": 818,
    "start_time": "2025-03-26T04:21:17.127Z"
   },
   {
    "duration": 549,
    "start_time": "2025-03-26T04:21:17.947Z"
   },
   {
    "duration": 1074,
    "start_time": "2025-03-26T04:22:45.604Z"
   },
   {
    "duration": 535,
    "start_time": "2025-03-26T04:22:46.680Z"
   },
   {
    "duration": 17,
    "start_time": "2025-03-26T04:22:47.217Z"
   },
   {
    "duration": 13,
    "start_time": "2025-03-26T04:22:47.237Z"
   },
   {
    "duration": 90,
    "start_time": "2025-03-26T04:22:47.252Z"
   },
   {
    "duration": 10,
    "start_time": "2025-03-26T04:22:47.344Z"
   },
   {
    "duration": 544,
    "start_time": "2025-03-26T04:22:47.355Z"
   },
   {
    "duration": 1223,
    "start_time": "2025-03-26T04:22:47.901Z"
   },
   {
    "duration": 813,
    "start_time": "2025-03-26T04:22:49.126Z"
   },
   {
    "duration": 521,
    "start_time": "2025-03-26T04:22:49.942Z"
   },
   {
    "duration": 1023,
    "start_time": "2025-03-26T04:23:14.068Z"
   },
   {
    "duration": 543,
    "start_time": "2025-03-26T04:23:15.093Z"
   },
   {
    "duration": 18,
    "start_time": "2025-03-26T04:23:15.637Z"
   },
   {
    "duration": 44,
    "start_time": "2025-03-26T04:23:15.657Z"
   },
   {
    "duration": 66,
    "start_time": "2025-03-26T04:23:15.703Z"
   },
   {
    "duration": 11,
    "start_time": "2025-03-26T04:23:15.787Z"
   },
   {
    "duration": 532,
    "start_time": "2025-03-26T04:23:15.799Z"
   },
   {
    "duration": 1150,
    "start_time": "2025-03-26T04:23:16.334Z"
   },
   {
    "duration": 801,
    "start_time": "2025-03-26T04:23:17.487Z"
   },
   {
    "duration": 542,
    "start_time": "2025-03-26T04:23:18.290Z"
   },
   {
    "duration": 1074,
    "start_time": "2025-03-26T04:23:43.795Z"
   },
   {
    "duration": 543,
    "start_time": "2025-03-26T04:23:44.871Z"
   },
   {
    "duration": 18,
    "start_time": "2025-03-26T04:23:45.416Z"
   },
   {
    "duration": 23,
    "start_time": "2025-03-26T04:23:45.436Z"
   },
   {
    "duration": 84,
    "start_time": "2025-03-26T04:23:45.461Z"
   },
   {
    "duration": 10,
    "start_time": "2025-03-26T04:23:45.547Z"
   },
   {
    "duration": 581,
    "start_time": "2025-03-26T04:23:45.558Z"
   },
   {
    "duration": 0,
    "start_time": "2025-03-26T04:23:46.142Z"
   },
   {
    "duration": 0,
    "start_time": "2025-03-26T04:23:46.143Z"
   },
   {
    "duration": 0,
    "start_time": "2025-03-26T04:23:46.144Z"
   },
   {
    "duration": 0,
    "start_time": "2025-03-26T04:23:46.146Z"
   },
   {
    "duration": 0,
    "start_time": "2025-03-26T04:23:46.147Z"
   },
   {
    "duration": 0,
    "start_time": "2025-03-26T04:23:46.149Z"
   },
   {
    "duration": 0,
    "start_time": "2025-03-26T04:23:46.151Z"
   },
   {
    "duration": 25,
    "start_time": "2025-03-26T04:29:10.887Z"
   },
   {
    "duration": 1021,
    "start_time": "2025-03-26T04:29:16.065Z"
   },
   {
    "duration": 535,
    "start_time": "2025-03-26T04:29:17.088Z"
   },
   {
    "duration": 18,
    "start_time": "2025-03-26T04:29:17.624Z"
   },
   {
    "duration": 20,
    "start_time": "2025-03-26T04:29:17.644Z"
   },
   {
    "duration": 68,
    "start_time": "2025-03-26T04:29:17.686Z"
   },
   {
    "duration": 9,
    "start_time": "2025-03-26T04:29:17.755Z"
   },
   {
    "duration": 549,
    "start_time": "2025-03-26T04:29:17.787Z"
   },
   {
    "duration": 1159,
    "start_time": "2025-03-26T04:29:18.337Z"
   },
   {
    "duration": 751,
    "start_time": "2025-03-26T04:29:19.498Z"
   },
   {
    "duration": 554,
    "start_time": "2025-03-26T04:29:20.253Z"
   },
   {
    "duration": 447045,
    "start_time": "2025-03-26T04:29:20.809Z"
   },
   {
    "duration": 675416,
    "start_time": "2025-03-26T04:36:47.856Z"
   },
   {
    "duration": 11645,
    "start_time": "2025-03-26T04:48:03.274Z"
   },
   {
    "duration": 1295,
    "start_time": "2025-03-26T04:48:14.921Z"
   },
   {
    "duration": 235,
    "start_time": "2025-03-26T04:49:15.620Z"
   },
   {
    "duration": 1031,
    "start_time": "2025-03-26T04:49:56.146Z"
   },
   {
    "duration": 566,
    "start_time": "2025-03-26T04:49:57.180Z"
   },
   {
    "duration": 17,
    "start_time": "2025-03-26T04:49:57.748Z"
   },
   {
    "duration": 31,
    "start_time": "2025-03-26T04:49:57.768Z"
   },
   {
    "duration": 70,
    "start_time": "2025-03-26T04:49:57.801Z"
   },
   {
    "duration": 12,
    "start_time": "2025-03-26T04:49:57.886Z"
   },
   {
    "duration": 522,
    "start_time": "2025-03-26T04:49:57.901Z"
   },
   {
    "duration": 1156,
    "start_time": "2025-03-26T04:49:58.425Z"
   },
   {
    "duration": 771,
    "start_time": "2025-03-26T04:49:59.586Z"
   },
   {
    "duration": 583,
    "start_time": "2025-03-26T04:50:00.360Z"
   },
   {
    "duration": 446109,
    "start_time": "2025-03-26T04:50:00.945Z"
   },
   {
    "duration": 677467,
    "start_time": "2025-03-26T04:57:27.057Z"
   },
   {
    "duration": 330213,
    "start_time": "2025-03-26T05:08:44.526Z"
   },
   {
    "duration": 11607,
    "start_time": "2025-03-26T05:14:14.741Z"
   },
   {
    "duration": 556,
    "start_time": "2025-03-26T05:27:37.202Z"
   },
   {
    "duration": 13,
    "start_time": "2025-03-26T05:28:34.329Z"
   },
   {
    "duration": 10,
    "start_time": "2025-03-26T05:28:44.825Z"
   },
   {
    "duration": 10,
    "start_time": "2025-03-26T05:35:03.884Z"
   }
  ],
  "kernelspec": {
   "display_name": "Python 3 (ipykernel)",
   "language": "python",
   "name": "python3"
  },
  "language_info": {
   "codemirror_mode": {
    "name": "ipython",
    "version": 3
   },
   "file_extension": ".py",
   "mimetype": "text/x-python",
   "name": "python",
   "nbconvert_exporter": "python",
   "pygments_lexer": "ipython3",
   "version": "3.9.19"
  },
  "toc": {
   "base_numbering": 1,
   "nav_menu": {},
   "number_sections": true,
   "sideBar": true,
   "skip_h1_title": true,
   "title_cell": "Table of Contents",
   "title_sidebar": "Contents",
   "toc_cell": false,
   "toc_position": {
    "height": "calc(100% - 180px)",
    "left": "10px",
    "top": "150px",
    "width": "232.6px"
   },
   "toc_section_display": true,
   "toc_window_display": true
  }
 },
 "nbformat": 4,
 "nbformat_minor": 2
}
