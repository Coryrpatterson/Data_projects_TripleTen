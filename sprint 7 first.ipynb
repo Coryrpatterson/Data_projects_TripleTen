{
 "cells": [
  {
   "cell_type": "markdown",
   "metadata": {},
   "source": [
    "We are back to help Megaline try to upgrade users that have legacy plans to one of their newer plans! The Smart plan or the Ultra plan! Lets look at both plans and work through a couple of methods to allow us to see which plan would be the best for the customer!"
   ]
  },
  {
   "cell_type": "code",
   "execution_count": 1,
   "metadata": {},
   "outputs": [],
   "source": [
    "import pandas as pd\n",
    "import numpy as np\n",
    "import matplotlib.pyplot as plt\n",
    "import seaborn as sns\n",
    "from sklearn.model_selection import train_test_split\n",
    "from sklearn.metrics import mean_squared_error\n",
    "from sklearn.ensemble import RandomForestClassifier\n",
    "from sklearn.tree import DecisionTreeClassifier\n",
    "from sklearn.linear_model import LogisticRegression\n",
    "from sklearn.metrics import accuracy_score"
   ]
  },
  {
   "cell_type": "code",
   "execution_count": 2,
   "metadata": {},
   "outputs": [
    {
     "data": {
      "text/html": [
       "<div>\n",
       "<style scoped>\n",
       "    .dataframe tbody tr th:only-of-type {\n",
       "        vertical-align: middle;\n",
       "    }\n",
       "\n",
       "    .dataframe tbody tr th {\n",
       "        vertical-align: top;\n",
       "    }\n",
       "\n",
       "    .dataframe thead th {\n",
       "        text-align: right;\n",
       "    }\n",
       "</style>\n",
       "<table border=\"1\" class=\"dataframe\">\n",
       "  <thead>\n",
       "    <tr style=\"text-align: right;\">\n",
       "      <th></th>\n",
       "      <th>calls</th>\n",
       "      <th>minutes</th>\n",
       "      <th>messages</th>\n",
       "      <th>mb_used</th>\n",
       "      <th>is_ultra</th>\n",
       "    </tr>\n",
       "  </thead>\n",
       "  <tbody>\n",
       "    <tr>\n",
       "      <th>0</th>\n",
       "      <td>40.0</td>\n",
       "      <td>311.90</td>\n",
       "      <td>83.0</td>\n",
       "      <td>19915.42</td>\n",
       "      <td>0</td>\n",
       "    </tr>\n",
       "    <tr>\n",
       "      <th>1</th>\n",
       "      <td>85.0</td>\n",
       "      <td>516.75</td>\n",
       "      <td>56.0</td>\n",
       "      <td>22696.96</td>\n",
       "      <td>0</td>\n",
       "    </tr>\n",
       "    <tr>\n",
       "      <th>2</th>\n",
       "      <td>77.0</td>\n",
       "      <td>467.66</td>\n",
       "      <td>86.0</td>\n",
       "      <td>21060.45</td>\n",
       "      <td>0</td>\n",
       "    </tr>\n",
       "    <tr>\n",
       "      <th>3</th>\n",
       "      <td>106.0</td>\n",
       "      <td>745.53</td>\n",
       "      <td>81.0</td>\n",
       "      <td>8437.39</td>\n",
       "      <td>1</td>\n",
       "    </tr>\n",
       "    <tr>\n",
       "      <th>4</th>\n",
       "      <td>66.0</td>\n",
       "      <td>418.74</td>\n",
       "      <td>1.0</td>\n",
       "      <td>14502.75</td>\n",
       "      <td>0</td>\n",
       "    </tr>\n",
       "  </tbody>\n",
       "</table>\n",
       "</div>"
      ],
      "text/plain": [
       "   calls  minutes  messages   mb_used  is_ultra\n",
       "0   40.0   311.90      83.0  19915.42         0\n",
       "1   85.0   516.75      56.0  22696.96         0\n",
       "2   77.0   467.66      86.0  21060.45         0\n",
       "3  106.0   745.53      81.0   8437.39         1\n",
       "4   66.0   418.74       1.0  14502.75         0"
      ]
     },
     "metadata": {},
     "output_type": "display_data"
    }
   ],
   "source": [
    "df = pd.read_csv('/datasets/users_behavior.csv') \n",
    "\n",
    "display(df.head())"
   ]
  },
  {
   "cell_type": "code",
   "execution_count": 3,
   "metadata": {},
   "outputs": [
    {
     "name": "stdout",
     "output_type": "stream",
     "text": [
      "calls       0\n",
      "minutes     0\n",
      "messages    0\n",
      "mb_used     0\n",
      "is_ultra    0\n",
      "dtype: int64\n"
     ]
    }
   ],
   "source": [
    "missing_values = df.isnull().sum()\n",
    "\n",
    "print(missing_values)"
   ]
  },
  {
   "cell_type": "code",
   "execution_count": 4,
   "metadata": {},
   "outputs": [
    {
     "name": "stdout",
     "output_type": "stream",
     "text": [
      "Number of duplicate rows: 0\n"
     ]
    }
   ],
   "source": [
    "duplicate_values = df.duplicated().sum()\n",
    "\n",
    "print(f\"Number of duplicate rows: {duplicate_values}\")"
   ]
  },
  {
   "cell_type": "code",
   "execution_count": 5,
   "metadata": {
    "scrolled": true
   },
   "outputs": [
    {
     "name": "stdout",
     "output_type": "stream",
     "text": [
      "Counts of each class in 'is_ultra':\n",
      "0    2229\n",
      "1     985\n",
      "Name: is_ultra, dtype: int64\n",
      "\n",
      "Percentage distribution:\n",
      "0    69.352831\n",
      "1    30.647169\n",
      "Name: is_ultra, dtype: float64\n"
     ]
    }
   ],
   "source": [
    "class_counts = df['is_ultra'].value_counts()\n",
    "\n",
    "print(\"Counts of each class in 'is_ultra':\")\n",
    "print(class_counts)\n",
    "\n",
    "print(\"\\nPercentage distribution:\")\n",
    "print(class_counts / len(df) * 100)"
   ]
  },
  {
   "cell_type": "code",
   "execution_count": 6,
   "metadata": {},
   "outputs": [
    {
     "data": {
      "image/png": "[encoded data removed]",
      "text/plain": [
       "<Figure size 600x400 with 1 Axes>"
      ]
     },
     "metadata": {},
     "output_type": "display_data"
    }
   ],
   "source": [
    "plt.figure(figsize=(6, 4))\n",
    "sns.barplot(x=class_counts.index, y=class_counts.values, palette=['blue', 'orange'])\n",
    "\n",
    "plt.xlabel(\"Class (is_ultra)\")\n",
    "plt.ylabel(\"Count\")\n",
    "plt.title(\"Distribution of Smart and Ultra\")\n",
    "plt.xticks([0, 1], labels=['0 (Smart)', '1 (Ultra)'])\n",
    "\n",
    "for i, v in enumerate(class_counts.values):\n",
    "    plt.text(i, v + 10, str(v), ha='center', fontsize=12)\n",
    "\n",
    "plt.show()"
   ]
  },
  {
   "cell_type": "markdown",
   "metadata": {},
   "source": [
    "Alright! Now the good stuff! We have created our machine learning process and double checked them! Looking at the basic data we can see that there are more Smart plan users vs Ultra users. Let's dig a little more to see which plan is going to be most beneficial for these Legacy customers!"
   ]
  },
  {
   "cell_type": "code",
   "execution_count": 7,
   "metadata": {},
   "outputs": [
    {
     "name": "stdout",
     "output_type": "stream",
     "text": [
      "Training set: 2249 rows\n",
      "Validation set: 482 rows\n",
      "Test set: 483 rows\n"
     ]
    }
   ],
   "source": [
    "train_df, temp_df = train_test_split(df, test_size=0.3, random_state=12345)  \n",
    "valid_df, test_df = train_test_split(temp_df, test_size=0.5, random_state=12345)\n",
    "\n",
    "\n",
    "print(f\"Training set: {len(train_df)} rows\")\n",
    "print(f\"Validation set: {len(valid_df)} rows\")\n",
    "print(f\"Test set: {len(test_df)} rows\")"
   ]
  },
  {
   "cell_type": "code",
   "execution_count": 8,
   "metadata": {},
   "outputs": [
    {
     "name": "stdout",
     "output_type": "stream",
     "text": [
      "Decision Tree Accuracies (varying max_depth):\n",
      "max_depth=3: 0.7854\n",
      "max_depth=5: 0.7792\n",
      "max_depth=10: 0.7745\n",
      "\n",
      "Random Forest Accuracies (varying n_estimators):\n",
      "n_estimators=10: 0.7652\n",
      "n_estimators=50: 0.7838\n",
      "n_estimators=100: 0.7838\n",
      "\n",
      "Logistic Regression Accuracy: 0.7107\n",
      "\n",
      "Random Forest (50 trees) Test Accuracy: 0.7900\n"
     ]
    }
   ],
   "source": [
    "x = df.drop('is_ultra', axis=1) \n",
    "y = df['is_ultra']  \n",
    "\n",
    "x_train, x_temp, y_train, y_temp = train_test_split(x, y, test_size=0.4, random_state=12345)  \n",
    "x_val, x_test, y_val, y_test = train_test_split(x_temp, y_temp, test_size=0.5, random_state=12345)  \n",
    "\n",
    "max_depths = [3, 5, 10]\n",
    "dt_accuracies = {}\n",
    "\n",
    "for depth in max_depths:\n",
    "    dt_model = DecisionTreeClassifier(max_depth=depth, random_state=12345)\n",
    "    dt_model.fit(x_train, y_train)\n",
    "    y_val_pred = dt_model.predict(x_val)\n",
    "    dt_accuracies[depth] = accuracy_score(y_val, y_val_pred)\n",
    "\n",
    "n_trees = [10, 50, 100]\n",
    "rf_accuracies = {}\n",
    "\n",
    "for n in n_trees:\n",
    "    rf_model = RandomForestClassifier(n_estimators=n, random_state=42)\n",
    "    rf_model.fit(x_train, y_train)\n",
    "    y_val_pred = rf_model.predict(x_val)\n",
    "    rf_accuracies[n] = accuracy_score(y_val, y_val_pred)\n",
    "\n",
    "logreg_model = LogisticRegression(random_state=12345)\n",
    "logreg_model.fit(x_train, y_train)\n",
    "y_val_pred_logreg = logreg_model.predict(x_val)\n",
    "logreg_accuracy = accuracy_score(y_val, y_val_pred_logreg)\n",
    "\n",
    "print(\"Decision Tree Accuracies (varying max_depth):\")\n",
    "for depth, acc in dt_accuracies.items():\n",
    "    print(f\"max_depth={depth}: {acc:.4f}\")\n",
    "\n",
    "print(\"\\nRandom Forest Accuracies (varying n_estimators):\")\n",
    "for n, acc in rf_accuracies.items():\n",
    "    print(f\"n_estimators={n}: {acc:.4f}\")\n",
    "\n",
    "print(f\"\\nLogistic Regression Accuracy: {logreg_accuracy:.4f}\")\n",
    "\n",
    "best_rf_model = RandomForestClassifier(n_estimators=50, random_state=42)\n",
    "best_rf_model.fit(x_train, y_train)\n",
    "y_test_pred_rf = best_rf_model.predict(x_test)\n",
    "test_accuracy_rf = accuracy_score(y_test, y_test_pred_rf)\n",
    "\n",
    "print(f\"\\nRandom Forest (50 trees) Test Accuracy: {test_accuracy_rf:.4f}\")"
   ]
  },
  {
   "cell_type": "markdown",
   "metadata": {},
   "source": [
    "We just did a lot of coding above! Don't worry we are about to break it down in simple terms. To find the most acurate way to help choose which plan will be best, I went through a few machine learning processes that will identify the best option to do so to help speed up the process along the way! as you can tell from above our Random Forest with 50 trees has given us a 79% accuracy rate! now lets continue looking at this data and see how we can use this to our advantage!"
   ]
  },
  {
   "cell_type": "code",
   "execution_count": 9,
   "metadata": {},
   "outputs": [
    {
     "name": "stdout",
     "output_type": "stream",
     "text": [
      "Train set size: (1928, 4), Validation set size: (643, 4), Test set size: (643, 4)\n",
      "Decision Tree Accuracy (Depth=3): 0.7854\n",
      "Random Forest Accuracy (50 trees): 0.7838\n",
      "Logistic Regression Accuracy: 0.7107\n",
      "Sanity check completed.\n"
     ]
    }
   ],
   "source": [
    "if 'is_ultra' not in df.columns:\n",
    "    raise ValueError(\"Error: 'is_ultra' column is missing from the DataFrame.\")\n",
    "\n",
    "if df.isnull().sum().sum() > 0:\n",
    "    print(\"Warning: The DataFrame contains missing values!\")\n",
    "\n",
    "x = df.drop('is_ultra', axis=1)\n",
    "y = df['is_ultra']\n",
    "\n",
    "if x.shape[1] == 0:\n",
    "    raise ValueError(\"Error: No features found after dropping 'is_ultra'.\")\n",
    "\n",
    "if len(y.unique()) != 2:\n",
    "    raise ValueError(\"Error: 'is_ultra' should be a binary classification target.\")\n",
    "\n",
    "x_train, x_temp, y_train, y_temp = train_test_split(x, y, test_size=0.4, random_state=12345)\n",
    "x_val, x_test, y_val, y_test = train_test_split(x_temp, y_temp, test_size=0.5, random_state=12345)\n",
    "\n",
    "print(f\"Train set size: {x_train.shape}, Validation set size: {x_val.shape}, Test set size: {x_test.shape}\")\n",
    "\n",
    "if len(y_train) != x_train.shape[0] or len(y_val) != x_val.shape[0] or len(y_test) != x_test.shape[0]:\n",
    "    raise ValueError(\"Error: Mismatch between feature and target variable sizes after splitting.\")\n",
    "\n",
    "try:  \n",
    "    dt_model = DecisionTreeClassifier(max_depth=3, random_state=12345)\n",
    "    dt_model.fit(x_train, y_train)\n",
    "    y_val_pred = dt_model.predict(x_val)\n",
    "    print(f\"Decision Tree Accuracy (Depth=3): {accuracy_score(y_val, y_val_pred):.4f}\")\n",
    "\n",
    "    rf_model = RandomForestClassifier(n_estimators=50, random_state=42)\n",
    "    rf_model.fit(x_train, y_train)\n",
    "    y_val_pred = rf_model.predict(x_val)\n",
    "    print(f\"Random Forest Accuracy (50 trees): {accuracy_score(y_val, y_val_pred):.4f}\")\n",
    "\n",
    "    logreg_model = LogisticRegression(random_state=12345, max_iter=500)\n",
    "    logreg_model.fit(x_train, y_train)\n",
    "    y_val_pred_logreg = logreg_model.predict(x_val)\n",
    "    print(f\"Logistic Regression Accuracy: {accuracy_score(y_val, y_val_pred_logreg):.4f}\")\n",
    "\n",
    "except Exception as e:\n",
    "    print(f\"Error encountered during model training: {e}\")\n",
    "\n",
    "print(\"Sanity check completed.\")"
   ]
  },
  {
   "cell_type": "markdown",
   "metadata": {},
   "source": [
    "What I just did above is whats called a sanity check! what this means for Megaline is that up to this point we know that all the code is working the way it should! This also means that our 79% accuracy is solid and we can take that to the bank!"
   ]
  },
  {
   "cell_type": "code",
   "execution_count": 10,
   "metadata": {},
   "outputs": [
    {
     "name": "stdout",
     "output_type": "stream",
     "text": [
      "Random Forest Validation Accuracy: 0.7838\n",
      "Random Forest Test Accuracy: 0.7900\n",
      "\n",
      "Feature Importance:\n",
      "    Feature  Importance\n",
      "3   mb_used    0.343437\n",
      "1   minutes    0.235189\n",
      "2  messages    0.210697\n",
      "0     calls    0.210677\n"
     ]
    }
   ],
   "source": [
    "x = df.drop('is_ultra', axis=1) \n",
    "y = df['is_ultra'] \n",
    "\n",
    "x_train, x_temp, y_train, y_temp = train_test_split(x, y, test_size=0.4, random_state=12345)\n",
    "x_val, x_test, y_val, y_test = train_test_split(x_temp, y_temp, test_size=0.5, random_state=12345)\n",
    "\n",
    "best_rf_model = RandomForestClassifier(n_estimators=50, random_state=42)\n",
    "best_rf_model.fit(x_train, y_train)\n",
    "\n",
    "y_val_pred = best_rf_model.predict(x_val)\n",
    "val_accuracy = accuracy_score(y_val, y_val_pred)\n",
    "\n",
    "y_test_pred = best_rf_model.predict(x_test)\n",
    "test_accuracy = accuracy_score(y_test, y_test_pred)\n",
    "\n",
    "print(f\"Random Forest Validation Accuracy: {val_accuracy:.4f}\")\n",
    "print(f\"Random Forest Test Accuracy: {test_accuracy:.4f}\")\n",
    "\n",
    "feature_importance = best_rf_model.feature_importances_\n",
    "\n",
    "importance_df = pd.DataFrame({\n",
    "    'Feature': x.columns,\n",
    "    'Importance': feature_importance\n",
    "}).sort_values(by='Importance', ascending=False)\n",
    "\n",
    "print(\"\\nFeature Importance:\")\n",
    "print(importance_df)"
   ]
  },
  {
   "cell_type": "markdown",
   "metadata": {},
   "source": [
    "There you have it! The most important features from our data, with a 79% accuracy rate! Using the information that we have sifted through the best plan we use to get our customers to switch from thier legacy plans will be the plan that matches closest to the feature importance! "
   ]
  }
 ],
 "metadata": {
  "ExecuteTimeLog": [
   {
    "duration": 160,
    "start_time": "2025-03-06T05:37:28.115Z"
   },
   {
    "duration": 2766,
    "start_time": "2025-03-06T05:37:38.505Z"
   },
   {
    "duration": 610,
    "start_time": "2025-03-06T05:37:41.273Z"
   },
   {
    "duration": 60,
    "start_time": "2025-03-06T05:38:08.099Z"
   },
   {
    "duration": 62,
    "start_time": "2025-03-06T05:39:04.459Z"
   },
   {
    "duration": 62,
    "start_time": "2025-03-06T05:40:11.261Z"
   },
   {
    "duration": 59,
    "start_time": "2025-03-06T05:40:32.249Z"
   },
   {
    "duration": 140,
    "start_time": "2025-03-06T05:46:21.693Z"
   },
   {
    "duration": 17,
    "start_time": "2025-03-06T05:47:01.519Z"
   },
   {
    "duration": 13,
    "start_time": "2025-03-06T05:47:31.342Z"
   },
   {
    "duration": 5,
    "start_time": "2025-03-06T05:49:06.651Z"
   },
   {
    "duration": 16,
    "start_time": "2025-03-06T05:49:54.386Z"
   },
   {
    "duration": 13,
    "start_time": "2025-03-06T05:50:34.596Z"
   },
   {
    "duration": 15,
    "start_time": "2025-03-06T05:51:06.600Z"
   },
   {
    "duration": 5,
    "start_time": "2025-03-06T05:52:01.871Z"
   },
   {
    "duration": 5,
    "start_time": "2025-03-06T05:54:45.979Z"
   },
   {
    "duration": 16,
    "start_time": "2025-03-06T06:22:13.854Z"
   },
   {
    "duration": 1029,
    "start_time": "2025-03-06T06:22:45.702Z"
   },
   {
    "duration": 16,
    "start_time": "2025-03-06T06:22:46.734Z"
   },
   {
    "duration": 4,
    "start_time": "2025-03-06T06:22:46.752Z"
   },
   {
    "duration": 4,
    "start_time": "2025-03-06T06:22:46.758Z"
   },
   {
    "duration": 255,
    "start_time": "2025-03-06T06:22:46.764Z"
   },
   {
    "duration": 61,
    "start_time": "2025-03-06T06:23:00.357Z"
   },
   {
    "duration": 6,
    "start_time": "2025-03-06T06:24:11.000Z"
   },
   {
    "duration": 4,
    "start_time": "2025-03-06T06:25:47.763Z"
   },
   {
    "duration": 21,
    "start_time": "2025-03-06T06:29:47.680Z"
   },
   {
    "duration": 1040,
    "start_time": "2025-03-06T06:30:28.934Z"
   },
   {
    "duration": 14,
    "start_time": "2025-03-06T06:30:29.977Z"
   },
   {
    "duration": 13,
    "start_time": "2025-03-06T06:30:29.993Z"
   },
   {
    "duration": 6,
    "start_time": "2025-03-06T06:30:30.008Z"
   },
   {
    "duration": 6,
    "start_time": "2025-03-06T06:30:30.018Z"
   },
   {
    "duration": 255,
    "start_time": "2025-03-06T06:30:30.026Z"
   },
   {
    "duration": 22,
    "start_time": "2025-03-06T06:31:22.460Z"
   },
   {
    "duration": 23,
    "start_time": "2025-03-06T06:32:45.044Z"
   },
   {
    "duration": 22,
    "start_time": "2025-03-06T06:33:00.055Z"
   },
   {
    "duration": 66,
    "start_time": "2025-03-06T06:33:10.531Z"
   },
   {
    "duration": 23,
    "start_time": "2025-03-06T06:35:31.587Z"
   },
   {
    "duration": 23,
    "start_time": "2025-03-06T06:37:00.959Z"
   },
   {
    "duration": 29,
    "start_time": "2025-03-06T06:37:18.631Z"
   },
   {
    "duration": 42,
    "start_time": "2025-03-06T06:38:45.583Z"
   },
   {
    "duration": 1042,
    "start_time": "2025-03-06T06:39:08.861Z"
   },
   {
    "duration": 14,
    "start_time": "2025-03-06T06:39:09.906Z"
   },
   {
    "duration": 4,
    "start_time": "2025-03-06T06:39:09.924Z"
   },
   {
    "duration": 6,
    "start_time": "2025-03-06T06:39:09.929Z"
   },
   {
    "duration": 6,
    "start_time": "2025-03-06T06:39:09.936Z"
   },
   {
    "duration": 711,
    "start_time": "2025-03-06T06:39:09.943Z"
   },
   {
    "duration": 171,
    "start_time": "2025-03-07T04:38:25.269Z"
   },
   {
    "duration": 30,
    "start_time": "2025-03-07T04:39:12.123Z"
   },
   {
    "duration": 2971,
    "start_time": "2025-03-07T04:39:30.026Z"
   },
   {
    "duration": 18,
    "start_time": "2025-03-07T04:39:32.999Z"
   },
   {
    "duration": 5,
    "start_time": "2025-03-07T04:39:33.023Z"
   },
   {
    "duration": 6,
    "start_time": "2025-03-07T04:39:33.032Z"
   },
   {
    "duration": 5,
    "start_time": "2025-03-07T04:39:33.040Z"
   },
   {
    "duration": 707,
    "start_time": "2025-03-07T04:39:33.047Z"
   },
   {
    "duration": 181,
    "start_time": "2025-03-07T04:39:33.755Z"
   },
   {
    "duration": 195,
    "start_time": "2025-03-07T04:40:51.288Z"
   },
   {
    "duration": 181,
    "start_time": "2025-03-07T04:41:18.663Z"
   },
   {
    "duration": 191,
    "start_time": "2025-03-07T04:42:37.244Z"
   },
   {
    "duration": 5,
    "start_time": "2025-03-07T04:48:11.453Z"
   },
   {
    "duration": 10,
    "start_time": "2025-03-07T04:48:20.335Z"
   },
   {
    "duration": 13,
    "start_time": "2025-03-07T04:50:19.147Z"
   },
   {
    "duration": 9,
    "start_time": "2025-03-07T04:50:30.694Z"
   },
   {
    "duration": 6,
    "start_time": "2025-03-07T04:50:49.485Z"
   },
   {
    "duration": 5,
    "start_time": "2025-03-07T04:50:58.096Z"
   },
   {
    "duration": 113,
    "start_time": "2025-03-07T04:53:04.618Z"
   },
   {
    "duration": 1042,
    "start_time": "2025-03-07T04:53:22.449Z"
   },
   {
    "duration": 15,
    "start_time": "2025-03-07T04:53:23.493Z"
   },
   {
    "duration": 14,
    "start_time": "2025-03-07T04:53:23.510Z"
   },
   {
    "duration": 5,
    "start_time": "2025-03-07T04:53:23.526Z"
   },
   {
    "duration": 6,
    "start_time": "2025-03-07T04:53:23.533Z"
   },
   {
    "duration": 722,
    "start_time": "2025-03-07T04:53:23.544Z"
   },
   {
    "duration": 189,
    "start_time": "2025-03-07T04:53:24.269Z"
   },
   {
    "duration": 6,
    "start_time": "2025-03-07T04:53:24.461Z"
   },
   {
    "duration": 243,
    "start_time": "2025-03-07T04:53:24.469Z"
   },
   {
    "duration": 1086,
    "start_time": "2025-03-07T04:53:56.343Z"
   },
   {
    "duration": 16,
    "start_time": "2025-03-07T04:53:57.431Z"
   },
   {
    "duration": 5,
    "start_time": "2025-03-07T04:53:57.449Z"
   },
   {
    "duration": 6,
    "start_time": "2025-03-07T04:53:57.455Z"
   },
   {
    "duration": 6,
    "start_time": "2025-03-07T04:53:57.464Z"
   },
   {
    "duration": 730,
    "start_time": "2025-03-07T04:53:57.471Z"
   },
   {
    "duration": 201,
    "start_time": "2025-03-07T04:53:58.203Z"
   },
   {
    "duration": 7,
    "start_time": "2025-03-07T04:53:58.405Z"
   },
   {
    "duration": 99,
    "start_time": "2025-03-07T04:53:58.425Z"
   },
   {
    "duration": 85,
    "start_time": "2025-03-07T04:55:03.621Z"
   },
   {
    "duration": 6,
    "start_time": "2025-03-07T04:58:46.863Z"
   },
   {
    "duration": 85,
    "start_time": "2025-03-07T04:59:09.324Z"
   },
   {
    "duration": 1085,
    "start_time": "2025-03-07T05:00:40.017Z"
   },
   {
    "duration": 20,
    "start_time": "2025-03-07T05:00:41.105Z"
   },
   {
    "duration": 5,
    "start_time": "2025-03-07T05:00:41.128Z"
   },
   {
    "duration": 4,
    "start_time": "2025-03-07T05:00:41.135Z"
   },
   {
    "duration": 5,
    "start_time": "2025-03-07T05:00:41.142Z"
   },
   {
    "duration": 139,
    "start_time": "2025-03-07T05:00:41.149Z"
   },
   {
    "duration": 9,
    "start_time": "2025-03-07T05:00:41.290Z"
   },
   {
    "duration": 701,
    "start_time": "2025-03-07T05:00:41.301Z"
   },
   {
    "duration": 198,
    "start_time": "2025-03-07T05:00:42.005Z"
   },
   {
    "duration": 401,
    "start_time": "2025-03-07T05:06:38.372Z"
   },
   {
    "duration": 193,
    "start_time": "2025-03-07T05:07:32.000Z"
   },
   {
    "duration": 194,
    "start_time": "2025-03-07T05:08:55.090Z"
   },
   {
    "duration": 182,
    "start_time": "2025-03-07T05:10:34.007Z"
   },
   {
    "duration": 181,
    "start_time": "2025-03-07T05:11:50.261Z"
   },
   {
    "duration": 211,
    "start_time": "2025-03-07T05:12:41.016Z"
   },
   {
    "duration": 191,
    "start_time": "2025-03-07T05:13:04.875Z"
   },
   {
    "duration": 194,
    "start_time": "2025-03-07T05:13:27.108Z"
   },
   {
    "duration": 178,
    "start_time": "2025-03-07T05:14:00.870Z"
   },
   {
    "duration": 171,
    "start_time": "2025-03-07T05:14:11.830Z"
   },
   {
    "duration": 172,
    "start_time": "2025-03-07T05:15:38.929Z"
   },
   {
    "duration": 191,
    "start_time": "2025-03-07T05:15:56.401Z"
   },
   {
    "duration": 1078,
    "start_time": "2025-03-07T05:20:18.762Z"
   },
   {
    "duration": 20,
    "start_time": "2025-03-07T05:20:19.842Z"
   },
   {
    "duration": 5,
    "start_time": "2025-03-07T05:20:19.865Z"
   },
   {
    "duration": 5,
    "start_time": "2025-03-07T05:20:19.872Z"
   },
   {
    "duration": 6,
    "start_time": "2025-03-07T05:20:19.880Z"
   },
   {
    "duration": 127,
    "start_time": "2025-03-07T05:20:19.887Z"
   },
   {
    "duration": 11,
    "start_time": "2025-03-07T05:20:20.017Z"
   },
   {
    "duration": 694,
    "start_time": "2025-03-07T05:20:20.030Z"
   },
   {
    "duration": 196,
    "start_time": "2025-03-07T05:20:20.726Z"
   },
   {
    "duration": 176,
    "start_time": "2025-03-07T05:20:20.926Z"
   }
  ],
  "kernelspec": {
   "display_name": "Python 3 (ipykernel)",
   "language": "python",
   "name": "python3"
  },
  "language_info": {
   "codemirror_mode": {
    "name": "ipython",
    "version": 3
   },
   "file_extension": ".py",
   "mimetype": "text/x-python",
   "name": "python",
   "nbconvert_exporter": "python",
   "pygments_lexer": "ipython3",
   "version": "3.9.19"
  },
  "toc": {
   "base_numbering": 1,
   "nav_menu": {},
   "number_sections": true,
   "sideBar": true,
   "skip_h1_title": true,
   "title_cell": "Table of Contents",
   "title_sidebar": "Contents",
   "toc_cell": false,
   "toc_position": {},
   "toc_section_display": true,
   "toc_window_display": false
  }
 },
 "nbformat": 4,
 "nbformat_minor": 2
}
