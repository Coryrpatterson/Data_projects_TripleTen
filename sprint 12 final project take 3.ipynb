{
 "cells": [
  {
   "cell_type": "markdown",
   "metadata": {},
   "source": [
    "\n",
    "<div style=\"border-radius: 15px; border: 3px solid indigo; padding: 15px;\">\n",
    "<b> Reviewer's comment 2</b>\n",
    "\n",
    "\n",
    "Thank you for submitting the project! I appreciate the time you took to update it!  I've left a couple of new comments with digit 2. Would you please take a look? \n",
    "\n",
    "    \n",
    "</div>"
   ]
  },
  {
   "cell_type": "markdown",
   "metadata": {},
   "source": [
    "<div style=\"border-radius: 15px; border: 3px solid indigo; padding: 15px;\">\n",
    "<b> Reviewer's comment</b>\n",
    "    \n",
    "Hi Cory! Congratulations on submitting another project! 🎉\n",
    "    \n",
    "\n",
    "Before we start, I want to pay your attention to the color marking:\n",
    "    \n",
    "\n",
    "   \n",
    "    \n",
    "<div class=\"alert alert-success\" style=\"border-radius: 15px; box-shadow: 4px 4px 4px; border: 1px solid \">\n",
    "\n",
    "Great solutions and ideas that can and should be used in the future are in green comments. Some of them are: \n",
    "    \n",
    "    \n",
    "- You have successfully prepared the subsets. It is important to split the data correctly in order to ensure there's no intersection;    \n",
    "   \n",
    "\n",
    "    \n",
    "- Used the correct way to encode columns;    \n",
    "    \n",
    "    \n",
    "    \n",
    "- Trained and compared several models, great!\n",
    "\n",
    "    \n",
    "- Analyzed metric and speed values;\n",
    "\n",
    "    \n",
    "    \n",
    "- Wrote an excellent conclusion that shows how the project met its objectives. Good job! \n",
    "\n",
    "</div>\n",
    "    \n",
    "<div class=\"alert alert-warning\" style=\"border-radius: 15px; box-shadow: 4px 4px 4px; border: 1px solid \">\n",
    "<b> Reviewer's comment </b>\n",
    "\n",
    "Yellow color indicates what should be optimized. This is not necessary, but it will be great if you make changes to this project. I've left several recommendations throughout the project. Please take a look.\n",
    " \n",
    "</div>\n",
    "<div class=\"alert alert-danger\" style=\"border-radius: 15px; box-shadow: 4px 4px 4px; border: 1px solid \">\n",
    "<b> Reviewer's comment </b>\n",
    "\n",
    "Issues that must be corrected to achieve accurate results are indicated in red comments. Please note that the project cannot be accepted until these issues are resolved. For instance,\n",
    "\n",
    "\n",
    "\n",
    "- Please try to explore the distributions and add conclusions. In real-world problems, the data is rarely clean. Displaying distributions help us evaluate the data, find outliers, identify the required preprocessing steps and understand feature relationships, which informs feature engineering. Feature engineering in some cases is a clue; \n",
    "\n",
    "    \n",
    "    \n",
    "- Check the data for the duplicates after you drop irrelevant columns; \n",
    "    \n",
    "\n",
    "\n",
    "- We also need to tune hyperparameters. We tune them to identify the hyperparameters that will yield the desired metric value. Would you try to implement it?  \n",
    "\n",
    "\n",
    "\n",
    "      \n",
    "- Please don't use the test subset until the final test for the reason I stated in one of my comments;\n",
    "\n",
    "\n",
    "\n",
    "There may be other issues that need your attention. I described everything in my comments.  \n",
    "</div>        \n",
    "<hr>\n",
    "    \n",
    "<font color='dodgerblue'>**To sum up:**</font> great job here! You demonstrated strong analytical and modeling skills by preparing the data, experimenting with multiple advanced models, and evaluating them with appropriate metrics. The conclusion clearly communicates which model offers the best trade-off between speed and RMSE. There are just several issues that need your attention. Please take a look at my comments and do not hesitate to ask questions if some of them seem unclear. I will wait the project for the second review 😊 \n",
    "    \n",
    "\n",
    "<hr>\n",
    "    \n",
    "Please use some color other than those listed to highlight answers to my comments.\n",
    "I would also ask you **not to change, move or delete my comments** to make it easier for me to navigate during the next review.\n",
    "    \n",
    "<hr> \n",
    "    \n",
    "✍️ Here's a link to [Supervised Learning documenation sections](https://scikit-learn.org/stable/supervised_learning.html) that you may find useful.\n",
    "    \n",
    "<hr>\n",
    "    \n",
    "    \n",
    "📌 Please feel free to schedule a 1:1 sessions with our tutors or TAs Feel free to book 1-1 session [here](https://calendly.com/tripleten-ds-experts-team), join daily coworking sessions, or ask questions in the sprint channels on Discord if you need assistance 😉 \n",
    "</div>"
   ]
  },
  {
   "cell_type": "markdown",
   "metadata": {},
   "source": [
    "Rusty Bargain used car sales service is developing an app to attract new customers. In that app, you can quickly find out the market value of your car. You have access to historical data: technical specifications, trim versions, and prices. You need to build the model to determine the value. \n",
    "\n",
    "Rusty Bargain is interested in:\n",
    "\n",
    "- the quality of the prediction;\n",
    "- the speed of the prediction;\n",
    "- the time required for training"
   ]
  },
  {
   "cell_type": "markdown",
   "metadata": {},
   "source": [
    "<div class=\"alert alert-success\" style=\"border-radius: 15px; box-shadow: 4px 4px 4px; border: 1px solid \">\n",
    "<h2>   Reviewer's comment </h2>\n",
    "    \n",
    "Good introduction that reflects the core goals. Well done!  \n",
    "    \n",
    "</div>"
   ]
  },
  {
   "cell_type": "markdown",
   "metadata": {},
   "source": [
    "## Data preparation"
   ]
  },
  {
   "cell_type": "code",
   "execution_count": 1,
   "metadata": {},
   "outputs": [],
   "source": [
    "import pandas as pd\n",
    "from sklearn.model_selection import train_test_split\n",
    "from sklearn.ensemble import RandomForestRegressor\n",
    "from sklearn.pipeline import Pipeline\n",
    "from sklearn.preprocessing import OneHotEncoder\n",
    "from sklearn.impute import SimpleImputer\n",
    "from sklearn.compose import ColumnTransformer\n",
    "from sklearn.metrics import mean_squared_error\n",
    "from sklearn.linear_model import LinearRegression\n",
    "from sklearn.preprocessing import StandardScaler\n",
    "from sklearn.linear_model import LogisticRegression\n",
    "import numpy as np\n",
    "import matplotlib.pyplot as plt\n",
    "import seaborn as sns\n",
    "import plotly.express as px\n",
    "from sklearn.model_selection import RandomizedSearchCV, GridSearchCV\n",
    "import math\n",
    "import lightgbm as lgb\n",
    "from lightgbm import LGBMClassifier\n",
    "from xgboost import XGBClassifier, XGBRegressor\n",
    "from catboost import CatBoostRegressor, Pool, metrics, cv\n",
    "import xgboost as xgb\n",
    "import time"
   ]
  },
  {
   "cell_type": "code",
   "execution_count": 2,
   "metadata": {},
   "outputs": [
    {
     "data": {
      "text/html": [
       "<div>\n",
       "<style scoped>\n",
       "    .dataframe tbody tr th:only-of-type {\n",
       "        vertical-align: middle;\n",
       "    }\n",
       "\n",
       "    .dataframe tbody tr th {\n",
       "        vertical-align: top;\n",
       "    }\n",
       "\n",
       "    .dataframe thead th {\n",
       "        text-align: right;\n",
       "    }\n",
       "</style>\n",
       "<table border=\"1\" class=\"dataframe\">\n",
       "  <thead>\n",
       "    <tr style=\"text-align: right;\">\n",
       "      <th></th>\n",
       "      <th>DateCrawled</th>\n",
       "      <th>Price</th>\n",
       "      <th>VehicleType</th>\n",
       "      <th>RegistrationYear</th>\n",
       "      <th>Gearbox</th>\n",
       "      <th>Power</th>\n",
       "      <th>Model</th>\n",
       "      <th>Mileage</th>\n",
       "      <th>RegistrationMonth</th>\n",
       "      <th>FuelType</th>\n",
       "      <th>Brand</th>\n",
       "      <th>NotRepaired</th>\n",
       "      <th>DateCreated</th>\n",
       "      <th>NumberOfPictures</th>\n",
       "      <th>PostalCode</th>\n",
       "      <th>LastSeen</th>\n",
       "    </tr>\n",
       "  </thead>\n",
       "  <tbody>\n",
       "    <tr>\n",
       "      <th>0</th>\n",
       "      <td>24/03/2016 11:52</td>\n",
       "      <td>480</td>\n",
       "      <td>NaN</td>\n",
       "      <td>1993</td>\n",
       "      <td>manual</td>\n",
       "      <td>0</td>\n",
       "      <td>golf</td>\n",
       "      <td>150000</td>\n",
       "      <td>0</td>\n",
       "      <td>petrol</td>\n",
       "      <td>volkswagen</td>\n",
       "      <td>NaN</td>\n",
       "      <td>24/03/2016 00:00</td>\n",
       "      <td>0</td>\n",
       "      <td>70435</td>\n",
       "      <td>07/04/2016 03:16</td>\n",
       "    </tr>\n",
       "    <tr>\n",
       "      <th>1</th>\n",
       "      <td>24/03/2016 10:58</td>\n",
       "      <td>18300</td>\n",
       "      <td>coupe</td>\n",
       "      <td>2011</td>\n",
       "      <td>manual</td>\n",
       "      <td>190</td>\n",
       "      <td>NaN</td>\n",
       "      <td>125000</td>\n",
       "      <td>5</td>\n",
       "      <td>gasoline</td>\n",
       "      <td>audi</td>\n",
       "      <td>yes</td>\n",
       "      <td>24/03/2016 00:00</td>\n",
       "      <td>0</td>\n",
       "      <td>66954</td>\n",
       "      <td>07/04/2016 01:46</td>\n",
       "    </tr>\n",
       "    <tr>\n",
       "      <th>2</th>\n",
       "      <td>14/03/2016 12:52</td>\n",
       "      <td>9800</td>\n",
       "      <td>suv</td>\n",
       "      <td>2004</td>\n",
       "      <td>auto</td>\n",
       "      <td>163</td>\n",
       "      <td>grand</td>\n",
       "      <td>125000</td>\n",
       "      <td>8</td>\n",
       "      <td>gasoline</td>\n",
       "      <td>jeep</td>\n",
       "      <td>NaN</td>\n",
       "      <td>14/03/2016 00:00</td>\n",
       "      <td>0</td>\n",
       "      <td>90480</td>\n",
       "      <td>05/04/2016 12:47</td>\n",
       "    </tr>\n",
       "    <tr>\n",
       "      <th>3</th>\n",
       "      <td>17/03/2016 16:54</td>\n",
       "      <td>1500</td>\n",
       "      <td>small</td>\n",
       "      <td>2001</td>\n",
       "      <td>manual</td>\n",
       "      <td>75</td>\n",
       "      <td>golf</td>\n",
       "      <td>150000</td>\n",
       "      <td>6</td>\n",
       "      <td>petrol</td>\n",
       "      <td>volkswagen</td>\n",
       "      <td>no</td>\n",
       "      <td>17/03/2016 00:00</td>\n",
       "      <td>0</td>\n",
       "      <td>91074</td>\n",
       "      <td>17/03/2016 17:40</td>\n",
       "    </tr>\n",
       "    <tr>\n",
       "      <th>4</th>\n",
       "      <td>31/03/2016 17:25</td>\n",
       "      <td>3600</td>\n",
       "      <td>small</td>\n",
       "      <td>2008</td>\n",
       "      <td>manual</td>\n",
       "      <td>69</td>\n",
       "      <td>fabia</td>\n",
       "      <td>90000</td>\n",
       "      <td>7</td>\n",
       "      <td>gasoline</td>\n",
       "      <td>skoda</td>\n",
       "      <td>no</td>\n",
       "      <td>31/03/2016 00:00</td>\n",
       "      <td>0</td>\n",
       "      <td>60437</td>\n",
       "      <td>06/04/2016 10:17</td>\n",
       "    </tr>\n",
       "  </tbody>\n",
       "</table>\n",
       "</div>"
      ],
      "text/plain": [
       "        DateCrawled  Price VehicleType  RegistrationYear Gearbox  Power  \\\n",
       "0  24/03/2016 11:52    480         NaN              1993  manual      0   \n",
       "1  24/03/2016 10:58  18300       coupe              2011  manual    190   \n",
       "2  14/03/2016 12:52   9800         suv              2004    auto    163   \n",
       "3  17/03/2016 16:54   1500       small              2001  manual     75   \n",
       "4  31/03/2016 17:25   3600       small              2008  manual     69   \n",
       "\n",
       "   Model  Mileage  RegistrationMonth  FuelType       Brand NotRepaired  \\\n",
       "0   golf   150000                  0    petrol  volkswagen         NaN   \n",
       "1    NaN   125000                  5  gasoline        audi         yes   \n",
       "2  grand   125000                  8  gasoline        jeep         NaN   \n",
       "3   golf   150000                  6    petrol  volkswagen          no   \n",
       "4  fabia    90000                  7  gasoline       skoda          no   \n",
       "\n",
       "        DateCreated  NumberOfPictures  PostalCode          LastSeen  \n",
       "0  24/03/2016 00:00                 0       70435  07/04/2016 03:16  \n",
       "1  24/03/2016 00:00                 0       66954  07/04/2016 01:46  \n",
       "2  14/03/2016 00:00                 0       90480  05/04/2016 12:47  \n",
       "3  17/03/2016 00:00                 0       91074  17/03/2016 17:40  \n",
       "4  31/03/2016 00:00                 0       60437  06/04/2016 10:17  "
      ]
     },
     "metadata": {},
     "output_type": "display_data"
    },
    {
     "name": "stdout",
     "output_type": "stream",
     "text": [
      "<class 'pandas.core.frame.DataFrame'>\n",
      "RangeIndex: 354369 entries, 0 to 354368\n",
      "Data columns (total 16 columns):\n",
      " #   Column             Non-Null Count   Dtype \n",
      "---  ------             --------------   ----- \n",
      " 0   DateCrawled        354369 non-null  object\n",
      " 1   Price              354369 non-null  int64 \n",
      " 2   VehicleType        316879 non-null  object\n",
      " 3   RegistrationYear   354369 non-null  int64 \n",
      " 4   Gearbox            334536 non-null  object\n",
      " 5   Power              354369 non-null  int64 \n",
      " 6   Model              334664 non-null  object\n",
      " 7   Mileage            354369 non-null  int64 \n",
      " 8   RegistrationMonth  354369 non-null  int64 \n",
      " 9   FuelType           321474 non-null  object\n",
      " 10  Brand              354369 non-null  object\n",
      " 11  NotRepaired        283215 non-null  object\n",
      " 12  DateCreated        354369 non-null  object\n",
      " 13  NumberOfPictures   354369 non-null  int64 \n",
      " 14  PostalCode         354369 non-null  int64 \n",
      " 15  LastSeen           354369 non-null  object\n",
      "dtypes: int64(7), object(9)\n",
      "memory usage: 43.3+ MB\n"
     ]
    },
    {
     "data": {
      "text/plain": [
       "None"
      ]
     },
     "metadata": {},
     "output_type": "display_data"
    }
   ],
   "source": [
    "df = pd.read_csv('/datasets/car_data.csv')\n",
    "display(df.head())\n",
    "display(df.info())"
   ]
  },
  {
   "cell_type": "code",
   "execution_count": 3,
   "metadata": {},
   "outputs": [
    {
     "data": {
      "text/plain": [
       "DateCrawled              0\n",
       "Price                    0\n",
       "VehicleType          37490\n",
       "RegistrationYear         0\n",
       "Gearbox              19833\n",
       "Power                    0\n",
       "Model                19705\n",
       "Mileage                  0\n",
       "RegistrationMonth        0\n",
       "FuelType             32895\n",
       "Brand                    0\n",
       "NotRepaired          71154\n",
       "DateCreated              0\n",
       "NumberOfPictures         0\n",
       "PostalCode               0\n",
       "LastSeen                 0\n",
       "dtype: int64"
      ]
     },
     "metadata": {},
     "output_type": "display_data"
    }
   ],
   "source": [
    "missing_values = df.isnull().sum()\n",
    "display(missing_values)"
   ]
  },
  {
   "cell_type": "code",
   "execution_count": 4,
   "metadata": {
    "scrolled": true
   },
   "outputs": [
    {
     "name": "stdout",
     "output_type": "stream",
     "text": [
      "<class 'pandas.core.frame.DataFrame'>\n",
      "RangeIndex: 354369 entries, 0 to 354368\n",
      "Data columns (total 16 columns):\n",
      " #   Column             Non-Null Count   Dtype \n",
      "---  ------             --------------   ----- \n",
      " 0   DateCrawled        354369 non-null  object\n",
      " 1   Price              354369 non-null  int64 \n",
      " 2   VehicleType        354369 non-null  object\n",
      " 3   RegistrationYear   354369 non-null  int64 \n",
      " 4   Gearbox            354369 non-null  object\n",
      " 5   Power              354369 non-null  int64 \n",
      " 6   Model              354369 non-null  object\n",
      " 7   Mileage            354369 non-null  int64 \n",
      " 8   RegistrationMonth  354369 non-null  int64 \n",
      " 9   FuelType           354369 non-null  object\n",
      " 10  Brand              354369 non-null  object\n",
      " 11  NotRepaired        354369 non-null  object\n",
      " 12  DateCreated        354369 non-null  object\n",
      " 13  NumberOfPictures   354369 non-null  int64 \n",
      " 14  PostalCode         354369 non-null  int64 \n",
      " 15  LastSeen           354369 non-null  object\n",
      "dtypes: int64(7), object(9)\n",
      "memory usage: 43.3+ MB\n"
     ]
    },
    {
     "data": {
      "text/plain": [
       "None"
      ]
     },
     "metadata": {},
     "output_type": "display_data"
    }
   ],
   "source": [
    "df.fillna('None', inplace=True)\n",
    "display(df.info())"
   ]
  },
  {
   "cell_type": "markdown",
   "metadata": {},
   "source": [
    "<div class=\"alert alert-success\" style=\"border-radius: 15px; box-shadow: 4px 4px 4px; border: 1px solid \">\n",
    "<h2>   Reviewer's comment  </h2>\n",
    "    \n",
    "Makes sense! It's better than deleting them. Moreover, it is normal that sometimes sellers do not specify some information. The model should \"know\" about such cases. We even should not use median or mode. Even though the median does not skew the distribution, we have to many missing values to fill in because there is a risk of biasing the data.   \n",
    "    \n",
    "</div>"
   ]
  },
  {
   "cell_type": "code",
   "execution_count": 5,
   "metadata": {
    "scrolled": true
   },
   "outputs": [
    {
     "name": "stdout",
     "output_type": "stream",
     "text": [
      "Minimum Price: €0\n",
      "Maximum Price: €20000\n",
      "Median Price: €2700.0\n"
     ]
    }
   ],
   "source": [
    "min_price = df['Price'].min()\n",
    "max_price = df['Price'].max()\n",
    "median_price = df['Price'].median()\n",
    "\n",
    "print(f\"Minimum Price: €{min_price}\")\n",
    "print(f\"Maximum Price: €{max_price}\")\n",
    "print(f\"Median Price: €{median_price}\")"
   ]
  },
  {
   "cell_type": "code",
   "execution_count": 6,
   "metadata": {
    "scrolled": true
   },
   "outputs": [
    {
     "name": "stdout",
     "output_type": "stream",
     "text": [
      "Duplicates removed after dropping columns: 538\n",
      "Remaining rows: 353831, Columns: 10\n"
     ]
    }
   ],
   "source": [
    "columns_to_drop = [\"LastSeen\", \"DateCreated\", \"RegistrationYear\", \"RegistrationMonth\", \"PostalCode\", \"NumberOfPictures\"]\n",
    "df = df.drop(columns=columns_to_drop, errors=\"ignore\")\n",
    "\n",
    "# Step 2: Check and remove duplicates\n",
    "initial_shape = df.shape\n",
    "df = df.drop_duplicates()\n",
    "final_shape = df.shape\n",
    "\n",
    "# Step 3: Report how many duplicates were removed\n",
    "duplicates_removed = initial_shape[0] - final_shape[0]\n",
    "print(f\"Duplicates removed after dropping columns: {duplicates_removed}\")\n",
    "print(f\"Remaining rows: {final_shape[0]}, Columns: {final_shape[1]}\")"
   ]
  },
  {
   "cell_type": "code",
   "execution_count": 7,
   "metadata": {
    "scrolled": true
   },
   "outputs": [
    {
     "data": {
      "text/html": [
       "<div>\n",
       "<style scoped>\n",
       "    .dataframe tbody tr th:only-of-type {\n",
       "        vertical-align: middle;\n",
       "    }\n",
       "\n",
       "    .dataframe tbody tr th {\n",
       "        vertical-align: top;\n",
       "    }\n",
       "\n",
       "    .dataframe thead th {\n",
       "        text-align: right;\n",
       "    }\n",
       "</style>\n",
       "<table border=\"1\" class=\"dataframe\">\n",
       "  <thead>\n",
       "    <tr style=\"text-align: right;\">\n",
       "      <th></th>\n",
       "      <th>Price</th>\n",
       "      <th>Power</th>\n",
       "      <th>Mileage</th>\n",
       "    </tr>\n",
       "  </thead>\n",
       "  <tbody>\n",
       "    <tr>\n",
       "      <th>count</th>\n",
       "      <td>353831.000000</td>\n",
       "      <td>353831.000000</td>\n",
       "      <td>353831.000000</td>\n",
       "    </tr>\n",
       "    <tr>\n",
       "      <th>mean</th>\n",
       "      <td>4415.400055</td>\n",
       "      <td>110.076890</td>\n",
       "      <td>128215.433357</td>\n",
       "    </tr>\n",
       "    <tr>\n",
       "      <th>std</th>\n",
       "      <td>4514.057788</td>\n",
       "      <td>189.981616</td>\n",
       "      <td>37905.632881</td>\n",
       "    </tr>\n",
       "    <tr>\n",
       "      <th>min</th>\n",
       "      <td>0.000000</td>\n",
       "      <td>0.000000</td>\n",
       "      <td>5000.000000</td>\n",
       "    </tr>\n",
       "    <tr>\n",
       "      <th>25%</th>\n",
       "      <td>1050.000000</td>\n",
       "      <td>69.000000</td>\n",
       "      <td>125000.000000</td>\n",
       "    </tr>\n",
       "    <tr>\n",
       "      <th>50%</th>\n",
       "      <td>2700.000000</td>\n",
       "      <td>105.000000</td>\n",
       "      <td>150000.000000</td>\n",
       "    </tr>\n",
       "    <tr>\n",
       "      <th>75%</th>\n",
       "      <td>6400.000000</td>\n",
       "      <td>143.000000</td>\n",
       "      <td>150000.000000</td>\n",
       "    </tr>\n",
       "    <tr>\n",
       "      <th>max</th>\n",
       "      <td>20000.000000</td>\n",
       "      <td>20000.000000</td>\n",
       "      <td>150000.000000</td>\n",
       "    </tr>\n",
       "  </tbody>\n",
       "</table>\n",
       "</div>"
      ],
      "text/plain": [
       "               Price          Power        Mileage\n",
       "count  353831.000000  353831.000000  353831.000000\n",
       "mean     4415.400055     110.076890  128215.433357\n",
       "std      4514.057788     189.981616   37905.632881\n",
       "min         0.000000       0.000000    5000.000000\n",
       "25%      1050.000000      69.000000  125000.000000\n",
       "50%      2700.000000     105.000000  150000.000000\n",
       "75%      6400.000000     143.000000  150000.000000\n",
       "max     20000.000000   20000.000000  150000.000000"
      ]
     },
     "metadata": {},
     "output_type": "display_data"
    }
   ],
   "source": [
    "display(df.describe())"
   ]
  },
  {
   "cell_type": "code",
   "execution_count": 8,
   "metadata": {
    "scrolled": true
   },
   "outputs": [
    {
     "data": {
      "image/png": "[encoded data removed]",
      "text/plain": [
       "<Figure size 1500x1500 with 3 Axes>"
      ]
     },
     "metadata": {},
     "output_type": "display_data"
    }
   ],
   "source": [
    "sns.set(style=\"whitegrid\")\n",
    "\n",
    "# Select numerical columns only\n",
    "numerical_cols = df.select_dtypes(exclude=[\"object\"]).columns\n",
    "\n",
    "# Create subplots for each numerical feature\n",
    "plt.figure(figsize=(15, 5 * len(numerical_cols)))\n",
    "\n",
    "for i, col in enumerate(numerical_cols, 1):\n",
    "    plt.subplot(len(numerical_cols), 1, i)\n",
    "    sns.boxplot(x=df[col], color=\"skyblue\")\n",
    "    plt.title(f\"Boxplot of {col}\")\n",
    "    plt.xlabel(\"\")\n",
    "\n",
    "plt.tight_layout()\n",
    "plt.show()"
   ]
  },
  {
   "cell_type": "markdown",
   "metadata": {},
   "source": [
    "We have a lot of outliers in the data, lets cap the data being looked at in order to get a better look at the information thats needed."
   ]
  },
  {
   "cell_type": "code",
   "execution_count": 9,
   "metadata": {
    "scrolled": true
   },
   "outputs": [
    {
     "data": {
      "text/html": [
       "<div>\n",
       "<style scoped>\n",
       "    .dataframe tbody tr th:only-of-type {\n",
       "        vertical-align: middle;\n",
       "    }\n",
       "\n",
       "    .dataframe tbody tr th {\n",
       "        vertical-align: top;\n",
       "    }\n",
       "\n",
       "    .dataframe thead th {\n",
       "        text-align: right;\n",
       "    }\n",
       "</style>\n",
       "<table border=\"1\" class=\"dataframe\">\n",
       "  <thead>\n",
       "    <tr style=\"text-align: right;\">\n",
       "      <th></th>\n",
       "      <th>Price</th>\n",
       "      <th>Power</th>\n",
       "      <th>Mileage</th>\n",
       "    </tr>\n",
       "  </thead>\n",
       "  <tbody>\n",
       "    <tr>\n",
       "      <th>count</th>\n",
       "      <td>353831.000000</td>\n",
       "      <td>353831.000000</td>\n",
       "      <td>353831.000000</td>\n",
       "    </tr>\n",
       "    <tr>\n",
       "      <th>mean</th>\n",
       "      <td>4300.664563</td>\n",
       "      <td>110.076890</td>\n",
       "      <td>128215.433357</td>\n",
       "    </tr>\n",
       "    <tr>\n",
       "      <th>std</th>\n",
       "      <td>4166.758310</td>\n",
       "      <td>189.981616</td>\n",
       "      <td>37905.632881</td>\n",
       "    </tr>\n",
       "    <tr>\n",
       "      <th>min</th>\n",
       "      <td>200.000000</td>\n",
       "      <td>0.000000</td>\n",
       "      <td>5000.000000</td>\n",
       "    </tr>\n",
       "    <tr>\n",
       "      <th>25%</th>\n",
       "      <td>1050.000000</td>\n",
       "      <td>69.000000</td>\n",
       "      <td>125000.000000</td>\n",
       "    </tr>\n",
       "    <tr>\n",
       "      <th>50%</th>\n",
       "      <td>2700.000000</td>\n",
       "      <td>105.000000</td>\n",
       "      <td>150000.000000</td>\n",
       "    </tr>\n",
       "    <tr>\n",
       "      <th>75%</th>\n",
       "      <td>6400.000000</td>\n",
       "      <td>143.000000</td>\n",
       "      <td>150000.000000</td>\n",
       "    </tr>\n",
       "    <tr>\n",
       "      <th>max</th>\n",
       "      <td>14600.000000</td>\n",
       "      <td>20000.000000</td>\n",
       "      <td>150000.000000</td>\n",
       "    </tr>\n",
       "  </tbody>\n",
       "</table>\n",
       "</div>"
      ],
      "text/plain": [
       "               Price          Power        Mileage\n",
       "count  353831.000000  353831.000000  353831.000000\n",
       "mean     4300.664563     110.076890  128215.433357\n",
       "std      4166.758310     189.981616   37905.632881\n",
       "min       200.000000       0.000000    5000.000000\n",
       "25%      1050.000000      69.000000  125000.000000\n",
       "50%      2700.000000     105.000000  150000.000000\n",
       "75%      6400.000000     143.000000  150000.000000\n",
       "max     14600.000000   20000.000000  150000.000000"
      ]
     },
     "metadata": {},
     "output_type": "display_data"
    }
   ],
   "source": [
    "lower_bound = df['Price'].quantile(0.05)\n",
    "upper_bound = df['Price'].quantile(0.95)\n",
    "\n",
    "df['Price'] = df['Price'].clip(lower=lower_bound, upper=upper_bound)\n",
    "display(df.describe())"
   ]
  },
  {
   "cell_type": "markdown",
   "metadata": {},
   "source": [
    "Now that the neccesary cleaning is done, we can see our price ranges, Lets look at those training models"
   ]
  },
  {
   "cell_type": "markdown",
   "metadata": {},
   "source": [
    "<div class=\"alert alert-success\" style=\"border-radius: 15px; box-shadow: 4px 4px 4px; border: 1px solid \">\n",
    "<h2>   Reviewer's comment 2 </h2>\n",
    "    \n",
    "Great job here! \n",
    "    \n",
    "</div>\n",
    "<div class=\"alert alert-warning\" style=\"border-radius: 15px; box-shadow: 4px 4px 4px; border: 1px solid \">\n",
    "<h2>   Reviewer's comment 2</h2>\n",
    "    \n",
    "    \n",
    "- IQR is often used to determine outliers in the normal distribution. Please keep in mind that not everything outside the boxplot whiskers is outlier. Likewise, not everything within whiskers is a normal data. This is because the whisker goes either to the maximum (minimum) or to 1.5 times the length of the box. The concentration of circles after the whiskers can be very high. Cutting off the whiskers, we can sometimes lose important information, as our sample can be really biased. So here you can drop values manually. \n",
    "\n",
    "\n",
    "\n",
    "- Minimum power value is still 0. \n",
    "\n",
    "</div>\n",
    "\n",
    "\n",
    "<div class=\"alert alert-warning\" style=\"border-radius: 15px; box-shadow: 4px 4px 4px; border: 1px solid \">\n",
    "<b>   Reviewer's comment </b>\n",
    "    \n",
    "- Consider comparing max dates in the `RegistrationYear` and  `DateCrawled` columns. Vehicle should not be registered after the data was downloaded :) \n",
    "\n",
    "\n",
    "\n",
    "\n",
    "- `DateCreated`, however, can be used to calculate the publication period. The longer an active advertisement remains published, the less likely the car is being sold, likely due to an overpriced offer.\n",
    "\n",
    "\n",
    "\n",
    "- Consider analyzing categories as well. Petrol and gasoline refer to the same fuel, so we can use one of these categories. There are some other rare fuel types that can be dropped. If a category appears only in the training or validation subset, for instance, and we use `handle_unknown='ignore'`, the linear model might miss important signals in validation or make predictions with incomplete features thus breaking the assumptions of linearity. It may be helpful to make sure that training and validation subsets use the same feature columns after encoding. \n",
    " \n",
    "</div>\n",
    "<div class=\"alert alert-danger\" style=\"border-radius: 15px; box-shadow: 4px 4px 4px; border: 1px solid \">\n",
    "<b> Reviewer's comment </b>\n",
    "    \n",
    "    \n",
    "- Isn't it strange that the minimum price is 0? Are there any outliers in the data?  Please call the `describe` method and display charts. Drop abnormal values if they exist. Hint: `price` and `power` columns definitely have outliers.\n",
    "\n",
    "\n",
    "\n",
    "\n",
    "- There are columns that should be deleted to reduce computational cost. These are:  `LastSeen`, `DateCreated`, `RegistrationYear`, `RegistrationMonth`, `PostalCode` and `NumberOfPictures`. After removing unnecessary columns, it makes sense to check the data for duplicates again, as the dataset will later be splitted into training and test sets. Removing specific columns can cause previously distinct rows to become identical. If a dropped column contained unique values (ID or timestamp), removing it may make multiple rows appear the same.   \n",
    "\n",
    "\n",
    "</div>\n"
   ]
  },
  {
   "cell_type": "markdown",
   "metadata": {},
   "source": [
    "## Model training"
   ]
  },
  {
   "cell_type": "code",
   "execution_count": 10,
   "metadata": {},
   "outputs": [
    {
     "name": "stdout",
     "output_type": "stream",
     "text": [
      "Random Forest RMSE: 3704.29\n",
      "Training time: 7.11 seconds\n",
      "Prediction time: 0.3481 seconds\n"
     ]
    }
   ],
   "source": [
    "X = df.drop(columns=[\"Price\"])\n",
    "y = df[\"Price\"]\n",
    "\n",
    "# Split data\n",
    "X_train, X_temp, y_train, y_temp = train_test_split(X, y, test_size=0.2, random_state=42)\n",
    "X_valid, X_test, y_valid, y_test = train_test_split(X_temp, y_temp, test_size=0.5, random_state=42)\n",
    "\n",
    "# Identify column types\n",
    "categorical_features = X.select_dtypes(include=[\"object\"]).columns.tolist()\n",
    "numerical_features = X.select_dtypes(exclude=[\"object\"]).columns.tolist()\n",
    "\n",
    "# Define transformers\n",
    "numerical_transformer = SimpleImputer(strategy=\"median\")\n",
    "categorical_transformer = Pipeline(steps=[\n",
    "    (\"imputer\", SimpleImputer(strategy=\"most_frequent\")),\n",
    "    (\"encoder\", OneHotEncoder(handle_unknown=\"ignore\"))\n",
    "])\n",
    "\n",
    "# Create the preprocessor\n",
    "preprocessor = ColumnTransformer(transformers=[\n",
    "    (\"num\", numerical_transformer, numerical_features),\n",
    "    (\"cat\", categorical_transformer, categorical_features)\n",
    "])\n",
    "rf_model = RandomForestRegressor(\n",
    "    n_estimators=200,           # number of trees in the forest\n",
    "    max_depth=15,               # max depth of each tree\n",
    "    min_samples_split=5,        # min samples to split an internal node\n",
    "    min_samples_leaf=2,         # min samples required at a leaf node\n",
    "    max_features='sqrt',        # number of features to consider at each split\n",
    "    random_state=42,\n",
    "    n_jobs=-1\n",
    ")\n",
    "\n",
    "# Create the pipeline\n",
    "model = Pipeline(steps=[\n",
    "    (\"preprocessor\", preprocessor),\n",
    "    (\"regressor\", rf_model)\n",
    "])\n",
    "\n",
    "# Track training time\n",
    "start_train = time.time()\n",
    "model.fit(X_train, y_train)\n",
    "end_train = time.time()\n",
    "\n",
    "# Track prediction time\n",
    "start_pred = time.time()\n",
    "predictions = model.predict(X_valid)\n",
    "end_pred = time.time()\n",
    "\n",
    "# Evaluate the model\n",
    "rmse = mean_squared_error(y_valid, predictions, squared=False)\n",
    "print(f\"Random Forest RMSE: {rmse:.2f}\")\n",
    "print(f\"Training time: {end_train - start_train:.2f} seconds\")\n",
    "print(f\"Prediction time: {end_pred - start_pred:.4f} seconds\")"
   ]
  },
  {
   "cell_type": "markdown",
   "metadata": {},
   "source": [
    "<div class=\"alert alert-danger\" style=\"border-radius: 15px; box-shadow: 4px 4px 4px; border: 1px solid \">\n",
    "<h2> Reviewer's comment 2 </h2>\n",
    "    \n",
    "Please do not use `X_test` and `y_test` in the cell above. In this section, we only train and/or tune models. We do not use test subset. This subset is saved for the final testing, which is conducted for the best model chosen among all models we trained. In other words, we first train and tune models using train and validation subsets, we do not use test subset, then we compare RMSE and choose the best model, it's one model. Only then we conduct the final testing with this one model using the test subset. So the test subset is used once in the whole project. \n",
    "\n",
    "\n",
    "</div>"
   ]
  },
  {
   "cell_type": "markdown",
   "metadata": {},
   "source": [
    "<div class=\"alert alert-\" style=\"border-radius: 15px; box-shadow: 4px 4px 4px; border: 1px solid \">\n",
    "<h4>   student's comment </h4>\n",
    "    \n",
    "   I was told to leave a comment by my cohorts tutor. As will show I created a validation split and used that through out. I was told to leave this note stating that using the X_test and y_test in the manner i did was even confusing to him (Anit) due to the fact that I was only using them for time stamp purposes. and to seek for further explenation if I needed to change anything after what I have already changed. Thanks"
   ]
  },
  {
   "cell_type": "markdown",
   "metadata": {},
   "source": [
    "<div class=\"alert alert-success\" style=\"border-radius: 15px; box-shadow: 4px 4px 4px; border: 1px solid \">\n",
    "<h2> Reviewer's comment </h2>\n",
    "    \n",
    "Great choice! `OneHotEncoder(handle_unknown='ignore')` or `OrdinalEncoder(handle_unknown='use_encoded_value', unknown_value=-1)` are generally more robust than `get_dummies` because they can handle situations where test subset has features that were not available during training. [Difference between OneHotEncoder and get_dummies](https://pythonsimplified.com/difference-between-onehotencoder-and-get_dummies/). \n",
    "    \n",
    "    \n",
    "    \n",
    "For tree-based models, `OrdinalEncoder` is a better choice because of computational cost. For boosting algorithms, we can rely on internal encoders that usually perform even better than external ones. For `CatBoost`, this is controlled by the `cat_features` parameter. For `LightGBM`, you can convert categorical features to the category type, allowing the model to handle them automatically.\n",
    "    \n",
    "    \n",
    "    \n",
    "Please note that `OrdinalEncoder()` should not be used with linear models if there's no ordinal relationship. [How and When to Use Ordinal Encoder](https://leochoi146.medium.com/how-and-when-to-use-ordinal-encoder-d8b0ef90c28c).\n",
    "\n",
    "\n",
    "</div>\n",
    "\n",
    "<div class=\"alert alert-danger\" style=\"border-radius: 15px; box-shadow: 4px 4px 4px; border: 1px solid \">\n",
    "<h2> Reviewer's comment </h2>\n",
    "    \n",
    "Please make sure you save at least one subset for the final testing. In the cell above, you split the data into 2 subsets. If one of the subsets must be saved for the final test and must not be touched, RMSE must be evaluated on the same subset you use for training. \n",
    "    \n",
    "\n",
    "\n",
    "\n",
    "</div>"
   ]
  },
  {
   "cell_type": "code",
   "execution_count": 11,
   "metadata": {},
   "outputs": [
    {
     "name": "stdout",
     "output_type": "stream",
     "text": [
      "Linear Regression RMSE: 3080.38\n",
      "Training time: 0.9857 seconds\n",
      "Prediction time: 0.1527 seconds\n"
     ]
    }
   ],
   "source": [
    "model = Pipeline(steps=[\n",
    "    (\"preprocessor\", preprocessor),\n",
    "    (\"regressor\", LinearRegression())\n",
    "])\n",
    "\n",
    "model.fit(X_train, y_train)\n",
    "predictions = model.predict(X_train)\n",
    "\n",
    "\n",
    "# Track training time\n",
    "start_train = time.time()\n",
    "model.fit(X_train, y_train)\n",
    "end_train = time.time()\n",
    "\n",
    "# Track prediction time\n",
    "start_pred = time.time()\n",
    "predictions = model.predict(X_valid)\n",
    "end_pred = time.time()\n",
    "\n",
    "# Evaluate the model\n",
    "rmse = mean_squared_error(y_valid, predictions, squared=False)\n",
    "print(f\"Linear Regression RMSE: {rmse:.2f}\")\n",
    "print(f\"Training time: {end_train - start_train:.4f} seconds\")\n",
    "print(f\"Prediction time: {end_pred - start_pred:.4f} seconds\")"
   ]
  },
  {
   "cell_type": "markdown",
   "metadata": {},
   "source": [
    "<div class=\"alert alert-danger\" style=\"border-radius: 15px; box-shadow: 4px 4px 4px; border: 1px solid \">\n",
    "<h2> Reviewer's comment 2 </h2>\n",
    "    \n",
    "Please do not use `X_test` and `y_test` in the cell above for the reason I mentioned above. Please make predictions and calculate metric on the training data. \n",
    "\n",
    "\n",
    "</div>"
   ]
  },
  {
   "cell_type": "markdown",
   "metadata": {},
   "source": [
    "\n",
    "<div class=\"alert alert-danger\" style=\"border-radius: 15px; box-shadow: 4px 4px 4px; border: 1px solid \">\n",
    "<h2> Reviewer's comment </h2>\n",
    "    \n",
    "Here and below, please use training or validation subset.     \n",
    "\n",
    "\n",
    "\n",
    "</div>"
   ]
  },
  {
   "cell_type": "markdown",
   "metadata": {},
   "source": [
    "Interesting, with the Random Forest we get a lower MSE then with the Linear Regressions, Its interesting to see that Random Forest took multiple minutes to train yet only thousandths of a second. Lets see if any of this changes when we use Gradient Boosting"
   ]
  },
  {
   "cell_type": "code",
   "execution_count": 12,
   "metadata": {
    "scrolled": true
   },
   "outputs": [
    {
     "name": "stdout",
     "output_type": "stream",
     "text": [
      "Fitting 3 folds for each of 10 candidates, totalling 30 fits\n",
      "[CV] END max_depth=20, max_features=sqrt, min_samples_leaf=4, min_samples_split=10, n_estimators=100; total time=  13.2s\n",
      "[CV] END max_depth=20, max_features=sqrt, min_samples_leaf=4, min_samples_split=10, n_estimators=100; total time=  13.3s\n",
      "[CV] END max_depth=20, max_features=sqrt, min_samples_leaf=4, min_samples_split=10, n_estimators=100; total time=  13.7s\n",
      "[CV] END max_depth=20, max_features=sqrt, min_samples_leaf=1, min_samples_split=2, n_estimators=100; total time=  17.8s\n",
      "[CV] END max_depth=20, max_features=sqrt, min_samples_leaf=1, min_samples_split=2, n_estimators=100; total time=  17.4s\n",
      "[CV] END max_depth=20, max_features=sqrt, min_samples_leaf=1, min_samples_split=2, n_estimators=100; total time=  17.2s\n",
      "[CV] END max_depth=20, max_features=log2, min_samples_leaf=1, min_samples_split=2, n_estimators=300; total time=  21.0s\n",
      "[CV] END max_depth=20, max_features=log2, min_samples_leaf=1, min_samples_split=2, n_estimators=300; total time=  21.4s\n",
      "[CV] END max_depth=20, max_features=log2, min_samples_leaf=1, min_samples_split=2, n_estimators=300; total time=  21.4s\n",
      "[CV] END max_depth=10, max_features=auto, min_samples_leaf=2, min_samples_split=2, n_estimators=100; total time= 2.9min\n",
      "[CV] END max_depth=10, max_features=auto, min_samples_leaf=2, min_samples_split=2, n_estimators=100; total time= 2.9min\n",
      "[CV] END max_depth=10, max_features=auto, min_samples_leaf=2, min_samples_split=2, n_estimators=100; total time= 2.9min\n",
      "[CV] END max_depth=30, max_features=auto, min_samples_leaf=4, min_samples_split=2, n_estimators=100; total time=13.0min\n",
      "[CV] END max_depth=30, max_features=auto, min_samples_leaf=4, min_samples_split=2, n_estimators=100; total time=13.1min\n",
      "[CV] END max_depth=30, max_features=auto, min_samples_leaf=4, min_samples_split=2, n_estimators=100; total time=13.1min\n",
      "[CV] END max_depth=20, max_features=sqrt, min_samples_leaf=4, min_samples_split=2, n_estimators=100; total time=  13.6s\n",
      "[CV] END max_depth=20, max_features=sqrt, min_samples_leaf=4, min_samples_split=2, n_estimators=100; total time=  13.4s\n",
      "[CV] END max_depth=20, max_features=sqrt, min_samples_leaf=4, min_samples_split=2, n_estimators=100; total time=  13.3s\n",
      "[CV] END max_depth=30, max_features=log2, min_samples_leaf=1, min_samples_split=5, n_estimators=100; total time=   8.8s\n",
      "[CV] END max_depth=30, max_features=log2, min_samples_leaf=1, min_samples_split=5, n_estimators=100; total time=   8.8s\n",
      "[CV] END max_depth=30, max_features=log2, min_samples_leaf=1, min_samples_split=5, n_estimators=100; total time=   8.9s\n",
      "[CV] END max_depth=30, max_features=sqrt, min_samples_leaf=1, min_samples_split=10, n_estimators=200; total time=  49.5s\n",
      "[CV] END max_depth=30, max_features=sqrt, min_samples_leaf=1, min_samples_split=10, n_estimators=200; total time=  49.7s\n",
      "[CV] END max_depth=30, max_features=sqrt, min_samples_leaf=1, min_samples_split=10, n_estimators=200; total time=  48.7s\n",
      "[CV] END max_depth=None, max_features=auto, min_samples_leaf=4, min_samples_split=5, n_estimators=300; total time=44.5min\n",
      "[CV] END max_depth=None, max_features=auto, min_samples_leaf=4, min_samples_split=5, n_estimators=300; total time=45.2min\n",
      "[CV] END max_depth=None, max_features=auto, min_samples_leaf=4, min_samples_split=5, n_estimators=300; total time=44.7min\n",
      "[CV] END max_depth=20, max_features=log2, min_samples_leaf=2, min_samples_split=2, n_estimators=100; total time=   5.5s\n",
      "[CV] END max_depth=20, max_features=log2, min_samples_leaf=2, min_samples_split=2, n_estimators=100; total time=   5.6s\n",
      "[CV] END max_depth=20, max_features=log2, min_samples_leaf=2, min_samples_split=2, n_estimators=100; total time=   5.7s\n",
      "Fitting 3 folds for each of 1 candidates, totalling 3 fits\n",
      "[CV] END max_depth=None, max_features=auto, min_samples_leaf=4, min_samples_split=5, n_estimators=300; total time=44.5min\n",
      "[CV] END max_depth=None, max_features=auto, min_samples_leaf=4, min_samples_split=5, n_estimators=300; total time=44.6min\n",
      "[CV] END max_depth=None, max_features=auto, min_samples_leaf=4, min_samples_split=5, n_estimators=300; total time=44.6min\n",
      "Tuned Random Forest RMSE: 2002.53\n",
      "Tuned Random Forest Training time: 4461.9363 seconds\n",
      "Tuned Random Forest Prediction time: 2.2020 seconds\n",
      "\n",
      "CatBoost RMSE: 2385.09\n",
      "CatBoost Training time: 14.2072 seconds\n",
      "CatBoost Prediction time: 0.1159 seconds\n",
      "\n"
     ]
    }
   ],
   "source": [
    "def evaluate_model(regressor, name):\n",
    "    pipeline = Pipeline(steps=[\n",
    "        (\"preprocessor\", preprocessor),\n",
    "        (\"regressor\", regressor)\n",
    "    ])\n",
    "    \n",
    "    # Track training time\n",
    "    start_train = time.time()\n",
    "    pipeline.fit(X_train, y_train)\n",
    "    end_train = time.time()\n",
    "\n",
    "    # Track prediction time\n",
    "    start_pred = time.time()\n",
    "    predictions = pipeline.predict(X_valid)\n",
    "    end_pred = time.time()\n",
    "\n",
    "    # Calculate RMSE\n",
    "    rmse = mean_squared_error(y_valid, predictions, squared=False)\n",
    "    \n",
    "    # Print results\n",
    "    print(f\"{name} RMSE: {rmse:.2f}\")\n",
    "    print(f\"{name} Training time: {end_train - start_train:.4f} seconds\")\n",
    "    print(f\"{name} Prediction time: {end_pred - start_pred:.4f} seconds\\n\")\n",
    "\n",
    "random_forest = RandomForestRegressor(random_state=42)\n",
    "\n",
    "param_dist = {\n",
    "    'n_estimators': [100, 200, 300],\n",
    "    'max_depth': [10, 20, 30, None],\n",
    "    'min_samples_split': [2, 5, 10],\n",
    "    'min_samples_leaf': [1, 2, 4],\n",
    "    'max_features': ['auto', 'sqrt', 'log2']\n",
    "}\n",
    "\n",
    "random_search = RandomizedSearchCV(\n",
    "    estimator=random_forest,\n",
    "    param_distributions=param_dist,\n",
    "    n_iter=10,\n",
    "    cv=3,\n",
    "    scoring='neg_root_mean_squared_error',\n",
    "    random_state=42,\n",
    "    n_jobs=-1,\n",
    "    verbose=2\n",
    ")\n",
    "\n",
    "# Fit RandomizedSearchCV\n",
    "random_search.fit(preprocessor.fit_transform(X_train), y_train)\n",
    "\n",
    "# Best model from RandomizedSearchCV\n",
    "best_rf_random = random_search.best_estimator_\n",
    "\n",
    "param_grid = {\n",
    "    'n_estimators': [best_rf_random.n_estimators],\n",
    "    'max_depth': [best_rf_random.max_depth],\n",
    "    'min_samples_split': [best_rf_random.min_samples_split],\n",
    "    'min_samples_leaf': [best_rf_random.min_samples_leaf],\n",
    "    'max_features': [best_rf_random.max_features]\n",
    "}\n",
    "\n",
    "grid_search = GridSearchCV(\n",
    "    estimator=random_forest,\n",
    "    param_grid=param_grid,\n",
    "    cv=3,\n",
    "    scoring='neg_root_mean_squared_error',\n",
    "    n_jobs=-1,\n",
    "    verbose=2\n",
    ")\n",
    "\n",
    "# Fit GridSearchCV\n",
    "grid_search.fit(preprocessor.fit_transform(X_train), y_train)\n",
    "\n",
    "# Final tuned model\n",
    "best_rf = grid_search.best_estimator_\n",
    "\n",
    "\n",
    "# Evaluate best Random Forest from GridSearch\n",
    "evaluate_model(best_rf, \"Tuned Random Forest\")\n",
    "\n",
    "# Evaluate CatBoost\n",
    "evaluate_model(\n",
    "    CatBoostRegressor(\n",
    "        iterations=100,\n",
    "        depth=6,\n",
    "        learning_rate=0.1,\n",
    "        random_seed=42,\n",
    "        verbose=0\n",
    "    ),\n",
    "    \"CatBoost\"\n",
    ")"
   ]
  },
  {
   "cell_type": "markdown",
   "metadata": {},
   "source": [
    "<div class=\"alert alert-success\" style=\"border-radius: 15px; box-shadow: 4px 4px 4px; border: 1px solid \">\n",
    "<h2>   Reviewer's comment 2</h2>\n",
    "    \n",
    "You have successfully implemented hyperparameters tuning, well done!     \n",
    "</div><div class=\"alert alert-danger\" style=\"border-radius: 15px; box-shadow: 4px 4px 4px; border: 1px solid \">\n",
    "<h2> Reviewer's comment 2 </h2>\n",
    "    \n",
    "Same issue. \n",
    "\n",
    "</div>"
   ]
  },
  {
   "cell_type": "markdown",
   "metadata": {},
   "source": [
    "\n",
    "<div class=\"alert alert-success\" style=\"border-radius: 15px; box-shadow: 4px 4px 4px; border: 1px solid \">\n",
    "<h2> Reviewer's comment </h2>\n",
    "    \n",
    "Nice results! Several models were compared here, very good! \n",
    "\n",
    "</div>\n",
    "\n",
    "<div class=\"alert alert-danger\" style=\"border-radius: 15px; box-shadow: 4px 4px 4px; border: 1px solid \">\n",
    "<b> Reviewer's comment </b>\n",
    "    \n",
    "- Please don't forget to use training subset instead of test subset in each of the cells above. \n",
    "\n",
    "\n",
    "    \n",
    "- Please try to tune hyperparameters for at least one of the models. For this purpose, use `RandomizedSearchCV` and `GridSearchCV`. \n",
    "\n",
    "\n",
    "</div>"
   ]
  },
  {
   "cell_type": "code",
   "execution_count": 13,
   "metadata": {},
   "outputs": [
    {
     "name": "stdout",
     "output_type": "stream",
     "text": [
      "CatBoost RMSE: 2399.17\n",
      "Training time: 14.4390 seconds\n",
      "Prediction time: 0.1075 seconds\n"
     ]
    }
   ],
   "source": [
    "model = Pipeline(steps=[\n",
    "    (\"preprocessor\", preprocessor),\n",
    "    (\"regressor\", CatBoostRegressor(iterations=100, depth=6, learning_rate=0.1, random_seed=42, verbose=0))\n",
    "])\n",
    "\n",
    "# Track training time\n",
    "start_train = time.time()\n",
    "model.fit(X_train, y_train)\n",
    "end_train = time.time()\n",
    "\n",
    "# Track prediction time\n",
    "start_pred = time.time()\n",
    "predictions = model.predict(X_test)\n",
    "end_pred = time.time()\n",
    "\n",
    "# Evaluate the model\n",
    "rmse = mean_squared_error(y_test, predictions, squared=False)\n",
    "print(f\"CatBoost RMSE: {rmse:.2f}\")\n",
    "print(f\"Training time: {end_train - start_train:.4f} seconds\")\n",
    "print(f\"Prediction time: {end_pred - start_pred:.4f} seconds\")"
   ]
  },
  {
   "cell_type": "markdown",
   "metadata": {},
   "source": [
    "\n",
    "<div class=\"alert alert-success\" style=\"border-radius: 15px; box-shadow: 4px 4px 4px; border: 1px solid \">\n",
    "<h2> Reviewer's comment </h2>\n",
    "    \n",
    "Correct, we choose the best model (it's one model or two models if their errors are quite similar) and run the final test using the test subset to evaluate its generalization ability. \n",
    "\n",
    "</div>\n",
    "\n",
    "<div class=\"alert alert-warning\" style=\"border-radius: 15px; box-shadow: 4px 4px 4px; border: 1px solid \">\n",
    "<h2>   Reviewer's comment </h2>\n",
    "    \n",
    "You can compare the results with a constant baseline. For instance, you can take [DummyRegressor](https://scikit-learn.org/stable/modules/generated/sklearn.dummy.DummyRegressor.html). \n",
    "\n",
    "</div>\n",
    "\n",
    "<div class=\"alert alert-danger\" style=\"border-radius: 15px; box-shadow: 4px 4px 4px; border: 1px solid \">\n",
    "<b> Reviewer's comment </b>\n",
    "    \n",
    "As you see, you get the same RMSE here. This is because for the final test, you use the same subset that you used to calculate RMSE in order to choose the best model, which is not fair :) Please use test subset only after you train and tune all models. We first train and tune all models, then we identify the best model (or two models if their metrics are similar), and then we run the final test using the test subset. The idea behind creating the test subset is to save this subset for the very final test, when the best model (or 2 models) is (are) chosen. \n",
    "    \n",
    "    \n",
    "This is important because in real-world tasks, we often evaluate our models on real-time data that could not have been known during the model's training process. By reserving the test set for a final evaluation, we simulate this situation. \n",
    "</div>"
   ]
  },
  {
   "cell_type": "markdown",
   "metadata": {},
   "source": [
    "When running the Random Forest and Linear Regression, it was interesting to me that the Random Forest ran faster with a better MSE. When I boosted the Linear Regression we get a better MSE and a faster run time."
   ]
  },
  {
   "cell_type": "markdown",
   "metadata": {},
   "source": [
    "## Model analysis"
   ]
  },
  {
   "cell_type": "markdown",
   "metadata": {},
   "source": [
    "while looking at the data, Random Forest Regression took multiple minutes to train. With Linear Regression it took roughly 2 seconds. After Boosting the training and prediction sets they time deops drastically! For Random Forest the training time dropped to just under half a minute. With Linear Regression we shave off a ten thousandths of a sec. Based on the analysis from the above data I recommend sticking with the Linear Regression Model to help Rusty meet his goals."
   ]
  },
  {
   "cell_type": "markdown",
   "metadata": {},
   "source": [
    "<div class=\"alert alert-success\" style=\"border-radius: 15px; box-shadow: 4px 4px 4px; border: 1px solid \">\n",
    "<h2> Reviewer's comment</h2>\n",
    "\n",
    "    \n",
    "Great conclusion! This is a solid final summary with comparison across models. It's also important that you compared models not only by their prediction error but also training speed, which is relevant for the business use case.\n",
    "</div>    "
   ]
  },
  {
   "cell_type": "markdown",
   "metadata": {},
   "source": [
    "# Checklist"
   ]
  },
  {
   "cell_type": "markdown",
   "metadata": {},
   "source": [
    "Type 'x' to check. Then press Shift+Enter."
   ]
  },
  {
   "cell_type": "markdown",
   "metadata": {},
   "source": [
    "- [x]  Jupyter Notebook is open\n",
    "- [x]  Code is error free\n",
    "- [x]  The cells with the code have been arranged in order of execution\n",
    "- [x]  The data has been downloaded and prepared\n",
    "- [x]  The models have been trained\n",
    "- [x]  The analysis of speed and quality of the models has been performed"
   ]
  }
 ],
 "metadata": {
  "ExecuteTimeLog": [
   {
    "duration": 314,
    "start_time": "2025-04-15T23:57:11.371Z"
   },
   {
    "duration": 514,
    "start_time": "2025-04-15T23:58:18.406Z"
   },
   {
    "duration": 509,
    "start_time": "2025-04-15T23:59:18.637Z"
   },
   {
    "duration": 514,
    "start_time": "2025-04-16T00:00:12.692Z"
   },
   {
    "duration": 94,
    "start_time": "2025-04-16T00:00:39.900Z"
   },
   {
    "duration": 93,
    "start_time": "2025-04-16T00:01:37.777Z"
   },
   {
    "duration": 463,
    "start_time": "2025-04-16T00:28:44.769Z"
   },
   {
    "duration": 181,
    "start_time": "2025-04-16T00:30:10.883Z"
   },
   {
    "duration": 96,
    "start_time": "2025-04-16T00:38:08.339Z"
   },
   {
    "duration": 876,
    "start_time": "2025-04-16T00:38:17.594Z"
   },
   {
    "duration": 513,
    "start_time": "2025-04-16T00:38:18.472Z"
   },
   {
    "duration": 91,
    "start_time": "2025-04-16T00:38:18.987Z"
   },
   {
    "duration": 194,
    "start_time": "2025-04-16T00:38:19.080Z"
   },
   {
    "duration": 109,
    "start_time": "2025-04-16T00:38:19.276Z"
   },
   {
    "duration": 937,
    "start_time": "2025-04-16T00:41:40.949Z"
   },
   {
    "duration": 516,
    "start_time": "2025-04-16T00:41:41.889Z"
   },
   {
    "duration": 90,
    "start_time": "2025-04-16T00:41:42.407Z"
   },
   {
    "duration": 192,
    "start_time": "2025-04-16T00:41:42.498Z"
   },
   {
    "duration": 92,
    "start_time": "2025-04-16T00:41:42.692Z"
   },
   {
    "duration": 353,
    "start_time": "2025-04-16T00:41:42.786Z"
   },
   {
    "duration": 858,
    "start_time": "2025-04-16T00:45:38.519Z"
   },
   {
    "duration": 515,
    "start_time": "2025-04-16T00:45:39.380Z"
   },
   {
    "duration": 88,
    "start_time": "2025-04-16T00:45:39.897Z"
   },
   {
    "duration": 195,
    "start_time": "2025-04-16T00:45:39.987Z"
   },
   {
    "duration": 111,
    "start_time": "2025-04-16T00:45:40.184Z"
   },
   {
    "duration": 318021,
    "start_time": "2025-04-16T00:45:40.296Z"
   },
   {
    "duration": 319686,
    "start_time": "2025-04-16T01:33:32.483Z"
   },
   {
    "duration": 276,
    "start_time": "2025-04-16T02:45:17.048Z"
   },
   {
    "duration": 873,
    "start_time": "2025-04-16T02:45:25.614Z"
   },
   {
    "duration": 518,
    "start_time": "2025-04-16T02:45:26.489Z"
   },
   {
    "duration": 92,
    "start_time": "2025-04-16T02:45:27.009Z"
   },
   {
    "duration": 189,
    "start_time": "2025-04-16T02:45:27.103Z"
   },
   {
    "duration": 347,
    "start_time": "2025-04-16T02:45:27.294Z"
   },
   {
    "duration": 0,
    "start_time": "2025-04-16T02:45:27.643Z"
   },
   {
    "duration": 166,
    "start_time": "2025-04-16T21:59:56.392Z"
   },
   {
    "duration": 17,
    "start_time": "2025-04-16T22:01:08.544Z"
   },
   {
    "duration": 3099,
    "start_time": "2025-04-16T22:01:23.005Z"
   },
   {
    "duration": 583,
    "start_time": "2025-04-16T22:01:26.107Z"
   },
   {
    "duration": 97,
    "start_time": "2025-04-16T22:01:26.692Z"
   },
   {
    "duration": 192,
    "start_time": "2025-04-16T22:01:26.792Z"
   },
   {
    "duration": 277,
    "start_time": "2025-04-16T22:01:26.987Z"
   },
   {
    "duration": 132,
    "start_time": "2025-04-16T22:01:27.265Z"
   },
   {
    "duration": 251,
    "start_time": "2025-04-16T22:01:27.399Z"
   },
   {
    "duration": 18,
    "start_time": "2025-04-16T22:02:23.896Z"
   },
   {
    "duration": 5099,
    "start_time": "2025-04-16T22:03:37.635Z"
   },
   {
    "duration": 5123,
    "start_time": "2025-04-16T22:04:19.000Z"
   },
   {
    "duration": 5063,
    "start_time": "2025-04-16T22:05:50.630Z"
   },
   {
    "duration": 212,
    "start_time": "2025-04-16T22:08:34.065Z"
   },
   {
    "duration": 1240,
    "start_time": "2025-04-16T22:09:10.499Z"
   },
   {
    "duration": 552,
    "start_time": "2025-04-16T22:09:11.742Z"
   },
   {
    "duration": 99,
    "start_time": "2025-04-16T22:09:12.295Z"
   },
   {
    "duration": 190,
    "start_time": "2025-04-16T22:09:12.396Z"
   },
   {
    "duration": 444,
    "start_time": "2025-04-16T22:09:12.590Z"
   },
   {
    "duration": 0,
    "start_time": "2025-04-16T22:09:13.036Z"
   },
   {
    "duration": 1224,
    "start_time": "2025-04-16T22:09:54.411Z"
   },
   {
    "duration": 526,
    "start_time": "2025-04-16T22:09:55.637Z"
   },
   {
    "duration": 97,
    "start_time": "2025-04-16T22:09:56.166Z"
   },
   {
    "duration": 202,
    "start_time": "2025-04-16T22:09:56.265Z"
   },
   {
    "duration": 444,
    "start_time": "2025-04-16T22:09:56.469Z"
   },
   {
    "duration": 0,
    "start_time": "2025-04-16T22:09:56.915Z"
   },
   {
    "duration": 1213,
    "start_time": "2025-04-16T22:11:29.330Z"
   },
   {
    "duration": 557,
    "start_time": "2025-04-16T22:11:30.546Z"
   },
   {
    "duration": 96,
    "start_time": "2025-04-16T22:11:31.105Z"
   },
   {
    "duration": 196,
    "start_time": "2025-04-16T22:11:31.203Z"
   },
   {
    "duration": 262262,
    "start_time": "2025-04-16T22:11:31.401Z"
   },
   {
    "duration": 260,
    "start_time": "2025-04-16T22:15:53.665Z"
   },
   {
    "duration": 9,
    "start_time": "2025-04-17T00:31:52.845Z"
   },
   {
    "duration": 110,
    "start_time": "2025-04-17T01:34:25.192Z"
   },
   {
    "duration": 1146,
    "start_time": "2025-04-17T01:35:07.936Z"
   },
   {
    "duration": 517,
    "start_time": "2025-04-17T01:35:09.085Z"
   },
   {
    "duration": 90,
    "start_time": "2025-04-17T01:35:09.604Z"
   },
   {
    "duration": 184,
    "start_time": "2025-04-17T01:35:09.696Z"
   },
   {
    "duration": 9,
    "start_time": "2025-04-17T01:35:09.887Z"
   },
   {
    "duration": 240796,
    "start_time": "2025-04-17T01:35:09.897Z"
   },
   {
    "duration": 1111,
    "start_time": "2025-04-17T01:39:10.696Z"
   },
   {
    "duration": 237808,
    "start_time": "2025-04-17T02:59:03.898Z"
   },
   {
    "duration": 241042,
    "start_time": "2025-04-17T03:06:32.021Z"
   },
   {
    "duration": 4011,
    "start_time": "2025-04-17T03:11:54.398Z"
   },
   {
    "duration": 699,
    "start_time": "2025-04-17T03:20:43.438Z"
   },
   {
    "duration": 120,
    "start_time": "2025-04-17T03:21:10.404Z"
   },
   {
    "duration": 1154,
    "start_time": "2025-04-17T03:21:20.109Z"
   },
   {
    "duration": 516,
    "start_time": "2025-04-17T03:21:21.266Z"
   },
   {
    "duration": 86,
    "start_time": "2025-04-17T03:21:21.787Z"
   },
   {
    "duration": 193,
    "start_time": "2025-04-17T03:21:21.875Z"
   },
   {
    "duration": 18,
    "start_time": "2025-04-17T03:21:22.072Z"
   },
   {
    "duration": 445922,
    "start_time": "2025-04-17T03:21:22.092Z"
   },
   {
    "duration": 2225,
    "start_time": "2025-04-17T03:28:48.016Z"
   },
   {
    "duration": 471006,
    "start_time": "2025-04-17T03:28:50.243Z"
   },
   {
    "duration": 28347,
    "start_time": "2025-04-17T03:36:41.251Z"
   },
   {
    "duration": 2411,
    "start_time": "2025-04-17T03:37:09.601Z"
   },
   {
    "duration": 1090,
    "start_time": "2025-04-17T03:50:22.455Z"
   },
   {
    "duration": 510,
    "start_time": "2025-04-17T03:50:23.547Z"
   },
   {
    "duration": 90,
    "start_time": "2025-04-17T03:50:24.059Z"
   },
   {
    "duration": 184,
    "start_time": "2025-04-17T03:50:24.151Z"
   },
   {
    "duration": 9,
    "start_time": "2025-04-17T03:50:24.337Z"
   },
   {
    "duration": 438267,
    "start_time": "2025-04-17T03:50:24.347Z"
   },
   {
    "duration": 2228,
    "start_time": "2025-04-17T03:57:42.617Z"
   },
   {
    "duration": 469196,
    "start_time": "2025-04-17T03:57:44.848Z"
   },
   {
    "duration": 28050,
    "start_time": "2025-04-17T04:05:34.046Z"
   },
   {
    "duration": 164,
    "start_time": "2025-04-17T18:06:02.891Z"
   },
   {
    "duration": 2773,
    "start_time": "2025-04-17T18:06:16.814Z"
   },
   {
    "duration": 608,
    "start_time": "2025-04-17T18:06:19.589Z"
   },
   {
    "duration": 99,
    "start_time": "2025-04-17T18:06:20.200Z"
   },
   {
    "duration": 196,
    "start_time": "2025-04-17T18:06:20.302Z"
   },
   {
    "duration": 9,
    "start_time": "2025-04-17T18:06:20.501Z"
   },
   {
    "duration": 283,
    "start_time": "2025-04-17T18:06:20.512Z"
   },
   {
    "duration": 1193,
    "start_time": "2025-04-17T18:08:09.964Z"
   },
   {
    "duration": 519,
    "start_time": "2025-04-17T18:08:11.159Z"
   },
   {
    "duration": 94,
    "start_time": "2025-04-17T18:08:11.681Z"
   },
   {
    "duration": 195,
    "start_time": "2025-04-17T18:08:11.778Z"
   },
   {
    "duration": 9,
    "start_time": "2025-04-17T18:08:11.975Z"
   },
   {
    "duration": 246,
    "start_time": "2025-04-17T18:08:11.985Z"
   },
   {
    "duration": 36,
    "start_time": "2025-04-17T18:08:12.232Z"
   },
   {
    "duration": 247822,
    "start_time": "2025-04-17T18:08:12.270Z"
   },
   {
    "duration": 1231,
    "start_time": "2025-04-17T18:12:20.094Z"
   },
   {
    "duration": 1119,
    "start_time": "2025-04-17T18:13:26.890Z"
   },
   {
    "duration": 503,
    "start_time": "2025-04-17T18:13:28.011Z"
   },
   {
    "duration": 103,
    "start_time": "2025-04-17T18:13:28.516Z"
   },
   {
    "duration": 185,
    "start_time": "2025-04-17T18:13:28.622Z"
   },
   {
    "duration": 8,
    "start_time": "2025-04-17T18:13:28.809Z"
   },
   {
    "duration": 248,
    "start_time": "2025-04-17T18:13:28.819Z"
   },
   {
    "duration": 29,
    "start_time": "2025-04-17T18:13:29.069Z"
   },
   {
    "duration": 716,
    "start_time": "2025-04-17T18:13:29.100Z"
   },
   {
    "duration": 248050,
    "start_time": "2025-04-17T18:13:29.818Z"
   },
   {
    "duration": 1282,
    "start_time": "2025-04-17T18:17:37.871Z"
   },
   {
    "duration": 1109,
    "start_time": "2025-04-17T18:21:00.327Z"
   },
   {
    "duration": 495,
    "start_time": "2025-04-17T18:21:01.438Z"
   },
   {
    "duration": 97,
    "start_time": "2025-04-17T18:21:01.935Z"
   },
   {
    "duration": 188,
    "start_time": "2025-04-17T18:21:02.034Z"
   },
   {
    "duration": 9,
    "start_time": "2025-04-17T18:21:02.224Z"
   },
   {
    "duration": 219,
    "start_time": "2025-04-17T18:21:02.243Z"
   },
   {
    "duration": 29,
    "start_time": "2025-04-17T18:21:02.464Z"
   },
   {
    "duration": 761,
    "start_time": "2025-04-17T18:21:02.495Z"
   },
   {
    "duration": 28,
    "start_time": "2025-04-17T18:21:03.258Z"
   },
   {
    "duration": 1092,
    "start_time": "2025-04-17T18:21:42.725Z"
   },
   {
    "duration": 496,
    "start_time": "2025-04-17T18:21:43.819Z"
   },
   {
    "duration": 92,
    "start_time": "2025-04-17T18:21:44.317Z"
   },
   {
    "duration": 189,
    "start_time": "2025-04-17T18:21:44.411Z"
   },
   {
    "duration": 8,
    "start_time": "2025-04-17T18:21:44.602Z"
   },
   {
    "duration": 245,
    "start_time": "2025-04-17T18:21:44.612Z"
   },
   {
    "duration": 29,
    "start_time": "2025-04-17T18:21:44.859Z"
   },
   {
    "duration": 727,
    "start_time": "2025-04-17T18:21:44.890Z"
   },
   {
    "duration": 57,
    "start_time": "2025-04-17T18:21:45.619Z"
   },
   {
    "duration": 1161,
    "start_time": "2025-04-17T18:24:27.768Z"
   },
   {
    "duration": 544,
    "start_time": "2025-04-17T18:24:28.932Z"
   },
   {
    "duration": 95,
    "start_time": "2025-04-17T18:24:29.478Z"
   },
   {
    "duration": 182,
    "start_time": "2025-04-17T18:24:29.575Z"
   },
   {
    "duration": 8,
    "start_time": "2025-04-17T18:24:29.761Z"
   },
   {
    "duration": 264,
    "start_time": "2025-04-17T18:24:29.771Z"
   },
   {
    "duration": 35,
    "start_time": "2025-04-17T18:24:30.037Z"
   },
   {
    "duration": 744,
    "start_time": "2025-04-17T18:24:30.074Z"
   },
   {
    "duration": 58,
    "start_time": "2025-04-17T18:24:30.819Z"
   },
   {
    "duration": 238,
    "start_time": "2025-04-17T18:24:30.879Z"
   },
   {
    "duration": 0,
    "start_time": "2025-04-17T18:24:31.119Z"
   },
   {
    "duration": 0,
    "start_time": "2025-04-17T18:24:31.120Z"
   },
   {
    "duration": 0,
    "start_time": "2025-04-17T18:24:31.121Z"
   },
   {
    "duration": 0,
    "start_time": "2025-04-17T18:24:31.122Z"
   },
   {
    "duration": 73,
    "start_time": "2025-04-17T18:25:16.400Z"
   },
   {
    "duration": 7,
    "start_time": "2025-04-17T18:26:29.322Z"
   },
   {
    "duration": 55,
    "start_time": "2025-04-17T18:27:31.242Z"
   },
   {
    "duration": 65,
    "start_time": "2025-04-17T18:28:09.206Z"
   },
   {
    "duration": 11,
    "start_time": "2025-04-17T18:28:37.232Z"
   },
   {
    "duration": 14,
    "start_time": "2025-04-17T18:29:13.503Z"
   },
   {
    "duration": 69,
    "start_time": "2025-04-17T18:30:41.364Z"
   },
   {
    "duration": 1225,
    "start_time": "2025-04-17T18:38:41.048Z"
   },
   {
    "duration": 509,
    "start_time": "2025-04-17T18:38:42.276Z"
   },
   {
    "duration": 95,
    "start_time": "2025-04-17T18:38:42.787Z"
   },
   {
    "duration": 198,
    "start_time": "2025-04-17T18:38:42.884Z"
   },
   {
    "duration": 8,
    "start_time": "2025-04-17T18:38:43.085Z"
   },
   {
    "duration": 249,
    "start_time": "2025-04-17T18:38:43.094Z"
   },
   {
    "duration": 30,
    "start_time": "2025-04-17T18:38:43.345Z"
   },
   {
    "duration": 721,
    "start_time": "2025-04-17T18:38:43.377Z"
   },
   {
    "duration": 82,
    "start_time": "2025-04-17T18:38:44.100Z"
   },
   {
    "duration": 178642,
    "start_time": "2025-04-17T18:38:44.184Z"
   },
   {
    "duration": 1166,
    "start_time": "2025-04-17T18:41:42.828Z"
   },
   {
    "duration": 189986,
    "start_time": "2025-04-17T18:41:43.997Z"
   },
   {
    "duration": 11537,
    "start_time": "2025-04-17T18:44:53.985Z"
   },
   {
    "duration": 8,
    "start_time": "2025-04-17T18:49:33.552Z"
   },
   {
    "duration": 1129,
    "start_time": "2025-04-17T18:49:56.080Z"
   },
   {
    "duration": 499,
    "start_time": "2025-04-17T18:49:57.211Z"
   },
   {
    "duration": 90,
    "start_time": "2025-04-17T18:49:57.712Z"
   },
   {
    "duration": 190,
    "start_time": "2025-04-17T18:49:57.804Z"
   },
   {
    "duration": 9,
    "start_time": "2025-04-17T18:49:57.997Z"
   },
   {
    "duration": 256,
    "start_time": "2025-04-17T18:49:58.007Z"
   },
   {
    "duration": 30,
    "start_time": "2025-04-17T18:49:58.265Z"
   },
   {
    "duration": 744,
    "start_time": "2025-04-17T18:49:58.296Z"
   },
   {
    "duration": 70,
    "start_time": "2025-04-17T18:49:59.043Z"
   },
   {
    "duration": 7,
    "start_time": "2025-04-17T18:49:59.115Z"
   },
   {
    "duration": 0,
    "start_time": "2025-04-17T18:49:59.124Z"
   },
   {
    "duration": 0,
    "start_time": "2025-04-17T18:49:59.125Z"
   },
   {
    "duration": 0,
    "start_time": "2025-04-17T18:49:59.143Z"
   },
   {
    "duration": 8,
    "start_time": "2025-04-17T18:52:37.392Z"
   },
   {
    "duration": 434,
    "start_time": "2025-04-17T18:54:32.699Z"
   },
   {
    "duration": 165,
    "start_time": "2025-04-18T00:25:49.389Z"
   },
   {
    "duration": 2916,
    "start_time": "2025-04-18T02:58:45.956Z"
   },
   {
    "duration": 563,
    "start_time": "2025-04-18T02:58:48.875Z"
   },
   {
    "duration": 97,
    "start_time": "2025-04-18T02:58:49.440Z"
   },
   {
    "duration": 193,
    "start_time": "2025-04-18T02:58:49.538Z"
   },
   {
    "duration": 9,
    "start_time": "2025-04-18T02:58:49.734Z"
   },
   {
    "duration": 254,
    "start_time": "2025-04-18T02:58:49.745Z"
   },
   {
    "duration": 39,
    "start_time": "2025-04-18T02:58:50.002Z"
   },
   {
    "duration": 778,
    "start_time": "2025-04-18T02:58:50.043Z"
   },
   {
    "duration": 73,
    "start_time": "2025-04-18T02:58:50.822Z"
   },
   {
    "duration": 435,
    "start_time": "2025-04-18T02:58:50.897Z"
   },
   {
    "duration": 0,
    "start_time": "2025-04-18T02:58:51.334Z"
   },
   {
    "duration": 0,
    "start_time": "2025-04-18T02:58:51.336Z"
   },
   {
    "duration": 0,
    "start_time": "2025-04-18T02:58:51.336Z"
   },
   {
    "duration": 1107,
    "start_time": "2025-04-18T02:59:47.324Z"
   },
   {
    "duration": 528,
    "start_time": "2025-04-18T02:59:48.434Z"
   },
   {
    "duration": 98,
    "start_time": "2025-04-18T02:59:48.963Z"
   },
   {
    "duration": 189,
    "start_time": "2025-04-18T02:59:49.063Z"
   },
   {
    "duration": 9,
    "start_time": "2025-04-18T02:59:49.254Z"
   },
   {
    "duration": 259,
    "start_time": "2025-04-18T02:59:49.265Z"
   },
   {
    "duration": 31,
    "start_time": "2025-04-18T02:59:49.526Z"
   },
   {
    "duration": 738,
    "start_time": "2025-04-18T02:59:49.560Z"
   },
   {
    "duration": 78,
    "start_time": "2025-04-18T02:59:50.300Z"
   },
   {
    "duration": 435,
    "start_time": "2025-04-18T02:59:50.380Z"
   },
   {
    "duration": 0,
    "start_time": "2025-04-18T02:59:50.817Z"
   },
   {
    "duration": 0,
    "start_time": "2025-04-18T02:59:50.818Z"
   },
   {
    "duration": 0,
    "start_time": "2025-04-18T02:59:50.832Z"
   },
   {
    "duration": 1172,
    "start_time": "2025-04-18T03:00:55.427Z"
   },
   {
    "duration": 512,
    "start_time": "2025-04-18T03:00:56.601Z"
   },
   {
    "duration": 91,
    "start_time": "2025-04-18T03:00:57.115Z"
   },
   {
    "duration": 188,
    "start_time": "2025-04-18T03:00:57.208Z"
   },
   {
    "duration": 8,
    "start_time": "2025-04-18T03:00:57.399Z"
   },
   {
    "duration": 255,
    "start_time": "2025-04-18T03:00:57.408Z"
   },
   {
    "duration": 30,
    "start_time": "2025-04-18T03:00:57.665Z"
   },
   {
    "duration": 703,
    "start_time": "2025-04-18T03:00:57.696Z"
   },
   {
    "duration": 78,
    "start_time": "2025-04-18T03:00:58.401Z"
   },
   {
    "duration": 376,
    "start_time": "2025-04-18T03:00:58.481Z"
   },
   {
    "duration": 0,
    "start_time": "2025-04-18T03:00:58.858Z"
   },
   {
    "duration": 0,
    "start_time": "2025-04-18T03:00:58.859Z"
   },
   {
    "duration": 0,
    "start_time": "2025-04-18T03:00:58.861Z"
   },
   {
    "duration": 1189,
    "start_time": "2025-04-18T03:06:15.744Z"
   },
   {
    "duration": 532,
    "start_time": "2025-04-18T03:06:16.935Z"
   },
   {
    "duration": 99,
    "start_time": "2025-04-18T03:06:17.469Z"
   },
   {
    "duration": 190,
    "start_time": "2025-04-18T03:06:17.570Z"
   },
   {
    "duration": 8,
    "start_time": "2025-04-18T03:06:17.762Z"
   },
   {
    "duration": 259,
    "start_time": "2025-04-18T03:06:17.774Z"
   },
   {
    "duration": 31,
    "start_time": "2025-04-18T03:06:18.034Z"
   },
   {
    "duration": 732,
    "start_time": "2025-04-18T03:06:18.066Z"
   },
   {
    "duration": 79,
    "start_time": "2025-04-18T03:06:18.800Z"
   },
   {
    "duration": 8104,
    "start_time": "2025-04-18T03:06:18.881Z"
   },
   {
    "duration": 1256,
    "start_time": "2025-04-18T03:06:26.987Z"
   },
   {
    "duration": 262452,
    "start_time": "2025-04-18T03:06:28.245Z"
   },
   {
    "duration": 14531,
    "start_time": "2025-04-18T03:10:50.699Z"
   },
   {
    "duration": 2495,
    "start_time": "2025-04-18T03:16:24.003Z"
   },
   {
    "duration": 258093,
    "start_time": "2025-04-18T03:18:13.123Z"
   },
   {
    "duration": 247,
    "start_time": "2025-04-18T03:35:09.641Z"
   },
   {
    "duration": 1143,
    "start_time": "2025-04-18T03:35:44.781Z"
   },
   {
    "duration": 553,
    "start_time": "2025-04-18T03:35:45.926Z"
   },
   {
    "duration": 97,
    "start_time": "2025-04-18T03:35:46.480Z"
   },
   {
    "duration": 192,
    "start_time": "2025-04-18T03:35:46.580Z"
   },
   {
    "duration": 10,
    "start_time": "2025-04-18T03:35:46.775Z"
   },
   {
    "duration": 233,
    "start_time": "2025-04-18T03:35:46.786Z"
   },
   {
    "duration": 35,
    "start_time": "2025-04-18T03:35:47.021Z"
   },
   {
    "duration": 743,
    "start_time": "2025-04-18T03:35:47.058Z"
   },
   {
    "duration": 76,
    "start_time": "2025-04-18T03:35:47.803Z"
   },
   {
    "duration": 8120,
    "start_time": "2025-04-18T03:35:47.882Z"
   },
   {
    "duration": 2483,
    "start_time": "2025-04-18T03:35:56.004Z"
   },
   {
    "duration": 1218,
    "start_time": "2025-04-18T03:47:21.275Z"
   },
   {
    "duration": 553,
    "start_time": "2025-04-18T03:47:22.495Z"
   },
   {
    "duration": 138,
    "start_time": "2025-04-18T03:47:23.049Z"
   },
   {
    "duration": 224,
    "start_time": "2025-04-18T03:47:23.189Z"
   },
   {
    "duration": 17,
    "start_time": "2025-04-18T03:47:23.416Z"
   },
   {
    "duration": 245,
    "start_time": "2025-04-18T03:47:23.434Z"
   },
   {
    "duration": 29,
    "start_time": "2025-04-18T03:47:23.682Z"
   },
   {
    "duration": 730,
    "start_time": "2025-04-18T03:47:23.713Z"
   },
   {
    "duration": 76,
    "start_time": "2025-04-18T03:47:24.447Z"
   },
   {
    "duration": 8600,
    "start_time": "2025-04-18T03:47:24.525Z"
   },
   {
    "duration": 2910,
    "start_time": "2025-04-18T03:47:33.130Z"
   },
   {
    "duration": 1095,
    "start_time": "2025-04-18T04:01:03.400Z"
   },
   {
    "duration": 535,
    "start_time": "2025-04-18T04:01:04.497Z"
   },
   {
    "duration": 99,
    "start_time": "2025-04-18T04:01:05.034Z"
   },
   {
    "duration": 185,
    "start_time": "2025-04-18T04:01:05.135Z"
   },
   {
    "duration": 14,
    "start_time": "2025-04-18T04:01:05.324Z"
   },
   {
    "duration": 251,
    "start_time": "2025-04-18T04:01:05.339Z"
   },
   {
    "duration": 40,
    "start_time": "2025-04-18T04:01:05.592Z"
   },
   {
    "duration": 720,
    "start_time": "2025-04-18T04:01:05.634Z"
   },
   {
    "duration": 91,
    "start_time": "2025-04-18T04:01:06.356Z"
   },
   {
    "duration": 7966,
    "start_time": "2025-04-18T04:01:06.449Z"
   },
   {
    "duration": 2508,
    "start_time": "2025-04-18T04:01:14.417Z"
   },
   {
    "duration": 8,
    "start_time": "2025-04-18T04:01:16.927Z"
   },
   {
    "duration": 1157,
    "start_time": "2025-04-18T04:03:09.060Z"
   },
   {
    "duration": 522,
    "start_time": "2025-04-18T04:03:10.219Z"
   },
   {
    "duration": 91,
    "start_time": "2025-04-18T04:03:10.743Z"
   },
   {
    "duration": 187,
    "start_time": "2025-04-18T04:03:10.836Z"
   },
   {
    "duration": 9,
    "start_time": "2025-04-18T04:03:11.030Z"
   },
   {
    "duration": 267,
    "start_time": "2025-04-18T04:03:11.041Z"
   },
   {
    "duration": 41,
    "start_time": "2025-04-18T04:03:11.310Z"
   },
   {
    "duration": 736,
    "start_time": "2025-04-18T04:03:11.353Z"
   },
   {
    "duration": 79,
    "start_time": "2025-04-18T04:03:12.091Z"
   },
   {
    "duration": 8137,
    "start_time": "2025-04-18T04:03:12.172Z"
   },
   {
    "duration": 2578,
    "start_time": "2025-04-18T04:03:20.311Z"
   },
   {
    "duration": 4,
    "start_time": "2025-04-18T04:03:22.891Z"
   },
   {
    "duration": 1140,
    "start_time": "2025-04-18T06:39:07.411Z"
   },
   {
    "duration": 516,
    "start_time": "2025-04-18T06:39:08.554Z"
   },
   {
    "duration": 91,
    "start_time": "2025-04-18T06:39:09.072Z"
   },
   {
    "duration": 192,
    "start_time": "2025-04-18T06:39:09.164Z"
   },
   {
    "duration": 8,
    "start_time": "2025-04-18T06:39:09.360Z"
   },
   {
    "duration": 255,
    "start_time": "2025-04-18T06:39:09.370Z"
   },
   {
    "duration": 30,
    "start_time": "2025-04-18T06:39:09.626Z"
   },
   {
    "duration": 742,
    "start_time": "2025-04-18T06:39:09.658Z"
   },
   {
    "duration": 82,
    "start_time": "2025-04-18T06:39:10.402Z"
   },
   {
    "duration": 7975,
    "start_time": "2025-04-18T06:39:10.486Z"
   },
   {
    "duration": 2491,
    "start_time": "2025-04-18T06:39:18.463Z"
   },
   {
    "duration": 4,
    "start_time": "2025-04-18T06:39:20.956Z"
   },
   {
    "duration": 15735421,
    "start_time": "2025-04-18T06:39:20.962Z"
   },
   {
    "duration": 2843,
    "start_time": "2025-04-19T04:40:45.695Z"
   },
   {
    "duration": 571,
    "start_time": "2025-04-19T04:40:48.540Z"
   },
   {
    "duration": 103,
    "start_time": "2025-04-19T04:40:49.112Z"
   },
   {
    "duration": 196,
    "start_time": "2025-04-19T04:40:49.218Z"
   },
   {
    "duration": 9,
    "start_time": "2025-04-19T04:40:49.416Z"
   },
   {
    "duration": 252,
    "start_time": "2025-04-19T04:40:49.426Z"
   },
   {
    "duration": 37,
    "start_time": "2025-04-19T04:40:49.680Z"
   },
   {
    "duration": 774,
    "start_time": "2025-04-19T04:40:49.719Z"
   },
   {
    "duration": 76,
    "start_time": "2025-04-19T04:40:50.494Z"
   },
   {
    "duration": 7790,
    "start_time": "2025-04-19T04:40:50.573Z"
   },
   {
    "duration": 2362,
    "start_time": "2025-04-19T04:40:58.365Z"
   },
   {
    "duration": 4,
    "start_time": "2025-04-19T04:41:00.729Z"
   },
   {
    "duration": 1148,
    "start_time": "2025-04-19T04:45:39.429Z"
   },
   {
    "duration": 508,
    "start_time": "2025-04-19T04:45:40.579Z"
   },
   {
    "duration": 90,
    "start_time": "2025-04-19T04:45:41.089Z"
   },
   {
    "duration": 189,
    "start_time": "2025-04-19T04:45:41.181Z"
   },
   {
    "duration": 8,
    "start_time": "2025-04-19T04:45:41.372Z"
   },
   {
    "duration": 245,
    "start_time": "2025-04-19T04:45:41.382Z"
   },
   {
    "duration": 30,
    "start_time": "2025-04-19T04:45:41.629Z"
   },
   {
    "duration": 717,
    "start_time": "2025-04-19T04:45:41.661Z"
   },
   {
    "duration": 78,
    "start_time": "2025-04-19T04:45:42.380Z"
   },
   {
    "duration": 7862,
    "start_time": "2025-04-19T04:45:42.462Z"
   },
   {
    "duration": 2575,
    "start_time": "2025-04-19T04:45:50.326Z"
   },
   {
    "duration": 1153,
    "start_time": "2025-04-19T04:46:20.404Z"
   },
   {
    "duration": 517,
    "start_time": "2025-04-19T04:46:21.560Z"
   },
   {
    "duration": 96,
    "start_time": "2025-04-19T04:46:22.078Z"
   },
   {
    "duration": 187,
    "start_time": "2025-04-19T04:46:22.176Z"
   },
   {
    "duration": 8,
    "start_time": "2025-04-19T04:46:22.366Z"
   },
   {
    "duration": 254,
    "start_time": "2025-04-19T04:46:22.375Z"
   },
   {
    "duration": 30,
    "start_time": "2025-04-19T04:46:22.630Z"
   },
   {
    "duration": 720,
    "start_time": "2025-04-19T04:46:22.661Z"
   },
   {
    "duration": 74,
    "start_time": "2025-04-19T04:46:23.383Z"
   },
   {
    "duration": 8128,
    "start_time": "2025-04-19T04:46:23.458Z"
   },
   {
    "duration": 2407,
    "start_time": "2025-04-19T04:46:31.589Z"
   },
   {
    "duration": 1106,
    "start_time": "2025-04-19T05:09:25.782Z"
   },
   {
    "duration": 514,
    "start_time": "2025-04-19T05:09:26.891Z"
   },
   {
    "duration": 91,
    "start_time": "2025-04-19T05:09:27.409Z"
   },
   {
    "duration": 186,
    "start_time": "2025-04-19T05:09:27.510Z"
   },
   {
    "duration": 13,
    "start_time": "2025-04-19T05:09:27.698Z"
   },
   {
    "duration": 243,
    "start_time": "2025-04-19T05:09:27.712Z"
   },
   {
    "duration": 30,
    "start_time": "2025-04-19T05:09:27.957Z"
   },
   {
    "duration": 713,
    "start_time": "2025-04-19T05:09:27.989Z"
   },
   {
    "duration": 70,
    "start_time": "2025-04-19T05:09:28.708Z"
   },
   {
    "duration": 7798,
    "start_time": "2025-04-19T05:09:28.781Z"
   },
   {
    "duration": 2385,
    "start_time": "2025-04-19T05:09:36.581Z"
   },
   {
    "duration": 1089,
    "start_time": "2025-04-19T05:31:50.478Z"
   },
   {
    "duration": 498,
    "start_time": "2025-04-19T05:31:51.570Z"
   },
   {
    "duration": 95,
    "start_time": "2025-04-19T05:31:52.070Z"
   },
   {
    "duration": 185,
    "start_time": "2025-04-19T05:31:52.166Z"
   },
   {
    "duration": 8,
    "start_time": "2025-04-19T05:31:52.354Z"
   },
   {
    "duration": 249,
    "start_time": "2025-04-19T05:31:52.364Z"
   },
   {
    "duration": 29,
    "start_time": "2025-04-19T05:31:52.615Z"
   },
   {
    "duration": 720,
    "start_time": "2025-04-19T05:31:52.646Z"
   },
   {
    "duration": 73,
    "start_time": "2025-04-19T05:31:53.368Z"
   },
   {
    "duration": 7904,
    "start_time": "2025-04-19T05:31:53.443Z"
   },
   {
    "duration": 2383,
    "start_time": "2025-04-19T05:32:01.349Z"
   },
   {
    "duration": 32277094,
    "start_time": "2025-04-19T05:32:03.734Z"
   },
   {
    "duration": 5,
    "start_time": "2025-04-19T14:30:00.830Z"
   },
   {
    "duration": 4,
    "start_time": "2025-04-19T14:30:00.839Z"
   },
   {
    "duration": 14687,
    "start_time": "2025-04-19T14:30:00.845Z"
   },
   {
    "duration": 1239,
    "start_time": "2025-04-19T18:31:07.243Z"
   },
   {
    "duration": 546,
    "start_time": "2025-04-19T18:31:08.484Z"
   },
   {
    "duration": 100,
    "start_time": "2025-04-19T18:31:09.032Z"
   },
   {
    "duration": 189,
    "start_time": "2025-04-19T18:31:09.134Z"
   },
   {
    "duration": 9,
    "start_time": "2025-04-19T18:31:09.325Z"
   },
   {
    "duration": 242,
    "start_time": "2025-04-19T18:31:09.335Z"
   },
   {
    "duration": 37,
    "start_time": "2025-04-19T18:31:09.579Z"
   },
   {
    "duration": 2823,
    "start_time": "2025-04-19T22:37:01.848Z"
   },
   {
    "duration": 630,
    "start_time": "2025-04-19T22:37:04.673Z"
   },
   {
    "duration": 94,
    "start_time": "2025-04-19T22:37:05.305Z"
   },
   {
    "duration": 186,
    "start_time": "2025-04-19T22:37:05.401Z"
   },
   {
    "duration": 9,
    "start_time": "2025-04-19T22:37:05.588Z"
   },
   {
    "duration": 225,
    "start_time": "2025-04-19T22:37:05.599Z"
   },
   {
    "duration": 28,
    "start_time": "2025-04-19T22:37:05.826Z"
   },
   {
    "duration": 744,
    "start_time": "2025-04-19T22:37:05.856Z"
   },
   {
    "duration": 73,
    "start_time": "2025-04-19T22:37:06.602Z"
   },
   {
    "duration": 7671,
    "start_time": "2025-04-19T22:37:06.678Z"
   },
   {
    "duration": 2601,
    "start_time": "2025-04-19T22:37:14.351Z"
   },
   {
    "duration": 1070,
    "start_time": "2025-04-19T22:46:51.912Z"
   },
   {
    "duration": 517,
    "start_time": "2025-04-19T22:46:52.984Z"
   },
   {
    "duration": 96,
    "start_time": "2025-04-19T22:46:53.502Z"
   },
   {
    "duration": 184,
    "start_time": "2025-04-19T22:46:53.600Z"
   },
   {
    "duration": 8,
    "start_time": "2025-04-19T22:46:53.787Z"
   },
   {
    "duration": 235,
    "start_time": "2025-04-19T22:46:53.797Z"
   },
   {
    "duration": 29,
    "start_time": "2025-04-19T22:46:54.034Z"
   },
   {
    "duration": 715,
    "start_time": "2025-04-19T22:46:54.064Z"
   },
   {
    "duration": 79,
    "start_time": "2025-04-19T22:46:54.781Z"
   },
   {
    "duration": 7588,
    "start_time": "2025-04-19T22:46:54.862Z"
   },
   {
    "duration": 2635,
    "start_time": "2025-04-19T22:47:02.452Z"
   },
   {
    "duration": 32715400,
    "start_time": "2025-04-19T22:47:05.124Z"
   },
   {
    "duration": 14552,
    "start_time": "2025-04-20T07:52:20.526Z"
   }
  ],
  "kernelspec": {
   "display_name": "Python 3 (ipykernel)",
   "language": "python",
   "name": "python3"
  },
  "language_info": {
   "codemirror_mode": {
    "name": "ipython",
    "version": 3
   },
   "file_extension": ".py",
   "mimetype": "text/x-python",
   "name": "python",
   "nbconvert_exporter": "python",
   "pygments_lexer": "ipython3",
   "version": "3.9.19"
  },
  "toc": {
   "base_numbering": 1,
   "nav_menu": {},
   "number_sections": true,
   "sideBar": true,
   "skip_h1_title": true,
   "title_cell": "Table of Contents",
   "title_sidebar": "Contents",
   "toc_cell": false,
   "toc_position": {},
   "toc_section_display": true,
   "toc_window_display": false
  }
 },
 "nbformat": 4,
 "nbformat_minor": 2
}
